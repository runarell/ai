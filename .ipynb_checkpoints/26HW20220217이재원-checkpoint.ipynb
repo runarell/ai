{
 "cells": [
  {
   "cell_type": "code",
   "execution_count": null,
   "id": "389aa2a9",
   "metadata": {},
   "outputs": [],
   "source": [
    "# 536. What will be the output after the following statements? \n",
    "\n",
    "x = {'day':'Sunday', 'week':10} \n",
    "for i in x.keys(): \n",
    "    print(i, end=' ')\n",
    "          \n",
    "# a. Sunday 10 b. day week c. Sunday d. 10\n",
    "\n",
    "# b"
   ]
  },
  {
   "cell_type": "code",
   "execution_count": 1,
   "id": "4707e73c",
   "metadata": {},
   "outputs": [
    {
     "name": "stdout",
     "output_type": "stream",
     "text": [
      "('day', 'Sunday') ('week', 10) "
     ]
    }
   ],
   "source": [
    "# 537. What will be the output after the following statements? \n",
    "\n",
    "x = {'day':'Sunday', 'week':10} \n",
    "for i in x.items(): \n",
    "    print(i, end=' ') \n",
    "\n",
    "# a. ('day', 'Sunday') ('week', 10) \n",
    "# b. day week \n",
    "# c. ('week', 10) \n",
    "# d. ('day', 'Sunday’) \n",
    "\n",
    "#  a "
   ]
  },
  {
   "cell_type": "code",
   "execution_count": 2,
   "id": "24ffeba9",
   "metadata": {},
   "outputs": [
    {
     "name": "stdout",
     "output_type": "stream",
     "text": [
      "['day', 'week']\n"
     ]
    }
   ],
   "source": [
    "# 538. What will be the output after the following statements? \n",
    "\n",
    "x = {'day':'Sunday', 'week':10}\n",
    "print(list(x.keys()))\n",
    "\n",
    "# a. Sunday 10 b. day week c. ['day', 'week'] d. (day, week)\n",
    "#  c"
   ]
  },
  {
   "cell_type": "code",
   "execution_count": 3,
   "id": "2edb1783",
   "metadata": {},
   "outputs": [
    {
     "name": "stdout",
     "output_type": "stream",
     "text": [
      "(('day', 'Sunday'), ('week', 10))\n"
     ]
    }
   ],
   "source": [
    "# 539. What will be the output after the following statements? \n",
    "\n",
    "x = {'day':'Sunday', 'week':10} \n",
    "print(tuple(x.items())) \n",
    "\n",
    "# a. (('week', 10), ('day', 'Sunday')) \n",
    "# b. ('day', 'Sunday') ('week', 10) \n",
    "# c. ['day', 'week'] \n",
    "# d. (day, week) \n",
    "\n",
    "# a"
   ]
  },
  {
   "cell_type": "code",
   "execution_count": 4,
   "id": "e6edf7f7",
   "metadata": {},
   "outputs": [
    {
     "name": "stdout",
     "output_type": "stream",
     "text": [
      "('Sunday', 10)\n"
     ]
    }
   ],
   "source": [
    "# 540. What will be the output after the following statements? \n",
    "\n",
    "x = {'day':'Sunday', 'week':10} \n",
    "print(tuple(x.values())) \n",
    "\n",
    "# a. Sunday 10 b. ('Sunday', 10) c. ['Sunday', 10] d. 10\n",
    "\n",
    "# b"
   ]
  },
  {
   "cell_type": "code",
   "execution_count": 5,
   "id": "1f04d0ca",
   "metadata": {},
   "outputs": [
    {
     "name": "stdout",
     "output_type": "stream",
     "text": [
      "day Sunday week 10 "
     ]
    }
   ],
   "source": [
    "# 541. What will be the output after the following statements? \n",
    "\n",
    "x = {'day':'Sunday', 'week':10} \n",
    "for i, j in x.items(): \n",
    "    print(i, j, end=' ') \n",
    "\n",
    "# a. ('day', 'Sunday') ('week', 10) \n",
    "# b. {'day':'Sunday', 'week':10} \n",
    "# c. 'day':'Sunday', 'week':10 \n",
    "# d. day Sunday week 10\n",
    "\n",
    "#  d"
   ]
  },
  {
   "cell_type": "code",
   "execution_count": 6,
   "id": "07f1e79d",
   "metadata": {},
   "outputs": [
    {
     "name": "stdout",
     "output_type": "stream",
     "text": [
      "False\n"
     ]
    }
   ],
   "source": [
    "# 542. What will be the output after the following statements? \n",
    "\n",
    "x = {'day':'Sunday', 'week':10} \n",
    "print('day' in x.values() )\n",
    "\n",
    "# a. Sunday b. True c. False d. day \n",
    "\n",
    "# c"
   ]
  },
  {
   "cell_type": "code",
   "execution_count": 7,
   "id": "deca4661",
   "metadata": {},
   "outputs": [
    {
     "name": "stdout",
     "output_type": "stream",
     "text": [
      "True\n"
     ]
    }
   ],
   "source": [
    "# 543. What will be the output after the following statements? \n",
    "\n",
    "x = {'day':'Sunday', 'week':10}\n",
    "print('day' in x.keys()) \n",
    "\n",
    "# a. Sunday b. True c. False d. day\n",
    "\n",
    "# b"
   ]
  },
  {
   "cell_type": "code",
   "execution_count": 8,
   "id": "7f406218",
   "metadata": {},
   "outputs": [
    {
     "name": "stdout",
     "output_type": "stream",
     "text": [
      "Sunday\n"
     ]
    }
   ],
   "source": [
    "# 544. What will be the output after the following statements? \n",
    "\n",
    "x = {'day':'Sunday', 'week':10} \n",
    "print(x.get('day', 'Friday'))\n",
    "\n",
    "# a. Friday b. True c. Sunday d. day\n",
    "\n",
    "# c"
   ]
  },
  {
   "cell_type": "code",
   "execution_count": 9,
   "id": "d727c62f",
   "metadata": {},
   "outputs": [
    {
     "name": "stdout",
     "output_type": "stream",
     "text": [
      "Friday\n"
     ]
    }
   ],
   "source": [
    "# 545. What will be the output after the following statements? \n",
    "\n",
    "x = {'day':'Sunday', 'week':10}\n",
    "print(x.get('days', 'Friday'))\n",
    "\n",
    "# a. Friday b. True c. Sunday d. day\n",
    "\n",
    "# a"
   ]
  },
  {
   "cell_type": "code",
   "execution_count": 10,
   "id": "22f502ef",
   "metadata": {},
   "outputs": [
    {
     "name": "stdout",
     "output_type": "stream",
     "text": [
      "5\n"
     ]
    }
   ],
   "source": [
    "# 546. What will be the output after the following statements? \n",
    "\n",
    "x = {'day':'Sunday', 'week':10} \n",
    "print(x.get('weak', 5))\n",
    "\n",
    "# a. 10 b. 5 c. Sunday d. day \n",
    "\n",
    "# b"
   ]
  },
  {
   "cell_type": "code",
   "execution_count": 11,
   "id": "24139a92",
   "metadata": {},
   "outputs": [
    {
     "name": "stdout",
     "output_type": "stream",
     "text": [
      "10\n"
     ]
    }
   ],
   "source": [
    "# 547. What will be the output after the following statements? \n",
    "\n",
    "x = {'day':'Sunday', 'week':10} \n",
    "print(x.get('week', 5)) \n",
    "\n",
    "# a. 10 b. 5 c. Sunday d. day\n",
    "\n",
    "# a"
   ]
  },
  {
   "cell_type": "code",
   "execution_count": 12,
   "id": "636913e4",
   "metadata": {},
   "outputs": [
    {
     "name": "stdout",
     "output_type": "stream",
     "text": [
      "2016\n"
     ]
    }
   ],
   "source": [
    "# 548. What will be the output after the following statements? \n",
    "\n",
    "x = {'day':'Sunday', 'week':10} \n",
    "print(x.get('year', 2016))\n",
    "\n",
    "# a. year b. 2016 c. Sunday d. 10 \n",
    "\n",
    "# b "
   ]
  },
  {
   "cell_type": "code",
   "execution_count": 13,
   "id": "b05ae128",
   "metadata": {},
   "outputs": [
    {
     "name": "stdout",
     "output_type": "stream",
     "text": [
      "{'year': 2016, 'month': 'March', 'day': 'Tuesday'}\n"
     ]
    }
   ],
   "source": [
    "# 549. What will be the output after the following statements? \n",
    "\n",
    "x = {'year': 2016, 'month': 'March'} \n",
    "if 'day' not in x: \n",
    "    x['day'] = 'Tuesday' \n",
    "print(x) \n",
    "\n",
    "# a. ('day', 'Tuesday') \n",
    "# b. {'day': 'Tuesday', 'month': 'March'} \n",
    "# c. 'day': 'Tuesday', 'month': 'March', 'year': 2016 \n",
    "# d. {'day': 'Tuesday', 'month': 'March', 'year': 2016} \n",
    "\n",
    "# d"
   ]
  },
  {
   "cell_type": "code",
   "execution_count": 14,
   "id": "b6c31987",
   "metadata": {},
   "outputs": [
    {
     "name": "stdout",
     "output_type": "stream",
     "text": [
      "{'year': 2016, 'month': 'March', 'day': 'Tuesday'}\n"
     ]
    }
   ],
   "source": [
    "# 550. What will be the output after the following statements? \n",
    "\n",
    "x = {'year': 2016, 'month': 'March'} \n",
    "x.setdefault('day', 'Tuesday') \n",
    "print(x) \n",
    "\n",
    "# a. ('day', 'Tuesday') \n",
    "# b. {'day': 'Tuesday', 'month': 'March'} \n",
    "# c. 'day': 'Tuesday', 'month': 'March', 'year': 2016 \n",
    "# d. {'day': 'Tuesday', 'month': 'March', 'year': 2016}\n",
    "\n",
    "# d"
   ]
  },
  {
   "cell_type": "code",
   "execution_count": 16,
   "id": "fa7b6219",
   "metadata": {},
   "outputs": [
    {
     "name": "stdout",
     "output_type": "stream",
     "text": [
      "{'year': 2016, 'month': 'March', 'day': 'Tuesday'}\n"
     ]
    }
   ],
   "source": [
    "# 551. What will be the output after the following statements? \n",
    "\n",
    "x = {'year': 2016, 'month': 'March'} \n",
    "x.setdefault('day', 'Tuesday') \n",
    "x.setdefault('day', 'Monday') \n",
    "print(x) \n",
    "\n",
    "# a. ('day', 'Monday') \n",
    "# b. {'day': 'Monday', 'month': 'March’} \n",
    "# c. {'day': 'Tuesday', 'month': 'March', 'year': 2016} \n",
    "# d. {'day': 'Monday', 'month': 'March', 'year': 2016}\n",
    "\n",
    "# c"
   ]
  },
  {
   "cell_type": "code",
   "execution_count": 17,
   "id": "83ca4ce8",
   "metadata": {},
   "outputs": [
    {
     "name": "stdout",
     "output_type": "stream",
     "text": [
      "<class 'dict'>\n"
     ]
    }
   ],
   "source": [
    "# 552. What will be the data type of x after the following statement? \n",
    "\n",
    "x = {} \\\n",
    "\n",
    "# a. Tuple b. Set c. List d. Dictionary\n",
    "\n",
    "# d"
   ]
  },
  {
   "cell_type": "code",
   "execution_count": 18,
   "id": "20963e3c",
   "metadata": {},
   "outputs": [
    {
     "name": "stdout",
     "output_type": "stream",
     "text": [
      "Today is a \\n nice day\n"
     ]
    }
   ],
   "source": [
    "# 553. What will be the output after the following statement? \n",
    "\n",
    "print(r'Today is a \\n nice day') \n",
    "\n",
    "# a. Today is a \\n nice day \n",
    "# b. Today is a nice day \n",
    "# c. Today is a nice day \n",
    "# d. 'Today is a \\n nice day’ \n",
    "\n",
    "# a"
   ]
  },
  {
   "cell_type": "code",
   "execution_count": 20,
   "id": "53ce456d",
   "metadata": {},
   "outputs": [
    {
     "name": "stdout",
     "output_type": "stream",
     "text": [
      "PYTHON JOBS\n"
     ]
    }
   ],
   "source": [
    "# 554. What will be the output after the following statements? \n",
    "\n",
    "x = 'python jobs' \n",
    "x.upper() \n",
    "print() \n",
    "\n",
    "# a. PYTHON JOBS b. Python jobs c. Python Jobs d. python jobs\n",
    "\n",
    "# d"
   ]
  },
  {
   "cell_type": "code",
   "execution_count": 21,
   "id": "c86f0071",
   "metadata": {},
   "outputs": [
    {
     "name": "stdout",
     "output_type": "stream",
     "text": [
      "Python Jobs\n"
     ]
    }
   ],
   "source": [
    "# 555. What will be the output after the following statements? \n",
    "\n",
    "x = 'Python Jobs' \n",
    "x.lower() \n",
    "print(x) \n",
    "\n",
    "# a. PYTHON JOBS b. Python jobs c. Python Jobs d. python job\n",
    "\n",
    "# c"
   ]
  },
  {
   "cell_type": "code",
   "execution_count": null,
   "id": "2781ceeb",
   "metadata": {},
   "outputs": [],
   "source": [
    "Algorithm Homework(#31)\n",
    "문자와 숫자가 섞인 문자열을 입력 받을 때 구별하여 출력하세요.\n",
    "input:\n",
    "\"c910m6ia 1ho\"\n",
    "output:\n",
    "str : cma ho\n",
    "int : 91061\n"
   ]
  },
  {
   "cell_type": "code",
   "execution_count": 22,
   "id": "6e87d167",
   "metadata": {},
   "outputs": [
    {
     "name": "stdout",
     "output_type": "stream",
     "text": [
      "문자열 입력 :fsjdl339dk3k\n",
      "3393\n",
      "fsjdldkk\n"
     ]
    }
   ],
   "source": [
    "def nAnds(st):\n",
    "    int = \"\";\n",
    "    str = \"\";\n",
    "    for i in inp:\n",
    "        if i.isdigit():\n",
    "            int += i;\n",
    "        else:\n",
    "            str += i;\n",
    "    print(int)\n",
    "    print(str)\n",
    "\n",
    "inp = input(\"문자열 입력 :\");\n",
    "\n",
    "nAnds(inp);"
   ]
  }
 ],
 "metadata": {
  "kernelspec": {
   "display_name": "Python 3 (ipykernel)",
   "language": "python",
   "name": "python3"
  },
  "language_info": {
   "codemirror_mode": {
    "name": "ipython",
    "version": 3
   },
   "file_extension": ".py",
   "mimetype": "text/x-python",
   "name": "python",
   "nbconvert_exporter": "python",
   "pygments_lexer": "ipython3",
   "version": "3.9.7"
  }
 },
 "nbformat": 4,
 "nbformat_minor": 5
}
