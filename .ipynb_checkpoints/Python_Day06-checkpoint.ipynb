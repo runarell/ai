{
 "cells": [
  {
   "cell_type": "code",
   "execution_count": 1,
   "id": "fdf4f6a5",
   "metadata": {},
   "outputs": [
    {
     "ename": "SyntaxError",
     "evalue": "EOL while scanning string literal (Temp/ipykernel_76208/1326313277.py, line 6)",
     "output_type": "error",
     "traceback": [
      "\u001b[1;36m  File \u001b[1;32m\"C:\\Users\\Runarell\\AppData\\Local\\Temp/ipykernel_76208/1326313277.py\"\u001b[1;36m, line \u001b[1;32m6\u001b[0m\n\u001b[1;33m    print(\"예외 강제);\u001b[0m\n\u001b[1;37m                  ^\u001b[0m\n\u001b[1;31mSyntaxError\u001b[0m\u001b[1;31m:\u001b[0m EOL while scanning string literal\n"
     ]
    }
   ],
   "source": [
    "# 예외처리(에러처리, 오류처리, 버그처리)\n",
    "\n",
    "# 프로그램 실행전에 발생하는 오류 - 구문 오류 syntax error\n",
    "# 프로그램 실행 중에 발생하는 오류 - 런타임 오류 runtime error, 예외 exception \n",
    "\n",
    "print(\"예외 강제);\n",
    "# EOL End of Line 샐행 조차 되지 않는 오류\n"
   ]
  },
  {
   "cell_type": "code",
   "execution_count": 2,
   "id": "a7ed494b",
   "metadata": {},
   "outputs": [
    {
     "name": "stdout",
     "output_type": "stream",
     "text": [
      "프로그램 시작\n"
     ]
    }
   ],
   "source": [
    "print(\"프로그램 시작\");\n",
    "list[0];"
   ]
  }
 ],
 "metadata": {
  "kernelspec": {
   "display_name": "Python 3 (ipykernel)",
   "language": "python",
   "name": "python3"
  },
  "language_info": {
   "codemirror_mode": {
    "name": "ipython",
    "version": 3
   },
   "file_extension": ".py",
   "mimetype": "text/x-python",
   "name": "python",
   "nbconvert_exporter": "python",
   "pygments_lexer": "ipython3",
   "version": "3.9.7"
  }
 },
 "nbformat": 4,
 "nbformat_minor": 5
}
