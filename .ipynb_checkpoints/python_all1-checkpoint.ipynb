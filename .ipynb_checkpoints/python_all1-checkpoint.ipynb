{
 "cells": [
  {
   "cell_type": "code",
   "execution_count": 2,
   "id": "c233da3b",
   "metadata": {
    "scrolled": true
   },
   "outputs": [
    {
     "name": "stdout",
     "output_type": "stream",
     "text": [
      "First Name이재원\n",
      "Hello 이재원\n"
     ]
    }
   ],
   "source": [
    "# 001\n",
    "f_name = input(\"First Name\")\n",
    "\n",
    "print(f\"Hello {f_name}\")"
   ]
  },
  {
   "cell_type": "code",
   "execution_count": 5,
   "id": "667c7821",
   "metadata": {},
   "outputs": [
    {
     "name": "stdout",
     "output_type": "stream",
     "text": [
      "First Name >fds\n",
      "surname >fdsddd\n",
      "Hello fds fdsddd\n"
     ]
    }
   ],
   "source": [
    "# 002 \n",
    "f_name = input(\"First Name >\");\n",
    "s_name = input(\"surname >\");\n",
    "print(f\"Hello {f_name} { s_name }\");\n",
    "\n"
   ]
  },
  {
   "cell_type": "code",
   "execution_count": 6,
   "id": "1e81cbae",
   "metadata": {},
   "outputs": [
    {
     "name": "stdout",
     "output_type": "stream",
     "text": [
      "Please enter your first number:3\n",
      "Please enter your second number:6\n",
      "The total is 9\n"
     ]
    }
   ],
   "source": [
    "# 003  ask the user to enter tow numbers. Add them together and display the answer as\n",
    "#(output) The total is [answer]\n",
    "#(input) \"Please enter your first number:\"\n",
    "#(input) \"Please enter your second number:\"\n",
    "f_num = int(input(\"Please enter your first number:\"))\n",
    "s_num = int(input(\"Please enter your second number:\"))\n",
    "print(f\"The total is {f_num + s_num}\")"
   ]
  },
  {
   "cell_type": "code",
   "execution_count": 8,
   "id": "8416d08a",
   "metadata": {},
   "outputs": [
    {
     "name": "stdout",
     "output_type": "stream",
     "text": [
      "Enter the number of slices of pizza you started with : 3\n",
      "How many slices have you eaten?1\n",
      "The answer is 2\n"
     ]
    }
   ],
   "source": [
    "# 004\n",
    "a = int( input(\"Enter the number of slices of pizza you started with : \"));\n",
    "b = int( input(\"How many slices have you eaten?\"))\n",
    "print(f\"The answer is {a - b}\");"
   ]
  },
  {
   "cell_type": "code",
   "execution_count": 10,
   "id": "d4ff7948",
   "metadata": {},
   "outputs": [
    {
     "name": "stdout",
     "output_type": "stream",
     "text": [
      "Enter the number of days : 2\n",
      "In2, days there are...48 hours  576 minuts 6912seconds\n"
     ]
    }
   ],
   "source": [
    "# 005 \n",
    "d = int( input(\"Enter the number of days : \"));\n",
    "h = d*24;\n",
    "m = h*12;\n",
    "s = m*12;\n",
    "print(f\"In{d}, days there are...{h} hours  {m} minuts {s}seconds\");"
   ]
  },
  {
   "cell_type": "code",
   "execution_count": 14,
   "id": "56c53909",
   "metadata": {},
   "outputs": [
    {
     "name": "stdout",
     "output_type": "stream",
     "text": [
      "Enter the number over 100 :1000\n",
      "Enter the number nuder 10 :3\n",
      "3 goes into 1000 answer 333\n"
     ]
    }
   ],
   "source": [
    "# 006\n",
    "# task the user to enter a number over 100 and then enter number\n",
    "# under 10 and tell them how many times the smaller numver gose into the lager\n",
    "# number in a user-friendly format\n",
    "\n",
    "l_num = int(input(\"Enter the number over 100 :\"))\n",
    "s_num = int(input(\"Enter the number nuder 10 :\"))\n",
    "\n",
    "print(f\"{s_num} goes into {l_num} answer {l_num//s_num}\")"
   ]
  },
  {
   "cell_type": "code",
   "execution_count": null,
   "id": "a41874d2",
   "metadata": {},
   "outputs": [],
   "source": [
    "# if stajtment"
   ]
  },
  {
   "cell_type": "code",
   "execution_count": 15,
   "id": "6d050491",
   "metadata": {},
   "outputs": [
    {
     "name": "stdout",
     "output_type": "stream",
     "text": [
      "Enter first number 3\n",
      "Enter second number 7\n",
      "3, 7\n"
     ]
    }
   ],
   "source": [
    "# 007\n",
    "# ask for two number. if the first noe is larger than second, display the second number first and \n",
    "# then the first numver, otherwise show the first number first and then the second.\n",
    "\n",
    "n1 = int(input(\"Enter first number \"));\n",
    "n2 = int(input(\"Enter second number \"));\n",
    "\n",
    "if n1 < n2:\n",
    "    print(f\"{n1}, {n2}\")\n",
    "else:\n",
    "    print(f\"{n2}, {n1}\")"
   ]
  },
  {
   "cell_type": "code",
   "execution_count": 16,
   "id": "71c3de92",
   "metadata": {},
   "outputs": [
    {
     "name": "stdout",
     "output_type": "stream",
     "text": [
      ":1\n",
      "incorrect number\n"
     ]
    }
   ],
   "source": [
    "# 008\n",
    "#\n",
    "\n",
    "num = int(input(\":\") )\n",
    "\n",
    "if num >= 10 and num <20 :\n",
    "    print(\"thank you\")\n",
    "else:\n",
    "    print(\"incorrect number\")"
   ]
  },
  {
   "cell_type": "code",
   "execution_count": null,
   "id": "78453870",
   "metadata": {},
   "outputs": [],
   "source": [
    "# 009\n",
    "\n",
    "a = input(\"favorit color >?\");\n",
    "\n",
    "if a in [\"red\",\"RED\",\"Red\"]:\n",
    "    print(f\"I liek {a} to\")\n",
    "else:\n",
    "    print(f\"I dont like {a}. Iprefer red\")"
   ]
  },
  {
   "cell_type": "code",
   "execution_count": null,
   "id": "69bbc3d9",
   "metadata": {},
   "outputs": [],
   "source": [
    "# 010\n",
    "qu1 = input(\"is it rainig?\").lower();\n",
    "\n",
    "if qu1 == \"yes\":\n",
    "    qu2 = input(\"is it windy?\").lower();\n",
    "    if qu2 ==\"yes\":\n",
    "        print(\"It is to windy for an umbrella\");\n",
    "    else:\n",
    "        print(\"Take an umbrella\")\n",
    "else:\n",
    "    print(\"Enjoy your day\")\n",
    "    "
   ]
  },
  {
   "cell_type": "code",
   "execution_count": 18,
   "id": "3fee71c9",
   "metadata": {},
   "outputs": [
    {
     "name": "stdout",
     "output_type": "stream",
     "text": [
      "is it rainig?fjksaSSS\n",
      "fjksasss\n"
     ]
    }
   ],
   "source": [
    "qu1 = input(\"is it rainig?\").lower();\n",
    "\n",
    "print(qu1)"
   ]
  },
  {
   "cell_type": "code",
   "execution_count": null,
   "id": "7a2045f6",
   "metadata": {},
   "outputs": [],
   "source": []
  },
  {
   "cell_type": "code",
   "execution_count": null,
   "id": "db6efe95",
   "metadata": {},
   "outputs": [],
   "source": []
  },
  {
   "cell_type": "code",
   "execution_count": null,
   "id": "a116c3bc",
   "metadata": {},
   "outputs": [],
   "source": []
  },
  {
   "cell_type": "code",
   "execution_count": null,
   "id": "3cffd10d",
   "metadata": {},
   "outputs": [],
   "source": []
  }
 ],
 "metadata": {
  "kernelspec": {
   "display_name": "Python 3 (ipykernel)",
   "language": "python",
   "name": "python3"
  },
  "language_info": {
   "codemirror_mode": {
    "name": "ipython",
    "version": 3
   },
   "file_extension": ".py",
   "mimetype": "text/x-python",
   "name": "python",
   "nbconvert_exporter": "python",
   "pygments_lexer": "ipython3",
   "version": "3.9.7"
  }
 },
 "nbformat": 4,
 "nbformat_minor": 5
}
