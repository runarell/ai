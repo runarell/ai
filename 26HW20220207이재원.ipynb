{
 "cells": [
  {
   "cell_type": "code",
   "execution_count": null,
   "id": "13dc6646",
   "metadata": {},
   "outputs": [],
   "source": [
    "# 211\n",
    "def funtion(st):\n",
    "    print(st);\n",
    "    \n",
    "funtion(\"안녕\"); # 안녕 출력\n",
    "funtion(\"Hi\");  # hi 출력"
   ]
  },
  {
   "cell_type": "code",
   "execution_count": null,
   "id": "f35f3b7f",
   "metadata": {},
   "outputs": [],
   "source": [
    "# 212\n",
    "def funt(a, b):\n",
    "    print(a + b);\n",
    "funt(3,4); # 7\n",
    "funt(7,8); # 15"
   ]
  },
  {
   "cell_type": "code",
   "execution_count": null,
   "id": "7454d837",
   "metadata": {},
   "outputs": [],
   "source": [
    "# 213\n",
    "def funt(str):\n",
    "    print(str);\n",
    "funt()\n",
    "\n",
    "# 타입 에러 함수에 매개변수가 있지만 함수 호출시 인자를 전달하지 않음"
   ]
  },
  {
   "cell_type": "code",
   "execution_count": null,
   "id": "d4cc310d",
   "metadata": {},
   "outputs": [],
   "source": [
    "# 214\n",
    "def funt(a,b):\n",
    "    print(a+b);\n",
    "funt(\"안녕\", 3);\n",
    "# 인자가 String 과 Int 인데 함수 내부에서 + 로 합하여 tyep 에러가 발생!"
   ]
  },
  {
   "cell_type": "code",
   "execution_count": 2,
   "id": "21310cad",
   "metadata": {},
   "outputs": [
    {
     "name": "stdout",
     "output_type": "stream",
     "text": [
      "123 :D\n"
     ]
    }
   ],
   "source": [
    "# 215\n",
    "def print_with_smile(str):\n",
    "    print(f\"{str} :D\");"
   ]
  },
  {
   "cell_type": "code",
   "execution_count": 3,
   "id": "2c887c87",
   "metadata": {},
   "outputs": [
    {
     "name": "stdout",
     "output_type": "stream",
     "text": [
      "안녕하세요 :D\n"
     ]
    }
   ],
   "source": [
    "# 216\n",
    "def print_with_smile(str):\n",
    "    print(f\"{str} :D\");\n",
    "\n",
    "print_with_smile(\"안녕하세요\");"
   ]
  },
  {
   "cell_type": "code",
   "execution_count": 3,
   "id": "4258e43e",
   "metadata": {},
   "outputs": [
    {
     "name": "stdout",
     "output_type": "stream",
     "text": [
      "3000.0\n"
     ]
    }
   ],
   "source": [
    "# 217\n",
    "def print_upper_price(num):\n",
    "#     result = num/100 * 30;\n",
    "    result = num*1.3;\n",
    "    return result;\n",
    "\n",
    "a = print_upper_price(10000);\n",
    "print (a);\n",
    "\n",
    "# 상한가 = 130% "
   ]
  },
  {
   "cell_type": "code",
   "execution_count": 5,
   "id": "d77937f4",
   "metadata": {},
   "outputs": [
    {
     "name": "stdout",
     "output_type": "stream",
     "text": [
      "3\n"
     ]
    }
   ],
   "source": [
    "# 218\n",
    "def print_sum(a, b):\n",
    "    print( a+ b );\n",
    "print_sum(1,2);"
   ]
  },
  {
   "cell_type": "code",
   "execution_count": 8,
   "id": "3b86abe7",
   "metadata": {},
   "outputs": [
    {
     "name": "stdout",
     "output_type": "stream",
     "text": [
      "3 + 9 = 12\n",
      "3 - 9 = -6\n",
      "3 * 9 = 27\n",
      "3 / 9 =  0.33\n"
     ]
    }
   ],
   "source": [
    "# 219\n",
    "def print_arithmetic_operation(num1, num2):\n",
    "    print(f\"{num1} + {num2} = {num1 + num2}\");\n",
    "    print(f\"{num1} - {num2} = {num1 - num2}\");\n",
    "    print(f\"{num1} * {num2} = {num1 * num2}\");\n",
    "    print(f\"{num1} / {num2} = { (num1/num2): .2f}\");\n",
    "    \n",
    "print_arithmetic_operation(3,9);"
   ]
  },
  {
   "cell_type": "code",
   "execution_count": 14,
   "id": "f12ffa79",
   "metadata": {},
   "outputs": [
    {
     "name": "stdout",
     "output_type": "stream",
     "text": [
      "max : 10\n"
     ]
    }
   ],
   "source": [
    "# 220\n",
    "def print_max(n1, n2, n3):\n",
    "    result = 0;\n",
    "    if n1 > n2 and n1 > n3:\n",
    "        result = n1;\n",
    "    elif(n2 > n3):\n",
    "        result = n2;\n",
    "    else:\n",
    "        result = n3;\n",
    "    print(f\"max : {result}\");\n",
    "print_max(5,10,5)"
   ]
  },
  {
   "cell_type": "code",
   "execution_count": 30,
   "id": "36f1d60f",
   "metadata": {},
   "outputs": [
    {
     "name": "stdout",
     "output_type": "stream",
     "text": [
      "dcba\n"
     ]
    }
   ],
   "source": [
    "# 221\n",
    "def print_reverse(st):\n",
    "    result = \"\";\n",
    "    for i in range(-1, -len(st)-1, -1):\n",
    "        result += st[i];\n",
    "    print(result);\n",
    "\n",
    "# 슬라이싱으로 역순 가능\n",
    "# 역순 = st[::-1];\n",
    "print_reverse(\"abcd\");"
   ]
  },
  {
   "cell_type": "code",
   "execution_count": 31,
   "id": "e046ff95",
   "metadata": {},
   "outputs": [
    {
     "name": "stdout",
     "output_type": "stream",
     "text": [
      "2.0\n"
     ]
    }
   ],
   "source": [
    "# 222\n",
    "def print_score(*agus):\n",
    "    result = 0;\n",
    "    for i in agus:\n",
    "        result += i;\n",
    "    print(f\"{ result/ len(agus) }\");\n",
    "print_score(1,2,3);"
   ]
  },
  {
   "cell_type": "code",
   "execution_count": 32,
   "id": "c1339789",
   "metadata": {},
   "outputs": [
    {
     "name": "stdout",
     "output_type": "stream",
     "text": [
      "2\n",
      "10\n",
      "12\n"
     ]
    }
   ],
   "source": [
    "# 223\n",
    "def print_even(arr):\n",
    "    for i in arr:\n",
    "        if i%2 == 0:\n",
    "            print(i);\n",
    "\n",
    "print_even ([1, 3, 2, 10, 12, 11, 15])       "
   ]
  },
  {
   "cell_type": "code",
   "execution_count": 35,
   "id": "161f5c35",
   "metadata": {},
   "outputs": [
    {
     "name": "stdout",
     "output_type": "stream",
     "text": [
      "이름 \n",
      "\n",
      "나이 \n",
      "\n",
      "성별 \n",
      "\n"
     ]
    }
   ],
   "source": [
    "# 224\n",
    "def print_keys(dic):\n",
    "#     for i in dic:\n",
    "    for i in dic.keys():\n",
    "        print( f\"{i} \\n\" );\n",
    "print_keys ({\"이름\":\"김말똥\", \"나이\":30, \"성별\":0})"
   ]
  },
  {
   "cell_type": "code",
   "execution_count": 36,
   "id": "48ec3168",
   "metadata": {},
   "outputs": [
    {
     "name": "stdout",
     "output_type": "stream",
     "text": [
      "[100, 130, 100, 100]\n"
     ]
    }
   ],
   "source": [
    "# 225\n",
    "my_dict = {\n",
    "    \"10/26\" : [100, 130, 100, 100],\n",
    "    \"10/27\" : [10, 12, 10, 11]\n",
    "}\n",
    "def print_value_by_key(dic, st):\n",
    "    print(dic[st]);\n",
    "\n",
    "\n",
    "print_value_by_key (my_dict, \"10/26\")"
   ]
  },
  {
   "cell_type": "code",
   "execution_count": 71,
   "id": "9eb4a14d",
   "metadata": {},
   "outputs": [
    {
     "name": "stdout",
     "output_type": "stream",
     "text": [
      "아이엠어보\n",
      "\n",
      "이유알어걸\n",
      "\n",
      "jslak\n",
      "\n",
      "d\n"
     ]
    }
   ],
   "source": [
    "# 226\n",
    "# def print_5xn(st):\n",
    "#     a = len(st)//5;\n",
    "#     for i in range(0, a+1):\n",
    "#         pr = st[i*5:(i+1)*5];\n",
    "#         print(f\"{pr} \\n\");\n",
    "\n",
    "# print_5xn(\"아이엠어보이유알어걸\")\n",
    "\n",
    "def print_5xn(st):\n",
    "    pr = \"\";\n",
    "    for i, cher in enumerate(st):\n",
    "        if i%5 == 0 and i != 0: pr+=\"\\n\\n\"\n",
    "        pr += cher;     \n",
    "    \n",
    "    print(f\"{pr}\");\n",
    "print_5xn(\"아이엠어보이유알어걸\")"
   ]
  },
  {
   "cell_type": "code",
   "execution_count": 72,
   "id": "c07313a4",
   "metadata": {},
   "outputs": [
    {
     "name": "stdout",
     "output_type": "stream",
     "text": [
      "아이엠\n",
      "\n",
      "어보이\n",
      "\n",
      "유알어\n",
      "\n",
      "걸\n"
     ]
    }
   ],
   "source": [
    "# 227\n",
    "def printmxn(st, num):\n",
    "    pr = \"\";\n",
    "    for i, cher in enumerate(st):\n",
    "        if i%num == 0 and i != 0: pr+=\"\\n\\n\"\n",
    "        pr += cher;\n",
    "    print(f\"{pr}\");\n",
    "\n",
    "printmxn(\"아이엠어보이유알어걸\", 3);"
   ]
  },
  {
   "cell_type": "code",
   "execution_count": 79,
   "id": "dd5e873f",
   "metadata": {},
   "outputs": [
    {
     "name": "stdout",
     "output_type": "stream",
     "text": [
      "1003750\n"
     ]
    }
   ],
   "source": [
    "# 228\n",
    "def calc_monthly_salary(an):\n",
    "    mon_sa = int(an/120)*10\n",
    "    print( mon_sa );\n",
    "\n",
    "calc_monthly_salary(12045000); "
   ]
  },
  {
   "cell_type": "code",
   "execution_count": 80,
   "id": "341e7458",
   "metadata": {},
   "outputs": [
    {
     "name": "stdout",
     "output_type": "stream",
     "text": [
      "왼쪽 :  100\n",
      "오른쪽 :  200\n"
     ]
    }
   ],
   "source": [
    "# 229\n",
    "def my_print(a, b):\n",
    "    print(\"왼쪽 : \", a)\n",
    "    \n",
    "    print(\"오른쪽 : \", b)\n",
    "    \n",
    "my_print(a=100, b=200);\n",
    "\n",
    "# 결과 \n",
    "# 왼쪽 : 100\n",
    "# 오른쪽 : 200\n",
    "# 출력"
   ]
  },
  {
   "cell_type": "code",
   "execution_count": 81,
   "id": "4ad930b8",
   "metadata": {},
   "outputs": [
    {
     "name": "stdout",
     "output_type": "stream",
     "text": [
      "왼쪽 :  200\n",
      "오른쪽 :  100\n"
     ]
    }
   ],
   "source": [
    "# 230\n",
    "def my_print(a, b):\n",
    "    print(\"왼쪽 : \", a)\n",
    "    \n",
    "    print(\"오른쪽 : \", b)\n",
    "    \n",
    "my_print(b=100, a=200);\n",
    "\n",
    "# 결과 \n",
    "# 왼쪽 : 200\n",
    "# 오른쪽 : 100\n",
    "# 출력"
   ]
  },
  {
   "cell_type": "code",
   "execution_count": null,
   "id": "32407ea1",
   "metadata": {},
   "outputs": [],
   "source": []
  },
  {
   "cell_type": "code",
   "execution_count": null,
   "id": "9ebcb95b",
   "metadata": {},
   "outputs": [],
   "source": []
  }
 ],
 "metadata": {
  "kernelspec": {
   "display_name": "Python 3 (ipykernel)",
   "language": "python",
   "name": "python3"
  },
  "language_info": {
   "codemirror_mode": {
    "name": "ipython",
    "version": 3
   },
   "file_extension": ".py",
   "mimetype": "text/x-python",
   "name": "python",
   "nbconvert_exporter": "python",
   "pygments_lexer": "ipython3",
   "version": "3.9.7"
  }
 },
 "nbformat": 4,
 "nbformat_minor": 5
}
