{
 "cells": [
  {
   "cell_type": "code",
   "execution_count": null,
   "id": "168f43ad",
   "metadata": {},
   "outputs": [],
   "source": [
    "# 231\n",
    "def n_puls_1(n):\n",
    "    result = n+1;\n",
    "n_puls_1(3);\n",
    "print(result);\n",
    "# result는 지역변수 // 변수 값이 없음으로 Name NameError"
   ]
  },
  {
   "cell_type": "code",
   "execution_count": null,
   "id": "4c23e2dc",
   "metadata": {},
   "outputs": [],
   "source": [
    "# 232\n",
    "def mark_url(addr):\n",
    "    \n",
    "    return f\"www.{addr}.com\"\n",
    "print( mark_url(\"naver\") )\n"
   ]
  },
  {
   "cell_type": "code",
   "execution_count": null,
   "id": "6b7e35c3",
   "metadata": {},
   "outputs": [],
   "source": [
    "# 233\n",
    "\n",
    "def mack_list(st):\n",
    "    result = [];\n",
    "    for i in st:\n",
    "        result.append(i);\n",
    "    return result;\n",
    "\n",
    "print ( mack_list(\"abcd\") );"
   ]
  },
  {
   "cell_type": "code",
   "execution_count": null,
   "id": "55d73a5a",
   "metadata": {},
   "outputs": [],
   "source": [
    "# 234\n",
    "def pickup_even(arr):\n",
    "    result = [];\n",
    "    for i in arr:\n",
    "        if i%2 == 0:\n",
    "            result.append(i);\n",
    "    return result;\n",
    "\n",
    "pr = pickup_even([3, 4, 5, 6, 7, 8]);\n",
    "print( pr );"
   ]
  },
  {
   "cell_type": "code",
   "execution_count": null,
   "id": "e595a6aa",
   "metadata": {},
   "outputs": [],
   "source": [
    "# 235\n",
    "\n",
    "def convert_int(st):\n",
    "    result = \"\".join(i for i in st if i not in \"\\,\"); \n",
    "    return int( result );\n",
    "\n",
    "pr = convert_int(\"1,234,567\");\n",
    "print(pr);"
   ]
  },
  {
   "cell_type": "code",
   "execution_count": null,
   "id": "132b2e4e",
   "metadata": {},
   "outputs": [],
   "source": [
    "# 236\n",
    "def funt(num) :\n",
    "     return num + 4\n",
    "\n",
    "a = funt(10) # 14\n",
    "b = funt(a)  # 18\n",
    "c = funt(b)  # 22\n",
    "print(c)\n",
    "\n",
    "# 22 출력"
   ]
  },
  {
   "cell_type": "code",
   "execution_count": null,
   "id": "e307d99c",
   "metadata": {},
   "outputs": [],
   "source": [
    "# 237\n",
    "def funt(num):\n",
    "    return num + 4;\n",
    "c = funt( funt( funt(10)));\n",
    "print(c);\n",
    "# 22 출력 "
   ]
  },
  {
   "cell_type": "code",
   "execution_count": null,
   "id": "5cf6ec1f",
   "metadata": {},
   "outputs": [],
   "source": [
    "# 238\n",
    "def funt1(num):\n",
    "    return num +4;\n",
    "def funt2(num):\n",
    "    return num *10;\n",
    "a = funt1(10);  # 14\n",
    "c = funt2(a);  # 140\n",
    "\n",
    "print(c)\n",
    "# 140 출력 "
   ]
  },
  {
   "cell_type": "code",
   "execution_count": null,
   "id": "ffbed2b2",
   "metadata": {},
   "outputs": [],
   "source": [
    "# 239\n",
    "def funt1(num):\n",
    "    return num + 4\n",
    "def funt2(num):\n",
    "    num = num + 2\n",
    "    return funt1(num)\n",
    "c = funt2(10); \n",
    "print(c)\n",
    "# 16 출력"
   ]
  },
  {
   "cell_type": "code",
   "execution_count": null,
   "id": "dcdbfe6c",
   "metadata": {},
   "outputs": [],
   "source": [
    "# 240\n",
    "def funt0(num):\n",
    "    return num * 2\n",
    "\n",
    "def funt1(num):\n",
    "    return funt0(num + 2)\n",
    "\n",
    "def funt2(num):\n",
    "    num = num + 10\n",
    "    return funt1(num)\n",
    "\n",
    "c = funt2(2);\n",
    "print(c)\n",
    "# 28 출력\n"
   ]
  },
  {
   "cell_type": "code",
   "execution_count": null,
   "id": "54648b6d",
   "metadata": {},
   "outputs": [],
   "source": [
    "# 291\n",
    "f = open(\"매수종목1.txt\", mode='wt', encoding='utf-8')\n",
    "\n",
    "f.write(\"005930\\n\\n\");\n",
    "f.write(\"005380\\n\\n\");\n",
    "f.write(\"035420\");\n",
    "\n",
    "f.close();"
   ]
  },
  {
   "cell_type": "code",
   "execution_count": null,
   "id": "283c48c8",
   "metadata": {},
   "outputs": [],
   "source": [
    "# 292\n",
    "f = open(\"매수종목2.txt\", mode='wt', encoding='utf-8')\n",
    "\n",
    "f.write(\"005930 삼성전자\\n\\n\");\n",
    "f.write(\"005380 현대차\\n\\n\");\n",
    "f.write(\"035420 naver\");\n",
    "\n",
    "f.close();"
   ]
  },
  {
   "cell_type": "code",
   "execution_count": null,
   "id": "44c74e2c",
   "metadata": {},
   "outputs": [],
   "source": [
    "# 293\n",
    "import pandas as pd\n",
    "\n",
    "row_list1 = [\"삼성정자\", \"005930\", \"15.79\"];\n",
    "row_list2 = [\"NAVER\",\"035420\",\"55.82\"];\n",
    "col_list = [\"종목명\", \"종목코드\", \"PER\"];\n",
    "\n",
    "df = pd.DataFrame(\n",
    "                [row_list1, row_list2],\n",
    "               columns=col_list\n",
    ")\n",
    "\n",
    "df.to_csv('매수종목.csv', index=False, encoding='cp949')"
   ]
  },
  {
   "cell_type": "code",
   "execution_count": null,
   "id": "68922eff",
   "metadata": {},
   "outputs": [],
   "source": [
    "# 294\n",
    "f = open(\"매수종목1.txt\", mode='rt', encoding='utf-8')\n",
    "\n",
    "st = f.read();\n",
    "print(st)\n",
    "\n",
    "f.close();"
   ]
  },
  {
   "cell_type": "code",
   "execution_count": 19,
   "id": "7ac1a533",
   "metadata": {},
   "outputs": [
    {
     "name": "stdout",
     "output_type": "stream",
     "text": [
      "{'005930': '삼성전자', '005380': '현대차', '035420': 'naver'}\n"
     ]
    }
   ],
   "source": [
    "# 295\n",
    "f = open(\"매수종목2.txt\", mode='rt', encoding='utf-8')\n",
    "dict = {};\n",
    "st = f.read().split(\"\\n\\n\");\n",
    "for i in st:\n",
    "    arr = i.split(); \n",
    "    dict[arr[0]] = arr[1];\n",
    "print(dict)\n",
    "\n",
    "f.close();"
   ]
  },
  {
   "cell_type": "code",
   "execution_count": null,
   "id": "ab297c9e",
   "metadata": {},
   "outputs": [],
   "source": [
    "# 296\n",
    "per = [\"10.31\", \"\", \"8.00\"];\n",
    "\n",
    "for i in per:\n",
    "    try:\n",
    "        print(float(i));\n",
    "    except:\n",
    "        print(\"0\");\n"
   ]
  },
  {
   "cell_type": "code",
   "execution_count": null,
   "id": "0e5642fb",
   "metadata": {},
   "outputs": [],
   "source": [
    "# 297\n",
    "per = [\"10.31\", \"\", \"8.00\"];\n",
    "\n",
    "list = [];\n",
    "\n",
    "for i in per:\n",
    "    try:\n",
    "        list.append( float(i) );\n",
    "    except:\n",
    "        list.append( 0 );\n",
    "print(list);"
   ]
  },
  {
   "cell_type": "code",
   "execution_count": 5,
   "id": "b8905d8c",
   "metadata": {},
   "outputs": [
    {
     "name": "stdout",
     "output_type": "stream",
     "text": [
      "ZeroDivisionError 입니다.\n"
     ]
    }
   ],
   "source": [
    "# 298\n",
    " \n",
    "try:\n",
    "    a = 10/0\n",
    "    print(a)\n",
    "except ZeroDivisionError:\n",
    "    print(\"ZeroDivisionError 입니다.\")"
   ]
  },
  {
   "cell_type": "code",
   "execution_count": null,
   "id": "fe404880",
   "metadata": {},
   "outputs": [],
   "source": [
    "# 299\n",
    "\n",
    "data = [1, 2, 3];\n",
    "\n",
    "for i in range(5):\n",
    "    try:\n",
    "        print(data[i]);\n",
    "    except IndexError as var:\n",
    "        print(var)"
   ]
  },
  {
   "cell_type": "code",
   "execution_count": null,
   "id": "47fcfb75",
   "metadata": {},
   "outputs": [],
   "source": [
    "# 300\n",
    "per = [\"10.31\", \"\", \"8.00\"]\n",
    "\n",
    "for i in per:\n",
    "    try:\n",
    "        print( float( i ) );\n",
    "    except:\n",
    "        print(\"예외 발생\");\n",
    "    else:\n",
    "        print(\"처리 진행중..\");\n",
    "    finally:\n",
    "        print(\"처리종료\");"
   ]
  }
 ],
 "metadata": {
  "kernelspec": {
   "display_name": "Python 3 (ipykernel)",
   "language": "python",
   "name": "python3"
  },
  "language_info": {
   "codemirror_mode": {
    "name": "ipython",
    "version": 3
   },
   "file_extension": ".py",
   "mimetype": "text/x-python",
   "name": "python",
   "nbconvert_exporter": "python",
   "pygments_lexer": "ipython3",
   "version": "3.9.7"
  }
 },
 "nbformat": 4,
 "nbformat_minor": 5
}
