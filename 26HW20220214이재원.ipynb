{
 "cells": [
  {
   "cell_type": "code",
   "execution_count": null,
   "id": "ec2e24f4",
   "metadata": {},
   "outputs": [],
   "source": [
    "# 476. What will be the output after the following statements? \n",
    "def xyz(): \n",
    "    x = 40 \n",
    "    abc()\n",
    "    print(x) \n",
    "def abc(): \n",
    "    a = 32 \n",
    "    x = 10 \n",
    "\n",
    "xyz()\n",
    "\n",
    "# a. NameError b. 40 c. 10 d. 32 \n",
    "# b. 40"
   ]
  },
  {
   "cell_type": "code",
   "execution_count": null,
   "id": "35826a1e",
   "metadata": {},
   "outputs": [],
   "source": [
    "# 477. What will be the output after the following statements? \n",
    "def xyz(): \n",
    "    x = 40 \n",
    "def abc(): \n",
    "    xyz() \n",
    "    a = 32 \n",
    "    x = 10 \n",
    "    print(x) \n",
    "abc() \n",
    "# a. NameError b. 40 c. 10 d. 32\n",
    "# c. 10"
   ]
  },
  {
   "cell_type": "code",
   "execution_count": null,
   "id": "1c6c851e",
   "metadata": {},
   "outputs": [],
   "source": [
    "# 478. What will be the output after the following statements? \n",
    "def abc(): \n",
    "    print(x) \n",
    "    x = 10 \n",
    "abc() \n",
    "# a. NameError b. x c. 10 d. 0\n",
    "# a. NameError"
   ]
  },
  {
   "cell_type": "code",
   "execution_count": null,
   "id": "c3878b27",
   "metadata": {},
   "outputs": [],
   "source": [
    "# 479. What will be the output after the following statements? \n",
    "def abc():\n",
    "    x = 12 \n",
    "    print(x) \n",
    "    x = 10 \n",
    "abc() \n",
    "# a. NameError b. 12 c. 10 d. 0 \n",
    "# b.12"
   ]
  },
  {
   "cell_type": "code",
   "execution_count": null,
   "id": "56429122",
   "metadata": {},
   "outputs": [],
   "source": [
    "# 480. What will be the output after the following statements? \n",
    "def abc(): \n",
    "    x = 10 \n",
    "    print(x) \n",
    "abc() \n",
    "x = 12 \n",
    "# a. NameError b. 12 c. 10 d. 0\n",
    "# c. 10"
   ]
  },
  {
   "cell_type": "code",
   "execution_count": 4,
   "id": "310c8f7e",
   "metadata": {},
   "outputs": [
    {
     "name": "stdout",
     "output_type": "stream",
     "text": [
      "23\n"
     ]
    }
   ],
   "source": [
    "# 481. What will be the output after the following statements? \n",
    "def abc(): \n",
    "    global x \n",
    "    x = 23 \n",
    "x = 10\n",
    "abc() \n",
    "print(x) \n",
    "# a. NameError b. 23 c. 10 d. 0\n",
    "# b. 23"
   ]
  },
  {
   "cell_type": "code",
   "execution_count": 3,
   "id": "867e414f",
   "metadata": {},
   "outputs": [
    {
     "name": "stdout",
     "output_type": "stream",
     "text": [
      "10\n"
     ]
    }
   ],
   "source": [
    "# 482. What will be the output after the following statements? \n",
    "def abc(): \n",
    "    print(x) \n",
    "x = 10\n",
    "abc()\n",
    "x = 20 \n",
    "# a. NameError b. 20 c. 10 d. UnboundLocalError\n",
    "#  d . UnboundLocalError"
   ]
  },
  {
   "cell_type": "code",
   "execution_count": 5,
   "id": "c744df3e",
   "metadata": {},
   "outputs": [
    {
     "name": "stdout",
     "output_type": "stream",
     "text": [
      "5.0\n"
     ]
    }
   ],
   "source": [
    "# 483. What will be the output after the following statements? \n",
    "def abc(x): \n",
    "    return 20 / x\n",
    "print(abc(4))\n",
    "\n",
    "# a. NameError b. 5 c. 5.0 d. ZeroDivisionError\n",
    "# c. 5.0"
   ]
  },
  {
   "cell_type": "code",
   "execution_count": null,
   "id": "e00976a6",
   "metadata": {},
   "outputs": [],
   "source": [
    "# 484. What will be the output after the following statements? \n",
    "def abc(x): \n",
    "    return 20 / x \n",
    "print(abc(0)) \n",
    "\n",
    "# a. NameError b. Undefined c. 5.0 d. ZeroDivisionError\n",
    "# d ZeroDiviseionError"
   ]
  },
  {
   "cell_type": "code",
   "execution_count": 6,
   "id": "f3031e69",
   "metadata": {},
   "outputs": [
    {
     "name": "stdout",
     "output_type": "stream",
     "text": [
      "Not a valid argument None\n"
     ]
    }
   ],
   "source": [
    "# 485. What will be the output after the following statements?  ##\n",
    "def abc(x): \n",
    "    try: \n",
    "        print(20 / x) \n",
    "    except: \n",
    "        print('Not a valid argument', end=' ') \n",
    "print(abc(0)) \n",
    "# a. NameError \n",
    "# b. Not a valid argument \n",
    "# c. Not a valid argument None \n",
    "# d. ZeroDivisionError\n",
    "\n",
    "# c. Not a valid argument None"
   ]
  },
  {
   "cell_type": "code",
   "execution_count": 8,
   "id": "2db56d63",
   "metadata": {},
   "outputs": [
    {
     "name": "stdout",
     "output_type": "stream",
     "text": [
      "Not a valid argument 0 None\n"
     ]
    }
   ],
   "source": [
    "# 486. What will be the output after the following statements? \n",
    "def abc(x): \n",
    "    try: \n",
    "        print(20 / x) \n",
    "    except: \n",
    "        print('Not a valid argument', end=' ') \n",
    "    finally: \n",
    "        print(0, end=' ') \n",
    "print(abc(0)) \n",
    "# a. Not a valid argument 0 None \n",
    "# b. Not a valid argument \n",
    "# c. Not a valid argument None \n",
    "# d. ZeroDivisionErro\n",
    "\n",
    "# a. Not a valid argument 0 None "
   ]
  },
  {
   "cell_type": "code",
   "execution_count": 9,
   "id": "aa34bb95",
   "metadata": {},
   "outputs": [
    {
     "ename": "IndexError",
     "evalue": "list index out of range",
     "output_type": "error",
     "traceback": [
      "\u001b[1;31m---------------------------------------------------------------------------\u001b[0m",
      "\u001b[1;31mIndexError\u001b[0m                                Traceback (most recent call last)",
      "\u001b[1;32m~\\AppData\\Local\\Temp/ipykernel_58260/3367191395.py\u001b[0m in \u001b[0;36m<module>\u001b[1;34m\u001b[0m\n\u001b[0;32m      1\u001b[0m \u001b[1;31m# 487. What will be the output after the following statements?\u001b[0m\u001b[1;33m\u001b[0m\u001b[1;33m\u001b[0m\u001b[0m\n\u001b[0;32m      2\u001b[0m \u001b[0mx\u001b[0m \u001b[1;33m=\u001b[0m \u001b[1;33m[\u001b[0m\u001b[1;36m1\u001b[0m\u001b[1;33m,\u001b[0m \u001b[1;36m2\u001b[0m\u001b[1;33m,\u001b[0m \u001b[1;36m3\u001b[0m\u001b[1;33m,\u001b[0m \u001b[1;36m4\u001b[0m\u001b[1;33m]\u001b[0m\u001b[1;33m\u001b[0m\u001b[1;33m\u001b[0m\u001b[0m\n\u001b[1;32m----> 3\u001b[1;33m \u001b[0mprint\u001b[0m\u001b[1;33m(\u001b[0m\u001b[0mx\u001b[0m\u001b[1;33m[\u001b[0m\u001b[1;36m4\u001b[0m\u001b[1;33m]\u001b[0m\u001b[1;33m)\u001b[0m\u001b[1;33m\u001b[0m\u001b[1;33m\u001b[0m\u001b[0m\n\u001b[0m\u001b[0;32m      4\u001b[0m \u001b[1;33m\u001b[0m\u001b[0m\n\u001b[0;32m      5\u001b[0m \u001b[1;31m# a. 4 b. 3 c. [1, 2, 3, 4] d. IndexError\u001b[0m\u001b[1;33m\u001b[0m\u001b[1;33m\u001b[0m\u001b[0m\n",
      "\u001b[1;31mIndexError\u001b[0m: list index out of range"
     ]
    }
   ],
   "source": [
    "# 487. What will be the output after the following statements? \n",
    "x = [1, 2, 3, 4] \n",
    "print(x[4]) \n",
    "\n",
    "# a. 4 b. 3 c. [1, 2, 3, 4] d. IndexError\n",
    "# d. IndexError"
   ]
  },
  {
   "cell_type": "code",
   "execution_count": 10,
   "id": "4fc70f28",
   "metadata": {},
   "outputs": [
    {
     "ename": "IndexError",
     "evalue": "list index out of range",
     "output_type": "error",
     "traceback": [
      "\u001b[1;31m---------------------------------------------------------------------------\u001b[0m",
      "\u001b[1;31mIndexError\u001b[0m                                Traceback (most recent call last)",
      "\u001b[1;32m~\\AppData\\Local\\Temp/ipykernel_58260/2355085712.py\u001b[0m in \u001b[0;36m<module>\u001b[1;34m\u001b[0m\n\u001b[0;32m      1\u001b[0m \u001b[1;31m# 488. What will be the output after the following statements?\u001b[0m\u001b[1;33m\u001b[0m\u001b[1;33m\u001b[0m\u001b[0m\n\u001b[0;32m      2\u001b[0m \u001b[0mx\u001b[0m \u001b[1;33m=\u001b[0m \u001b[1;33m[\u001b[0m\u001b[1;36m10\u001b[0m\u001b[1;33m,\u001b[0m \u001b[1;36m20\u001b[0m\u001b[1;33m,\u001b[0m \u001b[1;36m30\u001b[0m\u001b[1;33m,\u001b[0m \u001b[1;36m40\u001b[0m\u001b[1;33m]\u001b[0m\u001b[1;33m\u001b[0m\u001b[1;33m\u001b[0m\u001b[0m\n\u001b[1;32m----> 3\u001b[1;33m \u001b[0mprint\u001b[0m\u001b[1;33m(\u001b[0m\u001b[0mx\u001b[0m\u001b[1;33m[\u001b[0m\u001b[1;36m20\u001b[0m\u001b[1;33m]\u001b[0m\u001b[1;33m)\u001b[0m\u001b[1;33m\u001b[0m\u001b[1;33m\u001b[0m\u001b[0m\n\u001b[0m\u001b[0;32m      4\u001b[0m \u001b[1;33m\u001b[0m\u001b[0m\n\u001b[0;32m      5\u001b[0m \u001b[1;31m# a. 20 b. 30 c. [20] d. IndexError\u001b[0m\u001b[1;33m\u001b[0m\u001b[1;33m\u001b[0m\u001b[0m\n",
      "\u001b[1;31mIndexError\u001b[0m: list index out of range"
     ]
    }
   ],
   "source": [
    "# 488. What will be the output after the following statements? \n",
    "x = [10, 20, 30, 40] \n",
    "print(x[20])\n",
    "\n",
    "# a. 20 b. 30 c. [20] d. IndexError\n",
    "# d. IndexError"
   ]
  },
  {
   "cell_type": "code",
   "execution_count": 11,
   "id": "e9cfdc0a",
   "metadata": {},
   "outputs": [
    {
     "ename": "TypeError",
     "evalue": "list indices must be integers or slices, not float",
     "output_type": "error",
     "traceback": [
      "\u001b[1;31m---------------------------------------------------------------------------\u001b[0m",
      "\u001b[1;31mTypeError\u001b[0m                                 Traceback (most recent call last)",
      "\u001b[1;32m~\\AppData\\Local\\Temp/ipykernel_58260/3043808137.py\u001b[0m in \u001b[0;36m<module>\u001b[1;34m\u001b[0m\n\u001b[0;32m      2\u001b[0m \u001b[1;33m\u001b[0m\u001b[0m\n\u001b[0;32m      3\u001b[0m \u001b[0mx\u001b[0m \u001b[1;33m=\u001b[0m \u001b[1;33m[\u001b[0m\u001b[1;36m1.0\u001b[0m\u001b[1;33m,\u001b[0m \u001b[1;36m2.0\u001b[0m\u001b[1;33m,\u001b[0m \u001b[1;36m3.0\u001b[0m\u001b[1;33m]\u001b[0m\u001b[1;33m\u001b[0m\u001b[1;33m\u001b[0m\u001b[0m\n\u001b[1;32m----> 4\u001b[1;33m \u001b[0mprint\u001b[0m\u001b[1;33m(\u001b[0m\u001b[0mx\u001b[0m\u001b[1;33m[\u001b[0m\u001b[1;36m2.0\u001b[0m\u001b[1;33m]\u001b[0m\u001b[1;33m)\u001b[0m\u001b[1;33m\u001b[0m\u001b[1;33m\u001b[0m\u001b[0m\n\u001b[0m\u001b[0;32m      5\u001b[0m \u001b[1;33m\u001b[0m\u001b[0m\n\u001b[0;32m      6\u001b[0m \u001b[1;31m# a. 2 b. 3.0 c. TypeError d. IndexError\u001b[0m\u001b[1;33m\u001b[0m\u001b[1;33m\u001b[0m\u001b[0m\n",
      "\u001b[1;31mTypeError\u001b[0m: list indices must be integers or slices, not float"
     ]
    }
   ],
   "source": [
    "# 489. What will be the output after the following statements? \n",
    "\n",
    "x = [1.0, 2.0, 3.0] \n",
    "print(x[2.0]) \n",
    "\n",
    "# a. 2 b. 3.0 c. TypeError d. IndexError\n",
    "# c. TypeError"
   ]
  },
  {
   "cell_type": "code",
   "execution_count": 12,
   "id": "bc553885",
   "metadata": {},
   "outputs": [
    {
     "name": "stdout",
     "output_type": "stream",
     "text": [
      "3.0\n"
     ]
    }
   ],
   "source": [
    "# 490. What will be the output after the following statements? \n",
    "\n",
    "x = [1.0, 2.0, 3.0]\n",
    "print(x[int(2.0)])\n",
    "\n",
    "# a. 2 b. 3.0 c. TypeError d. IndexError\n",
    "#b. 3.0"
   ]
  },
  {
   "cell_type": "code",
   "execution_count": 13,
   "id": "83715859",
   "metadata": {},
   "outputs": [
    {
     "name": "stdout",
     "output_type": "stream",
     "text": [
      "Today is a niceday\n"
     ]
    }
   ],
   "source": [
    "# 491. What will be the output after the following statements? \n",
    "x = ['Today', 'nice', 'day'] \n",
    "print(x[0] + ' is a ' + x[1] + x[2])\n",
    "\n",
    "# a. Today is a niceday \n",
    "# b. Today is a nice day \n",
    "# c. Todayis aniceday \n",
    "# d. Todayisaniceday\n",
    "\n",
    "# a. Today is a niceday"
   ]
  },
  {
   "cell_type": "code",
   "execution_count": 14,
   "id": "64e2b6b6",
   "metadata": {},
   "outputs": [
    {
     "name": "stdout",
     "output_type": "stream",
     "text": [
      "Today was a great day\n"
     ]
    }
   ],
   "source": [
    "# 492. What will be the output after the following statements? \n",
    "\n",
    "x = ['Today', 'Sunday', 'Monday']\n",
    "print(x[0] + ' was a great day')\n",
    "\n",
    "# a. Today was a great day \n",
    "# b. Sunday was a great day \n",
    "# c. TypeError \n",
    "# d. IndexError\n",
    "\n",
    "# a.Today was a great day"
   ]
  },
  {
   "cell_type": "code",
   "execution_count": null,
   "id": "913fa24e",
   "metadata": {},
   "outputs": [],
   "source": [
    "# 493. What will be the output after the following statements? \n",
    "\n",
    "x = ['Today', 'Sunday', 'Monday'] \n",
    "print(x[-1] + ' was a great day')\n",
    "\n",
    "# a. Today was a great day \n",
    "# b. Sunday was a great day \n",
    "# c. Monday was a great day \n",
    "# d. IndexError\n",
    "\n",
    "# c. Monday was a great day"
   ]
  },
  {
   "cell_type": "code",
   "execution_count": null,
   "id": "dffea4a7",
   "metadata": {},
   "outputs": [],
   "source": [
    "# 494. What will be the output after the following statements? \n",
    "\n",
    "x = ['Today', 'Sunday', 'Monday'] \n",
    "print(x[-3] + ' was a great day')\n",
    "\n",
    "# a. Today was a great day \n",
    "# b. Sunday was a great day \n",
    "# c. Monday was a great day \n",
    "# d. IndexError\n",
    "\n",
    "# a. Today was a great day "
   ]
  },
  {
   "cell_type": "code",
   "execution_count": 15,
   "id": "7c2feee7",
   "metadata": {},
   "outputs": [
    {
     "name": "stdout",
     "output_type": "stream",
     "text": [
      "Yesterday was a great day\n"
     ]
    }
   ],
   "source": [
    "# 495. What will be the output after the following statements?\n",
    "\n",
    "x = ['Today', 'Sunday', 'Monday']\n",
    "x[2] = 'Friday' \n",
    "x[1] = 'Yesterday' \n",
    "print(x[-2] + ' was a great day') \n",
    "\n",
    "# a. Friday was a great day \n",
    "# b. Sunday was a great day \n",
    "# c. Monday was a great day \n",
    "# d. Yesterday was a great day\n",
    "\n",
    "# d. Yesterday was a great day"
   ]
  },
  {
   "cell_type": "code",
   "execution_count": 18,
   "id": "1c70273f",
   "metadata": {},
   "outputs": [
    {
     "name": "stdout",
     "output_type": "stream",
     "text": [
      "[3, 4, 5, 6, 7] = 홀수 3개, 짝수 2개\n",
      "[12, 16, 22, 24, 29] = 홀수 1개, 짝수 4개\n",
      "[41, 43, 45, 47, 49] = 홀수 5개, 짝수 0개\n"
     ]
    }
   ],
   "source": [
    "# Algorithm Homework(#27)\n",
    "\n",
    "def func(arr):\n",
    "    odd_cont = 0;\n",
    "    even_cont = 0;\n",
    "    \n",
    "    for i in arr:\n",
    "        if i%2 ==0:\n",
    "            even_cont += 1;\n",
    "        else:\n",
    "            odd_cont += 1;\n",
    "    print(f\"{arr} = 홀수 {odd_cont}개, 짝수 {even_cont}개\");\n",
    "\n",
    "a = [3,4,5,6,7]\n",
    "b = [12,16,22,24,29]\n",
    "c = [41,43,45,47,49]\n",
    "\n",
    "func(a);\n",
    "func(b);\n",
    "func(c);\n",
    "            "
   ]
  }
 ],
 "metadata": {
  "kernelspec": {
   "display_name": "Python 3 (ipykernel)",
   "language": "python",
   "name": "python3"
  },
  "language_info": {
   "codemirror_mode": {
    "name": "ipython",
    "version": 3
   },
   "file_extension": ".py",
   "mimetype": "text/x-python",
   "name": "python",
   "nbconvert_exporter": "python",
   "pygments_lexer": "ipython3",
   "version": "3.9.7"
  }
 },
 "nbformat": 4,
 "nbformat_minor": 5
}
