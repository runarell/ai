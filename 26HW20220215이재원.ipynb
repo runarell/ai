{
 "cells": [
  {
   "cell_type": "code",
   "execution_count": null,
   "id": "5072ba56",
   "metadata": {},
   "outputs": [],
   "source": [
    "# 496. What will be the output after the following statements?\n",
    "\n",
    "x = ['Today', 'Sunday', 'Monday'] \n",
    "y = [4, 6, 8] \n",
    "print(y + x)\n",
    "\n",
    "# a. ['Today', 'Sunday', 'Monday', 4, 6, 8] \n",
    "# b. [4, 6, 8, 'Today', 'Sunday', 'Monday’]\n",
    "# c. ['Today', 'Sunday', 'Monday'] \n",
    "# d. [4, 6, 8] \n",
    "\n",
    "#  b"
   ]
  },
  {
   "cell_type": "code",
   "execution_count": null,
   "id": "5372bf84",
   "metadata": {},
   "outputs": [],
   "source": [
    "# 497. What will be the output after the following statements?\n",
    "x = 'Monday' \n",
    "print('Mon' in x)\n",
    "\n",
    "# a. 'Mon' in x   b. 'Monday' in x   c. True   d. False \n",
    "\n",
    "# c."
   ]
  },
  {
   "cell_type": "code",
   "execution_count": null,
   "id": "79896b76",
   "metadata": {},
   "outputs": [],
   "source": [
    "# 498. What will be the output after the following statements?\n",
    "x = 'Monday' \n",
    "print('Day' not in x)\n",
    "\n",
    "# a. 'Day' not in x   b. 'Monday' not in x   c. True   d. False \n",
    "\n",
    "#  c "
   ]
  },
  {
   "cell_type": "code",
   "execution_count": null,
   "id": "08ad76dd",
   "metadata": {},
   "outputs": [],
   "source": [
    "# 499. What will be the output after the following statements?\n",
    "\n",
    "x = ['hot', '100', True] \n",
    "weather = x[0] \n",
    "temperature = x[1] \n",
    "humid = x[2] \n",
    "print(weather, temperature, humid)\n",
    "\n",
    "# a. x   b. ['hot', '100', True]   c. 'hot', '100', True   d. hot 100 True \n",
    "#d"
   ]
  },
  {
   "cell_type": "code",
   "execution_count": null,
   "id": "9abb5a5d",
   "metadata": {},
   "outputs": [],
   "source": [
    "# 500. What will be the output after the following statements?\n",
    "\n",
    "x = ['hot', '100', True] \n",
    "weather, temperature, humid = x \n",
    "print(weather, temperature, humid)\n",
    "\n",
    "# a. ValueError  b. ['hot', '100', True]   c. 'hot', '100', True   d. hot 100 True\n",
    "\n",
    "# d"
   ]
  },
  {
   "cell_type": "code",
   "execution_count": null,
   "id": "6ac926ca",
   "metadata": {},
   "outputs": [],
   "source": [
    "# 501. What will be the output after the following statements?\n",
    "x = ['hot', '100', True] \n",
    "weather, humid = x \n",
    "print(weather, humid)\n",
    "\n",
    "# a. ValueError   b. hot 100   c. hot True  d. hot 100 True \n",
    "\n",
    "# a"
   ]
  },
  {
   "cell_type": "code",
   "execution_count": null,
   "id": "ee272da0",
   "metadata": {},
   "outputs": [],
   "source": [
    "# 502. What will be the output after the following statements?\n",
    "x = ['hot', '100', True] \n",
    "x.remove('100') \n",
    "weather, humid = x \n",
    "print(weather, humid)\n",
    "\n",
    "# a. ValueError   b. hot 100   c. hot True   d. hot 100 True\n",
    "\n",
    "# c "
   ]
  },
  {
   "cell_type": "code",
   "execution_count": null,
   "id": "9982d20a",
   "metadata": {},
   "outputs": [],
   "source": [
    "# 503. What will be the output after the following statements?\n",
    "\n",
    "x = ['a', 'b', 'c', 'A', 'B', 'C']\n",
    "x.sort() \n",
    "print(x)\n",
    "\n",
    "# a. SortError   \n",
    "# b. ['a', 'b', 'c', 'A', 'B', 'C']   \n",
    "# c. ['a', 'A', 'b', 'B', 'c', 'C'] \n",
    "# d. ['A', 'B', 'C', 'a', 'b', 'c’] \n",
    "\n",
    "#  d"
   ]
  },
  {
   "cell_type": "code",
   "execution_count": null,
   "id": "9ff5410f",
   "metadata": {},
   "outputs": [],
   "source": [
    "# 504. What will be the output after the following statements?\n",
    "\n",
    "x = ['a', 'b', 'c', 'A', 'B', 'C']\n",
    "x.sort(key=str.lower) \n",
    "print(x)\n",
    "\n",
    "# a. SortError \n",
    "# b. ['a', 'b', 'c', 'A', 'B', 'C'] \n",
    "# c. ['a', 'A', 'b', 'B', 'c', 'C'] \n",
    "# d. ['A', 'B', 'C', 'a', 'b', 'c’]\n",
    "\n",
    "# c"
   ]
  },
  {
   "cell_type": "code",
   "execution_count": null,
   "id": "c501c8fb",
   "metadata": {},
   "outputs": [],
   "source": [
    "# 505. What will be the output after the following statements?\n",
    "\n",
    "x = ['a', 'b', 'c', 'A', 'B', 'C']\n",
    "x.sort(key=str.swapcase) \n",
    "print(x)\n",
    "\n",
    "# a. TypeError \n",
    "# b. ['a', 'b', 'c', 'A', 'B', 'C'] \n",
    "# c. ['a', 'A', 'b', 'B', 'c', 'C'] \n",
    "# d. ['A', 'B', 'C', 'a', 'b', 'c']\n",
    "\n",
    "#  b"
   ]
  },
  {
   "cell_type": "code",
   "execution_count": null,
   "id": "101a48b2",
   "metadata": {},
   "outputs": [],
   "source": [
    "# 506. What will be the output after the following statements?\n",
    "\n",
    "x = ['a', 'b', 1, 2, 'A', 'B']\n",
    "x.sort() \n",
    "print(x)\n",
    "\n",
    "# a. TypeError \n",
    "# b. ['a', 'b', 'c', 'A', 'B', 'C']\n",
    "# c. ['a', 'A', 'b', 'B', 'c', 'C'] \n",
    "# d. ['A', 'B', 'C', 'a', 'b', 'c’]\n",
    "\n",
    "# a "
   ]
  },
  {
   "cell_type": "code",
   "execution_count": null,
   "id": "2b06bf71",
   "metadata": {},
   "outputs": [],
   "source": [
    "# 507. What will be the output after the following statements?\n",
    "import random \n",
    "x = ['Monday', 'Tuesday', 'Wednesday', 'Thursday', 'Friday', 'Saturday', 'Sunday']\n",
    "print( x[random.randint(0, len(x) - 1) ] )\n",
    "\n",
    "# a. IndexError \n",
    "# b. A random day from all the seven days\n",
    "# c. A random day from all the days except Sunday \n",
    "# d. A random day from all the days except Monday \n",
    "\n",
    "# c   # 답은 b"
   ]
  },
  {
   "cell_type": "code",
   "execution_count": null,
   "id": "0dc52cd3",
   "metadata": {},
   "outputs": [],
   "source": [
    "# 508. What will be the output after the following statements?\n",
    "\n",
    "x = 'Today is a nice day' + \\ ' I will go for a walk today' \n",
    "print(x)\n",
    "\n",
    "# a. SyntaxError \n",
    "# b. Today is a nice day \n",
    "# c. I will go for a walk today \n",
    "# d. Today is a nice day I will go for a walk today \n",
    "\n",
    "# a # d"
   ]
  },
  {
   "cell_type": "code",
   "execution_count": null,
   "id": "e7d9c2d0",
   "metadata": {},
   "outputs": [],
   "source": [
    "# 509. What will be the output after the following statements?\n",
    "x = 'Today is a nice day' \n",
    "x[9] = 'not'\n",
    "print(x)\n",
    "\n",
    "# a. TypeError \n",
    "# b. Today is a nice day \n",
    "# c. SyntaxError \n",
    "# d. Today is not a nice day \n",
    "\n",
    "# a"
   ]
  },
  {
   "cell_type": "code",
   "execution_count": null,
   "id": "4116db36",
   "metadata": {},
   "outputs": [],
   "source": [
    "# 510. What will be the output after the following statements?\n",
    "\n",
    "x = 'Today is a nice day' \n",
    "y = x[:9] + 'not ' + x[9:] \n",
    "print(y)\n",
    "\n",
    "# a. TypeError \n",
    "# b. Today is a nice day \n",
    "# c. SyntaxError \n",
    "# d. Today is not a nice day\n",
    "\n",
    "#d"
   ]
  },
  {
   "cell_type": "code",
   "execution_count": null,
   "id": "05b6e7e8",
   "metadata": {},
   "outputs": [],
   "source": [
    "# 511. What will be the output after the following statements?\n",
    "\n",
    "x = 'Today is a nice day' \n",
    "y = x[:9] + 'not ' + x[9:] \n",
    "print(x)\n",
    "\n",
    "# a. TypeError b. Today is a nice day c. SyntaxError d. Today is not a nice day\n",
    "\n",
    "# b"
   ]
  },
  {
   "cell_type": "code",
   "execution_count": null,
   "id": "85511014",
   "metadata": {},
   "outputs": [],
   "source": [
    "# 512. What will be the output after the following statements?\n",
    "\n",
    "x = 'Today is not a nice day' \n",
    "x = 'Today is a nice day' \n",
    "print(x)\n",
    "\n",
    "# a. TypeError b. Today is a nice day c. SyntaxError d. Today is not a nice day\n",
    "\n",
    "# b"
   ]
  },
  {
   "cell_type": "code",
   "execution_count": null,
   "id": "4788391f",
   "metadata": {},
   "outputs": [],
   "source": [
    "# 513. What will be the output after the following statements?\n",
    "\n",
    "x = ('Today', 'nice', 'day') \n",
    "x[1] = 'not' \n",
    "print(x)\n",
    "\n",
    "# a. TypeError \n",
    "# b. ('Today', 'nice', 'day') \n",
    "# c. SyntaxError \n",
    "# d. ('Today', 'not', 'nice', 'day’) \n",
    "\n",
    "# a"
   ]
  },
  {
   "cell_type": "code",
   "execution_count": null,
   "id": "f9f4e7b6",
   "metadata": {},
   "outputs": [],
   "source": [
    "# 514. What will be the data type of the output after the following statements?\n",
    "\n",
    "x = ('Today') \n",
    "print(x)\n",
    "\n",
    "# a. TypeError b. String c. Tuple d. List \n",
    "\n",
    "# b"
   ]
  },
  {
   "cell_type": "code",
   "execution_count": null,
   "id": "d9a675d4",
   "metadata": {},
   "outputs": [],
   "source": [
    "# 515. What will be the data type of the output after the following statements?\n",
    "\n",
    "x = ('Today',) \n",
    "print(x)\n",
    "\n",
    "# a. TypeError b. String c. Tuple d. List\n",
    "# b   # c "
   ]
  },
  {
   "cell_type": "code",
   "execution_count": null,
   "id": "e5617e9e",
   "metadata": {},
   "outputs": [],
   "source": [
    "# Algorithm Homework(#28)\n",
    "\n",
    "def sarch(x, y, z):                         # 3값을 받는 함수\n",
    "    str =\"\";                                # return 값을 담을 str\n",
    "    ang_sum = x+y+z;                        # 3각의 합을 담을 변수\n",
    "    if 0 in [x, y, z] or ang_sum != 180:   # 3변수중 0이 있거나 각의 합이 180 아니가?\n",
    "        str = \"삼각형이 아니다.\";           # 삼각형이 아님 \n",
    "    elif 90 in [x, y, z]:                   # 3각중 90이 있나 확인\n",
    "        str = \"직각 삼각형\";                # 있으면 직각 삼각형\n",
    "    elif x > 90 or y> 90 or z> 90:         # 3각중 90을 넘는 값이 있는가?\n",
    "        str = \"둔각 삼각형\";                # 있으면 둔각 삼각형\n",
    "    elif x == 60 and y ==60:               # 3각중 두각이 60 인가? \n",
    "        str = \"예각 삼각형\";                # 있으면 예각 삼각형\n",
    "    return str;                            # 판별된 값을 리턴한다.\n",
    "\n",
    "x = int( input(\"제1각을 입력하게요\") );     # x값을 입력 받는다.\n",
    "y = int( input(\"제2각을 입력하게요\") );     # y값을 입력 받는다.\n",
    "z = int( input(\"제3각을 입력하게요\") );     # z값을 입력 받는다.\n",
    "\n",
    "print( sarch(x, y, z) );\n",
    "\n",
    "# print( sarch(60,60,60) );\n",
    "# print( sarch(30,60,90) );\n",
    "# print( sarch(20,40,120) );\n",
    "# print( sarch(0,90,90) );\n",
    "# print( sarch(60,70,80) );\n",
    "\n",
    "# 답 max()함수!!\n",
    "# def search (x,y,z):\n",
    "#     if x+y+z!= 180 or x==0 or y==0 or z==0:\n",
    "#         print('삼각형이 아닙니다')\u000b",
    "    else:\n",
    "#         if max(x,y,z)>90 :\n",
    "#             print('둔각삼각형입니다')\n",
    "# \u000b",
    "        elif max(x,y,z)==90:\n",
    "#             print('직각삼각형입니다')\n",
    "# \u000b",
    "        else:\n",
    "#             print('예각삼각형입니다')\n",
    "# \u000b",
    "    return ''\n",
    "# x=int(input('제1각을 입력하세요'))\n",
    "# y=int(input('제2각을 입력하세요'))\n",
    "# z=int(input('제3각을 입력하세요'))\n",
    "# \u000b",
    "print(search(x,y,z))\n"
   ]
  }
 ],
 "metadata": {
  "kernelspec": {
   "display_name": "Python 3 (ipykernel)",
   "language": "python",
   "name": "python3"
  },
  "language_info": {
   "codemirror_mode": {
    "name": "ipython",
    "version": 3
   },
   "file_extension": ".py",
   "mimetype": "text/x-python",
   "name": "python",
   "nbconvert_exporter": "python",
   "pygments_lexer": "ipython3",
   "version": "3.9.7"
  }
 },
 "nbformat": 4,
 "nbformat_minor": 5
}
