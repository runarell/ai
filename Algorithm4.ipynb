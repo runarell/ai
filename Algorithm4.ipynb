{
 "cells": [
  {
   "cell_type": "code",
   "execution_count": null,
   "id": "8d3a2c19",
   "metadata": {},
   "outputs": [],
   "source": [
    "# 단순 선택법 - 정렬되지 않은 데이터 중 가장 작은 데이터를 선택하여 맨 앞부터 순서대로\n",
    "#               정렬해 나가는 알고리즘이다. 선택정렬, 선택법, 단순 선택법"
   ]
  },
  {
   "cell_type": "code",
   "execution_count": null,
   "id": "b489197c",
   "metadata": {},
   "outputs": [],
   "source": [
    "0    1    2    3    4\n",
    "12   13   11   14   10\n",
    "\n",
    "12   13   11   14   10\n",
    "먼저 가장 작은 숫자의 공을 첫번째 공과 교환\n",
    "\n",
    "12   13   11   14   10\n",
    "--                  --\n",
    "\n",
    "10/픽스        13  11  14  12\n",
    "                   -- \n",
    "10 11/픽스        13  14  12\n",
    "                          --\n",
    "10 11 12 /픽스        13  14\n",
    "                      --\n",
    "10 11 12 13 14 \n",
    "\n",
    "# 단순 선택 라고리즘\n",
    "1. 탐색범위에서 최소값을 찾는 처리\n",
    "2. 탐색 범위의 맨 앞 요소와 최소값을 교환하는 처리"
   ]
  },
  {
   "cell_type": "code",
   "execution_count": null,
   "id": "e9d428e9",
   "metadata": {},
   "outputs": [],
   "source": []
  },
  {
   "cell_type": "code",
   "execution_count": null,
   "id": "0f210e97",
   "metadata": {},
   "outputs": [],
   "source": [
    "# 잠정적인 최소값의 인덱스를 저장하는 변수 indexMin 을 준비\n",
    "# 그때 마다의 최소값을 저장할 변수 indexMin"
   ]
  },
  {
   "cell_type": "code",
   "execution_count": null,
   "id": "7a1a282f",
   "metadata": {},
   "outputs": [],
   "source": []
  },
  {
   "cell_type": "code",
   "execution_count": null,
   "id": "4a86373f",
   "metadata": {},
   "outputs": [],
   "source": [
    "최소값과 arr[i의 데이터를 교환]"
   ]
  },
  {
   "cell_type": "code",
   "execution_count": null,
   "id": "d39dafd4",
   "metadata": {},
   "outputs": [],
   "source": []
  },
  {
   "cell_type": "code",
   "execution_count": null,
   "id": "c84c6b9f",
   "metadata": {},
   "outputs": [],
   "source": [
    "arr = [1,2,3,4]\n",
    "arr[1], arr[3] = arr[3], arr[1];\n",
    "print( arr );"
   ]
  },
  {
   "cell_type": "code",
   "execution_count": null,
   "id": "423e92d9",
   "metadata": {},
   "outputs": [],
   "source": [
    "# 단순 교환법 bubble Sort\n",
    "\n",
    "# 인접한 데이터를 교환하는 처리 반복\n",
    "\n",
    "\n"
   ]
  },
  {
   "cell_type": "code",
   "execution_count": null,
   "id": "a901c1b0",
   "metadata": {},
   "outputs": [],
   "source": [
    "# 단순 교환법 Algorithm\n",
    "# 1. 오른쪽 끝부터 순서대로 인접한 공 2개를 오름차순으로 정렬\n",
    "# 2. 왼쪽 끝칸 부터 순서대로 들어갈 공을 확정"
   ]
  },
  {
   "cell_type": "code",
   "execution_count": 9,
   "id": "38c6df4f",
   "metadata": {},
   "outputs": [
    {
     "name": "stdout",
     "output_type": "stream",
     "text": [
      "0\n"
     ]
    }
   ],
   "source": [
    "arrD = [i for i in range( 100 ) ];\n",
    "\n",
    "\n",
    "print( arrD[-100] )"
   ]
  }
 ],
 "metadata": {
  "kernelspec": {
   "display_name": "Python 3 (ipykernel)",
   "language": "python",
   "name": "python3"
  },
  "language_info": {
   "codemirror_mode": {
    "name": "ipython",
    "version": 3
   },
   "file_extension": ".py",
   "mimetype": "text/x-python",
   "name": "python",
   "nbconvert_exporter": "python",
   "pygments_lexer": "ipython3",
   "version": "3.9.7"
  }
 },
 "nbformat": 4,
 "nbformat_minor": 5
}
