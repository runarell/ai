{
 "cells": [
  {
   "cell_type": "code",
   "execution_count": null,
   "id": "c6244f2c",
   "metadata": {},
   "outputs": [],
   "source": [
    "# 퀵 정렬\n",
    "# 데이터를 대소 구룹의 둘로 나누어 분해하여 정체를 정렬하는 방식의 알고리즘\n",
    "# 실행 속도가 빠름\n",
    "\n",
    "# 대량의 데이터를 정렬할때 자주 사용되며 유명한 정렬 알고리즘 중에서도 \n",
    "# 실제로 사용되는 빈도가 높은 가장 중요한 알고리즘의 하나이다.\n",
    "\n",
    "5 3 7 6 8 4 1 2 9 \n",
    "\n",
    "우선 정렬의 기준이 되는 요소 선택( 첫번째 5 )\n",
    "기준 보다 작은공 앞으로\n",
    "기준 보다 큰 값을 뒤로\n",
    "3 4 1 2  / 5 / 7 6 8 9\n",
    "\n",
    "3과 7을 기준으로 반복\n",
    "1 2  /3/  4   /5/  6 /7/ 8 9\n",
    "\n",
    "1과 4, 6, 8, 기준으로 정렬\n",
    "\n",
    "/1/ 2 /3/ /4/ /5/ /6/ /7/ /8/ 9\n",
    "저이상 정렬리 필요하지 않음\n",
    "9\n",
    "1, 8       1\n",
    "1,1,7      2\n",
    "1,1,1,6     3\n",
    "5          4\n",
    "4           5\n",
    "3            6\n",
    "2             7\n",
    "1           8\n",
    " "
   ]
  },
  {
   "cell_type": "code",
   "execution_count": 52,
   "id": "cd53a8dc",
   "metadata": {},
   "outputs": [
    {
     "name": "stdout",
     "output_type": "stream",
     "text": [
      "1\n",
      "1\n",
      "1\n",
      "1\n",
      "1\n",
      "1\n",
      "1\n",
      "1\n",
      "1\n",
      "[1, 2, 3, 4, 5, 6, 7, 8, 9]\n"
     ]
    }
   ],
   "source": [
    "def arr_split(arr):\n",
    "    result = [ [], [arr[0]], [] ];           \n",
    "    for i in  range(1, len(arr) ):\n",
    "        if arr[i] < arr[0]:\n",
    "            result[0].append(arr[i]);\n",
    "        else:  #arr[i] > arr[0]\n",
    "            result[-1].append(arr[i]);    \n",
    "    if [] in result:\n",
    "        result.remove( [] );\n",
    "    return result;\n",
    "\n",
    "\n",
    "def Quick_arr( arr ):\n",
    "    result = [arr];                   # 반환해줄 정렬\n",
    "\n",
    "    while True:\n",
    "        cont = 0;\n",
    "        arrD =[];\n",
    "        \n",
    "        for i in result:\n",
    "            if type(i) == list and len(i) > 1:\n",
    "                arrD += arr_split(i);\n",
    "                cont +=1;\n",
    "            elif type(i) == list and len(i) == 1: \n",
    "                arrD += i;\n",
    "            else:\n",
    "                arrD.append(i);             \n",
    "        result = arrD; \n",
    "        \n",
    "        if cont == 0:\n",
    "            return result;\n",
    "    #============= 무한 반복\n",
    "    \n",
    "arr = [5, 3, 7, 6, 8, 4, 1, 2, 9];\n",
    "arr1 = Quick_arr(arr);\n",
    "\n",
    "print(arr1);\n"
   ]
  },
  {
   "cell_type": "code",
   "execution_count": null,
   "id": "20f1f4b3",
   "metadata": {},
   "outputs": [],
   "source": [
    "에라토스테네스의 체\n",
    "# 소수를 찾아내는 알고리즘 (특정 범위의 수 중에서 소수를 찾는 알고리즘)\n",
    "# 소수는 2 이상의 정수 중 1과 그 수 자신으로만 나눌수 있는 수\n",
    "# 소수는 나열되어 있는 구간이 불규칙하므로 임의 로 찾기 어렵다. \n",
    "\n",
    "2 3 5 7 11 13 17 .....\n",
    "\n",
    "소수인지 아닌지를 구분하는 것은 의외로 아주 어렵다. \n",
    "\n",
    "예를들면 3의 배수는 3,6,9,12,15....처럼 3 간격으로 나열되면 비교적 간단하다. 하지만 소수는 \n",
    "규칙성이 없기 때문에 간격이 불규칙하고 랜덤하다. 즉 소수를 한번에 열거하기는 어렵다. \n",
    "\n",
    "하나하나 그 수보다 작은 숫자로 나누어 보고 나눌수 있으면 소수가 아닌 것으로 판단할 수 있다. \n",
    "이 방법은 비효율적이고, 수의 범위가 커지면 어마어마하게 많은 시간이 소요\n",
    "\n",
    "고대 그리스의 에라토스테네스는 위와 같은 방법을 개선하여 소수를 효율적으로 발견한는 방법을 고안했다.\n",
    "\n",
    "에라토스테네스의 체는 ' 그 수의 제곱근 보다 작은 소수의 배수를 없애면 남은 수가 소수다.' 라는 생각을\n",
    "바탕으로 소수를 찾는 방법을 말한다.\n",
    "\n",
    "\n"
   ]
  },
  {
   "cell_type": "code",
   "execution_count": 4,
   "id": "ae1325e3",
   "metadata": {},
   "outputs": [
    {
     "name": "stdout",
     "output_type": "stream",
     "text": [
      "[]\n"
     ]
    }
   ],
   "source": [
    "import math;\n",
    "\n",
    "# 소수판별기\n",
    "def isPrime (num, arr):      # \n",
    "    # 제곱근의 값으로 범위 설정, 확인은 인수의 절반만!\n",
    "    # ex> 6 = 2*3.. / .. 3*2) 즉 절반은 중복 확인 \n",
    "    no = int( math.sqrt(num) );\n",
    "    for i in arr:            # 이하 소수 리스트로 확인  # 2는 \n",
    "        if num%i == 0 :      # 정수로 나누어 떨어지면 인수, 즉 자신과 1 이외 값으로 나누어 떨어지면 소수X\n",
    "            return False    # 발견 즉시 소수가 아님므로 함수 탈출(반환값 거짓) \n",
    "    return True             # 확인이 모두 끝나면 소수 (반환값 참)\n",
    "\n",
    "# 소수 찾기\n",
    "def findPrime(n):\n",
    "    result = [];               # 범위의 소수를 담을 배열\n",
    "    for i in range(2, n+1):  # 확인할 정수 반복 (확인할 숫자까지니까 n+1)\n",
    "        if isPrime(i, result):        # 소수 판별 함수 사용\n",
    "            result.append(i)  # 판별된 소수를 배열에 추가\n",
    "    return result            # 계산된 값을 반환\n",
    "\n",
    "\n",
    "a = findPrime(1);\n",
    "print(a);\n",
    "\n",
    "# 소인수 분해 1\n",
    "# def factoriza(n):\n",
    "#     result = []                 # 분해한 인수를 담을 리스트;\n",
    "#     pr_arr = findPrime( n//2 )  # n의 소수 리스트는 2로 나눈 값보다 작다. ..3*4 // 4*3...반은 중복\n",
    "    \n",
    "#     if isPrime(n):              # 만약 들어온 수가 소수이면... 1과 자기자신이 인수...\n",
    "#         print(\"소수이다.\")\n",
    "#         result = [1, n];\n",
    "#         return result;\n",
    "    \n",
    "#     for i in pr_arr:            # 소수 리스트 반복 소수 하나씩 반복 해줌\n",
    "        \n",
    "#         while (n % i == 0):    # n을 소수i로 나누어 떨어지면 약수                                                                                                                                                                                                                                                                                                                                                                                                                                                                                                                                                                                                                                                                                                                                                                                                                                                                                                                                                                                                                                                                                                                                                                                                                                                                                                                                                                                                                                                                                                                                                                                                                                                                                                                                                                                                                                                                                                                                                                                                                                                                                                                                                                                                                                                                                                                                                                                                                                                                                                                                                                                                                                                                                                                                                                                                                                                                                                                                                                                                                                                                                                                                                                                                                                                                                                                                                                                                                                                                                                                                                                                                                                                                                                                                                                                                                                                                                                                                                                                                                                                                                                                                                                                                                                                                                                                                      \n",
    "#             result.append(i);   # 배열에 값을 추가 \n",
    "#             n = n / i;         # n에서 빠진 i\n",
    "    \n",
    "#     return result;\n",
    "\n",
    "# a = factoriza(43);\n",
    "# print(a)"
   ]
  },
  {
   "cell_type": "code",
   "execution_count": 49,
   "id": "d6b3cfe6",
   "metadata": {},
   "outputs": [
    {
     "name": "stdout",
     "output_type": "stream",
     "text": [
      "[2, 3, 5, 7, 11, 13, 17, 19, 23, 29, 31, 37, 41, 43, 47]\n"
     ]
    }
   ],
   "source": [
    "import math;\n",
    "# 주석1\n",
    "# 에라토스테네스의 체 : 1> 그 수의 제곱근 보다 작은 2>소수의 배수를 없애면 남은 수가 소수다.\n",
    "# \n",
    "# 정수의 인수는 그 정수의 제곱근 이하만 확인하면됨  \n",
    "# 12( <2>*6, <3>*4 / 이후 중복../<4>*3...  12제곱근 3.46...)\n",
    "# \n",
    "# 소수 찾기\n",
    "def findPrime(n):\n",
    "    result = [2];                      # 범위의 소수를 담을 배열(기본 2 추가)\n",
    "    for i in range(3, n+1):           # 확인할 정수 반복 (확인할 숫자까지니까 n+1)    \n",
    "        no = math.sqrt(i);             # no는 i의 제곱근\n",
    "        for j in result:              # 판별 수 이하의 소수 반복 주석1-2> 소수의 배수인지 확인 \n",
    "            if i%j == 0 :             # 정수로 나누어 떨어지면 인수, 즉 자신과 1 이외 값으로 나누어 떨어지면 소수X\n",
    "                break;                # 발견 즉시 소수가 아님므로 함수 탈출(반환값 거짓)\n",
    "            elif j > no:              # 주석1-1> 반펼 할 수의 제곱근 보다 크면. 확인 완료\n",
    "                result.append(i)       # 판별된 소수를 배열에 추가하기\n",
    "                break;\n",
    "    return result                     # 계산된 값을 반환\n",
    "\n",
    "pr = findPrime(50);\n",
    "print( pr )"
   ]
  },
  {
   "cell_type": "code",
   "execution_count": null,
   "id": "71454ea6",
   "metadata": {},
   "outputs": [],
   "source": [
    "# 유클리드 알고리즘\n",
    "\n",
    "# 최대공약수를 구하는 알고리즘\n",
    "# 최대공약수는 공통의 약수 중에서 가장 큰 수를 말한다.\n",
    "# 반복 구조를 이용하여 해결한다는 점에서 프로그래머가 알고 있어야 할 대표적인 알고리즘\n",
    "\n",
    "# 두수의 나눗샘을 반복하여 최대 공약수를 구한다.\n",
    "\n",
    "# a와 b의 수 ( a < b )\n",
    "\n",
    "# a % b == 0 # 나머지가 없이 딱 나누너 떨어지는데 사용된 수가 최대 공약수\n",
    "# 221 % 143 = 78\n",
    "#       143 % 78 = 65\n",
    "#             78 % 65 = 13\n",
    "#                  65 % 13 = 0   # 0이 나옴... 13이 최대공약수\n",
    "            \n",
    "# ==========================================================\n"
   ]
  },
  {
   "cell_type": "code",
   "execution_count": 46,
   "id": "8fa392b7",
   "metadata": {},
   "outputs": [
    {
     "name": "stdout",
     "output_type": "stream",
     "text": [
      "13\n"
     ]
    }
   ],
   "source": [
    "c최대 공약수 구하는 알고리즘\n",
    "a = 221;\n",
    "b = 143;\n",
    "while a % b != 0:\n",
    "    a, b = b, a%b;\n",
    "    \n",
    "print(b);"
   ]
  },
  {
   "cell_type": "code",
   "execution_count": 7,
   "id": "ac384c76",
   "metadata": {},
   "outputs": [
    {
     "ename": "IndentationError",
     "evalue": "unexpected indent (Temp/ipykernel_45760/1729036201.py, line 7)",
     "output_type": "error",
     "traceback": [
      "\u001b[1;36m  File \u001b[1;32m\"C:\\Users\\Runarell\\AppData\\Local\\Temp/ipykernel_45760/1729036201.py\"\u001b[1;36m, line \u001b[1;32m7\u001b[0m\n\u001b[1;33m    단순탐색   이진탐색\u001b[0m\n\u001b[1;37m    ^\u001b[0m\n\u001b[1;31mIndentationError\u001b[0m\u001b[1;31m:\u001b[0m unexpected indent\n"
     ]
    }
   ],
   "source": [
    "# 빅오 표기법\n",
    "\n",
    "# 알고리즘이 얼마 빠른지를 표시하는 특별한 방법\n",
    "\n",
    "# 탐색\n",
    "#                   단순 탐색                       이진 탐색\n",
    "# 100개            100밀리초                       7밀리 초\n",
    "# 10000개          10초                            14밀리 초\n",
    "# 1000000000개   11일                            32밀리 초\n",
    "\n",
    "# 원소의 개수가 증가해도 이진탐색 시간은 얼마 늘어나지 않는다. \n",
    "# 하지만 단순탐색의 시간은 어마어마하게 증가 된다. \n",
    "# 원소의 갯수가 커질수록 이진캄색은 훨씬 빨라지게 된다. \n",
    "\n",
    "# 빅오 표기법은 알고리즘이 얼마나 빠른지만 말해준다. \n",
    "\n",
    "# 단순 탐색은 원소를 하나하나 확인하기 때문에 n번 연산을 해야한다. \n",
    "# 빅오 표기법으로는 O(n) 이다. 빅오 표기법은 속도를 시간단위로 세지 않는다. \n",
    "# 빅오 표기법은 연산 횟수를 비교하기 위한 개념이다. \n",
    "# 단순 탐색의 실행시간은 O(n) 로 나타낸다. \n",
    "\n",
    "# O(log n) 이진 탐색\n",
    "\n",
    "# O(n) 선형 시간 , 단순 탐색\n",
    "\n",
    "# O(n * log n) \n",
    "\n",
    "# O(n^2) 선택 정렬, 느린 정렬 알고리즘\n",
    "\n",
    "# O(n!) 외판원 문제, 정말 느린 알고리즘\n",
    "\n",
    "# 알고리즘의 속도는 시간으로 측정하지 않는다. \n",
    "# 알고리즘의 시간은 어떻게 증가하는가로 측정한다. \n",
    "# 알고리즘의 시간은 빅오표기법으로 나타낸다"
   ]
  }
 ],
 "metadata": {
  "kernelspec": {
   "display_name": "Python 3 (ipykernel)",
   "language": "python",
   "name": "python3"
  },
  "language_info": {
   "codemirror_mode": {
    "name": "ipython",
    "version": 3
   },
   "file_extension": ".py",
   "mimetype": "text/x-python",
   "name": "python",
   "nbconvert_exporter": "python",
   "pygments_lexer": "ipython3",
   "version": "3.9.7"
  }
 },
 "nbformat": 4,
 "nbformat_minor": 5
}
