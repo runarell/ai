{
 "cells": [
  {
   "cell_type": "code",
   "execution_count": 2,
   "id": "c0641ba0",
   "metadata": {},
   "outputs": [],
   "source": [
    "# Crawling_Genie크롤링\n",
    "# 벅스 멜론 지니 ( 차트 가져오기 )\n",
    "# pip install requests   # 모듈 다운\n",
    "import requests # 웹 페이지 연결 모듈"
   ]
  },
  {
   "cell_type": "code",
   "execution_count": 3,
   "id": "241ab795",
   "metadata": {},
   "outputs": [],
   "source": [
    "# pip install bs4\n",
    "from bs4 import BeautifulSoup as bs  # 읽어온 웹페잊를 분석하기 쉽게 정제"
   ]
  },
  {
   "cell_type": "code",
   "execution_count": 4,
   "id": "3f87212a",
   "metadata": {},
   "outputs": [],
   "source": [
    "import pandas # 데이터 분석 모듈"
   ]
  },
  {
   "cell_type": "code",
   "execution_count": 5,
   "id": "67c946b5",
   "metadata": {},
   "outputs": [],
   "source": [
    "# 벅스 차트 \"https://music.bugs.co.kr/chart\"\n",
    "html = requests.get(\"https://music.bugs.co.kr/chart\")          # 벅스차트\n",
    "\n",
    "# print( html.text );"
   ]
  },
  {
   "cell_type": "code",
   "execution_count": 6,
   "id": "a0295698",
   "metadata": {},
   "outputs": [],
   "source": [
    "soup = bs(html.text);  # BeautifulSoup 을 통해 데이터 분석에 용이하게 정제\n",
    "    \n",
    "# print(soup)"
   ]
  },
  {
   "cell_type": "code",
   "execution_count": 7,
   "id": "33df3252",
   "metadata": {},
   "outputs": [],
   "source": [
    "songs = soup.select(\"table.byChart > tbody > tr\");  # 곡 리스트 데이터 배열\n",
    "# print(songs[0])\n",
    "# pr = len(songs);\n",
    "# print(pr)\n",
    "# print(songs[0]);"
   ]
  },
  {
   "cell_type": "code",
   "execution_count": 8,
   "id": "29645023",
   "metadata": {},
   "outputs": [
    {
     "name": "stdout",
     "output_type": "stream",
     "text": [
      "1  태연 (TAEYEON)  INVU  INVU - The 3rd Album\n"
     ]
    }
   ],
   "source": [
    "singer = songs[0].select_one(\"p.artist > a\").text    # 가수명 추출\n",
    "songName = songs[0].select_one(\"p.title > a\").text    # 가수명 추출\n",
    "ranking = songs[0].select_one(\"div.ranking > strong\").text    # 랭킹\n",
    "\n",
    "print( f\"{ranking}  {singer}  {songName}  {album}\" )"
   ]
  },
  {
   "cell_type": "code",
   "execution_count": 9,
   "id": "e0215194",
   "metadata": {
    "scrolled": true
   },
   "outputs": [
    {
     "name": "stdout",
     "output_type": "stream",
     "text": [
      "[['1', 'INVU', '태연 (TAEYEON)'], ['2', '그래서 그래 (Feat. 윤하)', '에픽하이 (EPIK HIGH)'], ['3', '그런 밤 (Some Nights)', '태연 (TAEYEON)'], ['4', '어른아이 (Toddler)', '태연 (TAEYEON)'], ['5', 'Set Myself On Fire', '태연 (TAEYEON)'], ['6', '우연처럼,인연처럼,운명처럼', '김기태'], ['7', 'Dilemma', 'Apink (에이핑크)'], ['8', 'Timeless', '태연 (TAEYEON)'], ['9', 'Siren', '태연 (TAEYEON)'], ['10', '잊을 수 있을까', '노을'], ['11', 'Cold As Hell', '태연 (TAEYEON)'], ['12', '품 (Heart)', '태연 (TAEYEON)'], ['13', \"Stronger (What Doesn't Kill You)\", 'Kelly Clarkson(켈리 클락슨)'], ['14', 'No Love Again', '태연 (TAEYEON)'], ['15', '너만 예뻐', '스탠딩 에그(Standing Egg)'], ['16', '언제나 사랑해', '케이시'], ['17', 'You Better Not', '태연 (TAEYEON)'], ['18', 'SMILEY (Feat. BIBI)', 'YENA (최예나)'], ['19', 'Ending Credits', '태연 (TAEYEON)'], ['20', '아무렇지 않은 척', '빅마마(Big Mama)'], ['21', 'ELEVEN', 'IVE (아이브)'], ['22', '대낮에 한 이별', '선예'], ['23', 'Super Rare (Feat. Wonstein, pH-1)', '에픽하이 (EPIK HIGH)'], ['24', 'Prequel', '에픽하이 (EPIK HIGH)'], ['25', '취중고백', '김민석 (멜로망스)'], ['26', 'Step Back', 'GOT the beat'], ['27', 'BRB', '에픽하이 (EPIK HIGH)'], ['28', 'Stay Alive (Prod. SUGA of BTS)', '정국'], ['29', '사랑은 늘 도망가', '임영웅'], ['30', 'DM', '프로미스나인'], ['31', \"Can't Control Myself\", '태연 (TAEYEON)'], ['32', 'Rich Kids Anthem (Feat. 이하이)', '에픽하이 (EPIK HIGH)'], ['33', '사랑하는 척', '바이브'], ['34', '너 아니면 안돼', '먼데이 키즈(Monday Kiz)'], ['35', '너, 너 (N번째 연애 X 휘인 (Whee In))', '휘인(Whee In)'], ['36', 'Dreams Come True', 'aespa'], ['37', '드라마', '아이유(IU)'], ['38', 'abcdefu', 'GAYLE'], ['39', '서랍', '10CM'], ['40', '비 오는 날 듣기 좋은 노래 (Feat. Colde)', '에픽하이 (EPIK HIGH)'], ['41', 'Starlight', '태일 (TAEIL)'], ['42', \"I Hated Myself (Tablo's Word)\", '에픽하이 (EPIK HIGH)'], ['43', '눈이 오잖아(Feat.헤이즈)', '이무진'], ['44', '회전목마 (Feat. Zion.T, 원슈타인) (Prod. Slom)', 'sokodomo'], ['45', '우리가 헤어져야 했던 이유', '비비(BIBI)'], ['46', 'Face ID (Feat. GIRIBOY, Sik-K, JUSTHIS)', '에픽하이 (EPIK HIGH)'], ['47', 'BOP BOP!', 'VIVIZ (비비지)'], ['48', '여름비', '샘김(Sam Kim)'], ['49', '다정히 내 이름을 부르면', '경서예지'], ['50', 'STAY', 'The Kid LAROI'], ['51', 'Christmas Tree', 'V'], ['52', 'strawberry moon', '아이유(IU)'], ['53', '가족관계증명서 (Feat. 김필)', '에픽하이 (EPIK HIGH)'], ['54', 'Next Level', 'aespa'], ['55', 'Champagne', '에픽하이 (EPIK HIGH)'], ['56', '겨울잠', '아이유(IU)'], ['57', '리무진 (Feat. MINO) (Prod. GRAY)', \"BE'O (비오)\"], ['58', 'Dynamite', '방탄소년단'], ['59', 'Counting Stars (Feat. Beenzino)', \"BE'O (비오)\"], ['60', 'My Universe', 'Coldplay(콜드플레이)'], ['61', '문득', \"BE'O (비오)\"], ['62', 'HOLY MOLY', 'Apink (에이핑크)'], ['63', '행복하게 해줄게', '장범준'], ['64', 'WA DA DA', 'Kep1er (케플러)'], ['65', '만남은 쉽고 이별은 어려워 (Feat. Leellamarz) (Prod. TOIL)', '베이식(Basick)'], ['66', 'Butter', '방탄소년단'], ['67', '넌 나에게', '기프트(GIFT)'], ['68', '슬픈 연극 (금혼령 X 에일리 (Ailee))', '에일리(Ailee)'], ['69', '이별후회', '김나영'], ['70', 'Light Switch', 'Charlie Puth(찰리 푸스)'], ['71', 'Weekend', '태연 (TAEYEON)'], ['72', 'Savage', 'aespa'], ['73', '신호등', '이무진'], ['74', 'Peaches (feat. Daniel Caesar, Giveon)', 'Justin Bieber(저스틴 비버)'], ['75', '호랑수월가', '탑현'], ['76', '오묘해', '휘인(Whee In)'], ['77', 'Bad Habits', 'Ed Sheeran(에드 시런)'], ['78', 'Celebrity', '아이유(IU)'], ['79', 'Permission to Dance', '방탄소년단'], ['80', '낙하 (with 아이유)', 'AKMU(악뮤)'], ['81', '흰눈', '먼데이 키즈(Monday Kiz)'], ['82', '너의 모든 순간', '성시경'], ['83', '라일락', '아이유(IU)'], ['84', '언덕나무', '이승윤'], ['85', 'Piano For Sale', '에픽하이 (EPIK HIGH)'], ['86', '어른', 'Sondia'], ['87', 'Off My Face', 'Justin Bieber(저스틴 비버)'], ['88', '사랑이 아니었다고 말하지 마요', '이예준'], ['89', '너를 생각해', '주시크 (Joosiq)'], ['90', 'Here', '에픽하이 (EPIK HIGH)'], ['91', 'Tiny Riot', 'Sam Ryder'], ['92', '별빛 같은 나의 사랑아', '임영웅'], ['93', 'Blueming', '아이유(IU)'], ['94', 'Queendom', 'Red Velvet (레드벨벳)'], ['95', '모든 날, 모든 순간 (Every day, Every Moment)', '폴킴(Paul Kim)'], ['96', '정거장', '아이유(IU)'], ['97', 'Polaroid Love', 'ENHYPEN'], ['98', '너무 아픈 사랑은 사랑이 아니었음을', '싱어게인2 33호 가수'], ['99', '바라만 본다', 'MSG워너비(M.O.M)'], ['100', 'OHAYO MY NIGHT', '디핵(D-Hack)']]\n"
     ]
    }
   ],
   "source": [
    "song_data = [];\n",
    "rank = 1;\n",
    "\n",
    "for song in songs:\n",
    "    singer = song.select_one(\"p.artist > a\").text    # 가수명 추출\n",
    "    title = song.select_one(\"p.title > a\").text    # 가수명 추출\n",
    "    rank = song.select_one(\"div.ranking > strong\").text    # 랭킹\n",
    "    song_data.append([rank, title, singer]);\n",
    "\n",
    "print(song_data)"
   ]
  },
  {
   "cell_type": "code",
   "execution_count": 12,
   "id": "6dda1086",
   "metadata": {},
   "outputs": [
    {
     "name": "stdout",
     "output_type": "stream",
     "text": [
      "     순위                  타이틀                가수\n",
      "0     1                 INVU      태연 (TAEYEON)\n",
      "1     2    그래서 그래 (Feat. 윤하)  에픽하이 (EPIK HIGH)\n",
      "2     3   그런 밤 (Some Nights)      태연 (TAEYEON)\n",
      "3     4       어른아이 (Toddler)      태연 (TAEYEON)\n",
      "4     5   Set Myself On Fire      태연 (TAEYEON)\n",
      "..  ...                  ...               ...\n",
      "95   96                  정거장           아이유(IU)\n",
      "96   97        Polaroid Love           ENHYPEN\n",
      "97   98  너무 아픈 사랑은 사랑이 아니었음을      싱어게인2 33호 가수\n",
      "98   99               바라만 본다     MSG워너비(M.O.M)\n",
      "99  100       OHAYO MY NIGHT        디핵(D-Hack)\n",
      "\n",
      "[100 rows x 3 columns]\n"
     ]
    }
   ],
   "source": [
    "import pandas as pd \n",
    "\n",
    "df = pd.DataFrame(song_data, columns = [\"순위\",\"타이틀\",\"가수\"]);  # 데이타 표로\n",
    "\n",
    "print(df)"
   ]
  },
  {
   "cell_type": "code",
   "execution_count": 15,
   "id": "e1c86ab4",
   "metadata": {},
   "outputs": [],
   "source": [
    "df.to_excel('bugs.xlsx', index=False)  # 엑셀 저장"
   ]
  },
  {
   "cell_type": "code",
   "execution_count": null,
   "id": "4f2495ab",
   "metadata": {},
   "outputs": [],
   "source": [
    "# html = requests.get(\"https://www.genie.co.kr/chart/top200\")    # 지니차트 불가\n",
    "# 인터넷 에서 퍼오는 것이 아니고 내 컴퓨터롤 보내준 데이타를 긁어옴\n",
    "# 파이썬으로 브라우저 컨트롤\n",
    "# pip install selenium\n",
    "from selenium import webdriver"
   ]
  },
  {
   "cell_type": "code",
   "execution_count": null,
   "id": "62729918",
   "metadata": {},
   "outputs": [],
   "source": [
    "# html = requests.get(\"https://www.melon.com/chart/index.htm\")   # 멜론차트 불가\n",
    "# html = requests.get(\"https://www.genie.co.kr/chart/top200\")    # 지니차트 불가"
   ]
  }
 ],
 "metadata": {
  "kernelspec": {
   "display_name": "Python 3 (ipykernel)",
   "language": "python",
   "name": "python3"
  },
  "language_info": {
   "codemirror_mode": {
    "name": "ipython",
    "version": 3
   },
   "file_extension": ".py",
   "mimetype": "text/x-python",
   "name": "python",
   "nbconvert_exporter": "python",
   "pygments_lexer": "ipython3",
   "version": "3.9.7"
  }
 },
 "nbformat": 4,
 "nbformat_minor": 5
}
