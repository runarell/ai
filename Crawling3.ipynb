{
 "cells": [
  {
   "cell_type": "code",
   "execution_count": 4,
   "id": "9c9ec8f4",
   "metadata": {},
   "outputs": [
    {
     "name": "stderr",
     "output_type": "stream",
     "text": [
      "C:\\Users\\Runarell\\AppData\\Local\\Temp/ipykernel_39776/1822724417.py:7: DeprecationWarning: executable_path has been deprecated, please pass in a Service object\n",
      "  driver = webdriver.Chrome(\"chromedriver.exe\");    # 크롬 디바이스\n"
     ]
    }
   ],
   "source": [
    "# 멜론 차트 100불러오기\n",
    "# https://www.melon.com/chart/index.htm\n",
    "# pip install selenium\n",
    "# 필요 모듈 불러오기\n",
    "from selenium import webdriver                          \n",
    "from bs4 import BeautifulSoup as bs                       \n",
    "import pandas as pd \n",
    "driver = webdriver.Chrome(\"chromedriver.exe\");    # 크롬 디바이스\n",
    "\n",
    "url = \"https://www.melon.com/chart/index.htm\";    # url 페이지 주소\n",
    "driver.get(url);                                  # 크롬 디바이스로 원하는 페이지의 html 불러오기\n",
    "html = driver.page_source;                        # html에 가져온 페이지의 html 넣기\n",
    "soup = bs(html);                                  # 사용이 용의하도록 BeautifulSoup을 이용하여 변환하여 페이지 리스트에 저장"
   ]
  },
  {
   "cell_type": "code",
   "execution_count": 7,
   "id": "6b319797",
   "metadata": {},
   "outputs": [
    {
     "name": "stdout",
     "output_type": "stream",
     "text": [
      "    순위                                             타이틀                   가수\n",
      "0    1                                       사랑은 늘 도망가                  임영웅\n",
      "1    2                                            취중고백           김민석 (멜로망스)\n",
      "2    3                                            INVU         태연 (TAEYEON)\n",
      "3    4                                          ELEVEN            IVE (아이브)\n",
      "4    5                                       Step Back         GOT the beat\n",
      "5    6          회전목마 (Feat. Zion.T, 원슈타인) (Prod. Slom)             sokodomo\n",
      "6    7                                           호랑수월가                   탑현\n",
      "7    8                             SMILEY (Feat. BIBI)           YENA (최예나)\n",
      "8    9                   리무진 (Feat. MINO) (Prod. GRAY)            BE'O (비오)\n",
      "9   10                 Counting Stars (Feat. Beenzino)            BE'O (비오)\n",
      "10  11                                눈이 오잖아(Feat.헤이즈)                  이무진\n",
      "11  12                                   다정히 내 이름을 부르면                 경서예지\n",
      "12  13                            Can't Control Myself         태연 (TAEYEON)\n",
      "13  14                                Dreams Come True                aespa\n",
      "14  15                                       이제 나만 믿어요                  임영웅\n",
      "15  16                                             겨울잠                  아이유\n",
      "16  17                                         언제나 사랑해          케이시 (Kassy)\n",
      "17  18                                            STAY        The Kid LAROI\n",
      "18  19                                             신호등                  이무진\n",
      "19  20                                      Next Level                aespa\n",
      "20  21                                 strawberry moon                  아이유\n",
      "21  22                              다시 사랑한다면 (김필 Ver.)                  임영웅\n",
      "22  23  만남은 쉽고 이별은 어려워 (Feat. Leellamarz) (Prod. TOIL)         베이식 (Basick)\n",
      "23  24                                  Christmas Tree                    V\n",
      "24  25                                          Savage                aespa\n",
      "25  26                                         그대라는 사치                  임영웅\n",
      "26  27                                    별빛 같은 나의 사랑아                  임영웅\n",
      "27  28                                        잊을 수 있을까                   노을\n",
      "28  29                                         abcdefu                GAYLE\n",
      "29  30                                          Butter                방탄소년단\n",
      "30  31                                             드라마                  아이유\n",
      "31  32                                             잊었니                  임영웅\n",
      "32  33                                            HERO                  임영웅\n",
      "33  34                                          너를 생각해         주시크 (Joosiq)\n",
      "34  35                                        Dynamite                방탄소년단\n",
      "35  36                                             끝사랑                  임영웅\n",
      "36  37                                              서랍                 10CM\n",
      "37  38                                        너 아니면 안돼  먼데이 키즈 (Monday Kiz)\n",
      "38  39                                  우리가 헤어져야 했던 이유            비비 (BIBI)\n",
      "39  40                                              흰눈  먼데이 키즈 (Monday Kiz)\n",
      "40  41                                            언덕나무                  이승윤\n",
      "41  42                             Permission to Dance                방탄소년단\n",
      "42  43                               그래서 그래 (Feat. 윤하)     에픽하이 (EPIK HIGH)\n",
      "43  44                                  OHAYO MY NIGHT          디핵 (D-Hack)\n",
      "44  45                                              문득            BE'O (비오)\n",
      "45  46                                         Bk Love                  임영웅\n",
      "46  47                                     My Universe             Coldplay\n",
      "47  48                                         Weekend         태연 (TAEYEON)\n",
      "48  49                                          바라만 본다        MSG워너비(M.O.M)\n",
      "49  50         네가 없는 밤 (Feat. ASH ISLAND) (Prod. GRAY)            BE'O (비오)\n"
     ]
    }
   ],
   "source": [
    "song_data = [];                                                          # 곡 리스트를 정리할 배열                        \n",
    "songs = soup.select(\"table > tbody > tr.lst50\");                         # 페이지에 노래 데이터 배열에 담기\n",
    "\n",
    "for song in songs:                                                       # 노래데이터 배열 반복\n",
    "    rank = song.select_one(\"span.rank\").text.strip()                     # 랭킹 추출 strip()로 정리\n",
    "    title = song.select(\"div.ellipsis a\")[0].text.strip()                # 노래 추출 strip()로 정리\n",
    "    singer = song.select(\"div.ellipsis a\")[1].text.strip()               # 가수명 추출 strip()로 정리\n",
    "    song_data.append([rank, title, singer]);                             # song_data 에 곡의 정보를 저장\n",
    "    \n",
    "df = pd.DataFrame(song_data, columns = [\"순위\",\"타이틀\",\"가수\"]);           # song_data에 저장된 데이타 표로 변경\n",
    "print(df)\n",
    "# df.to_excel('bugs.xlsx', index=False)                                      # 엑셀 저장 "
   ]
  },
  {
   "cell_type": "code",
   "execution_count": null,
   "id": "cb637764",
   "metadata": {},
   "outputs": [],
   "source": []
  }
 ],
 "metadata": {
  "kernelspec": {
   "display_name": "Python 3 (ipykernel)",
   "language": "python",
   "name": "python3"
  },
  "language_info": {
   "codemirror_mode": {
    "name": "ipython",
    "version": 3
   },
   "file_extension": ".py",
   "mimetype": "text/x-python",
   "name": "python",
   "nbconvert_exporter": "python",
   "pygments_lexer": "ipython3",
   "version": "3.9.7"
  }
 },
 "nbformat": 4,
 "nbformat_minor": 5
}
