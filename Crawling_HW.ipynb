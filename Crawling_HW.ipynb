{
 "cells": [
  {
   "cell_type": "code",
   "execution_count": 5,
   "id": "baa91cc6",
   "metadata": {},
   "outputs": [
    {
     "name": "stderr",
     "output_type": "stream",
     "text": [
      "C:\\Users\\Runarell\\AppData\\Local\\Temp/ipykernel_3588/2294507439.py:8: DeprecationWarning: executable_path has been deprecated, please pass in a Service object\n",
      "  driver = webdriver.Chrome(\"chromedriver.exe\");    # 크롬 디바이스\n"
     ]
    }
   ],
   "source": [
    "    "
   ]
  },
  {
   "cell_type": "code",
   "execution_count": null,
   "id": "ca1fc241",
   "metadata": {},
   "outputs": [],
   "source": [
    "# 멜론 차트 100불러오기\n",
    "\n",
    "# pip install selenium\n",
    "# 필요 모듈 불러오기\n",
    "from selenium import webdriver                          \n",
    "from bs4 import BeautifulSoup as bs                       \n",
    "import pandas as pd \n",
    "driver = webdriver.Chrome(\"chromedriver.exe\");    # 크롬 디바이스\n",
    "\n",
    "\n",
    "url = \"https://www.melon.com/chart/index.htm\";    # url 페이지 주소\n",
    "driver.get(url);                                  # 크롬 디바이스로 원하는 페이지의 html 불러오기\n",
    "html = driver.page_source;                        # html에 가져온 페이지의 html 넣기\n",
    "soup = bs(html);                                  # 사용이 용의하도록 BeautifulSoup을 이용하여 변환하여 페이지 리스트에 저장\n",
    "\n",
    "\n",
    "song_data = [];                                                          # 곡 리스트를 정리할 배열                        \n",
    "songs = soup.select(\"table > tbody > tr.lst50\");                         # 페이지에 노래 데이터 배열에 담기\n",
    "\n",
    "for song in songs:                                                       # 노래데이터 배열 반복\n",
    "    rank = song.select_one(\"span.rank\").text.strip()                     # 랭킹 추출 strip()로 정리\n",
    "    title = song.select(\"div.ellipsis a\")[0].text.strip()                # 노래 추출 strip()로 정리\n",
    "    singer = song.select(\"div.ellipsis a\")[1].text.strip()               # 가수명 추출 strip()로 정리\n",
    "    song_data.append([rank, title, singer]);                             # song_data 에 곡의 정보를 저장\n",
    "    \n",
    "df = pd.DataFrame(song_data, columns = [\"순위\",\"타이틀\",\"가수\"]);           # song_data에 저장된 데이타 표로 변경\n",
    "print(df)\n",
    "# df.to_excel('bugs.xlsx', index=False)                                      # 엑셀 저장 "
   ]
  },
  {
   "cell_type": "code",
   "execution_count": null,
   "id": "c4a15126",
   "metadata": {},
   "outputs": [],
   "source": []
  }
 ],
 "metadata": {
  "kernelspec": {
   "display_name": "Python 3 (ipykernel)",
   "language": "python",
   "name": "python3"
  },
  "language_info": {
   "codemirror_mode": {
    "name": "ipython",
    "version": 3
   },
   "file_extension": ".py",
   "mimetype": "text/x-python",
   "name": "python",
   "nbconvert_exporter": "python",
   "pygments_lexer": "ipython3",
   "version": "3.9.7"
  }
 },
 "nbformat": 4,
 "nbformat_minor": 5
}
