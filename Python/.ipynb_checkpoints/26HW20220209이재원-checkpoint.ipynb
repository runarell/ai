{
 "cells": [
  {
   "cell_type": "code",
   "execution_count": null,
   "id": "a369f2cb",
   "metadata": {},
   "outputs": [],
   "source": [
    "# 436\n",
    "\n",
    "x = '';\n",
    "if bool(x):\n",
    "    print('Yes');\n",
    "else: \n",
    "    print('No' );\n",
    "          \n",
    "# a. None b. Yes c. No d. 0 \n",
    "# 정답 c. No"
   ]
  },
  {
   "cell_type": "code",
   "execution_count": null,
   "id": "8abdf679",
   "metadata": {},
   "outputs": [],
   "source": [
    "# 437\n",
    "\n",
    "x = ' ';\n",
    "if bool(x):\n",
    "    print('Yes');\n",
    "else: \n",
    "    print('No' );\n",
    "          \n",
    "# a.None  b.Yes  c.No  d.0 \n",
    "# 정답 b,Yes"
   ]
  },
  {
   "cell_type": "code",
   "execution_count": null,
   "id": "15b183c0",
   "metadata": {},
   "outputs": [],
   "source": [
    "# 438 \n",
    "\n",
    "x = [] \n",
    "if bool(x): \n",
    "    print('Yes') \n",
    "else: \n",
    "    print('No')\n",
    "    \n",
    "# a. No b. Yes c. None d. 0 \n",
    "# a. No"
   ]
  },
  {
   "cell_type": "code",
   "execution_count": null,
   "id": "c296a909",
   "metadata": {},
   "outputs": [],
   "source": [
    "# 439\n",
    "\n",
    "x = [1, 2, 3] \n",
    "if bool(x): \n",
    "    print('Yes') \n",
    "else: \n",
    "    print('No')\n",
    "    \n",
    "# a. No b. Yes c. None d. 0 \n",
    "# b. Yes"
   ]
  },
  {
   "cell_type": "code",
   "execution_count": null,
   "id": "311eeeec",
   "metadata": {},
   "outputs": [],
   "source": [
    "# 440\n",
    "\n",
    "x = '' \n",
    "if not bool(x):\n",
    "    print('Yes')\n",
    "else: \n",
    "    print('No')\n",
    "    \n",
    "# a. Yes b. No c. None d. 0\n",
    "# a. Yes"
   ]
  },
  {
   "cell_type": "code",
   "execution_count": null,
   "id": "a135dcb1",
   "metadata": {},
   "outputs": [],
   "source": [
    "# 441\n",
    "\n",
    "x = 'print(\"Python\")'\n",
    "eval(x)\n",
    "\n",
    "# a. x b. print(\"Python\") c. Python d. 0 \n",
    "# c. Python\n"
   ]
  },
  {
   "cell_type": "code",
   "execution_count": null,
   "id": "9a4f48bf",
   "metadata": {},
   "outputs": [],
   "source": [
    "# 442\n",
    "# What will be the output after the following statements if input entered is 45*2?\n",
    "\n",
    "x = input(\"Enter an expression: \")\n",
    "print(eval(x))\n",
    "\n",
    "# a. 45*2 b. eval(\"90\") c. 90 d. 0\n",
    "# c. 90"
   ]
  },
  {
   "cell_type": "code",
   "execution_count": 3,
   "id": "ec9f62e5",
   "metadata": {},
   "outputs": [
    {
     "name": "stdout",
     "output_type": "stream",
     "text": [
      "Python 3 is Good\n"
     ]
    }
   ],
   "source": [
    "# 443\n",
    "\n",
    "x = '''\n",
    "print(\"Python 3\", end='')\n",
    "print(\" is Good\")\n",
    "'''\n",
    "exec(x)\n",
    "\n",
    "# a. Python 3is Good b. Python 3 is Good c. Python 3 d. is Good \n",
    "# b. python 3 is Good"
   ]
  },
  {
   "cell_type": "code",
   "execution_count": 6,
   "id": "e1d00100",
   "metadata": {},
   "outputs": [
    {
     "name": "stdout",
     "output_type": "stream",
     "text": [
      "c\n"
     ]
    }
   ],
   "source": [
    "# 444\n",
    "\n",
    "a = ['a', 'b', 'c', 'A', 'B']\n",
    "print(max(a))\n",
    "\n",
    "# a. a b. A c. b d. c\n",
    "#  d. c"
   ]
  },
  {
   "cell_type": "code",
   "execution_count": 8,
   "id": "5b49be11",
   "metadata": {},
   "outputs": [
    {
     "name": "stdout",
     "output_type": "stream",
     "text": [
      "A\n"
     ]
    }
   ],
   "source": [
    "# 445\n",
    "\n",
    "a = ['a', 'b', 'c', 'A', 'B']\n",
    "print(min(a))\n",
    "\n",
    "# a. a b. A c. b d. c\n",
    "# b. A"
   ]
  },
  {
   "cell_type": "code",
   "execution_count": 11,
   "id": "f51ee98d",
   "metadata": {},
   "outputs": [
    {
     "name": "stdout",
     "output_type": "stream",
     "text": [
      "c\n"
     ]
    }
   ],
   "source": [
    "# 446\n",
    "\n",
    "a = ['a', 'b', 'c', '1', '2', 'A', 'B']\n",
    "print(max(a))\n",
    "\n",
    "# a. a b. A c. 1 d. c \n",
    "# d. c"
   ]
  },
  {
   "cell_type": "code",
   "execution_count": 14,
   "id": "3d12166f",
   "metadata": {},
   "outputs": [
    {
     "name": "stdout",
     "output_type": "stream",
     "text": [
      "1\n"
     ]
    }
   ],
   "source": [
    "# 447\n",
    "\n",
    "a = ['a', 'b', 'c', '1', '2', 'A', 'B'];\n",
    "print(min(a))\n",
    "\n",
    "# a. a   b. A   c. 1   d. c\n",
    "# c. 1"
   ]
  },
  {
   "cell_type": "code",
   "execution_count": 16,
   "id": "77994053",
   "metadata": {},
   "outputs": [
    {
     "name": "stdout",
     "output_type": "stream",
     "text": [
      "6\n"
     ]
    }
   ],
   "source": [
    "# 448\n",
    "\n",
    "a = [1, 2, 3]\n",
    "print(sum(a))\n",
    "\n",
    "# a. 3 b. 2 c. 1 d. 6 \n",
    "# d. 6"
   ]
  },
  {
   "cell_type": "code",
   "execution_count": 17,
   "id": "7cc31cbe",
   "metadata": {},
   "outputs": [
    {
     "name": "stdout",
     "output_type": "stream",
     "text": [
      "18\n"
     ]
    }
   ],
   "source": [
    "# 449\n",
    "\n",
    "a = list(range(0,10,3))\n",
    "print(sum(a))\n",
    "\n",
    "# a. 10 b. 100 c. 18 d. 30 \n",
    "# c. 18"
   ]
  },
  {
   "cell_type": "code",
   "execution_count": 19,
   "id": "8374a3b3",
   "metadata": {},
   "outputs": [
    {
     "name": "stdout",
     "output_type": "stream",
     "text": [
      "0\n"
     ]
    }
   ],
   "source": [
    "# 450 \n",
    "\n",
    "a = list(range(10,-10,3))\n",
    "print(sum(a))\n",
    "\n",
    "# a. 10 b. 0 c. 18 d. 90\n",
    "# b. 0"
   ]
  },
  {
   "cell_type": "code",
   "execution_count": 21,
   "id": "4b49571c",
   "metadata": {},
   "outputs": [
    {
     "name": "stdout",
     "output_type": "stream",
     "text": [
      "-24\n"
     ]
    }
   ],
   "source": [
    "# 451\n",
    "\n",
    "a = list(range(-10,5,2))\n",
    "print(sum(a))\n",
    "\n",
    "# a. -24 b. 0 c. 24 d. 20 \n",
    "# a. -24"
   ]
  },
  {
   "cell_type": "code",
   "execution_count": 22,
   "id": "e82e6acc",
   "metadata": {},
   "outputs": [
    {
     "name": "stdout",
     "output_type": "stream",
     "text": [
      "[5, 4, 3, 2, 1]\n"
     ]
    }
   ],
   "source": [
    "# 452\n",
    "\n",
    "x = [5, 4, 3, 2, 1]\n",
    "y = x.copy()\n",
    "x[0] = 6\n",
    "print(y)\n",
    "\n",
    "# a. [6, 4, 3, 2, 1] b. 6 c. [5, 4, 3, 2, 1] d. 5 \n",
    "# c. [5, 4, 3, 2, 1]"
   ]
  },
  {
   "cell_type": "code",
   "execution_count": 23,
   "id": "3938013b",
   "metadata": {},
   "outputs": [
    {
     "name": "stdout",
     "output_type": "stream",
     "text": [
      "5\n"
     ]
    }
   ],
   "source": [
    "# 453\n",
    "import copy\n",
    "\n",
    "x = [5, 4, 3, 2, 1]\n",
    "y = copy.copy(x)\n",
    "x.append(6)\n",
    "print(y[0])\n",
    "\n",
    "# a. [6, 4, 3, 2, 1] b. 6 c. [5, 4, 3, 2, 1] d. 5 \n",
    "# d. 5"
   ]
  },
  {
   "cell_type": "code",
   "execution_count": 24,
   "id": "d3bc1971",
   "metadata": {},
   "outputs": [
    {
     "name": "stdout",
     "output_type": "stream",
     "text": [
      "False\n"
     ]
    }
   ],
   "source": [
    "# 454\n",
    "\n",
    "import keyword\n",
    "print(keyword.iskeyword('IS'))\n",
    "\n",
    "# a. True b. keyword c. for d. False\n",
    "# d. False"
   ]
  },
  {
   "cell_type": "code",
   "execution_count": 25,
   "id": "9141bcf6",
   "metadata": {},
   "outputs": [
    {
     "name": "stdout",
     "output_type": "stream",
     "text": [
      "True\n"
     ]
    }
   ],
   "source": [
    "# 455\n",
    "\n",
    "import keyword\n",
    "print(keyword.iskeyword('for'))\n",
    "\n",
    "# a. True b. keyword c. for d. False\n",
    "# d True"
   ]
  },
  {
   "cell_type": "code",
   "execution_count": 29,
   "id": "dc15014b",
   "metadata": {},
   "outputs": [
    {
     "name": "stdout",
     "output_type": "stream",
     "text": [
      "3\n"
     ]
    }
   ],
   "source": [
    "# 자리마다 8을 확인해야 하기 때문에 string으로 형변환\n",
    "arr = [str(i) for i in range(1, 10001)];\n",
    "cont = 0;  # 8의 개수를 담을 변수 \n",
    "\n",
    "# 비교할 숫자를 반복문으로 하나씩\n",
    "for i in arr:      \n",
    "    \n",
    "    # 숫자에 포함한 8을 확인 \n",
    "    # 글짜 한자리씩 확인\n",
    "    for j in i:\n",
    "        if j ==\"8\":   # 문자열중 문자하나가 8인지 확인\n",
    "            cont +=1; #  8이 있으면 카운터 숫자 +1\n",
    "\n",
    "print(cont);\n",
    "        "
   ]
  },
  {
   "attachments": {
    "20220209hw.drawio.png": {
     "image/png": "[encoded data removed]"
    }
   },
   "cell_type": "markdown",
   "id": "b98d94c3",
   "metadata": {},
   "source": [
    "![20220209hw.drawio.png](attachment:20220209hw.drawio.png)"
   ]
  },
  {
   "cell_type": "code",
   "execution_count": null,
   "id": "7d30da91",
   "metadata": {},
   "outputs": [],
   "source": []
  },
  {
   "cell_type": "code",
   "execution_count": null,
   "id": "945f914f",
   "metadata": {},
   "outputs": [],
   "source": []
  },
  {
   "cell_type": "code",
   "execution_count": null,
   "id": "7f5c6088",
   "metadata": {},
   "outputs": [],
   "source": []
  },
  {
   "cell_type": "code",
   "execution_count": null,
   "id": "bd1365d9",
   "metadata": {},
   "outputs": [],
   "source": []
  },
  {
   "cell_type": "code",
   "execution_count": null,
   "id": "70f0ccd2",
   "metadata": {},
   "outputs": [],
   "source": []
  }
 ],
 "metadata": {
  "kernelspec": {
   "display_name": "Python 3 (ipykernel)",
   "language": "python",
   "name": "python3"
  },
  "language_info": {
   "codemirror_mode": {
    "name": "ipython",
    "version": 3
   },
   "file_extension": ".py",
   "mimetype": "text/x-python",
   "name": "python",
   "nbconvert_exporter": "python",
   "pygments_lexer": "ipython3",
   "version": "3.9.7"
  }
 },
 "nbformat": 4,
 "nbformat_minor": 5
}
