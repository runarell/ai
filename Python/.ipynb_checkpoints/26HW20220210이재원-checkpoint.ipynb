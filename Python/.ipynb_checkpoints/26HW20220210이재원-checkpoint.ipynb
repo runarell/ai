{
 "cells": [
  {
   "cell_type": "code",
   "execution_count": null,
   "id": "ade2970a",
   "metadata": {},
   "outputs": [],
   "source": [
    "# 456\n",
    "import keyword\n",
    "print(keyword.iskeyword('Python’'))\n",
    "\n",
    "# a. True b. keyword c. for d. False\n",
    "# d"
   ]
  },
  {
   "cell_type": "code",
   "execution_count": null,
   "id": "a73788d8",
   "metadata": {},
   "outputs": [],
   "source": [
    "# 457\n",
    "import random \n",
    "x = [3, 8, 6, 5, 0] \n",
    "print(random.choice(x))\n",
    "\n",
    "\n",
    "# a. A random element from the list x \n",
    "# b. The list x\n",
    "# c. A random element from the list x, excluding 3 and 0 \n",
    "# d. A random element from the list elements 3 and 0\n",
    "\n",
    "# a "
   ]
  },
  {
   "cell_type": "code",
   "execution_count": null,
   "id": "9684b87b",
   "metadata": {},
   "outputs": [],
   "source": [
    "# 458\n",
    "import random \n",
    "x = [3, 8, 6, 5, 0] \n",
    "\n",
    "random.shuffle(x) \n",
    "print(x)\n",
    "\n",
    "# a. A random element from the list x \n",
    "# b. The shuffled list x with the elements mixed up\n",
    "# c. A random element from the list x, excluding 3 and 0 \n",
    "# d. A random element from the list elements 3 and 0\n",
    "\n",
    "# b"
   ]
  },
  {
   "cell_type": "code",
   "execution_count": 2,
   "id": "ab583b9f",
   "metadata": {},
   "outputs": [
    {
     "name": "stdout",
     "output_type": "stream",
     "text": [
      "None\n"
     ]
    }
   ],
   "source": [
    "# 459\n",
    "import random\n",
    "x = [3, 8, 6, 5, 0]\n",
    "y = random.shuffle(x) \n",
    "print(y)\n",
    "\n",
    "# a. A random element from the list x \n",
    "# b. The shuffled list x with the elements mixed up\n",
    "# c. None \n",
    "# d. A random element from the list x, excluding 3 and 0\n",
    "\n",
    "# c"
   ]
  },
  {
   "cell_type": "code",
   "execution_count": 4,
   "id": "51085137",
   "metadata": {},
   "outputs": [
    {
     "name": "stdout",
     "output_type": "stream",
     "text": [
      "Python Jobs"
     ]
    }
   ],
   "source": [
    "# 460\n",
    "import sys\n",
    "x = sys.stdout.write('Python Jobs')\n",
    "\n",
    "# a. A random character from the string 'Python Jobs' \n",
    "# b. Python Jobs \n",
    "# c. None \n",
    "# d. PJ\n",
    "\n",
    "# b"
   ]
  },
  {
   "cell_type": "code",
   "execution_count": 13,
   "id": "34fa8d5e",
   "metadata": {},
   "outputs": [
    {
     "name": "stdout",
     "output_type": "stream",
     "text": [
      "1644485637.8402412\n"
     ]
    }
   ],
   "source": [
    "# 461\n",
    "import time\n",
    "print(time.time())\n",
    "\n",
    "# a. Current time in seconds since the Epoch at 00:00:00 GMT on January 1, 1970\n",
    "# b. Today's time in hours \n",
    "# c. None \n",
    "# d. Today's time in minutes \n",
    "\n",
    "# b."
   ]
  },
  {
   "cell_type": "code",
   "execution_count": null,
   "id": "db3b4e1b",
   "metadata": {},
   "outputs": [],
   "source": [
    "#462\n",
    "import time \n",
    "print(time.time())\n",
    "\n",
    "# a. String b. Integer c. List d. Float\n",
    "# d."
   ]
  },
  {
   "cell_type": "code",
   "execution_count": 14,
   "id": "b2b5db82",
   "metadata": {},
   "outputs": [
    {
     "name": "stdout",
     "output_type": "stream",
     "text": [
      "Thu Feb 10 18:39:16 2022\n"
     ]
    }
   ],
   "source": [
    "# 463 \n",
    "import time\n",
    "print(time.asctime())\n",
    "\n",
    "# a. String b. Integer c. List d. Float \n",
    "# a."
   ]
  },
  {
   "cell_type": "code",
   "execution_count": 15,
   "id": "84769fa6",
   "metadata": {},
   "outputs": [
    {
     "name": "stdout",
     "output_type": "stream",
     "text": [
      "Thu Feb 10 18:40:07 2022\n"
     ]
    }
   ],
   "source": [
    "# 464\n",
    "import time\n",
    "print(time.asctime())\n",
    "\n",
    "# a. Current time in seconds since the Epoch at 00:00:00 GMT on January 1, 1970\n",
    "# b. Current date and time \n",
    "# c. None \n",
    "# d. Today's time in minutes \n",
    "\n",
    "# b"
   ]
  },
  {
   "cell_type": "code",
   "execution_count": 16,
   "id": "baf53ab1",
   "metadata": {},
   "outputs": [
    {
     "name": "stdout",
     "output_type": "stream",
     "text": [
      "Sat Feb 10 12:45:32 2016\n"
     ]
    }
   ],
   "source": [
    "# \n",
    "import time\n",
    "y = (2016, 2, 10, 12, 45, 32, 5, 0, 0)\n",
    "print(time.asctime(y))\n",
    "\n",
    "# a. Current time in seconds since the Epoch at 00:00:00 GMT on January 1, 1970\n",
    "# b. Current date and time \n",
    "# c. Sat Feb \n",
    "# 10 12:45:32 2016 d. No output\n",
    "\n",
    "# c"
   ]
  },
  {
   "cell_type": "code",
   "execution_count": 21,
   "id": "f0429da0",
   "metadata": {},
   "outputs": [
    {
     "name": "stdout",
     "output_type": "stream",
     "text": [
      "Thu\n"
     ]
    }
   ],
   "source": [
    "# 466 \n",
    "\n",
    "import time\n",
    "y = time.asctime()\n",
    "print(y[:3])\n",
    "\n",
    "# a. 2016 b. 3:40 c. Mon d. 04\n",
    "\n",
    "# c"
   ]
  },
  {
   "cell_type": "code",
   "execution_count": 23,
   "id": "6c9bbd93",
   "metadata": {},
   "outputs": [
    {
     "name": "stdout",
     "output_type": "stream",
     "text": [
      "1\n"
     ]
    }
   ],
   "source": [
    "# 467\n",
    "import random \n",
    "print(int(random.random()*10))\n",
    "\n",
    "# a. 10 \n",
    "# b. A random integer number within the range of 0 to 9\n",
    "# c. None \n",
    "# d. A random floating point number within the range of 0 to 9 \n",
    "\n",
    "# b"
   ]
  },
  {
   "cell_type": "code",
   "execution_count": 24,
   "id": "95e94d30",
   "metadata": {},
   "outputs": [
    {
     "name": "stdout",
     "output_type": "stream",
     "text": [
      "5\n"
     ]
    }
   ],
   "source": [
    "# 468 \n",
    "import random\n",
    "print(int(random.random()*10) + 1)\n",
    "\n",
    "# a. 11 \n",
    "# b. A random integer number within the range of 0 to 11\n",
    "# c. None \n",
    "# d. A random whole number within the range of 1 to 10 \n",
    "\n",
    "# d"
   ]
  },
  {
   "cell_type": "code",
   "execution_count": null,
   "id": "878a40bd",
   "metadata": {},
   "outputs": [],
   "source": [
    "# 469 \n",
    "import random\n",
    "print(random.sample(range(20), 5))\n",
    "\n",
    "# a. A list of 5 unique numbers within the range of 0 to 19 \n",
    "# b. A list of 5 unique numbers within the range of 0 to 20\n",
    "# c. A list of 4 unique numbers within the range of 0 to 19 \n",
    "# d. A tuple of 5 unique numbers within the range of 0 to 19 \n",
    "\n",
    "# a"
   ]
  },
  {
   "cell_type": "code",
   "execution_count": null,
   "id": "041bb214",
   "metadata": {},
   "outputs": [],
   "source": [
    "# 470\n",
    "import random \n",
    "print(random.sample(range(5, 20), 4))\n",
    "\n",
    "# a. A list of 5 unique numbers within the range of 4 to 19 \n",
    "# b. A list of 5 unique numbers within the range of 5 to 20\n",
    "# c. A list of 4 unique numbers within the range of 5 to 19 \n",
    "# d. A tuple of 4 unique numbers within the range of 5 to 19\n",
    "\n",
    "# c"
   ]
  },
  {
   "cell_type": "code",
   "execution_count": 25,
   "id": "9702a66c",
   "metadata": {},
   "outputs": [
    {
     "ename": "NameError",
     "evalue": "name 'a' is not defined",
     "output_type": "error",
     "traceback": [
      "\u001b[1;31m---------------------------------------------------------------------------\u001b[0m",
      "\u001b[1;31mNameError\u001b[0m                                 Traceback (most recent call last)",
      "\u001b[1;32m~\\AppData\\Local\\Temp/ipykernel_59584/1633319773.py\u001b[0m in \u001b[0;36m<module>\u001b[1;34m\u001b[0m\n\u001b[0;32m      1\u001b[0m \u001b[1;31m#471  What will be the output after the following statement?\u001b[0m\u001b[1;33m\u001b[0m\u001b[1;33m\u001b[0m\u001b[0m\n\u001b[1;32m----> 2\u001b[1;33m \u001b[0mprint\u001b[0m\u001b[1;33m(\u001b[0m\u001b[0ma\u001b[0m\u001b[1;33m)\u001b[0m\u001b[1;33m\u001b[0m\u001b[1;33m\u001b[0m\u001b[0m\n\u001b[0m\u001b[0;32m      3\u001b[0m \u001b[1;33m\u001b[0m\u001b[0m\n\u001b[0;32m      4\u001b[0m \u001b[1;31m# a. SyntaxError b. TypeError c. ValueError d. NameError\u001b[0m\u001b[1;33m\u001b[0m\u001b[1;33m\u001b[0m\u001b[0m\n\u001b[0;32m      5\u001b[0m \u001b[1;31m#d\u001b[0m\u001b[1;33m\u001b[0m\u001b[1;33m\u001b[0m\u001b[0m\n",
      "\u001b[1;31mNameError\u001b[0m: name 'a' is not defined"
     ]
    }
   ],
   "source": [
    "#471 \n",
    "print(a)\n",
    "\n",
    "# a. SyntaxError b. TypeError c. ValueError d. NameError\n",
    "#d"
   ]
  },
  {
   "cell_type": "code",
   "execution_count": 26,
   "id": "cfde5261",
   "metadata": {},
   "outputs": [
    {
     "ename": "SyntaxError",
     "evalue": "EOL while scanning string literal (Temp/ipykernel_59584/3036180608.py, line 2)",
     "output_type": "error",
     "traceback": [
      "\u001b[1;36m  File \u001b[1;32m\"C:\\Users\\Runarell\\AppData\\Local\\Temp/ipykernel_59584/3036180608.py\"\u001b[1;36m, line \u001b[1;32m2\u001b[0m\n\u001b[1;33m    a = \"Python Practice’\u001b[0m\n\u001b[1;37m                         ^\u001b[0m\n\u001b[1;31mSyntaxError\u001b[0m\u001b[1;31m:\u001b[0m EOL while scanning string literal\n"
     ]
    }
   ],
   "source": [
    "# 472\n",
    "a = \"Python Practice’\n",
    "\n",
    "# a. SyntaxError b. TypeError c. ValueError d. NameError\n",
    "\n",
    "# a "
   ]
  },
  {
   "cell_type": "code",
   "execution_count": 27,
   "id": "a6921b9a",
   "metadata": {},
   "outputs": [
    {
     "ename": "NameError",
     "evalue": "name 'true' is not defined",
     "output_type": "error",
     "traceback": [
      "\u001b[1;31m---------------------------------------------------------------------------\u001b[0m",
      "\u001b[1;31mNameError\u001b[0m                                 Traceback (most recent call last)",
      "\u001b[1;32m~\\AppData\\Local\\Temp/ipykernel_59584/2168240143.py\u001b[0m in \u001b[0;36m<module>\u001b[1;34m\u001b[0m\n\u001b[0;32m      1\u001b[0m \u001b[1;31m#473\u001b[0m\u001b[1;33m\u001b[0m\u001b[1;33m\u001b[0m\u001b[0m\n\u001b[1;32m----> 2\u001b[1;33m \u001b[0ma\u001b[0m \u001b[1;33m=\u001b[0m \u001b[0mtrue\u001b[0m\u001b[1;33m\u001b[0m\u001b[1;33m\u001b[0m\u001b[0m\n\u001b[0m\u001b[0;32m      3\u001b[0m \u001b[1;33m\u001b[0m\u001b[0m\n\u001b[0;32m      4\u001b[0m \u001b[1;31m# a. No Error b. TypeError c. ValueError d. NameError\u001b[0m\u001b[1;33m\u001b[0m\u001b[1;33m\u001b[0m\u001b[0m\n\u001b[0;32m      5\u001b[0m \u001b[1;31m# d\u001b[0m\u001b[1;33m\u001b[0m\u001b[1;33m\u001b[0m\u001b[0m\n",
      "\u001b[1;31mNameError\u001b[0m: name 'true' is not defined"
     ]
    }
   ],
   "source": [
    "#473\n",
    "a = true \n",
    "\n",
    "# a. No Error b. TypeError c. ValueError d. NameError\n",
    "# d"
   ]
  },
  {
   "cell_type": "code",
   "execution_count": null,
   "id": "10b488dc",
   "metadata": {},
   "outputs": [],
   "source": [
    "# 474\n",
    "# What is the value of the NoneType data type?\n",
    "\n",
    "# a. undefined b. Null c. Nan d. None \n",
    "# b"
   ]
  },
  {
   "cell_type": "code",
   "execution_count": 29,
   "id": "47c71886",
   "metadata": {},
   "outputs": [
    {
     "ename": "NameError",
     "evalue": "name 'a' is not defined",
     "output_type": "error",
     "traceback": [
      "\u001b[1;31m---------------------------------------------------------------------------\u001b[0m",
      "\u001b[1;31mNameError\u001b[0m                                 Traceback (most recent call last)",
      "\u001b[1;32m~\\AppData\\Local\\Temp/ipykernel_59584/3278469965.py\u001b[0m in \u001b[0;36m<module>\u001b[1;34m\u001b[0m\n\u001b[0;32m      4\u001b[0m     \u001b[0ma\u001b[0m \u001b[1;33m=\u001b[0m \u001b[1;36m56\u001b[0m\u001b[1;33m\u001b[0m\u001b[1;33m\u001b[0m\u001b[0m\n\u001b[0;32m      5\u001b[0m \u001b[0mxyz\u001b[0m\u001b[1;33m(\u001b[0m\u001b[1;33m)\u001b[0m\u001b[1;33m\u001b[0m\u001b[1;33m\u001b[0m\u001b[0m\n\u001b[1;32m----> 6\u001b[1;33m \u001b[0mprint\u001b[0m\u001b[1;33m(\u001b[0m\u001b[0ma\u001b[0m\u001b[1;33m)\u001b[0m\u001b[1;33m\u001b[0m\u001b[1;33m\u001b[0m\u001b[0m\n\u001b[0m\u001b[0;32m      7\u001b[0m \u001b[1;31m# a. NameError b. 56 c. a = 56 d. xyz\u001b[0m\u001b[1;33m\u001b[0m\u001b[1;33m\u001b[0m\u001b[0m\n\u001b[0;32m      8\u001b[0m \u001b[1;31m# a\u001b[0m\u001b[1;33m\u001b[0m\u001b[1;33m\u001b[0m\u001b[0m\n",
      "\u001b[1;31mNameError\u001b[0m: name 'a' is not defined"
     ]
    }
   ],
   "source": [
    "#475 \n",
    "# What will be the output after the following statements?\n",
    "def xyz(): \n",
    "    a = 56\n",
    "xyz() \n",
    "print(a)\n",
    "# a. NameError b. 56 c. a = 56 d. xyz\n",
    "# a"
   ]
  },
  {
   "cell_type": "code",
   "execution_count": 12,
   "id": "d018fda0",
   "metadata": {},
   "outputs": [
    {
     "name": "stdout",
     "output_type": "stream",
     "text": [
      "num? : 13\n",
      "0 1 1 2 3 5 8 13 "
     ]
    }
   ],
   "source": [
    "# Alforithm Homwork(#26)\n",
    "# 피보나치 수열이란, 첫 번째 항의 값이 0이고 두 번째 항의 값이 1일 때, 이후의 항들은 이전의 두 항을 더한 값으로 이루어지는 수열을 말한다.\n",
    "# 인풋을 정수 n으로 받았을때, n 이하까지의 피보나치 수열을 출력하는 프로그램을 작성하세요\n",
    "n = int(input(\"num? : \"))\n",
    "# num? : 13\n",
    "# 0, 1, 1, 2, 3, 5, 8, 13\n",
    "\n",
    "def PB_Num(n):\n",
    "    list = [0, 1]                         # 피보나치 수열을 등록할 배열. 0,1은 기본값\n",
    "    i = 0                                 # 인덱스 기준값\n",
    "    while list[-1] < n:                   # 내가 원하는 값보다 피보나치 수가 크면 Faile\n",
    "        add_num = list[i] + list[i+1];    # 다음에 올 숫자는 이전 두 숫자의 합! 0+1 = 1; 1+1 =2; 1+2 = 3;... \n",
    "        list.append( add_num );           # 다음 피보나치 수 리스트에 삽입\n",
    "        i +=1 ;                           # 인덱스 값을 올려준다.\n",
    "\n",
    "    for i in list:                       # 담은 list 값을 출력하는 반복문 \n",
    "        print(i, end=\" \");\n",
    "\n",
    "PB_Num(n);                              # 입력한 숫자를 함수에 대입"
   ]
  },
  {
   "attachments": {
    "%ED%94%BC%EB%B3%B4%EB%82%98%EC%B9%98Algorithm.png": {
     "image/png": "[encoded data removed]"
    }
   },
   "cell_type": "markdown",
   "id": "c5e28be9",
   "metadata": {},
   "source": [
    "![%ED%94%BC%EB%B3%B4%EB%82%98%EC%B9%98Algorithm.png](attachment:%ED%94%BC%EB%B3%B4%EB%82%98%EC%B9%98Algorithm.png)"
   ]
  }
 ],
 "metadata": {
  "kernelspec": {
   "display_name": "Python 3 (ipykernel)",
   "language": "python",
   "name": "python3"
  },
  "language_info": {
   "codemirror_mode": {
    "name": "ipython",
    "version": 3
   },
   "file_extension": ".py",
   "mimetype": "text/x-python",
   "name": "python",
   "nbconvert_exporter": "python",
   "pygments_lexer": "ipython3",
   "version": "3.9.7"
  }
 },
 "nbformat": 4,
 "nbformat_minor": 5
}
