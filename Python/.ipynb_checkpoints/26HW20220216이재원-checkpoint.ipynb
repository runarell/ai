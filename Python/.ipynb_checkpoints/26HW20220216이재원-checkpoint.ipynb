{
 "cells": [
  {
   "cell_type": "code",
   "execution_count": null,
   "id": "ace7ec8e",
   "metadata": {},
   "outputs": [],
   "source": [
    "# 516. What will be the data type of y after the following statements?\n",
    "\n",
    "x = [1, 2, 3, 4] \n",
    "y = tuple(x)\n",
    "\n",
    "# a. TypeError b. String c. Tuple d. List \n",
    "\n",
    "# c"
   ]
  },
  {
   "cell_type": "code",
   "execution_count": null,
   "id": "ad6baeb9",
   "metadata": {},
   "outputs": [],
   "source": [
    "# 517. What will be the data type of z after the following statements?\n",
    "\n",
    "x = [1, 2, 3, 4] \n",
    "y = tuple(x) \n",
    "z = list(y)\n",
    "\n",
    "# a. TypeError b. String c. Tuple d. List\n",
    "# d"
   ]
  },
  {
   "cell_type": "code",
   "execution_count": 2,
   "id": "b6c280b2",
   "metadata": {},
   "outputs": [
    {
     "name": "stdout",
     "output_type": "stream",
     "text": [
      "['P', 'y', 't', 'h', 'o', 'n']\n"
     ]
    }
   ],
   "source": [
    "# 518. What will be the data type of the output after the following statements?\n",
    "\n",
    "x = 'Python' \n",
    "y = list(x) \n",
    "print(y)\n",
    "\n",
    "# a. TypeError b. String c. Tuple d. List \n",
    "\n",
    "#  d"
   ]
  },
  {
   "cell_type": "code",
   "execution_count": null,
   "id": "1b1f9fcc",
   "metadata": {},
   "outputs": [],
   "source": [
    "# 519. What will be the data type of the output after the following statements?\n",
    "\n",
    "x = 'Python' \n",
    "y = tuple(x) \n",
    "print(y)\n",
    "\n",
    "# a. TypeError b. String c. Tuple d. List\n",
    "\n",
    "# c"
   ]
  },
  {
   "cell_type": "code",
   "execution_count": 3,
   "id": "3f5ab180",
   "metadata": {},
   "outputs": [
    {
     "name": "stdout",
     "output_type": "stream",
     "text": [
      "Python\n"
     ]
    }
   ],
   "source": [
    "# 520. What will be the output after the following statements?\n",
    "\n",
    "x = ('Python') \n",
    "print(x)\n",
    "\n",
    "# a. ('P', 'y', 't', 'h', 'o', 'n') b. Python c. P y t h o n d. ('Python')\n",
    "\n",
    "# b"
   ]
  },
  {
   "cell_type": "code",
   "execution_count": 4,
   "id": "32127bd1",
   "metadata": {},
   "outputs": [
    {
     "name": "stdout",
     "output_type": "stream",
     "text": [
      "Object `statements` not found.\n",
      "('Python',)\n"
     ]
    }
   ],
   "source": [
    "# 521. What will be the output after the following statements?\n",
    "\n",
    "x = ('Python',) \n",
    "print(x)\n",
    "\n",
    "# a. ('Python',) b. Python c. P y t h o n d. ('Python’) \n",
    "\n",
    "# d"
   ]
  },
  {
   "cell_type": "code",
   "execution_count": null,
   "id": "afb13a47",
   "metadata": {},
   "outputs": [],
   "source": [
    "# 522. What will be the output after the following statements?\n",
    "\n",
    "x = [0, 2, 4, 6] \n",
    "print(tuple(x))\n",
    "\n",
    "# a. [0, 2, 4, 6] b. (0, 2, 4, 6) c. 0, 2, 4, 6 d. 0 2 4 6 \n",
    "\n",
    "# b"
   ]
  },
  {
   "cell_type": "code",
   "execution_count": null,
   "id": "4094be86",
   "metadata": {},
   "outputs": [],
   "source": [
    "# 523. What will be the output after the following statements?\n",
    "\n",
    "x = (0, 2, 4, 6) \n",
    "print(list(x))\n",
    "\n",
    "# a. [0, 2, 4, 6] b. (0, 2, 4, 6) c. 0, 2, 4, 6 d. 0 2 4 6 \n",
    "\n",
    "# a"
   ]
  },
  {
   "cell_type": "code",
   "execution_count": null,
   "id": "ca83a887",
   "metadata": {},
   "outputs": [],
   "source": [
    "# 524. What will be the output after the following statements?\n",
    "\n",
    "x = 'Python' \n",
    "print(list(x))\n",
    "\n",
    "# a. ('P', 'y', 't', 'h', 'o', 'n') \n",
    "# b. (Python) \n",
    "# c. ['P', 'y', 't', 'h', 'o', 'n'] \n",
    "# d. ['Python’]\n",
    "\n",
    "#  c"
   ]
  },
  {
   "cell_type": "code",
   "execution_count": null,
   "id": "de3c19e7",
   "metadata": {},
   "outputs": [],
   "source": [
    "# 525. What will be the output after the following statements?\n",
    "\n",
    "x = 'Python'\n",
    "print(tuple(x))\n",
    "\n",
    "# a. ('P', 'y', 't', 'h', 'o', 'n') \n",
    "# b. (Python) \n",
    "# c. ['P', 'y', 't', 'h', 'o', 'n'] \n",
    "# d. ['Python']\n",
    "\n",
    "# a"
   ]
  },
  {
   "cell_type": "code",
   "execution_count": 6,
   "id": "44978783",
   "metadata": {},
   "outputs": [
    {
     "name": "stdout",
     "output_type": "stream",
     "text": [
      "[4, 6, 7, 8, 9]\n"
     ]
    }
   ],
   "source": [
    "# 526. What will be the output after the following statements?\n",
    "\n",
    "x = [4, 5, 7, 8, 9] \n",
    "y = x \n",
    "y[1] = 6 \n",
    "print(y)\n",
    "\n",
    "# a. [4, 5, 7, 8, 9] b. [4, 5, 6, 7, 8, 9] c. [4, 6, 7, 8, 9] d. [4, 7, 8, 9] \n",
    "\n",
    "# c"
   ]
  },
  {
   "cell_type": "code",
   "execution_count": 5,
   "id": "063c6c8d",
   "metadata": {},
   "outputs": [
    {
     "name": "stdout",
     "output_type": "stream",
     "text": [
      "[4, 6, 7, 8, 9]\n"
     ]
    }
   ],
   "source": [
    "# 527. What will be the output after the following statements?\n",
    "\n",
    "x = [4, 5, 7, 8, 9] \n",
    "y = x \n",
    "y[1] = 6 \n",
    "print(x)\n",
    "\n",
    "# a. [4, 5, 7, 8, 9] b. [4, 5, 6, 7, 8, 9] c. [4, 6, 7, 8, 9] d. [4, 7, 8, 9] \n",
    "\n",
    "# c"
   ]
  },
  {
   "cell_type": "code",
   "execution_count": 7,
   "id": "a96aca55",
   "metadata": {},
   "outputs": [
    {
     "name": "stdout",
     "output_type": "stream",
     "text": [
      "[7, 8, 9, 44]\n"
     ]
    }
   ],
   "source": [
    "# 528. What will be the output after the following statements?\n",
    "\n",
    "def abc(z): \n",
    "    z.append(44) \n",
    "\n",
    "x = [7, 8, 9] \n",
    "abc(x) \n",
    "print(x)\n",
    "\n",
    "# a. [7, 8, 9] b. [7, 8, 9, 44] c. [7, 44, 8, 9] d. [44, 7, 8, 9] \n",
    "# b"
   ]
  },
  {
   "cell_type": "code",
   "execution_count": null,
   "id": "cfbc03da",
   "metadata": {},
   "outputs": [],
   "source": [
    "# 529. What will be the output after the following statements?\n",
    "\n",
    "import copy \n",
    "x = [5, 4, 3, 2, 1] \n",
    "y = copy.copy(x) \n",
    "x.append(6) \n",
    "print(y[-1])\n",
    "\n",
    "# a. 5 b. 6 c. [5, 4, 3, 2, 1, 6] d. 1 \n",
    "\n",
    "# d"
   ]
  },
  {
   "cell_type": "code",
   "execution_count": null,
   "id": "075c531c",
   "metadata": {},
   "outputs": [],
   "source": [
    "# 530. What will be the output after the following statements?\n",
    "\n",
    "import copy\n",
    "x = [5, 4, 3, 2, 1] \n",
    "y = copy.copy(x) \n",
    "x[2] = 6 \n",
    "print(y[2])\n",
    "\n",
    "# a. 3 b. 6 c. [5, 4, 6, 3, 2, 1] d. 4\n",
    "\n",
    "# a"
   ]
  },
  {
   "cell_type": "code",
   "execution_count": 8,
   "id": "e3feaf73",
   "metadata": {},
   "outputs": [
    {
     "name": "stdout",
     "output_type": "stream",
     "text": [
      "[[5, 4, 6, 2, 1], [7, 8, 9]]\n"
     ]
    }
   ],
   "source": [
    "# 531. What will be the output after the following statements?\n",
    "\n",
    "import copy\n",
    "x = [5, 4, 3, 2, 1] \n",
    "y = [7, 8, 9] \n",
    "z = [x, y] \n",
    "a = copy.copy(z) \n",
    "x[2] = 6 \n",
    "print(a)\n",
    "\n",
    "# a. [[5, 4, 3, 2, 1], [7, 8, 9]] \n",
    "# b. [[5, 4, 6, 2, 1], [7, 8, 9]] \n",
    "# c. [5, 4, 6, 3, 2, 1] \n",
    "# d. [5, 4, 6, 2, 1, 7, 8, 9] \n",
    "\n",
    "# b"
   ]
  },
  {
   "cell_type": "code",
   "execution_count": 9,
   "id": "adef18b4",
   "metadata": {},
   "outputs": [
    {
     "name": "stdout",
     "output_type": "stream",
     "text": [
      "[[5, 4, 3, 2, 1], [7, 8, 9]]\n"
     ]
    }
   ],
   "source": [
    "# 532. What will be the output after the following statements?\n",
    "\n",
    "import copy\n",
    "x = [5, 4, 3, 2, 1] \n",
    "y = [7, 8, 9] \n",
    "z = [x, y] \n",
    "a = copy.deepcopy(z) \n",
    "x[2] = 6 \n",
    "print(a)\n",
    "\n",
    "# a. [[5, 4, 3, 2, 1], [7, 8, 9]] \n",
    "# b. [[5, 4, 6, 2, 1], [7, 8, 9]] \n",
    "# c. [5, 4, 6, 3, 2, 1] \n",
    "# d. [5, 4, 6, 2, 1, 7, 8, 9] \n",
    "\n",
    "# a"
   ]
  },
  {
   "cell_type": "code",
   "execution_count": null,
   "id": "302ad352",
   "metadata": {},
   "outputs": [],
   "source": [
    "# 533. What will be the output after the following statements?\n",
    "\n",
    "x = {'day':'Sunday', 'week':10} \n",
    "print(x['year'])\n",
    "\n",
    "# a. day b. KeyError c. Sunday d. 10 \n",
    "\n",
    "# b"
   ]
  },
  {
   "cell_type": "code",
   "execution_count": 10,
   "id": "a88aba04",
   "metadata": {},
   "outputs": [
    {
     "name": "stdout",
     "output_type": "stream",
     "text": [
      "Sunday 10 "
     ]
    }
   ],
   "source": [
    "# 534. What will be the output after the following statements?\n",
    "\n",
    "x = {'day':'Sunday', 'week':10} \n",
    "for i in x.values(): \n",
    "    print(i, end=' ')\n",
    "    \n",
    "# a. Sunday 10 b. KeyError c. Sunday d. 10 \n",
    "\n",
    "# a"
   ]
  },
  {
   "cell_type": "code",
   "execution_count": 11,
   "id": "70d52d3d",
   "metadata": {},
   "outputs": [
    {
     "name": "stdout",
     "output_type": "stream",
     "text": [
      "day week "
     ]
    }
   ],
   "source": [
    "# 535. What will be the output after the following statements?\n",
    "\n",
    "x = {'day':'Sunday', 'week':10} \n",
    "for i in x: \n",
    "    print(i, end=' ')\n",
    "    \n",
    "# a. Sunday 10 b. day week c. Sunday d. 10\n",
    "\n",
    "# b"
   ]
  },
  {
   "cell_type": "code",
   "execution_count": 15,
   "id": "b7867d31",
   "metadata": {},
   "outputs": [],
   "source": [
    "# Algorithm Homework (#30)\n",
    "# 프로그래머 X는 코딩을 하다가 문득, 수학 시간에 배운 정수와 소수를\n",
    "# 구별하는 방법을 떠올렸다. \n",
    "# 정수와 소수의 차이는 분수로 표현이\n",
    "# 되느냐, 되지 않느냐에 따라 차이가 나기도 하며, 또한 파이 등 특정한\n",
    "# 값을 나타내는 것에 의하여 소수인지 정수인지 판별이 나게 된다.\n",
    "# 프로그래머 X는 입력값을 숫자를 입력하거나 문자를 입력하려고\n",
    "# 하는데,\n",
    "# 만약 숫자를 입력하였으면 그것이 정수인지, 소수인지 구별하는\n",
    "# 프로그램을 짜보도록 하고,\n",
    "# 만약 문자를 입력하였으면 숫자가 아니므로 math error를 표시하게 하라.\n",
    "# ( try, except 를 사용, eval 함수 참고 )"
   ]
  },
  {
   "cell_type": "code",
   "execution_count": 26,
   "id": "8543d834",
   "metadata": {},
   "outputs": [
    {
     "name": "stdout",
     "output_type": "stream",
     "text": [
      "숫자를 입력하세요ㅎㄹ\n",
      "math error\n"
     ]
    }
   ],
   "source": [
    "try:\n",
    "    no = float( input(\"숫자를 입력하세요\") );     # 숫자를 입력 받아 소수로 \n",
    "    \n",
    "    if no == int(no):                            # no == (no 내림) 소수자리가 없음으로 정수이다.\n",
    "        print(f\"{no}는 정수 입니다.\")            # 정수라는 문자 출력\n",
    "    else:                                        # 정수가 아니면 소수이다..\n",
    "        print(f\"{no}는 소수 입니다.\")            # 소수라는 문자 출력\n",
    "except ValueError as e:\n",
    "    print(\"math error\")\n"
   ]
  },
  {
   "cell_type": "code",
   "execution_count": null,
   "id": "048c1b29",
   "metadata": {},
   "outputs": [],
   "source": []
  }
 ],
 "metadata": {
  "kernelspec": {
   "display_name": "Python 3 (ipykernel)",
   "language": "python",
   "name": "python3"
  },
  "language_info": {
   "codemirror_mode": {
    "name": "ipython",
    "version": 3
   },
   "file_extension": ".py",
   "mimetype": "text/x-python",
   "name": "python",
   "nbconvert_exporter": "python",
   "pygments_lexer": "ipython3",
   "version": "3.9.7"
  }
 },
 "nbformat": 4,
 "nbformat_minor": 5
}
