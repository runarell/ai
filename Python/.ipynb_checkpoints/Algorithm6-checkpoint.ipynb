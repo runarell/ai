{
 "cells": [
  {
   "cell_type": "code",
   "execution_count": null,
   "id": "ed23fcd1",
   "metadata": {},
   "outputs": [],
   "source": [
    "# Fibonacci 피보나치 수열\n",
    "\n",
    "def fib(n):\n",
    "    a, b = 1,1;\n",
    "    if n ==1 or n==2: #1번째와 2번째의 값은 1\n",
    "        return 1\n",
    "    for i in range(1, n):\n",
    "        a,b = b, a+b\n",
    "    return a\n",
    "\n",
    "\n",
    "def fib2(n):\n",
    "    result = [1,1];\n",
    "    for i in range(1, n-1):\n",
    "        result.append( arr[i-1]+arr[i] );\n",
    "    return result\n",
    "\n",
    "print( fib2(6) )"
   ]
  },
  {
   "cell_type": "code",
   "execution_count": null,
   "id": "f880e104",
   "metadata": {},
   "outputs": [],
   "source": [
    "#2 재귀함수 \n",
    "arr = [1]\n",
    "def fib(n):\n",
    "    if n==1 or n ==0: #1번째와 2번째의 값은 1\n",
    "        return 1\n",
    "    else:\n",
    "        print(fib(n-1))\n",
    "        no = fib(n-1) + fib(n-2)\n",
    "        arr.append(no)\n",
    "        return no\n",
    "\n",
    "print( fib(5) )\n",
    "print( arr )"
   ]
  },
  {
   "cell_type": "code",
   "execution_count": null,
   "id": "e41a9d1c",
   "metadata": {},
   "outputs": [],
   "source": [
    "# 3 람다\n",
    "\n",
    "fib = lambda n:1 if n<=2 else fib(n-1)+fib(n-2)\n",
    "\n",
    "print( fib(10) )"
   ]
  },
  {
   "cell_type": "code",
   "execution_count": null,
   "id": "4c7949e3",
   "metadata": {},
   "outputs": [],
   "source": [
    "def fi(n):\n",
    "    result = []\n",
    "    fib = lambda n:1 if n<=2 else fib(n-1)+fib(n-2)\n",
    "\n",
    "    for i in range(1, n+1):\n",
    "        num = fib(i)\n",
    "        result.append(num);\n",
    "    return result;\n",
    "arr = fi(10)\n",
    "print(arr)\n"
   ]
  },
  {
   "cell_type": "code",
   "execution_count": null,
   "id": "ebed0d5f",
   "metadata": {},
   "outputs": [],
   "source": [
    "# 2D list 2차원 배열\n",
    "# pandas's dataframe 가 더 좋음\n",
    "\n",
    "#           math    korean\n",
    "# austin    90       80\n",
    "# rick      80       85\n",
    "# andy     100       70\n",
    "\n",
    "grade = [\n",
    "    [90,80],\n",
    "    [80,85],\n",
    "    [100,70]\n",
    "]\n",
    "print( grade[2][0])\n",
    "\n"
   ]
  },
  {
   "cell_type": "code",
   "execution_count": 5,
   "id": "95a8d3e8",
   "metadata": {},
   "outputs": [
    {
     "name": "stdout",
     "output_type": "stream",
     "text": [
      "[{'name': 'aa', 'age': '21', 'shoesize': '200'}, {'name': 'bb', 'age': '70', 'shoesize': '260'}, {'name': 'dd', 'age': '15', 'shoesize': '130'}, {'name': 'rr', 'age': '30', 'shoesize': '260'}]\n",
      "name?aa\n",
      "age : 21 / shoe size : 200\n"
     ]
    }
   ],
   "source": [
    "# ask the user to enter the name, age and shoe size for four people\n",
    "# ask for thr name of one of the people in the list and\n",
    "# display their age and shoe size\n",
    "arr =[]\n",
    "for i in range(4):\n",
    "    arr1 ={}\n",
    "    arr1[\"name\"] = input(\"name\")\n",
    "    arr1[\"age\"] = input(\"age\")\n",
    "    arr1[\"shoesize\"] = input(\"shoe size\")\n",
    "    arr.append(arr1);\n",
    "    \n",
    "na = input(\"name?\")\n",
    "for i in arr:\n",
    "    if i[\"name\"] == na:\n",
    "        print(f\"age : {i['age']} / shoe size : {i['shoesize']}\")\n"
   ]
  },
  {
   "cell_type": "code",
   "execution_count": 8,
   "id": "d9d24458",
   "metadata": {},
   "outputs": [
    {
     "name": "stdout",
     "output_type": "stream",
     "text": [
      "nameaa\n",
      "age43\n",
      "shoe size545\n",
      "nameff\n",
      "age54\n",
      "shoe size77\n",
      "nameyy\n",
      "age756\n",
      "shoe size33\n",
      "namebb\n",
      "age35\n",
      "shoe size77\n",
      "name?ee\n",
      "name : aa age : 43 / shoe size : 545\n",
      "name : ff age : 54 / shoe size : 77\n",
      "name : yy age : 756 / shoe size : 33\n",
      "name : bb age : 35 / shoe size : 77\n"
     ]
    }
   ],
   "source": [
    "# After gathering thr four names, ages and shoe size,\n",
    "# ask the user to enter the name of the person they want to remove from the dict.\n",
    "# Delet this roe from the data and display the other rows on separate lines\n",
    "\n",
    "\n",
    "arr =[]\n",
    "for i in range(4):\n",
    "    arr1 ={}\n",
    "    arr1[\"name\"] = input(\"name\")\n",
    "    arr1[\"age\"] = input(\"age\")\n",
    "    arr1[\"shoesize\"] = input(\"shoe size\")\n",
    "    arr.append(arr1);\n",
    "    \n",
    "na = input(\"name?\")\n",
    "for i in range( len(arr) ):\n",
    "    if arr[i][\"name\"] == na:\n",
    "        del arr[i]; \n",
    "     \n",
    "for i in range( len(arr) ):\n",
    "    print(f\"name : {arr[i]['name']} age : {arr[i]['age']} / shoe size : {arr[i]['shoesize']}\")\n"
   ]
  },
  {
   "cell_type": "code",
   "execution_count": 13,
   "id": "2760703f",
   "metadata": {},
   "outputs": [],
   "source": [
    "# Reading and Writing to a File\n",
    "\n",
    "# it is all very well being able to define a list, make changes and add new data\n",
    "# but if the next time the program is run it return to the origin data and your\n",
    "# changes are lost then it is not a lot of use. Therefore, it is sometimes necessary\n",
    "# to save the data outside of the program and this way the data can be stored,\n",
    "# along with any changes that are made.\n",
    "\n",
    "fe = open(\"Countries.txt\", \"w\")\n",
    "fe.write(\"Italy\\n\")\n",
    "fe.write(\"Gemany\\n\")\n",
    "fe.write(\"Spain\\n\")\n",
    "fe.close()"
   ]
  },
  {
   "cell_type": "code",
   "execution_count": 16,
   "id": "94186600",
   "metadata": {},
   "outputs": [
    {
     "name": "stdout",
     "output_type": "stream",
     "text": [
      "Italy\n",
      "Gemany\n",
      "Spain\n",
      "France\n"
     ]
    }
   ],
   "source": [
    "f = open(\"Countries.txt\", \"r\")\n",
    "print( f.read() )\n",
    "\n",
    "f.close()"
   ]
  },
  {
   "cell_type": "code",
   "execution_count": 15,
   "id": "4cca1a02",
   "metadata": {},
   "outputs": [],
   "source": [
    "f = open(\"Countries.txt\", \"a\")\n",
    "f.write(\"France\")\n",
    "f.close()"
   ]
  },
  {
   "cell_type": "code",
   "execution_count": null,
   "id": "12e4fed3",
   "metadata": {},
   "outputs": [],
   "source": [
    "# Display the following menu to the user:\n",
    "# 1> Create a new file\n",
    "# 2> Display the  file\n",
    "# 3> add a new item to the file\n",
    "# Make a selection 1,2 or 3:\n",
    "\n",
    "# Ask the user to enter 1,2 or 3. \n",
    "# If they select anything other than 12,or 3 it should display a suitable error message\n",
    "\n",
    "# if the select 1, ask the user to "
   ]
  },
  {
   "cell_type": "code",
   "execution_count": null,
   "id": "7037fa96",
   "metadata": {},
   "outputs": [],
   "source": []
  }
 ],
 "metadata": {
  "kernelspec": {
   "display_name": "Python 3 (ipykernel)",
   "language": "python",
   "name": "python3"
  },
  "language_info": {
   "codemirror_mode": {
    "name": "ipython",
    "version": 3
   },
   "file_extension": ".py",
   "mimetype": "text/x-python",
   "name": "python",
   "nbconvert_exporter": "python",
   "pygments_lexer": "ipython3",
   "version": "3.9.7"
  }
 },
 "nbformat": 4,
 "nbformat_minor": 5
}
