{
 "cells": [
  {
   "cell_type": "code",
   "execution_count": 1,
   "id": "ccc4f6d4",
   "metadata": {},
   "outputs": [],
   "source": [
    "# 크롤링\n",
    "# 벅스 멜론 지니 ( 차트 가져오기 )\n",
    "# pip install requests   # 모듈 다운\n",
    "import requests # 웹 페이지 연결 모듈"
   ]
  },
  {
   "cell_type": "code",
   "execution_count": 2,
   "id": "2e60879e",
   "metadata": {},
   "outputs": [],
   "source": [
    "# pip install bs4\n",
    "from bs4 import BeautifulSoup as bs  # 읽어온 웹페잊를 분석하기 쉽게 정제"
   ]
  },
  {
   "cell_type": "code",
   "execution_count": 3,
   "id": "1e711d0f",
   "metadata": {},
   "outputs": [],
   "source": [
    "import pandas # 데이터 분석 모듈"
   ]
  },
  {
   "cell_type": "code",
   "execution_count": 8,
   "id": "bb2069ed",
   "metadata": {},
   "outputs": [],
   "source": [
    "# 벅스 차트 \"https://music.bugs.co.kr/chart\"\n",
    "html = requests.get(\"https://music.bugs.co.kr/chart\")          # 벅스차트\n",
    "\n",
    "# print( html.text );"
   ]
  },
  {
   "cell_type": "code",
   "execution_count": 10,
   "id": "42140138",
   "metadata": {},
   "outputs": [],
   "source": [
    "soup = bs(html.text);  # BeautifulSoup 을 통해 데이터 분석에 용이하게 정제\n",
    "    \n",
    "# print(soup)"
   ]
  },
  {
   "cell_type": "code",
   "execution_count": 19,
   "id": "6b3ac78f",
   "metadata": {},
   "outputs": [],
   "source": [
    "songs = soup.select(\"table.byChart > tbody > tr\");  # 곡 리스트 데이터 배열\n",
    "# print(songs[0])\n",
    "# pr = len(songs);\n",
    "# print(pr)\n",
    "# print(songs[0]);"
   ]
  },
  {
   "cell_type": "code",
   "execution_count": 40,
   "id": "74cfc349",
   "metadata": {},
   "outputs": [
    {
     "name": "stdout",
     "output_type": "stream",
     "text": [
      "1  태연 (TAEYEON)  INVU  INVU - The 3rd Album\n"
     ]
    }
   ],
   "source": [
    "singer = songs[0].select_one(\"p.artist > a\").text    # 가수명 추출\n",
    "songName = songs[0].select_one(\"p.title > a\").text    # 가수명 추출\n",
    "ranking = songs[0].select_one(\"div.ranking > strong\").text    # 랭킹\n",
    "album = songs[0].select_one(\"a.album\").text    # 앨범\n",
    "\n",
    "print( f\"{ranking}  {singer}  {songName}  {album}\" )"
   ]
  },
  {
   "cell_type": "code",
   "execution_count": 47,
   "id": "2f1af241",
   "metadata": {
    "scrolled": true
   },
   "outputs": [
    {
     "name": "stdout",
     "output_type": "stream",
     "text": [
      "[['1', 'INVU', '태연 (TAEYEON)'], ['2', '그래서 그래 (Feat. 윤하)', '에픽하이 (EPIK HIGH)'], ['3', '그런 밤 (Some Nights)', '태연 (TAEYEON)'], ['4', 'Dilemma', 'Apink (에이핑크)'], ['5', 'Set Myself On Fire', '태연 (TAEYEON)'], ['6', '어른아이 (Toddler)', '태연 (TAEYEON)'], ['7', '우연처럼,인연처럼,운명처럼', '김기태'], ['8', 'Timeless', '태연 (TAEYEON)'], ['9', 'Siren', '태연 (TAEYEON)'], ['10', '품 (Heart)', '태연 (TAEYEON)'], ['11', 'Cold As Hell', '태연 (TAEYEON)'], ['12', 'No Love Again', '태연 (TAEYEON)'], ['13', '잊을 수 있을까', '노을'], ['14', 'You Better Not', '태연 (TAEYEON)'], ['15', '언제나 사랑해', '케이시'], ['16', '너만 예뻐', '스탠딩 에그(Standing Egg)'], ['17', \"Stronger (What Doesn't Kill You)\", 'Kelly Clarkson(켈리 클락슨)'], ['18', 'Ending Credits', '태연 (TAEYEON)'], ['19', 'SMILEY (Feat. BIBI)', 'YENA (최예나)'], ['20', 'Prequel', '에픽하이 (EPIK HIGH)'], ['21', 'Stay Alive (Prod. SUGA of BTS)', '정국'], ['22', '대낮에 한 이별', '선예'], ['23', '아무렇지 않은 척', '빅마마(Big Mama)'], ['24', 'ELEVEN', 'IVE (아이브)'], ['25', 'Rich Kids Anthem (Feat. 이하이)', '에픽하이 (EPIK HIGH)'], ['26', 'BRB', '에픽하이 (EPIK HIGH)'], ['27', 'Step Back', 'GOT the beat'], ['28', \"Can't Control Myself\", '태연 (TAEYEON)'], ['29', '취중고백', '김민석 (멜로망스)'], ['30', 'abcdefu', 'GAYLE'], ['31', 'Super Rare (Feat. Wonstein, pH-1)', '에픽하이 (EPIK HIGH)'], ['32', '슬픈 연극 (금혼령 X 에일리 (Ailee))', '에일리(Ailee)'], ['33', '사랑은 늘 도망가', '임영웅'], ['34', '우리가 헤어져야 했던 이유', '비비(BIBI)'], ['35', '너 아니면 안돼', '먼데이 키즈(Monday Kiz)'], ['36', '서랍', '10CM'], ['37', '넌 나에게', '기프트(GIFT)'], ['38', 'DM', '프로미스나인'], ['39', 'Dreams Come True', 'aespa'], ['40', 'BOP BOP!', 'VIVIZ (비비지)'], ['41', '드라마', '아이유(IU)'], ['42', 'Christmas Tree', 'V'], ['43', 'Next Level', 'aespa'], ['44', 'strawberry moon', '아이유(IU)'], ['45', 'Counting Stars (Feat. Beenzino)', \"BE'O (비오)\"], ['46', '너, 너 (N번째 연애 X 휘인 (Whee In))', '휘인(Whee In)'], ['47', '신호등', '이무진'], ['48', '눈이 오잖아(Feat.헤이즈)', '이무진'], ['49', 'Champagne', '에픽하이 (EPIK HIGH)'], ['50', '비 오는 날 듣기 좋은 노래 (Feat. Colde)', '에픽하이 (EPIK HIGH)'], ['51', '다정히 내 이름을 부르면', '경서예지'], ['52', '회전목마 (Feat. Zion.T, 원슈타인) (Prod. Slom)', 'sokodomo'], ['53', '겨울잠', '아이유(IU)'], ['54', '여름비', '샘김(Sam Kim)'], ['55', 'STAY', 'The Kid LAROI'], ['56', '라일락', '아이유(IU)'], ['57', '안녕, 잘 가', '원필(DAY6)'], ['58', '가족관계증명서 (Feat. 김필)', '에픽하이 (EPIK HIGH)'], ['59', 'OHAYO MY NIGHT', '디핵(D-Hack)'], ['60', '리무진 (Feat. MINO) (Prod. GRAY)', \"BE'O (비오)\"], ['61', 'Light Switch', 'Charlie Puth(찰리 푸스)'], ['62', 'Butter', '방탄소년단'], ['63', \"I Hated Myself (Tablo's Word)\", '에픽하이 (EPIK HIGH)'], ['64', 'Savage', 'aespa'], ['65', '너무 아픈 사랑은 사랑이 아니었음을', '싱어게인2 33호 가수'], ['66', 'Off My Face', 'Justin Bieber(저스틴 비버)'], ['67', 'Permission to Dance', '방탄소년단'], ['68', '사랑하는 척', '바이브'], ['69', '문득', \"BE'O (비오)\"], ['70', 'Blueming', '아이유(IU)'], ['71', 'Dynamite', '방탄소년단'], ['72', '만남은 쉽고 이별은 어려워 (Feat. Leellamarz) (Prod. TOIL)', '베이식(Basick)'], ['73', 'WA DA DA', 'Kep1er (케플러)'], ['74', 'Weekend', '태연 (TAEYEON)'], ['75', 'Celebrity', '아이유(IU)'], ['76', '낙하 (with 아이유)', 'AKMU(악뮤)'], ['77', \"Good Night (Feat. BE'O)\", '쿠기 (Coogie)'], ['78', 'My Universe', 'Coldplay(콜드플레이)'], ['79', 'Face ID (Feat. GIRIBOY, Sik-K, JUSTHIS)', '에픽하이 (EPIK HIGH)'], ['80', '흰눈', '먼데이 키즈(Monday Kiz)'], ['81', '호랑수월가', '탑현'], ['82', '너를 생각해', '주시크 (Joosiq)'], ['83', '행운을 빌어 줘', '원필(DAY6)'], ['84', 'HOLY MOLY', 'Apink (에이핑크)'], ['85', '지우게', '원필(DAY6)'], ['86', '너의 모든 순간', '성시경'], ['87', 'Starlight', '태일 (TAEIL)'], ['88', 'Bad Habits', 'Ed Sheeran(에드 시런)'], ['89', 'Peaches (feat. Daniel Caesar, Giveon)', 'Justin Bieber(저스틴 비버)'], ['90', '너는 내 세상이었어', '볼빨간사춘기'], ['91', '모든 날, 모든 순간 (Every day, Every Moment)', '폴킴(Paul Kim)'], ['92', '이별후회', '김나영'], ['93', 'Queendom', 'Red Velvet (레드벨벳)'], ['94', '바라만 본다', 'MSG워너비(M.O.M)'], ['95', '에잇(Prod.&Feat. SUGA of BTS)', '아이유(IU)'], ['96', '어떻게 이별까지 사랑하겠어, 널 사랑하는 거지', 'AKMU(악뮤)'], ['97', '이등병의 DM', '임플란티드 키드 (Implanted Kid)'], ['98', 'Tiny Riot', 'Sam Ryder'], ['99', '언덕나무', '이승윤'], ['100', '어른', 'Sondia']]\n"
     ]
    }
   ],
   "source": [
    "song_data = [];\n",
    "rank = 1;\n",
    "\n",
    "for song in songs:\n",
    "    singer = song.select_one(\"p.artist > a\").text    # 가수명 추출\n",
    "    title = song.select_one(\"p.title > a\").text    # 가수명 추출\n",
    "    rank = song.select_one(\"div.ranking > strong\").text    # 랭킹\n",
    "    song_data.append([rank, title, singer]);\n",
    "\n",
    "print(song_data)"
   ]
  },
  {
   "cell_type": "code",
   "execution_count": 48,
   "id": "80786ef6",
   "metadata": {},
   "outputs": [
    {
     "name": "stdout",
     "output_type": "stream",
     "text": [
      "     순위                        타이틀                        가수\n",
      "0     1                       INVU              태연 (TAEYEON)\n",
      "1     2          그래서 그래 (Feat. 윤하)          에픽하이 (EPIK HIGH)\n",
      "2     3         그런 밤 (Some Nights)              태연 (TAEYEON)\n",
      "3     4                    Dilemma              Apink (에이핑크)\n",
      "4     5         Set Myself On Fire              태연 (TAEYEON)\n",
      "..  ...                        ...                       ...\n",
      "95   96  어떻게 이별까지 사랑하겠어, 널 사랑하는 거지                  AKMU(악뮤)\n",
      "96   97                    이등병의 DM  임플란티드 키드 (Implanted Kid)\n",
      "97   98                  Tiny Riot                 Sam Ryder\n",
      "98   99                       언덕나무                       이승윤\n",
      "99  100                         어른                    Sondia\n",
      "\n",
      "[100 rows x 3 columns]\n"
     ]
    }
   ],
   "source": [
    "import pandas as pd\n",
    "\n",
    "df = pd.DataFrame(song_data, columns = [\"순위\",\"타이틀\",\"가수\"]);\n",
    "\n",
    "# print(df)"
   ]
  },
  {
   "cell_type": "code",
   "execution_count": 51,
   "id": "8be64900",
   "metadata": {},
   "outputs": [
    {
     "ename": "NameError",
     "evalue": "name 'Fales' is not defined",
     "output_type": "error",
     "traceback": [
      "\u001b[1;31m---------------------------------------------------------------------------\u001b[0m",
      "\u001b[1;31mNameError\u001b[0m                                 Traceback (most recent call last)",
      "\u001b[1;32m~\\AppData\\Local\\Temp/ipykernel_20472/511502028.py\u001b[0m in \u001b[0;36m<module>\u001b[1;34m\u001b[0m\n\u001b[1;32m----> 1\u001b[1;33m \u001b[0mdf\u001b[0m\u001b[1;33m.\u001b[0m\u001b[0mto_excel\u001b[0m\u001b[1;33m(\u001b[0m\u001b[1;34m\"bugs.xlsx\"\u001b[0m\u001b[1;33m,\u001b[0m \u001b[0mindex\u001b[0m\u001b[1;33m=\u001b[0m\u001b[0mFales\u001b[0m\u001b[1;33m)\u001b[0m\u001b[1;33m;\u001b[0m\u001b[1;33m\u001b[0m\u001b[1;33m\u001b[0m\u001b[0m\n\u001b[0m",
      "\u001b[1;31mNameError\u001b[0m: name 'Fales' is not defined"
     ]
    }
   ],
   "source": [
    "df.to_excel(\"bugs.xlsx\", index=Fales);"
   ]
  },
  {
   "cell_type": "code",
   "execution_count": null,
   "id": "99eb12ad",
   "metadata": {},
   "outputs": [],
   "source": []
  },
  {
   "cell_type": "code",
   "execution_count": null,
   "id": "97595968",
   "metadata": {},
   "outputs": [],
   "source": []
  },
  {
   "cell_type": "code",
   "execution_count": null,
   "id": "e5ea7ce9",
   "metadata": {},
   "outputs": [],
   "source": []
  },
  {
   "cell_type": "code",
   "execution_count": null,
   "id": "3e739973",
   "metadata": {},
   "outputs": [],
   "source": []
  },
  {
   "cell_type": "code",
   "execution_count": null,
   "id": "2cd8ce52",
   "metadata": {},
   "outputs": [],
   "source": []
  },
  {
   "cell_type": "code",
   "execution_count": null,
   "id": "ba670b80",
   "metadata": {},
   "outputs": [],
   "source": [
    "# <table class=\"list trackList byChart\">"
   ]
  },
  {
   "cell_type": "code",
   "execution_count": null,
   "id": "eba85728",
   "metadata": {},
   "outputs": [],
   "source": [
    "# html = requests.get(\"https://www.melon.com/chart/index.htm\")   # 멜론차트 불가\n",
    "# html = requests.get(\"https://www.genie.co.kr/chart/top200\")    # 지니차트 불가"
   ]
  }
 ],
 "metadata": {
  "kernelspec": {
   "display_name": "Python 3 (ipykernel)",
   "language": "python",
   "name": "python3"
  },
  "language_info": {
   "codemirror_mode": {
    "name": "ipython",
    "version": 3
   },
   "file_extension": ".py",
   "mimetype": "text/x-python",
   "name": "python",
   "nbconvert_exporter": "python",
   "pygments_lexer": "ipython3",
   "version": "3.9.7"
  }
 },
 "nbformat": 4,
 "nbformat_minor": 5
}
