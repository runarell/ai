{
 "cells": [
  {
   "cell_type": "code",
   "execution_count": 1,
   "id": "dd6f6530",
   "metadata": {},
   "outputs": [
    {
     "name": "stdout",
     "output_type": "stream",
     "text": [
      "5\n"
     ]
    }
   ],
   "source": [
    "# 문자열의 길이를 구하기\n",
    "print( len(\"안녕하세요\"));"
   ]
  },
  {
   "cell_type": "code",
   "execution_count": 2,
   "id": "5a9593d4",
   "metadata": {},
   "outputs": [
    {
     "name": "stdout",
     "output_type": "stream",
     "text": [
      "True\n"
     ]
    }
   ],
   "source": [
    "# 조건문\n",
    "# blool & if\n",
    "print(True);\n",
    "# print(true) # 소문자는 문자로인식"
   ]
  },
  {
   "cell_type": "code",
   "execution_count": 4,
   "id": "8f692708",
   "metadata": {},
   "outputs": [
    {
     "name": "stdout",
     "output_type": "stream",
     "text": [
      "False\n",
      "True\n",
      "True\n",
      "False\n",
      "True\n",
      "False\n"
     ]
    }
   ],
   "source": [
    "print (10 == 100);\n",
    "print(10 != 100);\n",
    "print(10 < 100);\n",
    "print(10 > 100);\n",
    "print(10 <= 100);\n",
    "print(10 >= 100);"
   ]
  },
  {
   "cell_type": "code",
   "execution_count": 7,
   "id": "4d3af1ca",
   "metadata": {},
   "outputs": [
    {
     "name": "stdout",
     "output_type": "stream",
     "text": [
      "True\n",
      "True\n",
      "True\n",
      "False\n"
     ]
    }
   ],
   "source": [
    "print (\"가방\" == \"가방\");\n",
    "print(\"가방\" != \"백\");\n",
    "print(\"가방\" < \"백\");\n",
    "print(\"가방\" > \"백\");"
   ]
  },
  {
   "cell_type": "code",
   "execution_count": 9,
   "id": "374c34ed",
   "metadata": {},
   "outputs": [
    {
     "name": "stdout",
     "output_type": "stream",
     "text": [
      "정수를 입력하게요>>10\n"
     ]
    },
    {
     "ename": "TypeError",
     "evalue": "'>' not supported between instances of 'str' and 'int'",
     "output_type": "error",
     "traceback": [
      "\u001b[1;31m---------------------------------------------------------------------------\u001b[0m",
      "\u001b[1;31mTypeError\u001b[0m                                 Traceback (most recent call last)",
      "\u001b[1;32m~\\AppData\\Local\\Temp/ipykernel_33344/1888407310.py\u001b[0m in \u001b[0;36m<module>\u001b[1;34m\u001b[0m\n\u001b[0;32m      6\u001b[0m \u001b[0mnum\u001b[0m \u001b[1;33m=\u001b[0m \u001b[0minput\u001b[0m\u001b[1;33m(\u001b[0m\u001b[1;34m\"정수를 입력하게요>>\"\u001b[0m\u001b[1;33m)\u001b[0m\u001b[1;33m;\u001b[0m\u001b[1;33m\u001b[0m\u001b[1;33m\u001b[0m\u001b[0m\n\u001b[0;32m      7\u001b[0m \u001b[1;33m\u001b[0m\u001b[0m\n\u001b[1;32m----> 8\u001b[1;33m \u001b[1;32mif\u001b[0m \u001b[0mnum\u001b[0m \u001b[1;33m>\u001b[0m \u001b[1;36m0\u001b[0m\u001b[1;33m:\u001b[0m\u001b[1;33m\u001b[0m\u001b[1;33m\u001b[0m\u001b[0m\n\u001b[0m\u001b[0;32m      9\u001b[0m     \u001b[0mprint\u001b[0m\u001b[1;33m(\u001b[0m\u001b[1;34m\"양수 이니다.\"\u001b[0m\u001b[1;33m)\u001b[0m\u001b[1;33m;\u001b[0m\u001b[1;33m\u001b[0m\u001b[1;33m\u001b[0m\u001b[0m\n\u001b[0;32m     10\u001b[0m \u001b[1;32mif\u001b[0m \u001b[0mnum\u001b[0m \u001b[1;33m<\u001b[0m \u001b[1;36m0\u001b[0m\u001b[1;33m:\u001b[0m\u001b[1;33m\u001b[0m\u001b[1;33m\u001b[0m\u001b[0m\n",
      "\u001b[1;31mTypeError\u001b[0m: '>' not supported between instances of 'str' and 'int'"
     ]
    }
   ],
   "source": [
    "# if 조건문...\n",
    "# 조건에 따라 특정 코드를 실행하거나 특정 코드를 실행하지 않게 만들고 있을때 \n",
    "# 사용코드의 실행 흐름을 변경시키는 것을 조건 분기 라고 부른다\n",
    "\n",
    "# indent 파이썬은 띄워쓰기에 민감!  Tap, spac*2 추천 : 스페이스*2\n",
    "num = int(input(\"정수를 입력하게요>>\"));\n",
    "\n",
    "if num > 0:\n",
    "    print(\"양수 이니다.\");\n",
    "if num < 0:\n",
    "    print(\"음수 입니다.\");\n",
    "if num == 0:\n",
    "    print(\"0입니다.\");    "
   ]
  },
  {
   "cell_type": "code",
   "execution_count": 15,
   "id": "146defec",
   "metadata": {},
   "outputs": [
    {
     "name": "stdout",
     "output_type": "stream",
     "text": [
      "2022-01-28 14:33:09.455497\n"
     ]
    }
   ],
   "source": [
    "# 날짜/시간 과 관련된 기능릉 가져오기\n",
    "import datetime;\n",
    "\n",
    "#현재 날짜와 시간을 구하는 함수\n",
    "now = datetime.datetime.now();\n",
    "\n",
    "print( now );"
   ]
  },
  {
   "cell_type": "code",
   "execution_count": 21,
   "id": "6cf1751d",
   "metadata": {},
   "outputs": [
    {
     "name": "stdout",
     "output_type": "stream",
     "text": [
      "현재 시각은 14시 40분로 오후입니다.\n"
     ]
    }
   ],
   "source": [
    "import datetime;\n",
    "now = datetime.datetime.now();\n",
    "h = now.hour;\n",
    "m = now.minute;\n",
    "j = \"오전\";\n",
    "\n",
    "if int(h) > 12:\n",
    "    j = \"오후\"\n",
    "\n",
    "print( f\"현재 시각은 {h}시 {m}분로 {j}입니다.\")"
   ]
  },
  {
   "cell_type": "code",
   "execution_count": 28,
   "id": "bdde33f3",
   "metadata": {},
   "outputs": [
    {
     "name": "stdout",
     "output_type": "stream",
     "text": [
      "이번달은 여름입니다.\n"
     ]
    }
   ],
   "source": [
    "import datetime;\n",
    "now = datetime.datetime.now();\n",
    "m = now.month;\n",
    "st = \"\";\n",
    "if 3 <= m < 6 :\n",
    "    st = \"봄\"\n",
    "if 6 <= m < 9 :\n",
    "    st = \"여름\"\n",
    "if 9 <= m < 12 :\n",
    "    st = \"가을\"\n",
    "if m == 12 or m <= 3:\n",
    "    st = \"가을\"    \n",
    "\n",
    "print( f\"이번달은 {st}입니다.\")"
   ]
  }
 ],
 "metadata": {
  "kernelspec": {
   "display_name": "Python 3 (ipykernel)",
   "language": "python",
   "name": "python3"
  },
  "language_info": {
   "codemirror_mode": {
    "name": "ipython",
    "version": 3
   },
   "file_extension": ".py",
   "mimetype": "text/x-python",
   "name": "python",
   "nbconvert_exporter": "python",
   "pygments_lexer": "ipython3",
   "version": "3.9.7"
  }
 },
 "nbformat": 4,
 "nbformat_minor": 5
}
