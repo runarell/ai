{
 "cells": [
  {
   "cell_type": "code",
   "execution_count": null,
   "id": "eaefdafd",
   "metadata": {},
   "outputs": [],
   "source": [
    "# ask the user to enter a number. keep asking until they enter a value over 5 and then display the message \"The last number you enter was a [number]\" and stop the program\n"
   ]
  },
  {
   "cell_type": "code",
   "execution_count": null,
   "id": "580122a4",
   "metadata": {},
   "outputs": [],
   "source": [
    "# Ask the user to enter a number and then enter anotger number.\n",
    "# ass there two numbers togerher and then ask\n",
    "# if they want to add another number. if they enter \"y\", ask them to enter \n",
    "# another numbers until thu do not ansert \"y\" . Onec the loop has stopped,\n",
    "# display the total\n",
    "\n",
    "sum = int( input(\"번호 입력\") );\n",
    "an = \"\";\n",
    "while an ==\"Y\" :\n",
    "    no = int( input(\"번호 입력\") );\n",
    "    sum += no;   \n",
    "    an = input(\"계속 할 것인가? (Y/N)\");\n",
    "    \n",
    "print( sum );"
   ]
  },
  {
   "cell_type": "code",
   "execution_count": null,
   "id": "8bb6d4b3",
   "metadata": {},
   "outputs": [],
   "source": [
    "# Ask for the name of sombody the user wants to invite to a party\n",
    "# After this, display the message \"[name] fas now been invited\"\n",
    "# and add 1 to ther count. then ask if they want to invite somebody else\n",
    "# Keep repeating this until they no longer want to invite anyone else to the \n",
    "# parthy and then display how many people they have coming to the party\n",
    "\n",
    "\n",
    "p = [];\n",
    "ans2 = \"y\";\n",
    "while ans2 == \"y\":\n",
    "    ans1 = input(\"파티 조대\");\n",
    "    p.append(ans1);\n",
    "    ans2 = input(\"초대완료? (y/n)\")\n",
    "\n",
    "print(f\"{len(p)} 명 초대\")\n",
    "\n"
   ]
  },
  {
   "cell_type": "code",
   "execution_count": null,
   "id": "abc82aad",
   "metadata": {},
   "outputs": [],
   "source": [
    "# Create a variavle called compnum and set the value to 50.\n",
    "# Ask the uert to enter a number\n",
    "# while their guess is not the same as the compnum value,\n",
    "# tell thim ig their guuess is too low or too high and ask them tod jave another guess.\n",
    "# If they enter the message \"Well done, you took [count] apptmpts\".\n",
    "import random\n",
    "\n",
    "compnum = random.randrange(1, 100)\n",
    "# print (compnum)\n",
    "while True :\n",
    "    user = int( input(\"숫자는 몇?\") );\n",
    "    if compnum == user:\n",
    "        print(\"정답\");\n",
    "        break;\n",
    "    else:\n",
    "        print(\"실패\");\n",
    "        "
   ]
  },
  {
   "cell_type": "code",
   "execution_count": null,
   "id": "d5788614",
   "metadata": {
    "scrolled": true
   },
   "outputs": [],
   "source": [
    "# Using the song \"10 green bottles\", display the lines \n",
    "\n",
    "# \"there are [num] green bottles hanging on the wall,\n",
    "# [num] green bottles hanging on the wall, \n",
    "# and if 1 green bottle should accidentally fall\"\n",
    "\n",
    "# then ask the qustion \"how many green bottles will be hanging on the wall?\"\n",
    "# if the user answers correctly, display the message \n",
    "# \"there will be [num] green bottles hangeing on the wall\"\n",
    "# \"no, try again\" until ghey get if right.\n",
    "# when the number of green bottles gets down to 0,\n",
    "# display the message \"there are no moer green bottles hanging on the wall\"\n",
    "import random\n",
    "\n",
    "gb = 10;\n",
    "while gb < 0:\n",
    "    no = random.randrange(1, gb)\n",
    "    print(f\"there are {gb} green bottles hanging on the wall \\n\")\n",
    "    print(f\"{no} green bottles hanging on the wall \\n\")\n",
    "    last = gb-no;\n",
    "    \n",
    "    while True:\n",
    "        ans = int( input(\"how many green bottles will be hanging on the wall?\") )\n",
    "        if last == ans:\n",
    "            print(f\"there will be {ans} green bottles hangeing on the wall \\n\")\n",
    "            gb = last;\n",
    "            break;\n",
    "        else:\n",
    "            print(\"no, try again\")\n",
    "    \n",
    "print(\"display the message there are no moer green bottles hanging on the wall\")"
   ]
  },
  {
   "cell_type": "code",
   "execution_count": null,
   "id": "27b06db6",
   "metadata": {},
   "outputs": [],
   "source": [
    "# Random\n",
    "import random\n",
    "# random.random()\n",
    "# random floating number betwoon 0 and 1\n",
    "no1 = random.random() # 0~1 기본\n",
    "print(no1)\n",
    "\n",
    "# Selects a random whole numver betwoon 0 and 9(inclusive)\n",
    "no2 = random.randint(0,9); \n",
    "print(no2)\n",
    "\n",
    "# picks a random number between the numbers 0 and 100(inclusive) in steps of five\n",
    "# it will only pock from 0, 5, 10, 15, 20... ect\n",
    "no3 = random.randrange(0, 100, 5);\n",
    "print(no3)\n",
    "\n",
    "# Picks a random value from the options.....\n",
    "color = random.choice( [\"red\",\"black\",\"blue\",\"green\",\"white\"] )\n",
    "print(color);\n",
    "\n"
   ]
  },
  {
   "cell_type": "code",
   "execution_count": null,
   "id": "0e37c808",
   "metadata": {},
   "outputs": [],
   "source": [
    "# Randomly choose either heads or tails ('h' or 't') \n",
    "# Ask the user to make their choice.\n",
    "# If their choice is the same as the randomly selected value\n",
    "# display the message \"You Win\", otherwise display \"bad luck\".\n",
    "# At the end, tell the user if the conputer seleted heads or tails\n",
    "import random\n",
    "rd = random.choice( [\"h\", \"t\"])\n",
    "ans = input(\"choes ?(h/t)\")\n",
    "\n",
    "if rd == ans :\n",
    "    print(\"You Win\")\n",
    "else:\n",
    "    print(\"bad luck\")\n",
    "    \n"
   ]
  },
  {
   "cell_type": "code",
   "execution_count": null,
   "id": "13ec87e9",
   "metadata": {},
   "outputs": [],
   "source": [
    "# Makes a mths quiz that asks five questions\n",
    "# by randomly generating two whole numbers to make the question\n",
    "# num1 + num2 \n",
    "# Ask the user to enter the answer.\n",
    "# If they get it right add a point to their score.\n",
    "# At the end of the quiz, tell them how many they got correct out of five.\n",
    "\n",
    "# output : \"you scored [] out of 5\"\n",
    "cont = 0;\n",
    "for i in range(5):\n",
    "    no1 = random.randint(0,9);\n",
    "    no2 = random.randint(0,9);\n",
    "    sum = no1 + no2;\n",
    "    print(\"no1 + no2 = \");\n",
    "    ans = int( input(f\"your anwer : \"));\n",
    "    if sum == ans:\n",
    "        cont += 1;\n",
    "        \n",
    "print(f\"you scored {cont} out of 5\");"
   ]
  },
  {
   "cell_type": "code",
   "execution_count": 2,
   "id": "a290db5d",
   "metadata": {},
   "outputs": [
    {
     "name": "stdout",
     "output_type": "stream",
     "text": [
      "red black blue green white\n",
      "색상 선택 >red\n",
      "넌 실패했다. 기회를 다시 주지\n",
      "있으면 행복해 지는 색이지\n",
      "red black blue green white\n",
      "색상 선택 >green\n",
      "I bet you are green with envy\n"
     ]
    }
   ],
   "source": [
    "# Display five colors and ask the user to pick one.\n",
    "#  If they pick the same as the program has chosen,\n",
    "# say \"Well done\", otherwise display \n",
    "# the correct colots...like... \"I bet you are GREEN with envy\"\n",
    "# or \"you are probably feeling BLUE right now\".\n",
    "# Ask them to guess again : if they have still not got it right,\n",
    "# keeo giving them the same clue and ask the user to enter a color\n",
    "# until they guess it correctly\n",
    "import random\n",
    "color = random.choice( [\"red\",\"black\",\"blue\",\"green\",\"white\"] )\n",
    "while True:\n",
    "    print(\"red\",\"black\",\"blue\",\"green\",\"white\")\n",
    "    ch_color = input(\"색상 선택 >\")\n",
    "\n",
    "    if color == ch_color:\n",
    "        print(f\"I bet you are {ch_color} with envy\");\n",
    "        break;\n",
    "    else:\n",
    "        print(\"넌 실패했다. 기회를 다시 주지\");\n",
    "        if color == \"red\":\n",
    "            print(\"이 색상으로 이름쓰면 안됨\")\n",
    "        if color == \"black\":\n",
    "            print(\"당신의 미래의 색상?!\")\n",
    "        if color == \"blue\":\n",
    "            print(\"java를 처음 본 너의 얼굴색\")\n",
    "        if color == \"green\":\n",
    "            print(\"있으면 행복해 지는 색이지\")\n",
    "        if color == \"white\":\n",
    "            print(\"너의 방은 이 색상이어야 해\")\n"
   ]
  },
  {
   "cell_type": "code",
   "execution_count": null,
   "id": "32bdacfa",
   "metadata": {},
   "outputs": [],
   "source": []
  }
 ],
 "metadata": {
  "kernelspec": {
   "display_name": "Python 3 (ipykernel)",
   "language": "python",
   "name": "python3"
  },
  "language_info": {
   "codemirror_mode": {
    "name": "ipython",
    "version": 3
   },
   "file_extension": ".py",
   "mimetype": "text/x-python",
   "name": "python",
   "nbconvert_exporter": "python",
   "pygments_lexer": "ipython3",
   "version": "3.9.7"
  }
 },
 "nbformat": 4,
 "nbformat_minor": 5
}
