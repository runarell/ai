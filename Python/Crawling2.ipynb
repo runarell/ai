{
 "cells": [
  {
   "cell_type": "code",
   "execution_count": 32,
   "id": "9db36ae6",
   "metadata": {},
   "outputs": [],
   "source": [
    "# pip install selenium\n",
    "# 필요 모듈 불러오기\n",
    "from selenium import webdriver                          \n",
    "from bs4 import BeautifulSoup as bs                       \n",
    "import pandas as pd \n",
    "driver = webdriver.Chrome(\"chromedriver.exe\");    # 크롬 디바이스"
   ]
  },
  {
   "cell_type": "code",
   "execution_count": 60,
   "id": "794dd03c",
   "metadata": {},
   "outputs": [
    {
     "name": "stderr",
     "output_type": "stream",
     "text": [
      "C:\\Users\\Runarell\\AppData\\Local\\Temp/ipykernel_39012/3541928063.py:5: DeprecationWarning: executable_path has been deprecated, please pass in a Service object\n",
      "  driver = webdriver.Chrome(\"chromedriver.exe\");\n"
     ]
    }
   ],
   "source": [
    "soup = [];                                   # 페이지를 담을 리스트 1~50 51~100 으로 나뉘어짐\n",
    "for i in range(2):                          # 담고 싶은 페이지 만큼 반복\n",
    "    url = \"https://www.genie.co.kr/chart/top200?ditc=D&ymd=20220215&hh=11&rtm=Y&pg=\" + f\"{i+1}\"; # url 끝에 숫자가 페이지숫자 1 2 3 ..\n",
    "    driver.get(url);                        # 크롬 디바이스로 원하는 페이지의 html 불러오기\n",
    "    html = driver.page_source;              #  html에 가져온 페이지의 html 넣기\n",
    "    soup.append( bs(html) );                # 사용이 용의하도록 BeautifulSoup을 이용하여 변환하여 페이지 리스트에 저장"
   ]
  },
  {
   "cell_type": "code",
   "execution_count": 71,
   "id": "b29616ff",
   "metadata": {
    "scrolled": true
   },
   "outputs": [
    {
     "name": "stdout",
     "output_type": "stream",
     "text": [
      "     순위                                                타이틀                가수\n",
      "0     1                                               INVU      태연 (TAEYEON)\n",
      "1     2                                  그래서 그래 (Feat. 윤하)  에픽하이 (EPIK HIGH)\n",
      "2     3                                               취중고백        김민석 (멜로망스)\n",
      "3     4                                          사랑은 늘 도망가               임영웅\n",
      "4     5                                           잊을 수 있을까                노을\n",
      "..  ...                                                ...               ...\n",
      "95   96                                         나보다 더 사랑해요               김호중\n",
      "96   97                                    추억은 만남보다 이별에 남아               정동하\n",
      "97   98  19금\\n                                        \\...     Justin Bieber\n",
      "98   99                                       Cold As Hell      태연 (TAEYEON)\n",
      "99  100                           흔들리는 꽃들 속에서 네 샴푸향이 느껴진거야               장범준\n",
      "\n",
      "[100 rows x 3 columns]\n"
     ]
    }
   ],
   "source": [
    "song_data = [];                                                              # 곡 리스트를 정리할 배열\n",
    "for list in soup:                                                            # 담긴 페이지별 정보를 반복\n",
    "    songs = list.select(\"table.list-wrap > tbody > tr\");                     # 페이지에 노래 데이터 배열에 담기\n",
    "                                                            \n",
    "    for song in songs:                                                       # 노래데이터 배열 반복\n",
    "        singer = song.select_one(\"td.info > a.artist\").text.strip()          # 가수명 추출 strip()로 정리\n",
    "        title = song.select_one(\"td.info > a.title\").text.strip()            # 노래 추출 strip()로 정리\n",
    "        rank = song.select_one(\"td.number\").text.split()[0]                  # 랭킹 추출 (데이터가 지저분해 split() 으로 나눔 )\n",
    "        song_data.append([rank, title, singer]);                             # song_data 에 곡의 정보를 저장\n",
    "\n",
    "df = pd.DataFrame(song_data, columns = [\"순위\",\"타이틀\",\"가수\"]);            # song_data에 저장된 데이타 표로 변경\n",
    "\n",
    "# df.to_excel('bugs.xlsx', index=False)                                      # 엑셀 저장                     "
   ]
  },
  {
   "cell_type": "code",
   "execution_count": null,
   "id": "d6c1e4e9",
   "metadata": {},
   "outputs": [],
   "source": []
  }
 ],
 "metadata": {
  "kernelspec": {
   "display_name": "Python 3 (ipykernel)",
   "language": "python",
   "name": "python3"
  },
  "language_info": {
   "codemirror_mode": {
    "name": "ipython",
    "version": 3
   },
   "file_extension": ".py",
   "mimetype": "text/x-python",
   "name": "python",
   "nbconvert_exporter": "python",
   "pygments_lexer": "ipython3",
   "version": "3.9.7"
  }
 },
 "nbformat": 4,
 "nbformat_minor": 5
}
