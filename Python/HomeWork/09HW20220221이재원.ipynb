{
 "cells": [
  {
   "cell_type": "code",
   "execution_count": null,
   "id": "52c1442b",
   "metadata": {},
   "outputs": [],
   "source": [
    "# 556. What will be the output after the following statements?\n",
    "x = 'Python Jobs' \n",
    "if x.lower() == 'python jobs':\n",
    "    print('Python jobs') \n",
    "else: \n",
    "    print('python 3 jobs')\n",
    "\n",
    "# a. python 3 jobs b. Python jobs c. Python Jobs d. python jobs \n",
    "\n",
    "# b"
   ]
  },
  {
   "cell_type": "code",
   "execution_count": null,
   "id": "9054e920",
   "metadata": {},
   "outputs": [],
   "source": [
    "# 557. What will be the output after the following statements?\n",
    "\n",
    "x = 'Python Jobs' \n",
    "if x.isupper(): \n",
    "    print('Python jobs') \n",
    "else: \n",
    "    print('python 3 jobs')\n",
    "\n",
    "# a. python 3 jobs b. Python jobs c. Python Jobs d. python jobs \n",
    "# a"
   ]
  },
  {
   "cell_type": "code",
   "execution_count": null,
   "id": "9197c606",
   "metadata": {},
   "outputs": [],
   "source": [
    "# 558. What will be the output after the following statements?\n",
    "\n",
    "x = 'Python Jobs' \n",
    "y = x.upper().lower().upper() \n",
    "print(y)\n",
    "\n",
    "# a. python Jobs b. PYTHON JOBS c. Python Jobs d. python jobs \n",
    "#b"
   ]
  },
  {
   "cell_type": "code",
   "execution_count": null,
   "id": "87fa2b41",
   "metadata": {},
   "outputs": [],
   "source": [
    "# 559. What will be the output after the following statements?\n",
    "\n",
    "x = 'Python Jobs' \n",
    "y = x.upper().lower().isupper() \n",
    "print(y)\n",
    "\n",
    "# a. python jobs b. PYTHON JOBS c. False d. True\n",
    "# c "
   ]
  },
  {
   "cell_type": "code",
   "execution_count": null,
   "id": "a4725b18",
   "metadata": {},
   "outputs": [],
   "source": [
    "# 560. What will be the output after the following statements?\n",
    "\n",
    "x = ['Python', 'is', 'interesting'] \n",
    "y = ' '.join(x) \n",
    "print(y)\n",
    "\n",
    "# a. 'Python', 'is', 'interesting' \n",
    "# b. Python is interesting \n",
    "# c. Pythonisinteresting \n",
    "# d. ['Python', 'is', 'interesting']\n",
    "\n",
    "# b"
   ]
  },
  {
   "cell_type": "code",
   "execution_count": null,
   "id": "bb31eeae",
   "metadata": {},
   "outputs": [],
   "source": [
    "# 561. What will be the output after the following statements?\n",
    "\n",
    "x = 'Python is interesting' \n",
    "y = x.split() \n",
    "print(y)\n",
    "\n",
    "# a. 'Python', 'is', 'interesting' \n",
    "# b. Python is interesting \n",
    "# c. Pythonisinteresting \n",
    "# d. ['Python', 'is', 'interesting’] \n",
    "\n",
    "# d"
   ]
  },
  {
   "cell_type": "code",
   "execution_count": null,
   "id": "6d8f5828",
   "metadata": {},
   "outputs": [],
   "source": [
    "# 562. What will be the output after the following statements?\n",
    "\n",
    "x = '''Today is a nice day. Let's go for a walk. We'll also go to the park.''' \n",
    "y = x.split('\\n') \n",
    "print(y)\n",
    "\n",
    "# a. ['Today is a nice day.', \"Let's go for a walk.\", \"We'll also go to the park.\"] \n",
    "# b. Today is a nice day.\n",
    "# c. Let's go for a walk. \n",
    "# d. We'll also go to the park.\n",
    "\n",
    "# a"
   ]
  },
  {
   "cell_type": "code",
   "execution_count": null,
   "id": "778fd420",
   "metadata": {},
   "outputs": [],
   "source": [
    "# 563. What will be the output after the following statements?\n",
    "\n",
    "x = 'Python 2 and Python 3' \n",
    "print( x.strip('and') )\n",
    "\n",
    "# a. Python 2 b. Python 3 c. Python 2 and Python 3 d. Python 2 Python 3 \n",
    "\n",
    "# c"
   ]
  },
  {
   "cell_type": "code",
   "execution_count": null,
   "id": "6eae3cf4",
   "metadata": {},
   "outputs": [],
   "source": [
    "# 564. What will be the output after the following statements?\n",
    "\n",
    "x = 'Python 2 and Python 3' \n",
    "print(x.strip('thon 3'))\n",
    "\n",
    "# a. Python 2 b. Python 2 and Py c. Python 2 and Python 3 d. Python 2 Python 3\n",
    "\n",
    "# b"
   ]
  },
  {
   "cell_type": "code",
   "execution_count": null,
   "id": "48a45db8",
   "metadata": {},
   "outputs": [],
   "source": [
    "# 565. What is the first line of the following statements on Windows?\n",
    "\n",
    "#! python3 x = 'Python 3’\n",
    "\n",
    "# a. A comment b. Python String c. Shebang line d. Python Variable\n",
    "# a "
   ]
  },
  {
   "cell_type": "code",
   "execution_count": null,
   "id": "0dc2a2fa",
   "metadata": {},
   "outputs": [],
   "source": [
    "# 566. What will be the output after the following statements?\n",
    "\n",
    "import re\n",
    "x = re.compile(r'\\d\\d\\d-\\d\\d\\d\\d') \n",
    "y = x.search('The phone number is 444-4444') \n",
    "print(y.group())\n",
    "\n",
    "# a. The phone number is 444-4444 b. \\d\\d\\d-\\d\\d\\d\\d c. 444-4444 d. r'\\d\\d\\d-\\d\\d\\d\\d’ \n",
    "\n",
    "# c"
   ]
  },
  {
   "cell_type": "code",
   "execution_count": null,
   "id": "47b1a3d3",
   "metadata": {},
   "outputs": [],
   "source": [
    "# 567. What will be the output after the following statements?\n",
    "\n",
    "import re \n",
    "x = re.compile(r'(\\d\\d\\d)-(\\d\\d\\d\\d)') \n",
    "y = x.search('The phone number is 444-4444') \n",
    "print(y.group(2))\n",
    "\n",
    "# a. The phone number is 444-4444 b. 4444 c. 444-4444 d. 444 \n",
    "# b"
   ]
  },
  {
   "cell_type": "code",
   "execution_count": null,
   "id": "216a85eb",
   "metadata": {},
   "outputs": [],
   "source": [
    "# 568. What will be the output after the following statements?\n",
    "\n",
    "import re \n",
    "x = re.compile(r'(\\d\\d\\d)-(\\d\\d\\d\\d)') \n",
    "y = x.search('The phone number is 444-4444') \n",
    "print(y.group(1))\n",
    "\n",
    "# a. The phone number is 444-4444 b. 4444 c. 444-4444 d. 444\n",
    "# d "
   ]
  },
  {
   "cell_type": "code",
   "execution_count": null,
   "id": "a5b60456",
   "metadata": {},
   "outputs": [],
   "source": [
    "# 569. What will be the output after the following statements?\n",
    "\n",
    "import re\n",
    "x = re.compile(r'(\\d\\d\\d)-(\\d\\d\\d\\d)') \n",
    "y = x.search('The phone number is 444-4444') \n",
    "print(y.group(0))\n",
    "\n",
    "# a. The phone number is 444-4444 b. 4444 c. 444-4444 d. 444\n",
    "\n",
    "# c"
   ]
  },
  {
   "cell_type": "code",
   "execution_count": null,
   "id": "74f150cf",
   "metadata": {},
   "outputs": [],
   "source": [
    "# 570. What will be the output after the following statements?\n",
    "\n",
    "import re\n",
    "x = re.compile(r'(\\d\\d\\d)-(\\d\\d\\d\\d)')\n",
    "y = x.search('The phone number is 444-4444')\n",
    "print(y.groups())\n",
    "\n",
    "# a. ('444', '4444') b. 4444 c. 444-4444 d. 444\n",
    "\n",
    "# a"
   ]
  },
  {
   "cell_type": "code",
   "execution_count": null,
   "id": "23a14861",
   "metadata": {},
   "outputs": [],
   "source": [
    "# 571. What will be the output after the following statements?\n",
    "import re\n",
    "x = re.compile(r'(\\(\\d\\d\\d\\))-(\\d\\d\\d\\d)') \n",
    "y = x.search('The phone number is (444)-4444')\n",
    "print(y.group(1))\n",
    "\n",
    "# a. ('444', '4444') b. 444 c. 444-4444 d. (444) \n",
    "\n",
    "# d "
   ]
  },
  {
   "cell_type": "code",
   "execution_count": null,
   "id": "ff9fc49f",
   "metadata": {},
   "outputs": [],
   "source": [
    "# 572. What will be the output after the following statements?\n",
    "\n",
    "import re \n",
    "x = re.compile(r'Python 2|Python 3') \n",
    "y = x.search('Python 3 MCQ')\n",
    "print(y.group())\n",
    "\n",
    "# a. Python 2|Python 3 b. Python 2 c. Python 3 d. Python 3 MCQ \n",
    "\n",
    "# c"
   ]
  },
  {
   "cell_type": "code",
   "execution_count": null,
   "id": "e2481871",
   "metadata": {},
   "outputs": [],
   "source": [
    "# 573. What will be the output after the following statements?\n",
    "\n",
    "import re \n",
    "x = re.compile(r'Python 2|Python 3')\n",
    "y = x.search('Python 2.7') \n",
    "print(y.group())\n",
    "\n",
    "# a. Python 2.7 b. Python 2 c. Python 3 d. Python 2|Python 3 \n",
    "\n",
    "# b"
   ]
  },
  {
   "cell_type": "code",
   "execution_count": null,
   "id": "3cdcb841",
   "metadata": {},
   "outputs": [],
   "source": [
    "# 574. What will be the output after the following statements?\n",
    "\n",
    "import re \n",
    "\n",
    "x = re.compile(r'day')\n",
    "y = x.search('Today is a nice day and a Sunday') \n",
    "print(y.group())\n",
    "\n",
    "# a. day b. Today c. nice day d. Sunday \n",
    "\n",
    "# a  "
   ]
  },
  {
   "cell_type": "code",
   "execution_count": null,
   "id": "ae5ad12d",
   "metadata": {},
   "outputs": [],
   "source": [
    "# 575. What will be the output after the following statements?\n",
    "\n",
    "import re\n",
    "x = re.compile(r'(Sun)?day')\n",
    "y = x.search('Today is a nice day and a Sunday') \n",
    "print(y.group())\n",
    "\n",
    "# a. day b. Today c. nice day d. Sunday\n",
    "# a"
   ]
  },
  {
   "cell_type": "code",
   "execution_count": 13,
   "id": "326d7f05",
   "metadata": {},
   "outputs": [
    {
     "name": "stdout",
     "output_type": "stream",
     "text": [
      "김씨는 2명, 이씨는 6명\n",
      "이재영 중복 수 3\n",
      "중복된 이름들 :  ['이유덕', '이재영', '이재영', '박민호', '이재영', '박민호', '전경헌', '이유덕', '전경헌']\n",
      "중복되 이름 정렬 :  ['박민호', '박민호', '이유덕', '이유덕', '이재영', '이재영', '이재영', '전경헌', '전경헌']\n"
     ]
    }
   ],
   "source": [
    "# Algorithm Homework(#32)\n",
    "# 주어진 문자열(공백 없이 쉼표로 구분되어 있음)을 가지고 아래\n",
    "# 문제에 대한 프로그램을 작성하세요.\n",
    "# 이유덕,이재영,권종표,이재영,박민호,강상희,이재영,김지완,최승혁,이\n",
    "# 성연,박영서,박민호,전경헌,송정환,김재성,이유덕,전경헌\n",
    "# ① 김씨와 이씨는 각각 몇 명 인가요?\n",
    "# ② \"이재영\"이란 이름이 몇 번 반복되나요?\n",
    "# ③ 중복을 제거한 이름을 출력하세요.\n",
    "# ④ 중복을 제거한 이름을 오름차순으로 정렬하여 출력하세요. \n",
    "#     names =\n",
    "# \"이유덕,이재영,권종표,이재영,박민호,강상희,이재영,김지완,최\n",
    "# 승혁,이성연,박영서,박민호,전경헌,송정환,김재성,이유덕,전경헌\n",
    "# \".split(\",\")\n",
    "\n",
    "\n",
    "def find_fname(arr):\n",
    "    kim_cont = 0;\n",
    "    lee_cont = 0;\n",
    "    for i in arr:\n",
    "        if i[0]==\"김\":\n",
    "            kim_cont +=1;\n",
    "        elif i[0]==\"이\":\n",
    "            lee_cont +=1;\n",
    "    print(f\"김씨는 {kim_cont}명, 이씨는 {lee_cont}명\");\n",
    "\n",
    "def find_name(arr, name):\n",
    "    result = arr.count(name)\n",
    "    return result;\n",
    "\n",
    "def overlap_name(arr):\n",
    "    result =[]\n",
    "    for i in arr:\n",
    "        cont = find_name(arr, i)\n",
    "        if cont > 1:\n",
    "            result.append(i)\n",
    "    return result;\n",
    "\n",
    "def sort_pr(arr):\n",
    "    arr.sort()\n",
    "    return arr\n",
    "\n",
    "names = \"이유덕,이재영,권종표,이재영,박민호,강상희,이재영,김지완,최승혁,이성연,박영서,박민호,전경헌,송정환,김재성,이유덕,전경헌\";\n",
    "arr = names.split(\",\");\n",
    "\n",
    "find_fname(arr);\n",
    "print( \"이재영 중복 수\", find_name(arr, \"이재영\") )\n",
    "print( \"중복된 이름들 : \", overlap_name(arr) )\n",
    "print( \"중복되 이름 정렬 : \", sort_pr( overlap_name(arr)) )\n"
   ]
  },
  {
   "cell_type": "code",
   "execution_count": 12,
   "id": "8cf10241",
   "metadata": {},
   "outputs": [
    {
     "name": "stdout",
     "output_type": "stream",
     "text": [
      "['이유덕', '이재영', '이재영', '박민호', '이재영', '박민호', '전경헌', '이유덕', '전경헌']\n",
      "['박민호', '박민호', '이유덕', '이유덕', '이재영', '이재영', '이재영', '전경헌', '전경헌']\n"
     ]
    }
   ],
   "source": []
  }
 ],
 "metadata": {
  "kernelspec": {
   "display_name": "Python 3 (ipykernel)",
   "language": "python",
   "name": "python3"
  },
  "language_info": {
   "codemirror_mode": {
    "name": "ipython",
    "version": 3
   },
   "file_extension": ".py",
   "mimetype": "text/x-python",
   "name": "python",
   "nbconvert_exporter": "python",
   "pygments_lexer": "ipython3",
   "version": "3.9.7"
  }
 },
 "nbformat": 4,
 "nbformat_minor": 5
}
