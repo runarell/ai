{
  "nbformat": 4,
  "nbformat_minor": 0,
  "metadata": {
    "colab": {
      "name": "26HW20220126이재원.ipynb",
      "provenance": [],
      "collapsed_sections": [],
      "authorship_tag": "ABX9TyPAcZGhDG0V0T/Fz8fdKjRC",
      "include_colab_link": true
    },
    "kernelspec": {
      "name": "python3",
      "display_name": "Python 3"
    },
    "language_info": {
      "name": "python"
    }
  },
  "cells": [
    {
      "cell_type": "markdown",
      "metadata": {
        "id": "view-in-github",
        "colab_type": "text"
      },
      "source": [
        "<a href=\"https://colab.research.google.com/github/runarell/ai/blob/main/26HW20220126%EC%9D%B4%EC%9E%AC%EC%9B%90.ipynb\" target=\"_parent\"><img src=\"https://colab.research.google.com/assets/colab-badge.svg\" alt=\"Open In Colab\"/></a>"
      ]
    },
    {
      "cell_type": "code",
      "execution_count": null,
      "metadata": {
        "id": "Mdw_pfUUaVCL"
      },
      "outputs": [],
      "source": [
        "# 051\n",
        "movie_rank = ['닥터 스트레인지','스플릿','러키'];"
      ]
    },
    {
      "cell_type": "code",
      "source": [
        "# 052\n",
        "movie_rank = ['닥터 스트레인지','스플릿','러키'];\n",
        "movie_rank.append('배트맨');\n",
        "print(movie_rank);"
      ],
      "metadata": {
        "colab": {
          "base_uri": "https://localhost:8080/"
        },
        "id": "rHoTmyAuan-Y",
        "outputId": "f64bf47d-abba-47b1-f0cf-b6faa1a3197f"
      },
      "execution_count": 3,
      "outputs": [
        {
          "output_type": "stream",
          "name": "stdout",
          "text": [
            "['닥터 스트레인지', '스플릿', '러키', '배트맨']\n"
          ]
        }
      ]
    },
    {
      "cell_type": "code",
      "source": [
        "# 053\n",
        "movie_rank = ['닥터 스트레인지','스플릿','러키', '배트맨'];\n",
        "movie_rank.insert(1, '슈퍼맨');\n",
        "print(movie_rank);"
      ],
      "metadata": {
        "colab": {
          "base_uri": "https://localhost:8080/"
        },
        "id": "hB0RZ2ZwbRNV",
        "outputId": "63a2c619-7353-40ca-ded9-f44d3b93201b"
      },
      "execution_count": 4,
      "outputs": [
        {
          "output_type": "stream",
          "name": "stdout",
          "text": [
            "['닥터 스트레인지', '슈퍼맨', '스플릿', '러키', '배트맨']\n"
          ]
        }
      ]
    },
    {
      "cell_type": "code",
      "source": [
        "# 054\n",
        "movie_rank = ['닥터 스트레인지', '슈퍼맨', '스플릿', '러키', '배트맨']\n",
        "del movie_rank[3];\n",
        "print(movie_rank);"
      ],
      "metadata": {
        "colab": {
          "base_uri": "https://localhost:8080/"
        },
        "id": "cZV2vUkFblxm",
        "outputId": "0a6d803c-47e9-408a-f7e3-2243cfb05c9c"
      },
      "execution_count": 9,
      "outputs": [
        {
          "output_type": "stream",
          "name": "stdout",
          "text": [
            "['닥터 스트레인지', '슈퍼맨', '스플릿', '배트맨']\n"
          ]
        }
      ]
    },
    {
      "cell_type": "code",
      "source": [
        "# 055\n",
        "movie_rank = ['닥터 스트레인지', '슈퍼맨', '스플릿', '배트맨']\n",
        "del movie_rank[2:];\n",
        "print(movie_rank);"
      ],
      "metadata": {
        "colab": {
          "base_uri": "https://localhost:8080/"
        },
        "id": "gquGwZcCcIkV",
        "outputId": "e6cf1bfb-d74d-48d0-9da1-38db88624539"
      },
      "execution_count": 11,
      "outputs": [
        {
          "output_type": "stream",
          "name": "stdout",
          "text": [
            "['닥터 스트레인지', '슈퍼맨']\n"
          ]
        }
      ]
    },
    {
      "cell_type": "code",
      "source": [
        "# 056\n",
        "lang1 = [\"C\",\"C++\",\"jAVA\"]; \n",
        "lang2 = [\"Pytion\",\"go\",\"C#\"];\n",
        "langs = lang1 + lang2;\n",
        "print(langs);"
      ],
      "metadata": {
        "colab": {
          "base_uri": "https://localhost:8080/"
        },
        "id": "ARRB-rnMcWg9",
        "outputId": "b9c62ed7-e977-4c27-ad3f-879453ce1009"
      },
      "execution_count": 12,
      "outputs": [
        {
          "output_type": "stream",
          "name": "stdout",
          "text": [
            "['C', 'C++', 'jAVA', 'Pytion', 'go', 'C#']\n"
          ]
        }
      ]
    },
    {
      "cell_type": "code",
      "source": [
        "# 057\n",
        "nums= [1,2,3,4,5,6,7];\n",
        "max_num = max(nums);\n",
        "min_num = min(nums);\n",
        "print(f'nums의 최대값 {max_num}이고 최소값은 {min_num}이다');"
      ],
      "metadata": {
        "colab": {
          "base_uri": "https://localhost:8080/"
        },
        "id": "eUoNrdO-czvT",
        "outputId": "c706268c-6b0d-4981-cfc9-2dc542afadf6"
      },
      "execution_count": 13,
      "outputs": [
        {
          "output_type": "stream",
          "name": "stdout",
          "text": [
            "nums의 최대값 7이고 최소값은 1이다\n"
          ]
        }
      ]
    },
    {
      "cell_type": "code",
      "source": [
        "# 058\n",
        "nums = [1,2,3,4,5];\n",
        "nums_sum = sum(nums);\n",
        "print(nums_sum);"
      ],
      "metadata": {
        "colab": {
          "base_uri": "https://localhost:8080/"
        },
        "id": "hvznX6-EdfBs",
        "outputId": "c2573400-a934-4849-9a3e-1cba9bcb9888"
      },
      "execution_count": 20,
      "outputs": [
        {
          "output_type": "stream",
          "name": "stdout",
          "text": [
            "15\n"
          ]
        }
      ]
    },
    {
      "cell_type": "code",
      "source": [
        "# 059\n",
        "cook = [\"피자\",\"김밥\",\"만두\",\"양념치킨\",\"족발\",\"피자\",\"김치만두\",\"쫄면\",\"쏘세지\",\"라면\",\"밭빙수\",\"김치전\"]\n",
        "cook_sum1 = len(cook);\n",
        "cook_sum2 = len( set(cook) );\n",
        "print(f'저장된 데이터 개수는 {cook_sum1}')\n",
        "print(f'저장된 비중복 데이터 개수는 {cook_sum2}')"
      ],
      "metadata": {
        "colab": {
          "base_uri": "https://localhost:8080/"
        },
        "id": "ndce-15Cevfz",
        "outputId": "89104d60-549c-41ae-a01b-dac4ccc57433"
      },
      "execution_count": 35,
      "outputs": [
        {
          "output_type": "stream",
          "name": "stdout",
          "text": [
            "{'김치만두', '족발', '만두', '김밥', '피자', '양념치킨', '라면', '밭빙수', '김치전', '쏘세지', '쫄면'}\n",
            "저장된 데이터 개수는 12\n",
            "저장된 비중복 데이터 개수는 11\n"
          ]
        }
      ]
    },
    {
      "cell_type": "code",
      "source": [
        "# 060\n",
        "\n",
        "nums = [1,2,3,4,5];\n",
        "nums_ave = sum(nums) / len(nums);\n",
        "print(nums_ave);"
      ],
      "metadata": {
        "colab": {
          "base_uri": "https://localhost:8080/"
        },
        "id": "bVRgqOSaffO3",
        "outputId": "6f2d981e-82bf-4261-9976-d475b3afef6c"
      },
      "execution_count": 21,
      "outputs": [
        {
          "output_type": "stream",
          "name": "stdout",
          "text": [
            "3.0\n"
          ]
        }
      ]
    },
    {
      "cell_type": "code",
      "source": [
        "# 121\n",
        "text = input('>>');\n",
        "if text.islower():\n",
        "  text = text.upper();\n",
        "print(text);"
      ],
      "metadata": {
        "colab": {
          "base_uri": "https://localhost:8080/"
        },
        "id": "-pRe540rfwF8",
        "outputId": "00abeb26-c65a-40ee-91e6-6b8fb933f8ed"
      },
      "execution_count": 24,
      "outputs": [
        {
          "output_type": "stream",
          "name": "stdout",
          "text": [
            ">>A\n",
            "A\n"
          ]
        }
      ]
    },
    {
      "cell_type": "code",
      "source": [
        "# 122\n",
        "score = int( input('>>') );\n",
        "lank = \"\";\n",
        "if score > 80:\n",
        "  lank = 'A'\n",
        "elif score > 60:\n",
        "  lank = 'B'\n",
        "elif score > 40:\n",
        "  lank = 'C'\n",
        "elif score > 20:\n",
        "  lank = 'D'\n",
        "else :\n",
        "  lank = 'E'\n",
        "print(f'grade is {lank}');"
      ],
      "metadata": {
        "colab": {
          "base_uri": "https://localhost:8080/"
        },
        "id": "oD6pTXuRglOJ",
        "outputId": "eb94c599-7a05-40ba-9c3d-3dbdd5389ea3"
      },
      "execution_count": 25,
      "outputs": [
        {
          "output_type": "stream",
          "name": "stdout",
          "text": [
            ">>90\n",
            "grade is A\n"
          ]
        }
      ]
    },
    {
      "cell_type": "code",
      "source": [
        "# 123\n",
        "cu = input('>> 화패단위 입력 :');\n",
        "money = int(input('>> 금액입력 :'));\n",
        "\n",
        "rate = { '달라':1167,'엔':1.096, '유로':1268, '위안':171 };\n",
        "inp_rate = rate[cu];\n",
        "\n",
        "print(f'{inp_rate * money} 원');"
      ],
      "metadata": {
        "colab": {
          "base_uri": "https://localhost:8080/"
        },
        "id": "sGxKKN8Khbm7",
        "outputId": "e6a224a9-4496-476b-c4f2-d3af53cce6d9"
      },
      "execution_count": 28,
      "outputs": [
        {
          "output_type": "stream",
          "name": "stdout",
          "text": [
            ">> 화패단위 입력 :달라\n",
            ">> 금액입력 :100\n",
            "116700 원\n"
          ]
        }
      ]
    },
    {
      "cell_type": "code",
      "source": [
        "# 124\n",
        "num1 = int(input('숫자1>>'));\n",
        "num2 = int(input('숫자2>>'));\n",
        "num3 = int(input('숫자3>>'));\n",
        "max = \"\"\n",
        "if num1 > num2 & num1 > num3:\n",
        "  max = num1;\n",
        "elif num2 > num3:\n",
        "  max = num2;\n",
        "else:\n",
        "  max = num3;\n",
        "\n",
        "print(f'가장 큰 숫자는 {max}입니다.');"
      ],
      "metadata": {
        "colab": {
          "base_uri": "https://localhost:8080/"
        },
        "id": "H-FomXVVjc_M",
        "outputId": "f482b35f-0525-4f1f-ab16-71e6c4ffa659"
      },
      "execution_count": 30,
      "outputs": [
        {
          "output_type": "stream",
          "name": "stdout",
          "text": [
            "숫자1>>5\n",
            "숫자2>>3\n",
            "숫자3>>7\n",
            "가장 큰 숫자는 7입니다.\n"
          ]
        }
      ]
    },
    {
      "cell_type": "code",
      "source": [
        "# 125\n",
        "ph = input('휴대전화 번호 입력 : ');\n",
        "my_na = ph[0:3];\n",
        "na = { '011':'SKT', '016':'KT', '019':'LGU', '010':'알수없음' };\n",
        "print(f'당신은 { na[my_na] } 사용자입니다.');"
      ],
      "metadata": {
        "colab": {
          "base_uri": "https://localhost:8080/"
        },
        "id": "IqKWvVpnkoTv",
        "outputId": "97e262db-cada-4f75-a5c1-fece7bb3b11b"
      },
      "execution_count": 35,
      "outputs": [
        {
          "output_type": "stream",
          "name": "stdout",
          "text": [
            "휴대전화 번호 입력 : 0118883949\n",
            "당신은 SKT 사용자입니다.\n"
          ]
        }
      ]
    },
    {
      "cell_type": "code",
      "source": [
        "# 126\n",
        "ps_num = input('>>우편번호: ');\n",
        "my_area1 = ps_num[0:2];\n",
        "my_area2 = ps_num[2];\n",
        "ps_arae = {'0':'강북구','1':'강북구','2':'강북구','3':'도봉구','4':'도봉구','5':'도봉구','6':'노원구','7':'노원구','8':'노원구','9':'노원구'};\n",
        "if my_area1 != '01':\n",
        "  text = ' 강북구가 아닙니다.';\n",
        "else:\n",
        "  text = ps_arae[ my_area2 ];\n",
        "print(text);"
      ],
      "metadata": {
        "colab": {
          "base_uri": "https://localhost:8080/"
        },
        "id": "fhqIssETmXXY",
        "outputId": "16962b71-835f-4811-ad08-df5651d1225e"
      },
      "execution_count": 38,
      "outputs": [
        {
          "output_type": "stream",
          "name": "stdout",
          "text": [
            ">>우편번호: 23553\n",
            " 강북구가 아닙니다.\n"
          ]
        }
      ]
    },
    {
      "cell_type": "code",
      "source": [
        "# 127\n",
        "ssn = input('>>주민등록번호: ');\n",
        "if ssn[6] == '1' or ssn[6] == '3':\n",
        "  print('남자');\n",
        "else:\n",
        "  print('여자');"
      ],
      "metadata": {
        "colab": {
          "base_uri": "https://localhost:8080/"
        },
        "id": "s6bwJXCloVdr",
        "outputId": "2ce083a6-0462-46a1-8cc4-d8ffaf68fa5e"
      },
      "execution_count": 11,
      "outputs": [
        {
          "output_type": "stream",
          "name": "stdout",
          "text": [
            ">>주민등록번호: 871012100000\n",
            "남자\n"
          ]
        }
      ]
    },
    {
      "cell_type": "code",
      "source": [
        "# 128\n",
        "ssn = input('>>주민등록번호: ');\n",
        "area_code = int(ssn[7:9]);\n",
        "if area_code < 9:\n",
        "  print('서울입니다.');\n",
        "else:\n",
        "  print('서울이 아닙니다.');"
      ],
      "metadata": {
        "colab": {
          "base_uri": "https://localhost:8080/"
        },
        "id": "J5eZszXiJtuJ",
        "outputId": "6a736c4c-36b3-40e0-9abd-d52579603d69"
      },
      "execution_count": 16,
      "outputs": [
        {
          "output_type": "stream",
          "name": "stdout",
          "text": [
            ">>주민등록번호: 8710121066822\n",
            "서울입니다.\n"
          ]
        }
      ]
    },
    {
      "cell_type": "code",
      "source": [
        "# 129\n",
        "ssn = input('>>주민등록번호: ');\n",
        "ssn_arr =  list(map(int, ssn ));\n",
        "sub_num = [2,3,4,5,6,7,8,9,2,3,4,5];\n",
        "ssn_dis = ssn_arr[-1];\n",
        "dis = 0;\n",
        "sum = 0;\n",
        "\n",
        "for i in range( len(ssn_arr) -1 ): \n",
        "  sum +=  ssn_arr[i] * sub_num[i];\n",
        "\n",
        "if ssn_arr[-1] != (11 - sum%11):\n",
        "  print( '유효하지 않은 주민등록번호입니다.' );\n",
        "else:\n",
        "  print('유효한 주민등록 번호입니다.');"
      ],
      "metadata": {
        "colab": {
          "base_uri": "https://localhost:8080/"
        },
        "id": "wV8HTNgFNB7s",
        "outputId": "a7cfda7e-655a-4acf-92c4-4816476568b2"
      },
      "execution_count": 30,
      "outputs": [
        {
          "output_type": "stream",
          "name": "stdout",
          "text": [
            ">>주민등록번호: 8710121066822\n",
            "유효한 주민등록 번호입니다.\n"
          ]
        }
      ]
    },
    {
      "cell_type": "code",
      "source": [
        "# 130\n",
        "import requests;\n",
        "btc = requests.get(\"https://api.bithumb.com/public/ticker/\").json()['data'];\n",
        "opening_price = int(btc['opening_price']);   # 시가\n",
        "closing_price = btc['closing_price'];   # 종가\n",
        "min_price = int(btc['min_price']);      # 최저가\n",
        "max_price = int(btc['max_price']);      # 최대가\n",
        "fluc_range = max_price - min_price;     # 변동폭\n",
        "\n",
        "# 시가 + 변동폭 > 최고가\n",
        "if opening_price+fluc_range > max_price:\n",
        "  print(\"상승장\");\n",
        "else:\n",
        "  print(\"하락장\");"
      ],
      "metadata": {
        "colab": {
          "base_uri": "https://localhost:8080/"
        },
        "id": "cFtaxmyFVWjM",
        "outputId": "8af15cd3-6cd6-4734-b589-bb0b0e702833"
      },
      "execution_count": 33,
      "outputs": [
        {
          "output_type": "stream",
          "name": "stdout",
          "text": [
            "상승장\n"
          ]
        }
      ]
    }
  ]
}