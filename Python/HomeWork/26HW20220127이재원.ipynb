{
  "nbformat": 4,
  "nbformat_minor": 0,
  "metadata": {
    "colab": {
      "name": "26HW20220127이재원.ipynb",
      "provenance": [],
      "authorship_tag": "ABX9TyP1B1B0ZV9PAnG3+VgToyW/",
      "include_colab_link": true
    },
    "kernelspec": {
      "name": "python3",
      "display_name": "Python 3"
    },
    "language_info": {
      "name": "python"
    }
  },
  "cells": [
    {
      "cell_type": "markdown",
      "metadata": {
        "id": "view-in-github",
        "colab_type": "text"
      },
      "source": [
        "<a href=\"https://colab.research.google.com/github/runarell/ai/blob/main/26HW20220127%EC%9D%B4%EC%9E%AC%EC%9B%90.ipynb\" target=\"_parent\"><img src=\"https://colab.research.google.com/assets/colab-badge.svg\" alt=\"Open In Colab\"/></a>"
      ]
    },
    {
      "cell_type": "code",
      "execution_count": 1,
      "metadata": {
        "colab": {
          "base_uri": "https://localhost:8080/"
        },
        "id": "AzzTwLbjkFYE",
        "outputId": "13636d4a-fa1c-4663-841c-a3ddc42e8e2e"
      },
      "outputs": [
        {
          "output_type": "stream",
          "name": "stdout",
          "text": [
            "{'메로나': [300, 20], '비비빅': [400, 3], '죠스바': [250, 100]}\n"
          ]
        }
      ],
      "source": [
        "# 091\n",
        "inventory = {\n",
        "    \"메로나\":[300, 20],\n",
        "    \"비비빅\":[400, 3],\n",
        "    \"죠스바\":[250,100]\n",
        "}\n",
        "print( inventory );"
      ]
    },
    {
      "cell_type": "code",
      "source": [
        "# 092\n",
        "inventory = {\n",
        "    \"메로나\":[300, 20],\n",
        "    \"비비빅\":[400, 3],\n",
        "    \"죠스바\":[250,100]\n",
        "}\n",
        "print( f'{ inventory[\"메로나\"][0]} 원' );"
      ],
      "metadata": {
        "colab": {
          "base_uri": "https://localhost:8080/"
        },
        "id": "_FZDpQNZkxHb",
        "outputId": "958e42ef-e170-47bf-96df-d3618f1c4be3"
      },
      "execution_count": 3,
      "outputs": [
        {
          "output_type": "stream",
          "name": "stdout",
          "text": [
            "300 원\n"
          ]
        }
      ]
    },
    {
      "cell_type": "code",
      "source": [
        "# 093\n",
        "inventory = {\n",
        "    \"메로나\":[300, 20],\n",
        "    \"비비빅\":[400, 3],\n",
        "    \"죠스바\":[250,100]\n",
        "}\n",
        "print( f'{ inventory[\"메로나\"][1]} 개' );"
      ],
      "metadata": {
        "colab": {
          "base_uri": "https://localhost:8080/"
        },
        "id": "EFvuXvSqlC0E",
        "outputId": "5ba09442-edbc-4cb3-fd88-68674be7f2df"
      },
      "execution_count": 4,
      "outputs": [
        {
          "output_type": "stream",
          "name": "stdout",
          "text": [
            "20 개\n"
          ]
        }
      ]
    },
    {
      "cell_type": "code",
      "source": [
        "# 094\n",
        "inventory = {\n",
        "    \"메로나\":[300, 20],\n",
        "    \"비비빅\":[400, 3],\n",
        "    \"죠스바\":[250,100]\n",
        "}\n",
        "inventory[\"월드콘\"] = [500, 7];\n",
        "print( inventory );"
      ],
      "metadata": {
        "colab": {
          "base_uri": "https://localhost:8080/"
        },
        "id": "GrqEw6OPlN9g",
        "outputId": "e95753d3-bff6-4214-cadd-eeac8502fe9c"
      },
      "execution_count": 6,
      "outputs": [
        {
          "output_type": "stream",
          "name": "stdout",
          "text": [
            "{'메로나': [300, 20], '비비빅': [400, 3], '죠스바': [250, 100], '월드콘': [500, 7]}\n"
          ]
        }
      ]
    },
    {
      "cell_type": "code",
      "source": [
        "# 095\n",
        "icecream = {\n",
        "    \"탱크보이\":1200,\n",
        "    \"폴라포\":1200,\n",
        "    \"빵빠레\":1800,\n",
        "    \"월드콘\":1500,\n",
        "    \"메로나\":1000\n",
        "}\n",
        "ice_arr = icecream.keys();\n",
        "\n",
        "print(ice_arr)"
      ],
      "metadata": {
        "colab": {
          "base_uri": "https://localhost:8080/"
        },
        "id": "AU3Udc-OlrB1",
        "outputId": "25917dc4-49f2-48e8-f8be-02ac77dfbc4a"
      },
      "execution_count": 10,
      "outputs": [
        {
          "output_type": "stream",
          "name": "stdout",
          "text": [
            "dict_keys(['탱크보이', '폴라포', '빵빠레', '월드콘', '메로나'])\n"
          ]
        }
      ]
    },
    {
      "cell_type": "code",
      "source": [
        "# 096\n",
        "icecream = {\n",
        "    \"탱크보이\":1200,\n",
        "    \"폴라포\":1200,\n",
        "    \"빵빠레\":1800,\n",
        "    \"월드콘\":1500,\n",
        "    \"메로나\":1000\n",
        "}\n",
        "ice_won = icecream.values();\n",
        "\n",
        "print(ice_won)"
      ],
      "metadata": {
        "colab": {
          "base_uri": "https://localhost:8080/"
        },
        "id": "CGg0EXQRmY4Y",
        "outputId": "e04ff876-aebd-4c08-e76b-adb74fa2e267"
      },
      "execution_count": 11,
      "outputs": [
        {
          "output_type": "stream",
          "name": "stdout",
          "text": [
            "dict_values([1200, 1200, 1800, 1500, 1000])\n"
          ]
        }
      ]
    },
    {
      "cell_type": "code",
      "source": [
        "# 097\n",
        "icecream = {\n",
        "    \"탱크보이\":1200,\n",
        "    \"폴라포\":1200,\n",
        "    \"빵빠레\":1800,\n",
        "    \"월드콘\":1500,\n",
        "    \"메로나\":1000\n",
        "}\n",
        "ice_won = icecream.values();\n",
        "sum =0;\n",
        "for i in ice_won:\n",
        "  sum+=i;\n",
        "\n",
        "print(sum)"
      ],
      "metadata": {
        "colab": {
          "base_uri": "https://localhost:8080/"
        },
        "id": "tsQPypghnbTq",
        "outputId": "8ca30be1-646e-408c-af40-43ec9053aa5e"
      },
      "execution_count": 12,
      "outputs": [
        {
          "output_type": "stream",
          "name": "stdout",
          "text": [
            "6700\n"
          ]
        }
      ]
    },
    {
      "cell_type": "code",
      "source": [
        "# 098\n",
        "icecream = {\n",
        "    \"탱크보이\":1200,\n",
        "    \"폴라포\":1200,\n",
        "    \"빵빠레\":1800,\n",
        "    \"월드콘\":1500,\n",
        "    \"메로나\":1000\n",
        "}\n",
        "new_product = {\n",
        "    \"팥빙수\":2700,\n",
        "    \"아맛나\":1000\n",
        "}\n",
        "icecream.update( new_product );\n",
        "\n",
        "print( icecream );\n"
      ],
      "metadata": {
        "colab": {
          "base_uri": "https://localhost:8080/"
        },
        "id": "mxtvQXL-npp-",
        "outputId": "de43dda3-85f1-4146-a3b5-dc77d23243d6"
      },
      "execution_count": 13,
      "outputs": [
        {
          "output_type": "stream",
          "name": "stdout",
          "text": [
            "{'탱크보이': 1200, '폴라포': 1200, '빵빠레': 1800, '월드콘': 1500, '메로나': 1000, '팥빙수': 2700, '아맛나': 1000}\n"
          ]
        }
      ]
    },
    {
      "cell_type": "code",
      "source": [
        "# 099\n",
        "\n",
        "key = [\"apple\", \"pear\", \"peach\"];\n",
        "vals = [300, 250, 400];\n",
        "    \n",
        "result = list( zip(key, vals));\n",
        "\n",
        "print (result);"
      ],
      "metadata": {
        "colab": {
          "base_uri": "https://localhost:8080/"
        },
        "id": "WKJ9J6zYoIY9",
        "outputId": "983e86f3-6563-4a6d-b6cb-b298e72432b7"
      },
      "execution_count": 17,
      "outputs": [
        {
          "output_type": "stream",
          "name": "stdout",
          "text": [
            "[('apple', 300), ('pear', 250), ('peach', 400)]\n"
          ]
        }
      ]
    },
    {
      "cell_type": "code",
      "source": [
        "# 100\n",
        "date = ['09/05','09/06','09/07','09/08','09/09'];\n",
        "close_price = [10500, 10300, 10100, 109800, 11000];\n",
        "close_table = list( zip(date, close_price));\n",
        "print( close_table );"
      ],
      "metadata": {
        "colab": {
          "base_uri": "https://localhost:8080/"
        },
        "id": "U6S745ssp2VB",
        "outputId": "fbe0eecc-d8be-4593-abaf-b4d754afd6aa"
      },
      "execution_count": 19,
      "outputs": [
        {
          "output_type": "stream",
          "name": "stdout",
          "text": [
            "[('09/05', 10500), ('09/06', 10300), ('09/07', 10100), ('09/08', 109800), ('09/09', 11000)]\n"
          ]
        }
      ]
    },
    {
      "cell_type": "code",
      "source": [
        "# 151\n",
        "arr = [3,-20,-3, 44];\n",
        "\n",
        "for i in arr:\n",
        "  if i < 0:\n",
        "    print( i );"
      ],
      "metadata": {
        "colab": {
          "base_uri": "https://localhost:8080/"
        },
        "id": "bzglhS9Zqcqg",
        "outputId": "8383a93c-c24e-4f5d-a993-504a6cda626f"
      },
      "execution_count": 20,
      "outputs": [
        {
          "output_type": "stream",
          "name": "stdout",
          "text": [
            "-20\n",
            "-3\n"
          ]
        }
      ]
    },
    {
      "cell_type": "code",
      "source": [
        "# 152\n",
        "\n",
        "arr = [3, 100, 23, 44];\n",
        "for i in arr:\n",
        "  if i%3 == 0:\n",
        "    print( i );\n"
      ],
      "metadata": {
        "colab": {
          "base_uri": "https://localhost:8080/"
        },
        "id": "kZm9Ga_crMOm",
        "outputId": "a0258ef0-a52c-4537-b3ce-487f0eb0d2ba"
      },
      "execution_count": 21,
      "outputs": [
        {
          "output_type": "stream",
          "name": "stdout",
          "text": [
            "3\n"
          ]
        }
      ]
    },
    {
      "cell_type": "code",
      "source": [
        "# 153\n",
        "arr = [13,21,12,14,30,18];\n",
        "for i in arr:\n",
        "  if i%3 == 0 and i <20:\n",
        "    print( i );"
      ],
      "metadata": {
        "colab": {
          "base_uri": "https://localhost:8080/"
        },
        "id": "v8o3mhp5rpbZ",
        "outputId": "bfecc0ea-8af3-416a-ce81-d29a78b714cb"
      },
      "execution_count": 22,
      "outputs": [
        {
          "output_type": "stream",
          "name": "stdout",
          "text": [
            "12\n",
            "18\n"
          ]
        }
      ]
    },
    {
      "cell_type": "code",
      "source": [
        "# 154\n",
        "arr = [\"I\",\"study\",\"python\",\"language\", \"!\"]\n",
        "for i in arr:\n",
        "  if len(i) > 3:\n",
        "    print( i );"
      ],
      "metadata": {
        "colab": {
          "base_uri": "https://localhost:8080/"
        },
        "id": "2wEOGkC8r5on",
        "outputId": "793ffa35-0648-4cf9-e15d-9483a19cd5ce"
      },
      "execution_count": 27,
      "outputs": [
        {
          "output_type": "stream",
          "name": "stdout",
          "text": [
            "study\n",
            "python\n",
            "language\n"
          ]
        }
      ]
    },
    {
      "cell_type": "code",
      "source": [
        "# 155\n",
        "arr = [\"A\",\"b\",\"c\",\"D\"];\n",
        "for i in arr:\n",
        "  if i.isupper():\n",
        "    print( i );"
      ],
      "metadata": {
        "colab": {
          "base_uri": "https://localhost:8080/"
        },
        "id": "oeR6N6sosx4L",
        "outputId": "deb36c24-bacc-49ec-ccbf-16d69b837fa0"
      },
      "execution_count": 28,
      "outputs": [
        {
          "output_type": "stream",
          "name": "stdout",
          "text": [
            "A\n",
            "D\n"
          ]
        }
      ]
    },
    {
      "cell_type": "code",
      "source": [
        "# 156\n",
        "\n",
        "arr = [\"A\",\"b\",\"c\",\"D\"];\n",
        "for i in arr:\n",
        "  if i.islower():\n",
        "    print( i );"
      ],
      "metadata": {
        "colab": {
          "base_uri": "https://localhost:8080/"
        },
        "id": "jLoJuAqFtqrr",
        "outputId": "8d136b9a-1e81-4221-8a6e-e2847f0d6f9e"
      },
      "execution_count": 29,
      "outputs": [
        {
          "output_type": "stream",
          "name": "stdout",
          "text": [
            "b\n",
            "c\n"
          ]
        }
      ]
    },
    {
      "cell_type": "code",
      "source": [
        "# 157\n",
        "arr = [\"dog\",\"cat\",\"parrpt\"];\n",
        "for i in arr:\n",
        "  st = list(i);\n",
        "  if st[0].islower():\n",
        "    tex = i.replace( st[0], st[0].upper() );\n",
        "  print( tex );"
      ],
      "metadata": {
        "colab": {
          "base_uri": "https://localhost:8080/"
        },
        "id": "3lSb-lRouAic",
        "outputId": "21c368eb-0c2d-4066-e81d-77eeafee4b85"
      },
      "execution_count": 37,
      "outputs": [
        {
          "output_type": "stream",
          "name": "stdout",
          "text": [
            "Dog\n",
            "Cat\n",
            "ParrPt\n"
          ]
        }
      ]
    },
    {
      "cell_type": "code",
      "source": [
        "# 158\n",
        "arr = [\"hello.py\",\"ex01.py\",'intro.hwp'];\n",
        "\n",
        "for i in arr:\n",
        "  st = i.split('.');\n",
        "\n",
        "  print( st[0] );"
      ],
      "metadata": {
        "colab": {
          "base_uri": "https://localhost:8080/"
        },
        "id": "iK-IUXHhyAJd",
        "outputId": "6ea63af6-af9c-4936-fabc-0b33bc9d6dd5"
      },
      "execution_count": 39,
      "outputs": [
        {
          "output_type": "stream",
          "name": "stdout",
          "text": [
            "hello\n",
            "ex01\n",
            "intro\n"
          ]
        }
      ]
    },
    {
      "cell_type": "code",
      "source": [
        "# 159\n",
        "arr = [\"intra.h\",\"intra.c\",\"define.h\",\"run.py\"];\n",
        "for i in arr:\n",
        "  st = i.split('.');\n",
        "  if st[1] == 'h':\n",
        "    print( i );"
      ],
      "metadata": {
        "colab": {
          "base_uri": "https://localhost:8080/"
        },
        "id": "C_tFWdCwyH7m",
        "outputId": "47ade1d6-9e6c-4b3c-e9f7-a45794040a88"
      },
      "execution_count": 40,
      "outputs": [
        {
          "output_type": "stream",
          "name": "stdout",
          "text": [
            "intra.h\n",
            "define.h\n"
          ]
        }
      ]
    },
    {
      "cell_type": "code",
      "source": [
        "# 160\n",
        "arr = [\"intra.h\",\"intra.c\",\"define.h\",\"run.py\"];\n",
        "\n",
        "for i in arr:\n",
        "  st = i.split('.');\n",
        "  if st[1] == 'h' or st[1] == 'c':\n",
        "    print( i );"
      ],
      "metadata": {
        "colab": {
          "base_uri": "https://localhost:8080/"
        },
        "id": "BB6tyyf3yKZj",
        "outputId": "2708e260-41ae-4cc6-ce28-bfd842c07bf1"
      },
      "execution_count": 41,
      "outputs": [
        {
          "output_type": "stream",
          "name": "stdout",
          "text": [
            "intra.h\n",
            "intra.c\n",
            "define.h\n"
          ]
        }
      ]
    }
  ]
}