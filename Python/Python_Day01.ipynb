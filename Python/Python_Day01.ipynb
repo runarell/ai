{
 "cells": [
  {
   "cell_type": "code",
   "execution_count": 3,
   "metadata": {
    "colab": {
     "base_uri": "https://localhost:8080/"
    },
    "executionInfo": {
     "elapsed": 282,
     "status": "ok",
     "timestamp": 1643075348377,
     "user": {
      "displayName": "Jaewon Lee",
      "photoUrl": "https://lh3.googleusercontent.com/a/default-user=s64",
      "userId": "15174336778098579521"
     },
     "user_tz": -540
    },
    "id": "8F4EZka_w24L",
    "outputId": "6ea15fef-7ac1-4e20-a49c-b4e44f7878c9"
   },
   "outputs": [
    {
     "name": "stdout",
     "output_type": "stream",
     "text": [
      "Hellow World\n"
     ]
    }
   ],
   "source": [
    "''' \n",
    "작성자 : 이재원\n",
    "작성일 : 2022-01-25\n",
    "버전 : 0.1\n",
    "'''\n",
    "# 보통은 삼중 따옴표는 \n",
    "# 여러줄 주석시 사용\n",
    "# 범위 지정후 ctrl + / 이용\n",
    "\n",
    "print(\"Hellow World\")\n"
   ]
  },
  {
   "cell_type": "code",
   "execution_count": 6,
   "metadata": {
    "colab": {
     "base_uri": "https://localhost:8080/",
     "height": 137
    },
    "executionInfo": {
     "elapsed": 312,
     "status": "error",
     "timestamp": 1643077318970,
     "user": {
      "displayName": "Jaewon Lee",
      "photoUrl": "https://lh3.googleusercontent.com/a/default-user=s64",
      "userId": "15174336778098579521"
     },
     "user_tz": -540
    },
    "id": "1G3gZGlC_X38",
    "outputId": "0a8434b6-88a2-4944-d4ab-d3f832921948"
   },
   "outputs": [
    {
     "ename": "SyntaxError",
     "evalue": "ignored",
     "output_type": "error",
     "traceback": [
      "\u001b[0;36m  File \u001b[0;32m\"<ipython-input-6-9cf707df15d2>\"\u001b[0;36m, line \u001b[0;32m4\u001b[0m\n\u001b[0;31m    1a = 1;\u001b[0m\n\u001b[0m     ^\u001b[0m\n\u001b[0;31mSyntaxError\u001b[0m\u001b[0;31m:\u001b[0m invalid syntax\n"
     ]
    }
   ],
   "source": [
    "score = 100\n",
    "\n",
    "print(score);\n",
    "1a = 1;\n",
    "print(score);\n",
    "a1 = 1;\n",
    "print(score);"
   ]
  },
  {
   "cell_type": "markdown",
   "metadata": {
    "id": "clk-bbuRCuS0"
   },
   "source": [
    "name = 'Alice'\n",
    "age = 25\n",
    "address = '''우편번호 12345\n",
    "서울시 영등포구 여의도동\n",
    "서울빌딩 501호'''\n",
    "boyfriend = None\n",
    "height = 168.5\n",
    "\n",
    "print(name)\n",
    "print(age)\n",
    "print(address)\n",
    "print(boyfriend)\n",
    "print(height)"
   ]
  },
  {
   "cell_type": "code",
   "execution_count": 14,
   "metadata": {
    "colab": {
     "base_uri": "https://localhost:8080/"
    },
    "executionInfo": {
     "elapsed": 298,
     "status": "ok",
     "timestamp": 1643078287926,
     "user": {
      "displayName": "Jaewon Lee",
      "photoUrl": "https://lh3.googleusercontent.com/a/default-user=s64",
      "userId": "15174336778098579521"
     },
     "user_tz": -540
    },
    "id": "gmYO-HlBEYDt",
    "outputId": "7ceb3a8d-688b-45d4-e061-29227096ce58"
   },
   "outputs": [
    {
     "name": "stdout",
     "output_type": "stream",
     "text": [
      "1\n",
      "1\n",
      "0\n",
      "100\n"
     ]
    }
   ],
   "source": [
    "a= int(1.5);\n",
    "print(a);\n",
    "\n",
    "b = int(True);\n",
    "print(b);\n",
    "\n",
    "c =  int(False);\n",
    "print(c);\n",
    "\n",
    "d = int('100');\n",
    "print(d);\n"
   ]
  },
  {
   "cell_type": "code",
   "execution_count": 13,
   "metadata": {
    "colab": {
     "base_uri": "https://localhost:8080/"
    },
    "executionInfo": {
     "elapsed": 301,
     "status": "ok",
     "timestamp": 1643078208315,
     "user": {
      "displayName": "Jaewon Lee",
      "photoUrl": "https://lh3.googleusercontent.com/a/default-user=s64",
      "userId": "15174336778098579521"
     },
     "user_tz": -540
    },
    "id": "SGraYrJnFSIF",
    "outputId": "d5c42b13-3502-4087-d087-3b2c632aa273"
   },
   "outputs": [
    {
     "name": "stdout",
     "output_type": "stream",
     "text": [
      "<class 'int'>\n",
      "<class 'str'>\n",
      "100\n",
      "100\n",
      "False\n",
      "<class 'int'>\n"
     ]
    }
   ],
   "source": [
    "a = 100;\n",
    "b = '100';\n",
    "print( type(a) );\n",
    "print( type(b) );\n",
    "\n",
    "print(a);\n",
    "print(b);\n",
    "print(a==b);\n",
    "\n",
    "c = int(b);\n",
    "print(type(c));\n"
   ]
  },
  {
   "cell_type": "code",
   "execution_count": 25,
   "metadata": {
    "colab": {
     "base_uri": "https://localhost:8080/"
    },
    "executionInfo": {
     "elapsed": 317,
     "status": "ok",
     "timestamp": 1643083483332,
     "user": {
      "displayName": "Jaewon Lee",
      "photoUrl": "https://lh3.googleusercontent.com/a/default-user=s64",
      "userId": "15174336778098579521"
     },
     "user_tz": -540
    },
    "id": "oRCqRv-jGbyb",
    "outputId": "b8a7070c-8032-44ce-fc93-537cf2af7181"
   },
   "outputs": [
    {
     "name": "stdout",
     "output_type": "stream",
     "text": [
      "1.0\n",
      "1.0\n",
      "0.0\n",
      "3.14\n"
     ]
    }
   ],
   "source": [
    "a = float(1);\n",
    "\n",
    "a= float(a);\n",
    "print(a);\n",
    "\n",
    "b = float(True);\n",
    "print(b);\n",
    "c =  float(False);\n",
    "print(c);\n",
    "d =  float('3.14');\n",
    "print(d);\n"
   ]
  },
  {
   "cell_type": "code",
   "execution_count": 27,
   "metadata": {
    "colab": {
     "base_uri": "https://localhost:8080/"
    },
    "executionInfo": {
     "elapsed": 274,
     "status": "ok",
     "timestamp": 1643083740729,
     "user": {
      "displayName": "Jaewon Lee",
      "photoUrl": "https://lh3.googleusercontent.com/a/default-user=s64",
      "userId": "15174336778098579521"
     },
     "user_tz": -540
    },
    "id": "KIEyZ8J0Zt_E",
    "outputId": "27c78faa-fcd3-4491-f409-db4c974231a7"
   },
   "outputs": [
    {
     "name": "stdout",
     "output_type": "stream",
     "text": [
      "False\n",
      "False\n",
      "False\n",
      "True\n"
     ]
    }
   ],
   "source": [
    "a = bool(0);\n",
    "print(a);\n",
    "\n",
    "b = bool();\n",
    "print(b);\n",
    "\n",
    "c = bool([]);\n",
    "print(c);\n",
    "\n",
    "d = bool([1]);\n",
    "print(d);\n"
   ]
  },
  {
   "cell_type": "code",
   "execution_count": 29,
   "metadata": {
    "colab": {
     "base_uri": "https://localhost:8080/"
    },
    "executionInfo": {
     "elapsed": 266,
     "status": "ok",
     "timestamp": 1643084007129,
     "user": {
      "displayName": "Jaewon Lee",
      "photoUrl": "https://lh3.googleusercontent.com/a/default-user=s64",
      "userId": "15174336778098579521"
     },
     "user_tz": -540
    },
    "id": "IEyR83iqbNED",
    "outputId": "53719446-c737-4bbf-e708-948d4e4c31c3"
   },
   "outputs": [
    {
     "name": "stdout",
     "output_type": "stream",
     "text": [
      "100\n",
      "<class 'str'>\n",
      "True\n",
      "<class 'str'>\n"
     ]
    }
   ],
   "source": [
    "# 문자형\n",
    "\n",
    "a = '대한민국';\n",
    "a = \"대한민국\";\n",
    "\n",
    "b = str(100);\n",
    "print(b);\n",
    "print(type(b));\n",
    "\n",
    "c = str(True);\n",
    "print(c);\n",
    "print(type(c));\n"
   ]
  },
  {
   "cell_type": "code",
   "execution_count": 33,
   "metadata": {
    "colab": {
     "base_uri": "https://localhost:8080/"
    },
    "executionInfo": {
     "elapsed": 276,
     "status": "ok",
     "timestamp": 1643084781081,
     "user": {
      "displayName": "Jaewon Lee",
      "photoUrl": "https://lh3.googleusercontent.com/a/default-user=s64",
      "userId": "15174336778098579521"
     },
     "user_tz": -540
    },
    "id": "wPnxaTJibTLl",
    "outputId": "f8aa9925-3a71-46ca-b824-7c93dfdba57b"
   },
   "outputs": [
    {
     "name": "stdout",
     "output_type": "stream",
     "text": [
      "H\n",
      "e\n",
      "o\n",
      "o\n",
      "H\n",
      "ss :1\n"
     ]
    }
   ],
   "source": [
    "#인덱싱\n",
    "\n",
    "# 문자열, 리스트, 튜플 동일\n",
    "# 인덱싱 : 몇 번째를 알려주는 고유번호\n",
    "# 파이썬(java)에서는 0 에서 시작\n",
    "\n",
    "s = 'Hello';\n",
    "print(s[0]);\n",
    "print(s[1]);\n",
    "print(s[4]);\n",
    "\n",
    "#  H  e  l  l  o\n",
    "#  0  1  2  3  4\n",
    "# -5 -4 -3 -2 -1\n",
    "# 0 은 처음  -1은 마지막을 선택\n",
    "# 음수는 역방향\n",
    "print(s[-1]);\n",
    "print(s[-5]);\n",
    "\n",
    "ss = '971012-1066822';\n",
    "\n",
    "print( 'ss :'+ ss[7]);"
   ]
  },
  {
   "cell_type": "code",
   "execution_count": 34,
   "metadata": {
    "colab": {
     "base_uri": "https://localhost:8080/"
    },
    "executionInfo": {
     "elapsed": 315,
     "status": "ok",
     "timestamp": 1643084833791,
     "user": {
      "displayName": "Jaewon Lee",
      "photoUrl": "https://lh3.googleusercontent.com/a/default-user=s64",
      "userId": "15174336778098579521"
     },
     "user_tz": -540
    },
    "id": "WtDCHRDSejls",
    "outputId": "0704cc42-9f78-4ce7-8e3e-4d187ca43ecf"
   },
   "outputs": [
    {
     "name": "stdout",
     "output_type": "stream",
     "text": [
      "ss :9\n"
     ]
    }
   ],
   "source": [
    "# 슬라이싱\n",
    "\n",
    "# 문자열, 리스트, 튜플 동일\n",
    "# 한문자 이상으로 구성된 단어나 문자등을 추출\n",
    "# var[a:b]  a이상 b미만 까지\n",
    "# var[a:b:c] c개씩 출력 c는 생략가능\n",
    "\n",
    "ss = '871012-1066822';\n",
    "\n",
    "print( 'ss :'+ ss[0:2]);\n",
    "print( 'ss :'+ ss[0:10:2]);"
   ]
  },
  {
   "cell_type": "code",
   "execution_count": null,
   "metadata": {
    "id": "KRMQ1aCrjO_Q"
   },
   "outputs": [],
   "source": [
    "#print\n",
    "\n",
    "# 이스케이프 문자 escape character 확장문자\n",
    "# 특수문자를 str으로 출력\n",
    "\n",
    "print(\"Hello World\");\n",
    "\n",
    "print(\"Hello 'World'\" + \"\\n\"+ 'Hello \"World\"');\n",
    "\n",
    "print(\"Hello \\\"World\\\"\");"
   ]
  },
  {
   "cell_type": "code",
   "execution_count": 40,
   "metadata": {
    "colab": {
     "base_uri": "https://localhost:8080/"
    },
    "executionInfo": {
     "elapsed": 269,
     "status": "ok",
     "timestamp": 1643085865001,
     "user": {
      "displayName": "Jaewon Lee",
      "photoUrl": "https://lh3.googleusercontent.com/a/default-user=s64",
      "userId": "15174336778098579521"
     },
     "user_tz": -540
    },
    "id": "lwM_3CLpiuO3",
    "outputId": "d41ce787-fdc9-42f2-947c-c9cb2237b860"
   },
   "outputs": [
    {
     "name": "stdout",
     "output_type": "stream",
     "text": [
      "Hello\n",
      " World\n",
      "이름\t연락처\n",
      "홍길동\t010-000-0000\n"
     ]
    }
   ],
   "source": [
    "print('Hello\\n World');\n",
    "print('이름\\t연락처');\n",
    "print(\"홍길동\\t010-000-0000\");"
   ]
  },
  {
   "cell_type": "code",
   "execution_count": 41,
   "metadata": {
    "colab": {
     "base_uri": "https://localhost:8080/"
    },
    "executionInfo": {
     "elapsed": 260,
     "status": "ok",
     "timestamp": 1643085972680,
     "user": {
      "displayName": "Jaewon Lee",
      "photoUrl": "https://lh3.googleusercontent.com/a/default-user=s64",
      "userId": "15174336778098579521"
     },
     "user_tz": -540
    },
    "id": "e1iVe3Eljbnr",
    "outputId": "73abc01d-7652-4b91-caa2-1d47841c7307"
   },
   "outputs": [
    {
     "name": "stdout",
     "output_type": "stream",
     "text": [
      "재미있는 파이썬\n"
     ]
    }
   ],
   "source": [
    "print('재미있는', '파이썬');"
   ]
  },
  {
   "cell_type": "code",
   "execution_count": 43,
   "metadata": {
    "colab": {
     "base_uri": "https://localhost:8080/"
    },
    "executionInfo": {
     "elapsed": 302,
     "status": "ok",
     "timestamp": 1643086088102,
     "user": {
      "displayName": "Jaewon Lee",
      "photoUrl": "https://lh3.googleusercontent.com/a/default-user=s64",
      "userId": "15174336778098579521"
     },
     "user_tz": -540
    },
    "id": "tHD_LRRSjlsR",
    "outputId": "ef459695-ec78-4699-bdfe-bd3deb6bce83"
   },
   "outputs": [
    {
     "name": "stdout",
     "output_type": "stream",
     "text": [
      "평점:5점\n"
     ]
    }
   ],
   "source": [
    "print('평점', end=':');\n",
    "print('5점');"
   ]
  },
  {
   "cell_type": "code",
   "execution_count": 47,
   "metadata": {
    "colab": {
     "base_uri": "https://localhost:8080/"
    },
    "executionInfo": {
     "elapsed": 296,
     "status": "ok",
     "timestamp": 1643087536679,
     "user": {
      "displayName": "Jaewon Lee",
      "photoUrl": "https://lh3.googleusercontent.com/a/default-user=s64",
      "userId": "15174336778098579521"
     },
     "user_tz": -540
    },
    "id": "1hjn3dttosO8",
    "outputId": "64796568-16ea-4c71-feec-c688ec6e5e48"
   },
   "outputs": [
    {
     "name": "stdout",
     "output_type": "stream",
     "text": [
      "국어 영어 수학\n",
      "국어/영어/수학\n",
      "국어, 영어, 수학\n",
      "국어\n",
      "영어\n",
      "수학\n",
      "\n",
      "국어\n",
      "영어\n",
      "수학\n"
     ]
    }
   ],
   "source": [
    "print('국어','영어','수학');\n",
    "print('국어','영어','수학', sep='/');\n",
    "print('국어','영어','수학', sep=', ');\n",
    "print('국어','영어','수학', sep='\\n');\n",
    "print('\\n국어\\n영어\\n수학');\n",
    "\n",
    "# \\n \n",
    "# end = '' 줄바꿈 강제 방지\n",
    "# sep = '' 구분자 설정\n",
    "\n",
    "# %연산자"
   ]
  },
  {
   "cell_type": "code",
   "execution_count": 55,
   "metadata": {
    "colab": {
     "base_uri": "https://localhost:8080/"
    },
    "executionInfo": {
     "elapsed": 273,
     "status": "ok",
     "timestamp": 1643088447595,
     "user": {
      "displayName": "Jaewon Lee",
      "photoUrl": "https://lh3.googleusercontent.com/a/default-user=s64",
      "userId": "15174336778098579521"
     },
     "user_tz": -540
    },
    "id": "G2A3IxgYqNvo",
    "outputId": "44006e5c-6a4c-4632-df62-1d0bf7dbe15a"
   },
   "outputs": [
    {
     "name": "stdout",
     "output_type": "stream",
     "text": [
      "10\n",
      "10 입니다.\n",
      "원주율은 3.140000 입니다.\n",
      "원주율은 3.140000 입니다.\n",
      "원주율은 3.14 입니다.\n",
      "저는 학생 입니다.\n",
      "저는 학생 입니다.\n",
      "저는 학생입니다.\n",
      "원주율은 3.140000 입니다.\n"
     ]
    }
   ],
   "source": [
    "print(10);\n",
    "print('%d 입니다.' % 10);   # %d decimal 정수\n",
    "print('원주율은 %f 입니다.' % 3.14);   # %f float 실수\n",
    "print('원주율은 %f 입니다.' % 3.14);   # %f float 실수\n",
    "print('원주율은 %s 입니다.' % 3.14);   # %f float 실수\n",
    "std = '학생';\n",
    "print('저는 %s 입니다.' % std);   # %f string 문자\n",
    "print('저는', std, '입니다.');   # %f string 문자\n",
    "print('저는 '+ std + '입니다.');   # %f string 문자\n",
    "\n",
    "# %s는 모두 사용가능 / 하지만 변화불가\n",
    "print('원주율은 %f 입니다.' % 3.14);   # %f float 실수"
   ]
  },
  {
   "cell_type": "code",
   "execution_count": 59,
   "metadata": {
    "colab": {
     "base_uri": "https://localhost:8080/"
    },
    "executionInfo": {
     "elapsed": 271,
     "status": "ok",
     "timestamp": 1643088667091,
     "user": {
      "displayName": "Jaewon Lee",
      "photoUrl": "https://lh3.googleusercontent.com/a/default-user=s64",
      "userId": "15174336778098579521"
     },
     "user_tz": -540
    },
    "id": "zbYxDECQtQQa",
    "outputId": "7e605fca-d971-41e2-9165-65d9593a0d2e"
   },
   "outputs": [
    {
     "name": "stdout",
     "output_type": "stream",
     "text": [
      "1\n",
      "    1\n",
      "1    \n",
      "   11\n",
      "11   \n"
     ]
    }
   ],
   "source": [
    "print(\"%d\" % 1);\n",
    "print(\"%5d\" % 1);\n",
    "print(\"%-5d\" % 1);\n",
    "print(\"%5d\" % 11);\n",
    "print(\"%-5d\" % 11);     "
   ]
  },
  {
   "cell_type": "code",
   "execution_count": 66,
   "metadata": {
    "colab": {
     "base_uri": "https://localhost:8080/"
    },
    "executionInfo": {
     "elapsed": 338,
     "status": "ok",
     "timestamp": 1643088953967,
     "user": {
      "displayName": "Jaewon Lee",
      "photoUrl": "https://lh3.googleusercontent.com/a/default-user=s64",
      "userId": "15174336778098579521"
     },
     "user_tz": -540
    },
    "id": "lqZ3t5BKtifP",
    "outputId": "3b849be5-28f5-4b11-8e55-aadf3f8281cd"
   },
   "outputs": [
    {
     "name": "stdout",
     "output_type": "stream",
     "text": [
      "원주율은 3.140000 입니다.\n",
      "원주율은 3.14 입니다.\n",
      "원주율은  3.14 입니다.\n",
      "원주율은 3.14  입니다.\n"
     ]
    }
   ],
   "source": [
    "print('원주율은 %f 입니다.' % 3.14);\n",
    "print('원주율은 %.2f 입니다.' % 3.14);\n",
    "print('원주율은 %5.2f 입니다.' % 3.14);\n",
    "print('원주율은 %-5.2f 입니다.' % 3.14);\n"
   ]
  },
  {
   "cell_type": "code",
   "execution_count": 67,
   "metadata": {
    "colab": {
     "base_uri": "https://localhost:8080/"
    },
    "executionInfo": {
     "elapsed": 262,
     "status": "ok",
     "timestamp": 1643089092921,
     "user": {
      "displayName": "Jaewon Lee",
      "photoUrl": "https://lh3.googleusercontent.com/a/default-user=s64",
      "userId": "15174336778098579521"
     },
     "user_tz": -540
    },
    "id": "VBotfG_6uLM-",
    "outputId": "98a596ea-f6bd-46b6-b9ac-a60615b4cdd0"
   },
   "outputs": [
    {
     "name": "stdout",
     "output_type": "stream",
     "text": [
      "내 이름은 kai입니다.\n"
     ]
    }
   ],
   "source": [
    "name = 'kai';\n",
    "print('내 이름은 %s입니다.' % name);\n"
   ]
  },
  {
   "cell_type": "code",
   "execution_count": 68,
   "metadata": {
    "colab": {
     "base_uri": "https://localhost:8080/"
    },
    "executionInfo": {
     "elapsed": 275,
     "status": "ok",
     "timestamp": 1643089170185,
     "user": {
      "displayName": "Jaewon Lee",
      "photoUrl": "https://lh3.googleusercontent.com/a/default-user=s64",
      "userId": "15174336778098579521"
     },
     "user_tz": -540
    },
    "id": "MHr45deevfRu",
    "outputId": "dbba9a36-9696-42e2-a08f-d7e6b2ae2640"
   },
   "outputs": [
    {
     "name": "stdout",
     "output_type": "stream",
     "text": [
      "내 키는 185.5입니다.\n",
      "내 키는 185.5입니다.\n"
     ]
    }
   ],
   "source": [
    "height = 185.5;\n",
    "print('내 키는 %.1f입니다.' % height);\n",
    "print('내 키는 %s입니다.' % height);"
   ]
  },
  {
   "cell_type": "code",
   "execution_count": 71,
   "metadata": {
    "colab": {
     "base_uri": "https://localhost:8080/"
    },
    "executionInfo": {
     "elapsed": 288,
     "status": "ok",
     "timestamp": 1643089816191,
     "user": {
      "displayName": "Jaewon Lee",
      "photoUrl": "https://lh3.googleusercontent.com/a/default-user=s64",
      "userId": "15174336778098579521"
     },
     "user_tz": -540
    },
    "id": "9Pj9Yw8RwFtn",
    "outputId": "5e5f82f7-2260-4b9b-ab0b-a10011d422b5"
   },
   "outputs": [
    {
     "name": "stdout",
     "output_type": "stream",
     "text": [
      "우편번호 : 06654\n",
      "우편번호 : 06654\n",
      "내키는 178.5이고 이름은 이재원입니다.\n",
      "내키는 178.5이고 이름은 이재원입니다.\n"
     ]
    }
   ],
   "source": [
    "# format() 메소드\n",
    "\n",
    "zipcode = \"06654\";\n",
    "print('우편번호 : %s' % zipcode);\n",
    "print('우편번호 : {}'.format(zipcode));\n",
    "\n",
    "height = 178.5;\n",
    "name = '이재원';\n",
    "\n",
    "print('내키는 %s이고 이름은 %s입니다.' % ( height, name));\n",
    "print('내키는 {}이고 이름은 {}입니다.'.format(height, name));"
   ]
  },
  {
   "cell_type": "code",
   "execution_count": 74,
   "metadata": {
    "colab": {
     "base_uri": "https://localhost:8080/"
    },
    "executionInfo": {
     "elapsed": 260,
     "status": "ok",
     "timestamp": 1643090985993,
     "user": {
      "displayName": "Jaewon Lee",
      "photoUrl": "https://lh3.googleusercontent.com/a/default-user=s64",
      "userId": "15174336778098579521"
     },
     "user_tz": -540
    },
    "id": "rOXiX6N818e7",
    "outputId": "8cb04e15-be04-4b64-cdb0-f0a9fd99c5d7"
   },
   "outputs": [
    {
     "name": "stdout",
     "output_type": "stream",
     "text": [
      "My name is james. i'm 25 years old.\n",
      "My name is james. i'm 25 years old.\n",
      "My name is james. i'm 25 years old.\n"
     ]
    }
   ],
   "source": [
    "print('My name is {}. i\\'m {} years old.' .format('james', 25));\n",
    "print('My name is {1}. i\\'m {0} years old.' .format(25, 'james'));\n",
    "print('My name is {name}. i\\'m {age} years old.' .format(age=25, name='james'));"
   ]
  },
  {
   "cell_type": "code",
   "execution_count": 75,
   "metadata": {
    "colab": {
     "base_uri": "https://localhost:8080/"
    },
    "executionInfo": {
     "elapsed": 265,
     "status": "ok",
     "timestamp": 1643091140418,
     "user": {
      "displayName": "Jaewon Lee",
      "photoUrl": "https://lh3.googleusercontent.com/a/default-user=s64",
      "userId": "15174336778098579521"
     },
     "user_tz": -540
    },
    "id": "QL3MFISw2fSJ",
    "outputId": "a2249095-aa57-4422-96b8-c3d7818a130b"
   },
   "outputs": [
    {
     "name": "stdout",
     "output_type": "stream",
     "text": [
      "you make me happy\n"
     ]
    }
   ],
   "source": [
    "# f-strings\n",
    "# python 3.6 이후부터 사용 가능\n",
    "\n",
    "who = 'you';\n",
    "how = 'happy'\n",
    "print(f'{who} make me {how}');\n"
   ]
  },
  {
   "cell_type": "code",
   "execution_count": 76,
   "metadata": {
    "colab": {
     "base_uri": "https://localhost:8080/"
    },
    "executionInfo": {
     "elapsed": 304,
     "status": "ok",
     "timestamp": 1643091268777,
     "user": {
      "displayName": "Jaewon Lee",
      "photoUrl": "https://lh3.googleusercontent.com/a/default-user=s64",
      "userId": "15174336778098579521"
     },
     "user_tz": -540
    },
    "id": "JmefZQ973puS",
    "outputId": "b5529448-0684-451d-eb8c-4d2509c97575"
   },
   "outputs": [
    {
     "name": "stdout",
     "output_type": "stream",
     "text": [
      "내년에는 26 입니다.\n"
     ]
    }
   ],
   "source": [
    "age = 25;\n",
    "print(f'내년에는 {age + 1} 입니다.')"
   ]
  },
  {
   "cell_type": "code",
   "execution_count": 82,
   "metadata": {
    "colab": {
     "base_uri": "https://localhost:8080/"
    },
    "executionInfo": {
     "elapsed": 1981,
     "status": "ok",
     "timestamp": 1643091702149,
     "user": {
      "displayName": "Jaewon Lee",
      "photoUrl": "https://lh3.googleusercontent.com/a/default-user=s64",
      "userId": "15174336778098579521"
     },
     "user_tz": -540
    },
    "id": "u9oF8TYa4I_W",
    "outputId": "3cb6cfc8-152c-4411-b77c-d83d477f0351"
   },
   "outputs": [
    {
     "name": "stdout",
     "output_type": "stream",
     "text": [
      "당신의 나이를 입력하세요23\n",
      "당신의 나이는 : 23 입니다.\n",
      "당신의 나이는 : 23 입니다.\n"
     ]
    }
   ],
   "source": [
    "# 입력 input()\n",
    "\n",
    "n = input( '당신의 나이를 입력하세요' );\n",
    "print(f'당신의 나이는 : {n} 입니다.');\n",
    "print('당신의 나이는 :',n,'입니다.');"
   ]
  },
  {
   "cell_type": "code",
   "execution_count": 88,
   "metadata": {
    "colab": {
     "base_uri": "https://localhost:8080/"
    },
    "executionInfo": {
     "elapsed": 3187,
     "status": "ok",
     "timestamp": 1643092241430,
     "user": {
      "displayName": "Jaewon Lee",
      "photoUrl": "https://lh3.googleusercontent.com/a/default-user=s64",
      "userId": "15174336778098579521"
     },
     "user_tz": -540
    },
    "id": "zBdLfRd35d1z",
    "outputId": "ef114433-b8f1-4546-e43a-1c0f9caea0c0"
   },
   "outputs": [
    {
     "name": "stdout",
     "output_type": "stream",
     "text": [
      "이름을 입력하세요ff\n",
      "나이를 입력하세요45\n",
      "당신의 이름은 : 'ff' 이고 나이는 : '45'입니다.\n",
      "당신의 이름은 : 'ff' 이고 나이는 : '45'입니다.\n",
      "당신의 이름은 : 'ff' 이고 나이는 : '45'입니다.\n",
      "당신의 이름은 : 'ff' 이고 나이는 : '45'입니다.\n"
     ]
    }
   ],
   "source": [
    "# quiz 사용자로부터 키보드로 이름과 나이를 입력받아서 한줄로 출력하세요.\n",
    "\n",
    "name = input('이름을 입력하세요');\n",
    "age = input('나이를 입력하세요');\n",
    "\n",
    "print('당신의 이름은 : \\'', name, '\\' 이고 나이는 : \\'', age,'\\'입니다.', sep='');\n",
    "print('당신의 이름은 : \\'%s\\' 이고 나이는 : \\'%s\\'입니다.' % (name, age) );\n",
    "print(f'당신의 이름은 : \\'{name}\\' 이고 나이는 : \\'{age}\\'입니다.' .format(name, age));\n",
    "print(f'당신의 이름은 : \\'{name}\\' 이고 나이는 : \\'{age}\\'입니다.');"
   ]
  },
  {
   "cell_type": "code",
   "execution_count": 94,
   "metadata": {
    "colab": {
     "base_uri": "https://localhost:8080/"
    },
    "executionInfo": {
     "elapsed": 7029,
     "status": "ok",
     "timestamp": 1643094738352,
     "user": {
      "displayName": "Jaewon Lee",
      "photoUrl": "https://lh3.googleusercontent.com/a/default-user=s64",
      "userId": "15174336778098579521"
     },
     "user_tz": -540
    },
    "id": "ciAJkY7b92Sp",
    "outputId": "07428799-c58b-4ba3-aef5-2f8cfb164aff"
   },
   "outputs": [
    {
     "name": "stdout",
     "output_type": "stream",
     "text": [
      "할부 개월 입력 : 3\n",
      "3 개월 동안 매달 내는 금액은 16666.67 입니다.\n",
      "3 개월 동안 매달 내는 금액은 16666.67 입니다.\n",
      "3 개월 동안 매달 내는 금액은 16666.67 입니다.\n",
      "3 개월 동안 매달 내는 금액은 16666.67 입니다.\n"
     ]
    }
   ],
   "source": [
    "# 50000원짜리 물건을 할부로 구매하고 매달 내는 금액을 계산하는 프로그램을 작성해보자\n",
    "# 할부 개월 입력 :\n",
    "# ?개월 동안 매달 내는 금액은 ? 입니다.\n",
    "\n",
    "cach = 50000;\n",
    "month = int(input('할부 개월 입력 : '));\n",
    "# moncach = int(50000 / month);\n",
    "moncach = round(50000 / month,2);\n",
    "\n",
    "print(month,'개월 동안 매달 내는 금액은',moncach ,'입니다.');\n",
    "print('%d 개월 동안 매달 내는 금액은 %.2f 입니다.' %(month, moncach));\n",
    "print('{} 개월 동안 매달 내는 금액은 {} 입니다.' .format(month, moncach));\n",
    "print(f'{month} 개월 동안 매달 내는 금액은 {moncach} 입니다.');\n"
   ]
  },
  {
   "cell_type": "code",
   "execution_count": 96,
   "metadata": {
    "colab": {
     "base_uri": "https://localhost:8080/"
    },
    "executionInfo": {
     "elapsed": 3129,
     "status": "ok",
     "timestamp": 1643094969353,
     "user": {
      "displayName": "Jaewon Lee",
      "photoUrl": "https://lh3.googleusercontent.com/a/default-user=s64",
      "userId": "15174336778098579521"
     },
     "user_tz": -540
    },
    "id": "qmAkS8llFE5A",
    "outputId": "98dcd0fe-50f2-4b9e-b68f-e725de3fbd16"
   },
   "outputs": [
    {
     "name": "stdout",
     "output_type": "stream",
     "text": [
      "실수2 입력 : 3\n",
      "실수2 입력 : 55\n",
      "3과 55의 합계는58입니다.\n"
     ]
    }
   ],
   "source": [
    "# 사용자로부터 2개의 실수 입력받기\n",
    "# 합계를 구하는 프로그램\n",
    "\n",
    "nom1 = int(input('실수2 입력 : '));\n",
    "nom2 = int(input('실수2 입력 : '));\n",
    "sum = nom1 + nom2;\n",
    "\n",
    "print(f'{nom1}과 {nom2}의 합계는{sum}입니다.');\n"
   ]
  }
 ],
 "metadata": {
  "colab": {
   "authorship_tag": "ABX9TyOfijALTpQ7XA9vi20ukeCC",
   "collapsed_sections": [],
   "name": "Untitled0.ipynb",
   "provenance": [],
   "toc_visible": true
  },
  "kernelspec": {
   "display_name": "Python 3 (ipykernel)",
   "language": "python",
   "name": "python3"
  },
  "language_info": {
   "codemirror_mode": {
    "name": "ipython",
    "version": 3
   },
   "file_extension": ".py",
   "mimetype": "text/x-python",
   "name": "python",
   "nbconvert_exporter": "python",
   "pygments_lexer": "ipython3",
   "version": "3.9.7"
  }
 },
 "nbformat": 4,
 "nbformat_minor": 1
}
