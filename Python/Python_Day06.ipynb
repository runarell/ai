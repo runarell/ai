{
 "cells": [
  {
   "cell_type": "code",
   "execution_count": null,
   "id": "61438da8",
   "metadata": {},
   "outputs": [],
   "source": [
    "# 예외처리(에러처리, 오류처리, 버그처리)\n",
    "\n",
    "# 프로그램 실행전에 발생하는 오류 - 구문 오류 syntax error\n",
    "# 프로그램 실행 중에 발생하는 오류 - 런타임 오류 runtime error, 예외 exception \n",
    "\n",
    "print(\"예외 강제);\n",
    "# EOL End of Line 샐행 조차 되지 않는 오류\n"
   ]
  },
  {
   "cell_type": "code",
   "execution_count": 3,
   "id": "3b85b03b",
   "metadata": {},
   "outputs": [
    {
     "name": "stdout",
     "output_type": "stream",
     "text": [
      "프로그램 시작\n"
     ]
    },
    {
     "ename": "NameError",
     "evalue": "name 'a' is not defined",
     "output_type": "error",
     "traceback": [
      "\u001b[1;31m---------------------------------------------------------------------------\u001b[0m",
      "\u001b[1;31mNameError\u001b[0m                                 Traceback (most recent call last)",
      "\u001b[1;32m~\\AppData\\Local\\Temp/ipykernel_123452/883037387.py\u001b[0m in \u001b[0;36m<module>\u001b[1;34m\u001b[0m\n\u001b[0;32m      1\u001b[0m \u001b[0mprint\u001b[0m\u001b[1;33m(\u001b[0m\u001b[1;34m\"프로그램 시작\"\u001b[0m\u001b[1;33m)\u001b[0m\u001b[1;33m;\u001b[0m\u001b[1;33m\u001b[0m\u001b[1;33m\u001b[0m\u001b[0m\n\u001b[0;32m      2\u001b[0m \u001b[1;33m\u001b[0m\u001b[0m\n\u001b[1;32m----> 3\u001b[1;33m \u001b[0ma\u001b[0m\u001b[1;33m[\u001b[0m\u001b[1;36m0\u001b[0m\u001b[1;33m]\u001b[0m\u001b[1;33m;\u001b[0m\u001b[1;33m\u001b[0m\u001b[1;33m\u001b[0m\u001b[0m\n\u001b[0m",
      "\u001b[1;31mNameError\u001b[0m: name 'a' is not defined"
     ]
    }
   ],
   "source": [
    "print(\"프로그램 시작\");\n",
    "\n",
    "a[0];"
   ]
  },
  {
   "cell_type": "code",
   "execution_count": 5,
   "id": "3a9939c8",
   "metadata": {},
   "outputs": [
    {
     "name": "stdout",
     "output_type": "stream",
     "text": [
      "정수입력 > 3cm\n"
     ]
    },
    {
     "ename": "ValueError",
     "evalue": "invalid literal for int() with base 10: '3cm'",
     "output_type": "error",
     "traceback": [
      "\u001b[1;31m---------------------------------------------------------------------------\u001b[0m",
      "\u001b[1;31mValueError\u001b[0m                                Traceback (most recent call last)",
      "\u001b[1;32m~\\AppData\\Local\\Temp/ipykernel_123452/2904078304.py\u001b[0m in \u001b[0;36m<module>\u001b[1;34m\u001b[0m\n\u001b[1;32m----> 1\u001b[1;33m \u001b[0mnum_input\u001b[0m \u001b[1;33m=\u001b[0m \u001b[0mint\u001b[0m\u001b[1;33m(\u001b[0m\u001b[0minput\u001b[0m\u001b[1;33m(\u001b[0m\u001b[1;34m\"정수입력 > \"\u001b[0m\u001b[1;33m)\u001b[0m\u001b[1;33m)\u001b[0m\u001b[1;33m;\u001b[0m\u001b[1;33m\u001b[0m\u001b[1;33m\u001b[0m\u001b[0m\n\u001b[0m\u001b[0;32m      2\u001b[0m \u001b[1;33m\u001b[0m\u001b[0m\n\u001b[0;32m      3\u001b[0m \u001b[0mprint\u001b[0m\u001b[1;33m(\u001b[0m\u001b[1;34mf\"원의 반지름 : {num_input}\"\u001b[0m\u001b[1;33m)\u001b[0m\u001b[1;33m\u001b[0m\u001b[1;33m\u001b[0m\u001b[0m\n\u001b[0;32m      4\u001b[0m \u001b[0mprint\u001b[0m\u001b[1;33m(\u001b[0m\u001b[1;34mf\"원의 둘래 : {2*3.14*num_input}\"\u001b[0m\u001b[1;33m)\u001b[0m\u001b[1;33m\u001b[0m\u001b[1;33m\u001b[0m\u001b[0m\n\u001b[0;32m      5\u001b[0m \u001b[0mprint\u001b[0m\u001b[1;33m(\u001b[0m\u001b[1;34mf\"원의 둘래 : {3.14*num_input}\"\u001b[0m\u001b[1;33m)\u001b[0m\u001b[1;33m\u001b[0m\u001b[1;33m\u001b[0m\u001b[0m\n",
      "\u001b[1;31mValueError\u001b[0m: invalid literal for int() with base 10: '3cm'"
     ]
    }
   ],
   "source": [
    "num_input = int(input(\"정수입력 > \"));\n",
    "\n",
    "print(f\"원의 반지름 : {num_input}\")\n",
    "print(f\"원의 둘래 : {2*3.14*num_input}\")\n",
    "print(f\"원의 둘래 : {3.14*num_input}\")\n",
    "\n",
    "# ValueError  정수만 넣야 하지만 스트링을 넣으면 오류!"
   ]
  },
  {
   "cell_type": "code",
   "execution_count": 8,
   "id": "5ce86ca0",
   "metadata": {},
   "outputs": [
    {
     "name": "stdout",
     "output_type": "stream",
     "text": [
      "정수입력 > 34\n",
      "원의 반지름 : 34\n",
      "원의 둘래 : 213.52\n",
      "원의 둘래 : 106.76\n"
     ]
    }
   ],
   "source": [
    "num_input = input(\"정수입력 > \");\n",
    "\n",
    "if num_input.isdigit():\n",
    "    num = int(num_input);\n",
    "    print(f\"원의 반지름 : {num}\")\n",
    "    print(f\"원의 둘래 : {2*3.14*num}\")\n",
    "    print(f\"원의 둘래 : {3.14*num}\")\n",
    "else:\n",
    "    print(\"정수를 입력하세요!\")\n",
    "# ValueError  정수만 넣야 하지만 스트링을 넣으면 오류!"
   ]
  },
  {
   "cell_type": "code",
   "execution_count": 11,
   "id": "db497b88",
   "metadata": {},
   "outputs": [
    {
     "name": "stdout",
     "output_type": "stream",
     "text": [
      "정수입력 > 3d\n",
      "1\n",
      "정수를 입력하세요!\n"
     ]
    }
   ],
   "source": [
    "# try except 구문\n",
    "try:\n",
    "    num_input = input(\"정수입력 > \");\n",
    "    num = int(num_input);\n",
    "    print(f\"원의 반지름 : {num}\")\n",
    "    print(f\"원의 둘래 : {2*3.14*num}\")\n",
    "    print(f\"원의 둘래 : {3.14*num}\")\n",
    "\n",
    "except:\n",
    "    print(\"정수를 입력하세요!\")\n",
    "    \n",
    "# try에서 오류시 바로 except으로 이동"
   ]
  },
  {
   "cell_type": "code",
   "execution_count": 18,
   "id": "efe9f4fb",
   "metadata": {},
   "outputs": [
    {
     "name": "stdout",
     "output_type": "stream",
     "text": [
      "['52', '273', '32', '103']\n"
     ]
    }
   ],
   "source": [
    "# 숫자만 추출하는 프로그램\n",
    "list_all = [\"52\",\"273\",\"32\",\"스파이\",\"103\"];\n",
    "# list_num =[];\n",
    "\n",
    "def numOut(arr):\n",
    "    result = [];\n",
    "    for i in arr:\n",
    "        try:\n",
    "            float(i);\n",
    "            result.append(i);\n",
    "        except:\n",
    "            pass\n",
    "#             print(f\"{i}예외\");\n",
    "    return result;\n",
    "\n",
    "list_num = numOut( list_all );\n",
    "print(list_num)"
   ]
  },
  {
   "cell_type": "code",
   "execution_count": null,
   "id": "0d04beb5",
   "metadata": {},
   "outputs": [],
   "source": [
    "list_all = [\"52\",\"273\",\"32\",\"스파이\",\"103\"];\n",
    "try:\n",
    "    print(list[5]);\n",
    "except:\n",
    "    print(\"없는 값 입니다.\")\n",
    "\\"
   ]
  },
  {
   "cell_type": "code",
   "execution_count": null,
   "id": "edd9849a",
   "metadata": {},
   "outputs": [],
   "source": [
    "try:\n",
    "#     예외가 발생할 가능성이 있는 코드\n",
    "except:\n",
    "#     예외가 방생했을때 실행할 코드\n",
    "else:\n",
    "#     예외가 발생하지 않았을 때 실행 코드"
   ]
  },
  {
   "cell_type": "code",
   "execution_count": 20,
   "id": "aa97347f",
   "metadata": {},
   "outputs": [
    {
     "name": "stdout",
     "output_type": "stream",
     "text": [
      "정수를 입력하세요34j\n",
      "정수를 입력하지 않았습니다.\n"
     ]
    }
   ],
   "source": [
    "try:\n",
    "    num = int(input(\"정수를 입력하세요\"));\n",
    "except:\n",
    "    print(\"정수를 입력하지 않았습니다.\");\n",
    "else:\n",
    "    print(f\"입력한 정수는 {num}입니다.\");\n",
    "    \n",
    "    \n",
    "# else는 다른 대부분의 언어에서 없음! else 사용을 권장하지 않는다."
   ]
  },
  {
   "cell_type": "code",
   "execution_count": null,
   "id": "90604720",
   "metadata": {},
   "outputs": [],
   "source": [
    "try:\n",
    "#     예외가 발생할 가능성이 있는 코드\n",
    "except:\n",
    "#     예외가 방생했을때 실행할 코드\n",
    "else:\n",
    "#     예외가 발생하지 않았을 때 실행 코드\n",
    "finally:\n",
    "#     항상 생행할 코드  "
   ]
  },
  {
   "cell_type": "code",
   "execution_count": 22,
   "id": "3c1a87fa",
   "metadata": {},
   "outputs": [
    {
     "name": "stdout",
     "output_type": "stream",
     "text": [
      "정수를 입력하세요212ㄱ\n",
      "정수를 입력하지 않았습니다.\n",
      "프로그램이 완전히 종료되었습니다.\n"
     ]
    }
   ],
   "source": [
    "try:\n",
    "    num = int(input(\"정수를 입력하세요\"));\n",
    "except:\n",
    "    print(\"정수를 입력하지 않았습니다.\");\n",
    "else:\n",
    "    print(f\"입력한 정수는 {num}입니다.\");\n",
    "finally:\n",
    "    print(\"프로그램이 완전히 종료되었습니다.\")\n",
    "    \n",
    "# try + except\n",
    "# try + except + else\n",
    "# try + except + finally\n",
    "# try + except + else + finally\n",
    "# try + finally\n"
   ]
  },
  {
   "cell_type": "code",
   "execution_count": 25,
   "id": "93b0e3ec",
   "metadata": {
    "scrolled": true
   },
   "outputs": [
    {
     "name": "stdout",
     "output_type": "stream",
     "text": [
      "test()함수의 첫줄 입니다.\n",
      "try 구문이 실행\n",
      "finally 구문 실행\n"
     ]
    }
   ],
   "source": [
    "def test():\n",
    "    print(\"test()함수의 첫줄 입니다.\");\n",
    "    try:\n",
    "        print(\"try 구문이 실행\");\n",
    "        return\n",
    "        print(\"try 구문 아래\");\n",
    "    except:\n",
    "        print(\"except 구문 실행\")\n",
    "    else:\n",
    "        print(\"else 구문 실행\")\n",
    "    finally:\n",
    "        print(\"finally 구문 실행\")\n",
    "    print(\"test()함수의 마지막\")\n",
    "test();\n",
    "\n",
    "# return 이 되어도 finally는 실행됨 "
   ]
  },
  {
   "cell_type": "code",
   "execution_count": null,
   "id": "1ebae68e",
   "metadata": {},
   "outputs": [],
   "source": [
    "print(\"프로그램 실행\")\n",
    "while True:\n",
    "    try:\n",
    "        print(\"try 실행\");\n",
    "        break\n",
    "        print(\"try 구문 break 아래\");\n",
    "    except:\n",
    "        print(\"except 구문 실행\");\n",
    "    finally\n",
    "        print(\"finally 구문 실행\");\n",
    "    print(\"while의 마지막 줄\");\n",
    "print(\"프로그램 종료\")\n",
    "\n",
    "# 4회 프린트됨"
   ]
  },
  {
   "cell_type": "code",
   "execution_count": 27,
   "id": "77355349",
   "metadata": {},
   "outputs": [
    {
     "ename": "SyntaxError",
     "evalue": "invalid syntax (Temp/ipykernel_123452/1693169718.py, line 6)",
     "output_type": "error",
     "traceback": [
      "\u001b[1;36m  File \u001b[1;32m\"C:\\Users\\Runarell\\AppData\\Local\\Temp/ipykernel_123452/1693169718.py\"\u001b[1;36m, line \u001b[1;32m6\u001b[0m\n\u001b[1;33m    raide MyError()\u001b[0m\n\u001b[1;37m          ^\u001b[0m\n\u001b[1;31mSyntaxError\u001b[0m\u001b[1;31m:\u001b[0m invalid syntax\n"
     ]
    }
   ],
   "source": [
    "# 예외 만들기\n",
    "class MyError(Exception):  #상속\n",
    "    pass\n",
    "def say_nick(nick):\n",
    "    if nick ==\"바보\":\n",
    "        raide MyError()\n",
    "    print(nick);\n",
    "say_nick(\"바보\");\n",
    "# 에러를 만든다! (내가 만드는 애러!)"
   ]
  },
  {
   "cell_type": "code",
   "execution_count": null,
   "id": "7766611f",
   "metadata": {},
   "outputs": [],
   "source": []
  },
  {
   "cell_type": "code",
   "execution_count": null,
   "id": "a1b48011",
   "metadata": {},
   "outputs": [],
   "source": []
  },
  {
   "cell_type": "code",
   "execution_count": null,
   "id": "4c6ef261",
   "metadata": {},
   "outputs": [],
   "source": []
  },
  {
   "cell_type": "code",
   "execution_count": null,
   "id": "143da3bc",
   "metadata": {},
   "outputs": [],
   "source": []
  }
 ],
 "metadata": {
  "kernelspec": {
   "display_name": "Python 3 (ipykernel)",
   "language": "python",
   "name": "python3"
  },
  "language_info": {
   "codemirror_mode": {
    "name": "ipython",
    "version": 3
   },
   "file_extension": ".py",
   "mimetype": "text/x-python",
   "name": "python",
   "nbconvert_exporter": "python",
   "pygments_lexer": "ipython3",
   "version": "3.9.7"
  }
 },
 "nbformat": 4,
 "nbformat_minor": 5
}
