{
 "cells": [
  {
   "cell_type": "code",
   "execution_count": null,
   "id": "944727f6",
   "metadata": {},
   "outputs": [],
   "source": [
    "# 예외처리 고급\n",
    "\n",
    "# 프로그램을 개발하다 보면 수 많은 오류를 만나게 된다. 또한 처름 프로그램을 개발했을 때\n",
    "# 모든 오류를 예측하고 처리할수는 없다. 개발이 완료된 후에도 예측하지 못한 오류들이\n",
    "# 계속 발생되기 때문에 유지보수가 필요하다\n",
    "\n",
    "# try:\n",
    "#     예외 발생 가능성이 있는 구문\n",
    "# except:\n",
    "#     예외가 발생했을때 실행할 구문\n",
    "    \n",
    "# try:\n",
    "#     예외 발생 가능성이 있는 구문\n",
    "# except 예외 종류 as e(예외객체의 내용을 담은 변수):\n",
    "#     예외가 발생했을때 실행할 구문\n",
    "    \n",
    "# 예외 객체\n",
    "\n",
    "try:\n",
    "    num = int(input(\"정수 입력\"));\n",
    "    \n",
    "    print(f\"입력한 정수: {num}\");\n",
    "except Exception as e:\n",
    "    print(\"type(exception) : \", type(e));\n",
    "    print(\"exception : \", e)\n",
    "    \n",
    "# 만약 큰 규모의 웹서비스를 구축하게 된다면 다양한 예외가 뱔생한다.\n",
    "# 예외가 발생할 때 그 정보를 수집하면 이후 프로그햄을 유지/보수 하는데 큰도움이 된다.\n"
   ]
  },
  {
   "cell_type": "code",
   "execution_count": null,
   "id": "6b62a9b8",
   "metadata": {},
   "outputs": [],
   "source": [
    "# 예외 구분하기\n",
    "\n",
    "list = [52,273,32,72,100]\n",
    "\n",
    "try:\n",
    "    num = int(input(\"정수입력>>>\"));\n",
    "    print(f\"{num}번째 요소 :\");\n",
    "except Exception as e:\n",
    "    print(\"type(exception) : \", type(e));\n",
    "    print(\"exception : \", e)\n",
    "\n",
    "# 코드의 내부에서는 이처럼 여러가지의 예외가 발생할 수 있다.\n",
    "# python은 예외들을 구분하여 처리할 수 있다."
   ]
  },
  {
   "cell_type": "code",
   "execution_count": null,
   "id": "047caa21",
   "metadata": {},
   "outputs": [],
   "source": [
    "list = [52,273,32,72,100]\n",
    "\n",
    "try:\n",
    "    num = int(input(\"정수입력>>>\"));\n",
    "    print(f\"{num}번째 요소 :\");\n",
    "except IndexError:\n",
    "    print(\"리스트 크기보다 큰수는 입력하실 수 없습니다.\")\n",
    "except ValueError:\n",
    "    print(\"정수를 입력하셔야 합니다\");\n",
    "\n"
   ]
  },
  {
   "cell_type": "code",
   "execution_count": null,
   "id": "6fa4af28",
   "metadata": {},
   "outputs": [],
   "source": [
    "list = [52,273,32,72,100]\n",
    "\n",
    "try:\n",
    "    num = int(input(\"정수입력>>>\"));\n",
    "    print(f\"{num}번째 요소 :\");\n",
    "    \n",
    "except IndexError as e:\n",
    "    print(\"리스트 크기보다 큰수는 입력하실 수 없습니다.\")\n",
    "    print(\"exception : \", e)\n",
    "except ValueError as e: \n",
    "    print(\"정수를 입력하셔야 합니다\");\n",
    "    print(\"exception : \", e)    \n",
    "except Exception as e: \n",
    "    print(\"미리 파악하지 못한 예외 발생\");\n",
    "    print(type(e), e);\n",
    "    \n",
    "# 너무 치명적인 문데인데도 프로그램 강제 종료되지 않게 만들면 그것으로 또 다른\n",
    "# 더욱 커다란 문제 될수 있으므로 상황에 맞게 대처할 수 있어야 한다.\n",
    "\n",
    "# 큰 규모의 프로그램을 개발할때는 '예외처리로 떡칠한다' 라고 표현 할 정도로 \n",
    "# 예외처리를 많이 사용한다.\n",
    "\n",
    "# 예외처리에서 가장 중요한 것은 이코드에서 어떤 예외가 발생할 것인가? 를 \n",
    "# 미리 잘 예측하는 것이다."
   ]
  },
  {
   "cell_type": "code",
   "execution_count": null,
   "id": "6b78ccdd",
   "metadata": {},
   "outputs": [],
   "source": [
    "# 예외를 강제로 발생 시키기. raise\n"
   ]
  },
  {
   "cell_type": "code",
   "execution_count": null,
   "id": "7d4e01da",
   "metadata": {},
   "outputs": [],
   "source": [
    "# 모듈 \n",
    "# 여러 변수와 함수르 가지고 있는 집합체\n",
    "# 파리썬에 기본적으로 내장되어 있는 모듈을 '표준 모듈' 이라고 부른다\n",
    "# 다른사람이 만들어서 공개한 모듈을 '외부 모듈'이라고 부른다"
   ]
  },
  {
   "cell_type": "code",
   "execution_count": null,
   "id": "31460503",
   "metadata": {},
   "outputs": [],
   "source": [
    "# math 모듈 - 수학과 관련괸 기능들을 가진 모듈\n",
    "\n",
    "import math\n",
    "\n",
    "print( math.sin(1) );\n",
    "print( math.cos(1) );\n",
    "print( math.tan(1) );\n",
    "\n",
    "# ceil() 올림\n",
    "# floor() 내림\n",
    "# round() 반올림"
   ]
  },
  {
   "cell_type": "code",
   "execution_count": null,
   "id": "5d7a7630",
   "metadata": {},
   "outputs": [],
   "source": [
    "# from math import sin, cos, tan;\n",
    "# from math import *;  # 모든 것을 가져옴 ( 자주 쓰지 않음 )\n",
    "import math as m;\n",
    "\n",
    "print( m.sin(1) );\n",
    "print( m.cos(1) );\n",
    "print( m.tan(1) );"
   ]
  },
  {
   "cell_type": "code",
   "execution_count": null,
   "id": "45e94a6f",
   "metadata": {},
   "outputs": [],
   "source": [
    "# 외부 모듈 설치하고 import\n",
    "# pip install 모듈명\n",
    "# !pip install selenium\n",
    "import selenium;\n",
    "# error 이기"
   ]
  },
  {
   "cell_type": "code",
   "execution_count": null,
   "id": "95d734b6",
   "metadata": {
    "scrolled": false
   },
   "outputs": [],
   "source": [
    "# random 모듈 - 랜덤한 숫자를 생성해 주는 모듈\n",
    "import random\n",
    "\n",
    "# 기본적으로 0.0 에서 1.0에서 float 으로 난수를 발생\n",
    "a = random.random();\n",
    "print(a)\n",
    "\n",
    "#uniform(min,max) : 지정한 범위 사이의 float를 발생\n",
    "print(\"- uniform(10.20) : \", random.uniform(10,20) )\n",
    "\n",
    "# randrange() : 지정한 범위의 int를 발생\n",
    "print(\"- randrange(10,20) : \", random.randrange(10,20)) #10~20\n",
    "print(\"- randrange(10,20) : \", random.randrange(10)) # 0~10\n",
    "\n",
    "# choice(list): 리스트 내부에 잇는 요소를 랜덤하게 선택한다.\n",
    "print(\"- choice([1,2,3,10,20,40]) : \", random.choice([1,2,3,10,20,40]) )\n",
    "\n",
    "\n",
    "#sample(list, int) : 리스트의 요소 중 k개를 랜점하게 뽑아준다.\n",
    "print(\"- sample([1,2,3,10,20,40]) : \", random.sample([1,2,3,10,20,40], k=2) )\n",
    "\n",
    "# shuffle(list) : 리스트의 요소들을 랜덤하게 섞어준다.\n",
    "# 파괴적 처리! 변수 자체의 값을 바꿔줌\n",
    "list = [1,2,3,10,20,40];\n",
    "random.shuffle(list);\n",
    "print(\"- shuffle([1,2,3,10,20,40]) : \", list )\n"
   ]
  },
  {
   "cell_type": "code",
   "execution_count": null,
   "id": "e9b3eef0",
   "metadata": {
    "scrolled": true
   },
   "outputs": [],
   "source": [
    "# quiz\n",
    "import random\n",
    "list =[i for i in range(1, 47)];\n",
    "for i in range(5):\n",
    "    arr =  random.sample(list, k=6);\n",
    "    print(arr);\n"
   ]
  },
  {
   "cell_type": "code",
   "execution_count": null,
   "id": "2510d975",
   "metadata": {},
   "outputs": [],
   "source": [
    "# os 모듈\n",
    "import os;\n",
    "\n",
    "print('현재 운영체제', os.name )\n",
    "print(\"현재 작업폴더\", os.getcwd() )\n",
    "\n",
    "print(\"현재 폴더내부\", os.listdir() )\n",
    "# os.mkdir(\"hello\");  # 파일 추가\n",
    "# print(\"현재 폴더내부\", os.listdir() )\n",
    "# os.rmdir(\"hello\");  # 파일 제거\n",
    "# print(\"현재 폴더내부\", os.listdir() )"
   ]
  },
  {
   "cell_type": "code",
   "execution_count": null,
   "id": "321f0b46",
   "metadata": {},
   "outputs": [],
   "source": [
    "# urllib 크롤링 등 웹 접근 라이브러리\n",
    "from urllib import request\n",
    "\n",
    "target = request.urlopen(\"https://www.naver.com\");\n",
    "output = target.read();\n",
    "\n",
    "print(output);\n",
    "\n"
   ]
  },
  {
   "cell_type": "code",
   "execution_count": null,
   "id": "d9fde5ad",
   "metadata": {},
   "outputs": [],
   "source": [
    "# 외부 모듈\n",
    "# python이 기본적으로 제공하는 것이 아니라 누군가가 만들어서 배포하는 모듈을 말한다.\n",
    "# 비썸 제공 비트코인 가격 가져올 수 있음\n",
    "\n",
    "# !pip install pybithumb 설치는 1번만\n",
    "\n",
    "import pybithumb;\n",
    "import time;\n",
    "\n",
    "# print(\"BTC : \", pybithumb.get_current_price(\"BTC\"));\n",
    "# print(\"ETH : \", pybithumb.get_current_price(\"ETH\"));\n",
    "\n",
    "while True:\n",
    "    print(\"BTC : \", pybithumb.get_current_price(\"BTC\"));\n",
    "    print(\"ETH : \", pybithumb.get_current_price(\"ETH\"));\n",
    "    time.sleep(2);\n",
    "    \n",
    "    \n",
    "# 파이QT로 파이썬이 없어도 사용가능 GUI 기능"
   ]
  },
  {
   "cell_type": "code",
   "execution_count": 5,
   "id": "f3d751a9",
   "metadata": {},
   "outputs": [
    {
     "name": "stdout",
     "output_type": "stream",
     "text": [
      "It failed JSONDecodeError\n",
      "BTC None\n",
      "It failed JSONDecodeError\n",
      "ETH None\n",
      "It failed JSONDecodeError\n",
      "LTC None\n",
      "It failed JSONDecodeError\n",
      "ETC None\n",
      "It failed JSONDecodeError\n",
      "XRP None\n",
      "It failed JSONDecodeError\n",
      "BCH None\n",
      "It failed JSONDecodeError\n",
      "QTUM None\n"
     ]
    },
    {
     "ename": "KeyboardInterrupt",
     "evalue": "",
     "output_type": "error",
     "traceback": [
      "\u001b[1;31m---------------------------------------------------------------------------\u001b[0m",
      "\u001b[1;31mKeyboardInterrupt\u001b[0m                         Traceback (most recent call last)",
      "\u001b[1;32m~\\AppData\\Local\\Temp/ipykernel_43552/2001464443.py\u001b[0m in \u001b[0;36m<module>\u001b[1;34m\u001b[0m\n\u001b[0;32m      6\u001b[0m     \u001b[0mprice\u001b[0m \u001b[1;33m=\u001b[0m \u001b[0mpybithumb\u001b[0m\u001b[1;33m.\u001b[0m\u001b[0mget_current_price\u001b[0m\u001b[1;33m(\u001b[0m\u001b[0mtickers\u001b[0m\u001b[1;33m)\u001b[0m\u001b[1;33m;\u001b[0m\u001b[1;33m\u001b[0m\u001b[1;33m\u001b[0m\u001b[0m\n\u001b[0;32m      7\u001b[0m     \u001b[0mprint\u001b[0m\u001b[1;33m(\u001b[0m\u001b[0mtc\u001b[0m\u001b[1;33m,\u001b[0m \u001b[0mprice\u001b[0m\u001b[1;33m)\u001b[0m\u001b[1;33m\u001b[0m\u001b[1;33m\u001b[0m\u001b[0m\n\u001b[1;32m----> 8\u001b[1;33m     \u001b[0mtime\u001b[0m\u001b[1;33m.\u001b[0m\u001b[0msleep\u001b[0m\u001b[1;33m(\u001b[0m\u001b[1;36m1\u001b[0m\u001b[1;33m)\u001b[0m\u001b[1;33m;\u001b[0m\u001b[1;33m\u001b[0m\u001b[1;33m\u001b[0m\u001b[0m\n\u001b[0m\u001b[0;32m      9\u001b[0m \u001b[1;33m\u001b[0m\u001b[0m\n\u001b[0;32m     10\u001b[0m \u001b[1;33m\u001b[0m\u001b[0m\n",
      "\u001b[1;31mKeyboardInterrupt\u001b[0m: "
     ]
    }
   ],
   "source": [
    "import pybithumb;\n",
    "import time;\n",
    "tickers = pybithumb.get_tickers();\n",
    "\n",
    "for tc in tickers:\n",
    "    price = pybithumb.get_current_price(tickers);\n",
    "    print(tc, price)\n",
    "    time.sleep(1);\n",
    "    \n",
    "    \n",
    "# print( len( tickers) );"
   ]
  },
  {
   "cell_type": "code",
   "execution_count": 7,
   "id": "f6a6a886",
   "metadata": {},
   "outputs": [
    {
     "name": "stdout",
     "output_type": "stream",
     "text": [
      "(53309000.0, 54123000.0, 52214000.0, 52801000.0, 2929.29311619)\n"
     ]
    }
   ],
   "source": [
    "import pybithumb;\n",
    "import time;\n",
    "\n",
    "pr = pybithumb.get_market_detail(\"BTC\");\n",
    "print( pr );\n",
    "# 저가, 고가, 평균, 거래량\n"
   ]
  },
  {
   "cell_type": "code",
   "execution_count": 8,
   "id": "2352377f",
   "metadata": {},
   "outputs": [
    {
     "name": "stdout",
     "output_type": "stream",
     "text": [
      "Collecting pykorbit\n",
      "  Downloading pykorbit-0.2.2-py3-none-any.whl (7.5 kB)\n",
      "Requirement already satisfied: websockets in c:\\users\\runarell\\anaconda3\\lib\\site-packages (from pykorbit) (10.1)\n",
      "Requirement already satisfied: xlrd in c:\\users\\runarell\\anaconda3\\lib\\site-packages (from pykorbit) (2.0.1)\n",
      "Requirement already satisfied: requests in c:\\users\\runarell\\anaconda3\\lib\\site-packages (from pykorbit) (2.26.0)\n",
      "Requirement already satisfied: PyJWT in c:\\users\\runarell\\anaconda3\\lib\\site-packages (from pykorbit) (2.1.0)\n",
      "Requirement already satisfied: numpy in c:\\users\\runarell\\anaconda3\\lib\\site-packages (from pykorbit) (1.20.3)\n",
      "Requirement already satisfied: pandas in c:\\users\\runarell\\anaconda3\\lib\\site-packages (from pykorbit) (1.3.4)\n",
      "Requirement already satisfied: datetime in c:\\users\\runarell\\anaconda3\\lib\\site-packages (from pykorbit) (4.3)\n",
      "Requirement already satisfied: zope.interface in c:\\users\\runarell\\anaconda3\\lib\\site-packages (from datetime->pykorbit) (5.4.0)\n",
      "Requirement already satisfied: pytz in c:\\users\\runarell\\anaconda3\\lib\\site-packages (from datetime->pykorbit) (2021.3)\n",
      "Requirement already satisfied: python-dateutil>=2.7.3 in c:\\users\\runarell\\anaconda3\\lib\\site-packages (from pandas->pykorbit) (2.8.2)\n",
      "Requirement already satisfied: six>=1.5 in c:\\users\\runarell\\anaconda3\\lib\\site-packages (from python-dateutil>=2.7.3->pandas->pykorbit) (1.16.0)\n",
      "Requirement already satisfied: certifi>=2017.4.17 in c:\\users\\runarell\\anaconda3\\lib\\site-packages (from requests->pykorbit) (2021.10.8)\n",
      "Requirement already satisfied: urllib3<1.27,>=1.21.1 in c:\\users\\runarell\\anaconda3\\lib\\site-packages (from requests->pykorbit) (1.26.7)\n",
      "Requirement already satisfied: charset-normalizer~=2.0.0 in c:\\users\\runarell\\anaconda3\\lib\\site-packages (from requests->pykorbit) (2.0.4)\n",
      "Requirement already satisfied: idna<4,>=2.5 in c:\\users\\runarell\\anaconda3\\lib\\site-packages (from requests->pykorbit) (3.2)\n",
      "Requirement already satisfied: setuptools in c:\\users\\runarell\\anaconda3\\lib\\site-packages (from zope.interface->datetime->pykorbit) (58.0.4)\n",
      "Installing collected packages: pykorbit\n",
      "Successfully installed pykorbit-0.2.2\n"
     ]
    }
   ],
   "source": [
    "# 코빗\n",
    "# !pip install pykorbit"
   ]
  },
  {
   "cell_type": "code",
   "execution_count": 9,
   "id": "96db86d7",
   "metadata": {},
   "outputs": [
    {
     "name": "stdout",
     "output_type": "stream",
     "text": [
      "52840000.0\n",
      "52797000.0\n"
     ]
    }
   ],
   "source": [
    "import pykorbit\n",
    "\n",
    "print(pykorbit.get_current_price('BTC'))\n",
    "print(pybithumb.get_current_price('BTC'))"
   ]
  },
  {
   "cell_type": "code",
   "execution_count": null,
   "id": "f1701eb6",
   "metadata": {},
   "outputs": [],
   "source": [
    "\n",
    "\n",
    "\n",
    "\n",
    "\n",
    "\n",
    "\n",
    "\n",
    "\n",
    "\n",
    "\n",
    "\n",
    "\n",
    "\n",
    "\n",
    "\n",
    "\n",
    "\n"
   ]
  }
 ],
 "metadata": {
  "kernelspec": {
   "display_name": "Python 3 (ipykernel)",
   "language": "python",
   "name": "python3"
  },
  "language_info": {
   "codemirror_mode": {
    "name": "ipython",
    "version": 3
   },
   "file_extension": ".py",
   "mimetype": "text/x-python",
   "name": "python",
   "nbconvert_exporter": "python",
   "pygments_lexer": "ipython3",
   "version": "3.9.7"
  }
 },
 "nbformat": 4,
 "nbformat_minor": 5
}
