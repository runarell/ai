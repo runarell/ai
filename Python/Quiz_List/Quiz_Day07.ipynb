{
 "cells": [
  {
   "cell_type": "code",
   "execution_count": 3,
   "id": "22f302eb",
   "metadata": {},
   "outputs": [
    {
     "name": "stdout",
     "output_type": "stream",
     "text": [
      "17이 인덱스 3에서 탐색\n",
      "1\n"
     ]
    }
   ],
   "source": [
    "# Binary Search 이진 탐색법 코드로 변경\n",
    "\n",
    "arr = [11, 13, 15, 17, 29, 31];  # 검색할 list\n",
    "n = 17;  # 찾는 값 17\n",
    "\n",
    "def bs(n, arr):\n",
    "    head = 0;            # 리스트 처음 index 0 ~\n",
    "    end = len(arr)-1;    # 마지막 인덱스(양수) 리스트의 수량-1 \n",
    "    while(True):\n",
    "        cen = int( head+end/2 );           # index 중간값을 찾음\n",
    "        if head > end:                    # head > end 라면 배열을 모두 살폈다\n",
    "            print(\"값이 없습니다.\");\n",
    "            return 0;\n",
    "        elif arr[cen] == n:                # 선택된 index에 값이 있을때\n",
    "            print(f\"{n}이 인덱스 {cen}에서 탐색\");\n",
    "            return 1;\n",
    "        elif arr[cen] < n:                 # 선택된 값이 찾을 값보다 작을때 선택index 값 보다 뒤에 있다. \n",
    "            head = cen-1;                  # 배열 [ ... 선택... 찾는값,...]\n",
    "        elif arr[cen] > n:                 # 선택된 값이 찾을 값보다 작을때 선택index 값 보다 뒤에 있다.\n",
    "            end = cen+1;                   # 배열 [ ... 찾는값... 선택,...]\n",
    "            \n",
    "pr = bs(n, arr);  # 인자로 찾을값, 찾을 List 보냄\n",
    "print( pr );"
   ]
  },
  {
   "cell_type": "code",
   "execution_count": 10,
   "id": "d55341bf",
   "metadata": {},
   "outputs": [
    {
     "name": "stdout",
     "output_type": "stream",
     "text": [
      "1번 로또 추천 [6, 7, 2, 5, 32, 28]\n",
      "2번 로또 추천 [32, 19, 6, 44, 25, 13]\n",
      "3번 로또 추천 [25, 13, 6, 26, 12, 31]\n",
      "4번 로또 추천 [7, 14, 15, 43, 29, 11]\n",
      "5번 로또 추천 [18, 7, 13, 33, 43, 40]\n"
     ]
    }
   ],
   "source": [
    "# quiz\n",
    "import random\n",
    "\n",
    "list =[i for i in range(1, 47)];      # 뽑을 로또번호 list\n",
    "for i in range(5):                    # 5번 반복\n",
    "    arr =  random.sample(list, k=6);  # 리스트중 6번호 픽업\n",
    "    print(f\"{i+1}번 로또 추천 {arr}\");"
   ]
  }
 ],
 "metadata": {
  "kernelspec": {
   "display_name": "Python 3 (ipykernel)",
   "language": "python",
   "name": "python3"
  },
  "language_info": {
   "codemirror_mode": {
    "name": "ipython",
    "version": 3
   },
   "file_extension": ".py",
   "mimetype": "text/x-python",
   "name": "python",
   "nbconvert_exporter": "python",
   "pygments_lexer": "ipython3",
   "version": "3.9.7"
  }
 },
 "nbformat": 4,
 "nbformat_minor": 5
}
