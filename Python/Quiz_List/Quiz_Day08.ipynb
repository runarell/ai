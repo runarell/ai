{
 "cells": [
  {
   "cell_type": "code",
   "execution_count": 9,
   "id": "62a52b2c",
   "metadata": {},
   "outputs": [
    {
     "name": "stdout",
     "output_type": "stream",
     "text": [
      "[36, 12, 42, 25, 0, 0, 0, 0, 30, 20, 0]\n",
      " 1 sss 11\n",
      " 2 sss 11\n",
      " 3 sss 11\n",
      " 4 sss 11\n",
      " 5 sss 11\n",
      " 6 sss 11\n",
      " 7 sss 11\n",
      " 8 sss 11\n",
      " 9 sss 11\n",
      " 10 sss 11\n",
      " 0 sss 11\n",
      "100값은 없습니다.\n"
     ]
    }
   ],
   "source": [
    "# hesh 보관 함수\n",
    "def heshListIn( arr ):\n",
    "    rang = int( len(arr)*1.5 ) +1\n",
    "    arrD = [0 for i in range( rang )];      # 데이타를 넣을 배열\n",
    "    \n",
    "    for i in arr:                           #  임시보관 데이터를 하나씩 반복\n",
    "        k = i%len(arrD);                    # 데이터값 / 보관리스트 길이의 나머지\n",
    "\n",
    "        for j in range(len(arrD)):          # 보관배열의 길이만큼 반복하면 모든 칸을 확인한 것\n",
    "            if arrD[k] != 0:                # 데이터 자리가 0이 아님 확인\n",
    "                k = i%(k+1);                # i%k이면 나머지는 0~(k-1), (k-1)이상이면 0부터 반복\n",
    "            else:\n",
    "                arrD[k] = i;                # 데이타 보관\n",
    "                break;\n",
    "                \n",
    "    return arrD;\n",
    "# hesh 검색\n",
    "def hs_find(no, arr):\n",
    "    ch = no%len(arr);                          # 찾는 값의 index주소 \n",
    "    \n",
    "    for i in range( len(arr) ):                # list에 인덱스로 값을 배열만크 반복 \n",
    "        if arr[ch] == no:                      # 인덱스에 값이 닜는지 확인\n",
    "            print(f\"{no}는 인덱스{ch}에 있다\");\n",
    "            break;\n",
    "        elif i == len(arr)-1:                  # 마지막 반복인데 if 조건을 지나가면\n",
    "            print(f\"{no}값은 없습니다.\");\n",
    "            break;\n",
    "        else:                                   # 마지막이 아니고, 찾는값도 없으면 인덱스값 +1\n",
    "            ch = (ch+1)%len(arr);\n",
    "                     \n",
    "arrH = [12, 25, 36, 20, 30, 8, 42 ]; # 임시 보관 배열\n",
    "arrD = heshListIn( arrH )            # 데이타 보관 함수\n",
    "print(arrD);\n",
    "\n",
    "num = 100;                           # 찾을 데이터\n",
    "hs_find(num, arrD)                   # 검색 함수 \n"
   ]
  },
  {
   "cell_type": "code",
   "execution_count": null,
   "id": "04d0e28b",
   "metadata": {},
   "outputs": [],
   "source": [
    "# hesh 검색\n"
   ]
  }
 ],
 "metadata": {
  "kernelspec": {
   "display_name": "Python 3 (ipykernel)",
   "language": "python",
   "name": "python3"
  },
  "language_info": {
   "codemirror_mode": {
    "name": "ipython",
    "version": 3
   },
   "file_extension": ".py",
   "mimetype": "text/x-python",
   "name": "python",
   "nbconvert_exporter": "python",
   "pygments_lexer": "ipython3",
   "version": "3.9.7"
  }
 },
 "nbformat": 4,
 "nbformat_minor": 5
}
