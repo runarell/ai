{
 "cells": [
  {
   "cell_type": "code",
   "execution_count": null,
   "id": "4c801801",
   "metadata": {},
   "outputs": [],
   "source": [
    "# 영어 알파벳과 숫자르 섞어서 입력 받아\n",
    "# 숫자와 문자를 분리하는 프로그램\n",
    "\n",
    "def str_slide( pr ):\n",
    "    arr = list(pr);\n",
    "    str = \"\";\n",
    "    int = \"\";\n",
    "    \n",
    "    for i in arr:\n",
    "        if i.isdigit():\n",
    "            int += f\"{i} \"\n",
    "        else:\n",
    "            str += f\"{i} \"\n",
    "            \n",
    "    print(f\"입력 숫자 : {int}\");\n",
    "    print(f\"입력 문자 : {str}\");\n",
    "            \n",
    "pr = input(\"입력 > \");\n",
    "str_slide(pr);"
   ]
  },
  {
   "cell_type": "code",
   "execution_count": null,
   "id": "f9cffde5",
   "metadata": {},
   "outputs": [],
   "source": [
    "# + 조건 문자와 숫자의 개수를 포함하여 출력\n",
    "\n",
    "def str_slide( pr ):\n",
    "    arr = list(pr);\n",
    "    str = \"\";\n",
    "    int = \"\";\n",
    "    count_int = 0; \n",
    "    count_str = 0;\n",
    "    \n",
    "    for i in arr:\n",
    "        if i.isdigit():\n",
    "            int += f\"{i} \";\n",
    "            count_int +=1 ;\n",
    "        else:\n",
    "            str += f\"{i} \";\n",
    "            count_str += 1;\n",
    "            \n",
    "    print(f\"입력 숫자 : {int} {count_int}개\");\n",
    "    print(f\"입력 문자 : {str} {count_str}개\");\n",
    "            \n",
    "pr = input(\"입력 > \");\n",
    "str_slide(pr);"
   ]
  },
  {
   "cell_type": "code",
   "execution_count": null,
   "id": "9a840b9b",
   "metadata": {},
   "outputs": [],
   "source": [
    "#  + 조건 isplpha() isdigit 등으로 시작하는 함수\n",
    "# import re;\n",
    "# n = re.compile(\"[0-9]\");\n",
    "# s = re.compile(\"[a-zA-Z]\");\n",
    "# 아스키 코드 번호로 인식도 가능\n",
    "# \"A\" < i and \"Z\" > i; \"a\" < i and \"z\" > i; \"0\" < i and \"9\" > i; \n",
    "\n",
    "import re;\n",
    "def str_slide( pr ):\n",
    "    n = re.compile(\"[0-9]\");\n",
    "    a = re.compile(\"[a-zA-Z]\");\n",
    "    str = \"\";\n",
    "    int = \"\";\n",
    "    count_int = 0; \n",
    "    count_str = 0;\n",
    "    \n",
    "    for i in pr:\n",
    "        if a.search(i):\n",
    "            int += f\"{i} \";\n",
    "            count_int +=1 ;\n",
    "        elif n.search(i):\n",
    "            str += f\"{i} \";\n",
    "            count_str += 1;            \n",
    "            \n",
    "    print(f\"입력 숫자 : {int} {count_int}개\");\n",
    "    print(f\"입력 문자 : {str} {count_str}개\");\n",
    "            \n",
    "pr = input(\"입력 > \");\n",
    "str_slide(pr);"
   ]
  }
 ],
 "metadata": {
  "kernelspec": {
   "display_name": "Python 3 (ipykernel)",
   "language": "python",
   "name": "python3"
  },
  "language_info": {
   "codemirror_mode": {
    "name": "ipython",
    "version": 3
   },
   "file_extension": ".py",
   "mimetype": "text/x-python",
   "name": "python",
   "nbconvert_exporter": "python",
   "pygments_lexer": "ipython3",
   "version": "3.9.7"
  }
 },
 "nbformat": 4,
 "nbformat_minor": 5
}
