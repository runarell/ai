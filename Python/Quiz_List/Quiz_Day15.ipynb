{
 "cells": [
  {
   "cell_type": "code",
   "execution_count": null,
   "id": "930efed2",
   "metadata": {},
   "outputs": [],
   "source": [
    "# Quiz1\n",
    "# create a tuple containing the names of five countries and display the whole tuple\n",
    "# Ask the user to enert on of the countries that have been shown to them and then\n",
    "# display the index number (position in the list) NO china\n",
    "\n",
    "arr = (\"러시아\",\"이탈리안\",\"스위스\",\"미국\",\"영국\")\n",
    "for i in arr:\n",
    "    print(i, end=\" \")\n",
    "\n",
    "inp = input(\"나라 선택 > \");\n",
    "pr = arr.index(\"미국\");\n",
    "print(f\"{inp}는  {pr}번이다.\")"
   ]
  },
  {
   "cell_type": "code",
   "execution_count": null,
   "id": "cce42846",
   "metadata": {},
   "outputs": [],
   "source": [
    "# add to program above, to ask the user to enter a number and display\n",
    "# the country in that podition.\n",
    "\n",
    "arr = (\"러시아\",\"이탈리안\",\"스위스\",\"미국\",\"영국\")\n",
    "\n",
    "inp = int(input(\"번호 선택 > \") );\n",
    "pr = arr[inp];\n",
    "print(f\"{inp}번은  {pr}이다.\")\n"
   ]
  },
  {
   "cell_type": "code",
   "execution_count": null,
   "id": "a8380ff4",
   "metadata": {},
   "outputs": [],
   "source": [
    "# Create a list of two sports. Ask the user what their favourite sport is \n",
    "# and add this to the end\n",
    "# 두 가지 스포츠의 목록을 만듭니다. 사용자에게 가장 좋아하는 스포츠가 무엇인지 묻습니다.\n",
    "# 목록의 끝에 이것을 추가하십시오. 목록을 정렬하여 표시합니다.\n",
    "\n",
    "arr =[\"배구\",\"야구\"]\n",
    "\n",
    "arr.append( input(\"좋아하는 스포츠는? >\") );\n",
    "arr.sort()\n",
    "print(arr)\n",
    "\n"
   ]
  },
  {
   "cell_type": "code",
   "execution_count": 2,
   "id": "d15c53cf",
   "metadata": {},
   "outputs": [
    {
     "name": "stdout",
     "output_type": "stream",
     "text": [
      "너의 최애 음식은?a\n",
      "너의 최애 음식은?b\n",
      "너의 최애 음식은?d\n",
      "너의 최애 음식은?f\n",
      "너의 최애 음식은?g\n",
      "{1: 'a', 2: 'b', 3: 'd', 4: 'f', 5: 'g'}\n",
      "그중 별로인 것은?1\n",
      "['b', 'd', 'f', 'g']\n"
     ]
    }
   ],
   "source": [
    "# Ask the user to enter four of their favourite foods and store them \n",
    "# in a dict so that they are indexed with number starting from 1.\n",
    "# Display the dict in full, showing the index number and the item.\n",
    "# Ask them which they want to get rid of and remove it from the list\n",
    "# Sort the remaining data(values) and display.\n",
    "\n",
    "# 사용자에게 가장 좋아하는 음식 4가지를 입력하고 저장하도록 요청\n",
    "# dict에서 1부터 시작하는 숫자로 인덱싱됩니다.\n",
    "# 인덱스 번호와 항목을 보여주는 사전 전체를 표시합니다.\n",
    "# 제거하고 싶은 것이 무엇인지 물어보고 목록에서 제거\n",
    "# 나머지 데이터를 정렬하여 dict를 표시합니다.\n",
    "\n",
    "fd={};\n",
    "for i in range(1, 5):\n",
    "    ip = input(\"너의 최애 음식은?\" )\n",
    "    fd[i] = ip;\n",
    "    \n",
    "print(fd)\n",
    "st = int( input(\"그중 별로인 것은?\"))\n",
    "\n",
    "del( fd[st] );\n",
    "\n",
    "print( sorted(fd.values()) );\n"
   ]
  },
  {
   "cell_type": "code",
   "execution_count": null,
   "id": "7e0367b3",
   "metadata": {},
   "outputs": [],
   "source": []
  },
  {
   "cell_type": "code",
   "execution_count": null,
   "id": "5c552533",
   "metadata": {},
   "outputs": [],
   "source": []
  }
 ],
 "metadata": {
  "kernelspec": {
   "display_name": "Python 3 (ipykernel)",
   "language": "python",
   "name": "python3"
  },
  "language_info": {
   "codemirror_mode": {
    "name": "ipython",
    "version": 3
   },
   "file_extension": ".py",
   "mimetype": "text/x-python",
   "name": "python",
   "nbconvert_exporter": "python",
   "pygments_lexer": "ipython3",
   "version": "3.9.7"
  }
 },
 "nbformat": 4,
 "nbformat_minor": 5
}
