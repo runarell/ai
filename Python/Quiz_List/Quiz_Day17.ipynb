{
 "cells": [
  {
   "cell_type": "code",
   "execution_count": 2,
   "id": "985beca8",
   "metadata": {},
   "outputs": [
    {
     "name": "stdout",
     "output_type": "stream",
     "text": [
      "Enter your name : djlks\n",
      "Hello djlks\n"
     ]
    }
   ],
   "source": [
    "# function ( subprograms )\n",
    "\n",
    "# Blocks of code which perform specific tasks and can be called upon at any time\n",
    "# in the program to run that code.\n",
    "\n",
    "# Advantages\n",
    "# - it can be used and reused at diffenent times duriog the program\n",
    "# - it makes the program simpler to understand as thr code is grouped togrther into chunks\n",
    "\n",
    "def get_name():\n",
    "    user_name = input('Enter your name : ')\n",
    "    return user_name\n",
    "\n",
    "def print_Msg(user_name):\n",
    "    print(\"Hello\", user_name)\n",
    "\n",
    "def main():\n",
    "    user_name = get_name()\n",
    "    print_Msg(user_name)\n",
    "\n",
    "main()"
   ]
  },
  {
   "cell_type": "code",
   "execution_count": null,
   "id": "96f2ca93",
   "metadata": {},
   "outputs": [],
   "source": [
    "def get_data():                              # 4\n",
    "    user_name = input('Enter your name : ')  # 5 \n",
    "    user_age = 20                            # 6\n",
    "    data_tuple = (user_name, user_age)       # 7\n",
    "    return data_tuple                       # 8\n",
    "\n",
    "def message(user_name, user_age):   # 11\n",
    "  if user_age <= 10:                # 12\n",
    "    print('Hi', user_name)       \n",
    "  else:\n",
    "    print('Hello', user_name)       # 13\n",
    "\n",
    "def main(): # 2\n",
    "  user_name, user_age = get_data() # 3 #9\n",
    "  message(user_name, user_age)     # 10 #14\n",
    "\n",
    "main() #1\n",
    "\n",
    "# 5 6 7 8 11 12 13 3/9 10/14 1"
   ]
  },
  {
   "cell_type": "code",
   "execution_count": 14,
   "id": "45ac2f48",
   "metadata": {},
   "outputs": [
    {
     "name": "stdout",
     "output_type": "stream",
     "text": [
      "숫자 입력10\n",
      "1 2 3 4 5 6 7 8 9 10 카운트 : 10\n",
      "[10]\n"
     ]
    }
   ],
   "source": [
    "#Q \n",
    "\n",
    "arrs = []\n",
    "\n",
    "def num_a(n):\n",
    "    arr =[]\n",
    "    for i in range(1, n+1):\n",
    "        arr.append(i)\n",
    "        print(i, end=' ')\n",
    "    print(f'카운트 : {len(arr)}')\n",
    "        \n",
    "def num_ask():\n",
    "    global arrs\n",
    "    resert = int( input(\"숫자 입력\"))\n",
    "    arrs.append(resert)\n",
    "    return resert    \n",
    "        \n",
    "def inp():\n",
    "    num = num_ask()\n",
    "    num_a(num)\n",
    "    \n",
    "num = inp()\n",
    "print(arrs)"
   ]
  },
  {
   "cell_type": "code",
   "execution_count": 20,
   "id": "649f7610",
   "metadata": {},
   "outputs": [
    {
     "name": "stdout",
     "output_type": "stream",
     "text": [
      "높은 번호10\n",
      "낮은 번호2\n",
      "숫자 맞춰봐 >3\n",
      "더큼\n",
      "숫자 맞춰봐 >4\n",
      "더큼\n",
      "숫자 맞춰봐 >6\n",
      "더큼\n",
      "숫자 맞춰봐 >7\n",
      "더큼\n",
      "숫자 맞춰봐 >8\n",
      "더큼\n",
      "숫자 맞춰봐 >9\n",
      "정답\n"
     ]
    }
   ],
   "source": [
    "# 사용자에게 낮은 숫자와 높은 숫자를 선택하도록 요청하는 하위 프로그램을 정의합니다.\n",
    "# 그런 다음 두 값 사이에 난수를 생성하고 저장합니다.\n",
    "# \"comp_num\"이라는 변수. 지시를 내릴 다른 서브 프로그램을 정의하십시오.\n",
    "# \"나는 숫자를 생각하고 있습니다...\"라고 말한 다음 사용자에게 숫자를 맞춰보라고 합니다.\n",
    "# 그들은 생각하고 있습니다. 확인하기 위해 세 번째 하위 프로그램을 정의하십시오.\n",
    "# comp_num이 사용자의 추측과 동일한 경우. 그렇다면,\n",
    "# \"맞습니다. 이겼습니다\"라는 메시지가 표시되어야 합니다.\n",
    "# 그렇지 않으면 사용자에게 너무 낮거나 너무 높으면 계속 반복해야 합니다.\n",
    "# 그리고 그들이 올바르게 추측할 때까지 다시 추측하도록 요청합니다.\n",
    "\n",
    "import random\n",
    "\n",
    "def red_n():\n",
    "    h_num = int( input(\"높은 번호\"))\n",
    "    l_num = int(input(\"낮은 번호\"))\n",
    "    result = random.randrange(l_num, h_num)\n",
    "    return result\n",
    "\n",
    "def comp_num (n):\n",
    "    bools = True\n",
    "    while bools:\n",
    "        num = int( input(\"숫자 맞춰봐 >\") )\n",
    "        bools = aswer(n, num)\n",
    "            \n",
    "def aswer(n, num):\n",
    "    if num == n:\n",
    "        print(\"정답\")\n",
    "        return False\n",
    "    elif num < n:\n",
    "        print(\"더큼\")\n",
    "        return True\n",
    "    else:\n",
    "        print(\"더작음\")\n",
    "        return True\n",
    "    \n",
    "            \n",
    "def all():\n",
    "    no = red_n()\n",
    "    comp_num(no)\n",
    "\n",
    "    \n",
    "all()"
   ]
  }
 ],
 "metadata": {
  "kernelspec": {
   "display_name": "Python 3 (ipykernel)",
   "language": "python",
   "name": "python3"
  },
  "language_info": {
   "codemirror_mode": {
    "name": "ipython",
    "version": 3
   },
   "file_extension": ".py",
   "mimetype": "text/x-python",
   "name": "python",
   "nbconvert_exporter": "python",
   "pygments_lexer": "ipython3",
   "version": "3.9.7"
  }
 },
 "nbformat": 4,
 "nbformat_minor": 5
}
