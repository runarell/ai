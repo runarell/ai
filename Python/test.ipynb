{
 "cells": [
  {
   "cell_type": "code",
   "execution_count": 54,
   "id": "c3071b3f",
   "metadata": {},
   "outputs": [
    {
     "name": "stdout",
     "output_type": "stream",
     "text": [
      "<map object at 0x00000259AA6F2040>\n"
     ]
    }
   ],
   "source": [
    "import re\n",
    "\n",
    "str = \"fjlsa나라말33쌈이fd듄국s0과0e달라ck3\"\n",
    "list ={}\n",
    "list[eng] = re.compile('[a-zA-Z]+')\n",
    "list[kor] = re.compile('[|가-힣]+')\n",
    "list[spe] = re.compile('[a-zA-Z]+')\n",
    "\n",
    "def drain(x):\n",
    "    global str\n",
    "    result = \"\".join( x.findall(str) )\n",
    "    return result\n",
    "\n",
    "# arr = list( \"\".join(i.findall(str)) for i in list )\n",
    "arr = map( drain, list )\n",
    "\n",
    "# word = kor.findall( str )            # \n",
    "# result = \"\".join( word )\n",
    "\n",
    "drain()\n",
    "print( arr )\n"
   ]
  },
  {
   "cell_type": "code",
   "execution_count": null,
   "id": "5a22fe29",
   "metadata": {},
   "outputs": [],
   "source": []
  },
  {
   "cell_type": "code",
   "execution_count": null,
   "id": "9c471cd6",
   "metadata": {},
   "outputs": [],
   "source": []
  }
 ],
 "metadata": {
  "kernelspec": {
   "display_name": "Python 3 (ipykernel)",
   "language": "python",
   "name": "python3"
  },
  "language_info": {
   "codemirror_mode": {
    "name": "ipython",
    "version": 3
   },
   "file_extension": ".py",
   "mimetype": "text/x-python",
   "name": "python",
   "nbconvert_exporter": "python",
   "pygments_lexer": "ipython3",
   "version": "3.9.7"
  }
 },
 "nbformat": 4,
 "nbformat_minor": 5
}
