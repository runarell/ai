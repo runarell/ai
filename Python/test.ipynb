{
 "cells": [
  {
   "cell_type": "code",
   "execution_count": 1,
   "id": "c3071b3f",
   "metadata": {},
   "outputs": [
    {
     "name": "stdout",
     "output_type": "stream",
     "text": [
      "4\n"
     ]
    }
   ],
   "source": [
    "def quick_sort(arr):\n",
    "    \n",
    "    def sort(low, high):\n",
    "        if high <= low:\n",
    "            return\n",
    "        mid = partition(low, high)\n",
    "        sort(low, mid - 1)\n",
    "        sort(mid, high)\n",
    "\n",
    "    def partition(low, high):\n",
    "        pivot = arr[(low + high) // 2]\n",
    "        while low <= high:\n",
    "            while arr[low] < pivot:\n",
    "                low += 1\n",
    "            while arr[high] > pivot:\n",
    "                high -= 1\n",
    "            if low <= high:\n",
    "                arr[low], arr[high] = arr[high], arr[low]\n",
    "                low, high = low + 1, high - 1\n",
    "        return low\n",
    "\n",
    "    return sort(0, len(arr) - 1)\n",
    "\n",
    "arr = [5, 3, 7, 6, 8, 4, 1, 2, 9];\n",
    "arr1 = Quick_arr(arr);\n",
    "\n",
    "print(arr1);"
   ]
  },
  {
   "cell_type": "code",
   "execution_count": null,
   "id": "5a22fe29",
   "metadata": {},
   "outputs": [],
   "source": [
    "def arr_split(arr):\n",
    "    result = [ [], [arr[0]], [] ];           \n",
    "    for i in  range(1, len(arr) ):\n",
    "        if arr[i] < arr[0]:\n",
    "            result[0].append(arr[i]);\n",
    "        else:  #arr[i] > arr[0]\n",
    "            result[-1].append(arr[i]);    \n",
    "    if [] in result:\n",
    "        result.remove( [] );\n",
    "    return result;\n",
    "\n",
    "\n",
    "def Quick_arr( arr ):\n",
    "    result = [arr];                   # 반환해줄 정렬\n",
    "\n",
    "    while True:\n",
    "        cont = 0;\n",
    "        arrD =[];\n",
    "        \n",
    "        for i in result:\n",
    "            if type(i) == list and len(i) > 1:\n",
    "                arrD += arr_split(i);\n",
    "                cont +=1;\n",
    "            elif type(i) == list and len(i) == 1: \n",
    "                arrD += i;\n",
    "            else:\n",
    "                arrD.append(i);             \n",
    "        result = arrD; \n",
    "        \n",
    "        if cont == 0:\n",
    "            return result;\n",
    "    #============= 무한 반복\n",
    "    \n",
    "arr = [5, 3, 7, 6, 8, 4, 1, 2, 9];\n",
    "arr1 = Quick_arr(arr);\n",
    "\n",
    "print(arr1);"
   ]
  }
 ],
 "metadata": {
  "kernelspec": {
   "display_name": "Python 3 (ipykernel)",
   "language": "python",
   "name": "python3"
  },
  "language_info": {
   "codemirror_mode": {
    "name": "ipython",
    "version": 3
   },
   "file_extension": ".py",
   "mimetype": "text/x-python",
   "name": "python",
   "nbconvert_exporter": "python",
   "pygments_lexer": "ipython3",
   "version": "3.9.7"
  }
 },
 "nbformat": 4,
 "nbformat_minor": 5
}
