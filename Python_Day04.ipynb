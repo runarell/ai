{
 "cells": [
  {
   "cell_type": "code",
   "execution_count": 1,
   "id": "dd6f6530",
   "metadata": {},
   "outputs": [
    {
     "name": "stdout",
     "output_type": "stream",
     "text": [
      "5\n"
     ]
    }
   ],
   "source": [
    "# 문자열의 길이를 구하기\n",
    "print( len(\"안녕하세요\"));"
   ]
  },
  {
   "cell_type": "code",
   "execution_count": 2,
   "id": "5a9593d4",
   "metadata": {},
   "outputs": [
    {
     "name": "stdout",
     "output_type": "stream",
     "text": [
      "True\n"
     ]
    }
   ],
   "source": [
    "# 조건문\n",
    "# blool & if\n",
    "print(True);\n",
    "# print(true) # 소문자는 문자로인식"
   ]
  },
  {
   "cell_type": "code",
   "execution_count": 4,
   "id": "8f692708",
   "metadata": {},
   "outputs": [
    {
     "name": "stdout",
     "output_type": "stream",
     "text": [
      "False\n",
      "True\n",
      "True\n",
      "False\n",
      "True\n",
      "False\n"
     ]
    }
   ],
   "source": [
    "print (10 == 100);\n",
    "print(10 != 100);\n",
    "print(10 < 100);\n",
    "print(10 > 100);\n",
    "print(10 <= 100);\n",
    "print(10 >= 100);"
   ]
  },
  {
   "cell_type": "code",
   "execution_count": 7,
   "id": "4d3af1ca",
   "metadata": {},
   "outputs": [
    {
     "name": "stdout",
     "output_type": "stream",
     "text": [
      "True\n",
      "True\n",
      "True\n",
      "False\n"
     ]
    }
   ],
   "source": [
    "print (\"가방\" == \"가방\");\n",
    "print(\"가방\" != \"백\");\n",
    "print(\"가방\" < \"백\");\n",
    "print(\"가방\" > \"백\");"
   ]
  },
  {
   "cell_type": "code",
   "execution_count": 9,
   "id": "374c34ed",
   "metadata": {},
   "outputs": [
    {
     "name": "stdout",
     "output_type": "stream",
     "text": [
      "정수를 입력하게요>>10\n"
     ]
    },
    {
     "ename": "TypeError",
     "evalue": "'>' not supported between instances of 'str' and 'int'",
     "output_type": "error",
     "traceback": [
      "\u001b[1;31m---------------------------------------------------------------------------\u001b[0m",
      "\u001b[1;31mTypeError\u001b[0m                                 Traceback (most recent call last)",
      "\u001b[1;32m~\\AppData\\Local\\Temp/ipykernel_33344/1888407310.py\u001b[0m in \u001b[0;36m<module>\u001b[1;34m\u001b[0m\n\u001b[0;32m      6\u001b[0m \u001b[0mnum\u001b[0m \u001b[1;33m=\u001b[0m \u001b[0minput\u001b[0m\u001b[1;33m(\u001b[0m\u001b[1;34m\"정수를 입력하게요>>\"\u001b[0m\u001b[1;33m)\u001b[0m\u001b[1;33m;\u001b[0m\u001b[1;33m\u001b[0m\u001b[1;33m\u001b[0m\u001b[0m\n\u001b[0;32m      7\u001b[0m \u001b[1;33m\u001b[0m\u001b[0m\n\u001b[1;32m----> 8\u001b[1;33m \u001b[1;32mif\u001b[0m \u001b[0mnum\u001b[0m \u001b[1;33m>\u001b[0m \u001b[1;36m0\u001b[0m\u001b[1;33m:\u001b[0m\u001b[1;33m\u001b[0m\u001b[1;33m\u001b[0m\u001b[0m\n\u001b[0m\u001b[0;32m      9\u001b[0m     \u001b[0mprint\u001b[0m\u001b[1;33m(\u001b[0m\u001b[1;34m\"양수 이니다.\"\u001b[0m\u001b[1;33m)\u001b[0m\u001b[1;33m;\u001b[0m\u001b[1;33m\u001b[0m\u001b[1;33m\u001b[0m\u001b[0m\n\u001b[0;32m     10\u001b[0m \u001b[1;32mif\u001b[0m \u001b[0mnum\u001b[0m \u001b[1;33m<\u001b[0m \u001b[1;36m0\u001b[0m\u001b[1;33m:\u001b[0m\u001b[1;33m\u001b[0m\u001b[1;33m\u001b[0m\u001b[0m\n",
      "\u001b[1;31mTypeError\u001b[0m: '>' not supported between instances of 'str' and 'int'"
     ]
    }
   ],
   "source": [
    "# if 조건문...\n",
    "# 조건에 따라 특정 코드를 실행하거나 특정 코드를 실행하지 않게 만들고 있을때 \n",
    "# 사용코드의 실행 흐름을 변경시키는 것을 조건 분기 라고 부른다\n",
    "\n",
    "# indent 파이썬은 띄워쓰기에 민감!  Tap, spac*2 추천 : 스페이스*2\n",
    "num = int(input(\"정수를 입력하게요>>\"));\n",
    "\n",
    "if num > 0:\n",
    "    print(\"양수 이니다.\");\n",
    "if num < 0:\n",
    "    print(\"음수 입니다.\");\n",
    "if num == 0:\n",
    "    print(\"0입니다.\");    "
   ]
  },
  {
   "cell_type": "code",
   "execution_count": 15,
   "id": "146defec",
   "metadata": {},
   "outputs": [
    {
     "name": "stdout",
     "output_type": "stream",
     "text": [
      "2022-01-28 14:33:09.455497\n"
     ]
    }
   ],
   "source": [
    "# 날짜/시간 과 관련된 기능릉 가져오기\n",
    "import datetime;\n",
    "\n",
    "#현재 날짜와 시간을 구하는 함수\n",
    "now = datetime.datetime.now();\n",
    "\n",
    "print( now );"
   ]
  },
  {
   "cell_type": "code",
   "execution_count": 21,
   "id": "ca1ae11d",
   "metadata": {},
   "outputs": [
    {
     "name": "stdout",
     "output_type": "stream",
     "text": [
      "현재 시각은 14시 40분로 오후입니다.\n"
     ]
    }
   ],
   "source": [
    "import datetime;\n",
    "now = datetime.datetime.now();\n",
    "h = now.hour;\n",
    "m = now.minute;\n",
    "j = \"오전\";\n",
    "\n",
    "if int(h) > 12:\n",
    "    j = \"오후\"\n",
    "\n",
    "print( f\"현재 시각은 {h}시 {m}분로 {j}입니다.\")"
   ]
  },
  {
   "cell_type": "code",
   "execution_count": 29,
   "id": "a29926db",
   "metadata": {},
   "outputs": [
    {
     "name": "stdout",
     "output_type": "stream",
     "text": [
      "이번달은 가을입니다.\n"
     ]
    }
   ],
   "source": [
    "import datetime;\n",
    "now = datetime.datetime.now();\n",
    "m = now.month;\n",
    "st = \"\";\n",
    "if 3 <= m < 6 :\n",
    "    st = \"봄\"\n",
    "if 6 <= m < 9 :\n",
    "    st = \"여름\"\n",
    "if 9 <= m < 12 :\n",
    "    st = \"가을\"\n",
    "if m == 12 or m <= 3:\n",
    "    st = \"가을\"    \n",
    "\n",
    "print( f\"이번달은 {st}입니다.\")"
   ]
  },
  {
   "cell_type": "code",
   "execution_count": 40,
   "id": "15467aa1",
   "metadata": {},
   "outputs": [
    {
     "name": "stdout",
     "output_type": "stream",
     "text": [
      "정수입력 받기 >>7\n",
      "홀수입니다.\n"
     ]
    }
   ],
   "source": [
    "no = int(input(\"정수입력 받기 >>\"))\n",
    "val1 = int((no/2)*10);\n",
    "val2 = str(val1);\n",
    "val3 = int(val2[-1]);\n",
    "\n",
    "if val3 == 0:\n",
    "    print (\"짝수입니다.\");\n",
    "if val3 > 0:\n",
    "    print (\"홀수입니다.\");\n",
    "\n",
    "# 1의자리 값을 알면 홀짝 비교 가능\n",
    "# if no[-1] in \"02468\":\n",
    "#     print (\"짝수입니다.\");\n",
    "# if no[-1] in \"13579\":\n",
    "#     print (\"짝수입니다.\");"
   ]
  },
  {
   "cell_type": "code",
   "execution_count": null,
   "id": "3253e992",
   "metadata": {},
   "outputs": [],
   "source": [
    "# pass\n",
    "\n",
    "no = int( input(\"정수 입력\") );\n",
    "\n",
    "if no > 0:\n",
    "    pass\n",
    "else:\n",
    "    pass\n"
   ]
  },
  {
   "cell_type": "code",
   "execution_count": 42,
   "id": "b8093c7a",
   "metadata": {},
   "outputs": [
    {
     "name": "stdout",
     "output_type": "stream",
     "text": [
      "4\n",
      "5\n"
     ]
    }
   ],
   "source": [
    "# list 와 반복문\n",
    "\n",
    "li = [1,2,3,4,5] # collection, murable, ordered\n",
    "\n",
    "for i in li:\n",
    "    if i > 3:\n",
    "        print(i);"
   ]
  },
  {
   "cell_type": "code",
   "execution_count": 45,
   "id": "1782456c",
   "metadata": {},
   "outputs": [
    {
     "name": "stdout",
     "output_type": "stream",
     "text": [
      "1 홍길동\n",
      "2 이몽룡\n"
     ]
    }
   ],
   "source": [
    "# dict 와 반복문\n",
    "\n",
    "dict = {\n",
    "    1:\"홍길동\",\n",
    "    2:\"이몽룡\"\n",
    "}\n",
    "for i in dict:\n",
    "    print(i, dict[i] );"
   ]
  },
  {
   "cell_type": "code",
   "execution_count": 46,
   "id": "e9d259c2",
   "metadata": {},
   "outputs": [
    {
     "name": "stdout",
     "output_type": "stream",
     "text": [
      "[0, 1, 2, 3, 4]\n"
     ]
    }
   ],
   "source": [
    "li = list(range(0, 5)) # start 생략시 0부터, stop 미만까지, stap 증감값\n",
    "print( li );"
   ]
  },
  {
   "cell_type": "code",
   "execution_count": 2,
   "id": "6afb1243",
   "metadata": {},
   "outputs": [
    {
     "name": "stdout",
     "output_type": "stream",
     "text": [
      "0번째 반복\n",
      "1번째 반복\n",
      "2번째 반복\n",
      "0번째 반복\n",
      "1번째 반복\n",
      "2번째 반복\n",
      "2번째 반복\n",
      "1번째 반복\n",
      "0번째 반복\n"
     ]
    }
   ],
   "source": [
    "# for : 반복횟수를 정확히 알때;\n",
    "# while : 반복횟수를 정확히 모를때;\n",
    "\n",
    "# while 1 for 1\n",
    "to = 3;\n",
    "i = 0;\n",
    "while i < to:\n",
    "    print(f\"{i}번째 반복\");\n",
    "    i+=1;\n",
    "\n",
    "for j in range(to):\n",
    "    print(f\"{j}번째 반복\");\n",
    "    \n",
    "for j in range(2, -1, -1):\n",
    "    print(f\"{j}번째 반복\");"
   ]
  },
  {
   "cell_type": "code",
   "execution_count": 8,
   "id": "6a167caa",
   "metadata": {},
   "outputs": [
    {
     "name": "stdout",
     "output_type": "stream",
     "text": [
      "0번째 반복입니다.\n",
      "종료할까요(y)>>>r\n",
      "1번째 반복입니다.\n",
      "종료할까요(y)>>>e\n",
      "2번째 반복입니다.\n",
      "종료할까요(y)>>>w\n",
      "3번째 반복입니다.\n",
      "종료할까요(y)>>>y\n",
      "반복을 종료합니다.\n"
     ]
    }
   ],
   "source": [
    "# break / continue\n",
    "\n",
    "# break 반복문 종료\n",
    "\n",
    "i = 0;\n",
    "while True:\n",
    "    print(f\"{i}번째 반복입니다.\")\n",
    "    i+=1;\n",
    "    \n",
    "    inp = input(\"종료할까요(y)>>>\");\n",
    "    if inp in [\"Y\", \"y\"]:\n",
    "        print(\"반복을 종료합니다.\");\n",
    "        break;"
   ]
  },
  {
   "cell_type": "code",
   "execution_count": 9,
   "id": "7ca499b2",
   "metadata": {},
   "outputs": [
    {
     "name": "stdout",
     "output_type": "stream",
     "text": [
      "1\n",
      "3\n",
      "5\n",
      "7\n",
      "9\n"
     ]
    }
   ],
   "source": [
    "# continue\n",
    "# 현재 반복을 중지하고 다음 반복으로 넘어간다.\n",
    "\n",
    "for num in range(1,11):\n",
    "    if num%2 == 0:\n",
    "        continue\n",
    "    print(num)"
   ]
  },
  {
   "cell_type": "code",
   "execution_count": 17,
   "id": "face2800",
   "metadata": {},
   "outputs": [
    {
     "name": "stdout",
     "output_type": "stream",
     "text": [
      "1번 친구\n",
      "2번 철수\n",
      "3번 미애\n",
      "4번 형구\n",
      "5번 진수\n"
     ]
    }
   ],
   "source": [
    "# enumerate() 리스트 요소를 반복할때 인덱스가 몇번인지 확인\n",
    "\n",
    "student = [\"친구\", \"철수\", \"미애\", \"형구\", \"진수\"];\n",
    "\n",
    "# i=0;\n",
    "# for name in student:\n",
    "#     print(f\"{i}번 {name}\");\n",
    "#     i += 1;\n",
    "\n",
    "for no, name in enumerate(student):\n",
    "    print(f\"{no+1}번 {name}\");"
   ]
  },
  {
   "cell_type": "code",
   "execution_count": 20,
   "id": "889ba8b5",
   "metadata": {},
   "outputs": [
    {
     "name": "stdout",
     "output_type": "stream",
     "text": [
      "홍길동의 키는 185입니다\n",
      "이몽룡의 키는 189입니다\n",
      "성춘향의 키는 168입니다\n"
     ]
    }
   ],
   "source": [
    "# items() 딕셔너리는 item() 함수로 key, value를 한번에 추춯가능\n",
    "\n",
    "dict = {\n",
    "    \"홍길동\":185,\n",
    "    \"이몽룡\":189,\n",
    "    \"성춘향\":168\n",
    "}\n",
    "# for name in dict:\n",
    "#     print(f\"{name}의 키는 {dict[name]}입니다.\")\n",
    "    \n",
    "for name, height in dict.items():\n",
    "    print(f\"{name}의 키는 {height}입니다\");"
   ]
  },
  {
   "cell_type": "code",
   "execution_count": 25,
   "id": "c936073f",
   "metadata": {
    "scrolled": true
   },
   "outputs": [
    {
     "name": "stdout",
     "output_type": "stream",
     "text": [
      "[0, 2, 4, 6, 8, 10, 12, 14, 16, 18]\n"
     ]
    }
   ],
   "source": [
    "# 리스트 내포 list comprehensions\n",
    "\n",
    "# array = [];\n",
    "# for i in range(0, 20, 2):\n",
    "#     array.append(i);\n",
    "\n",
    "# array = list(range(0, 20, 2));\n",
    "array = [i for i in range(0, 20, 2)];    \n",
    "print(array);"
   ]
  },
  {
   "cell_type": "code",
   "execution_count": 30,
   "id": "1b45d726",
   "metadata": {},
   "outputs": [
    {
     "name": "stdout",
     "output_type": "stream",
     "text": [
      "['사과', '체리', '바나나']\n"
     ]
    }
   ],
   "source": [
    "# array = list(range(0, 20, 2));\n",
    "# array = [i for i in range(0, 20, 2)]; # 조건도 걸수있다.!\n",
    "\n",
    "array = [\"사과\",\"체리\",\"바나나\",\"과자\"];\n",
    "output = [ i   for i in array   if i != \"과자\"];\n",
    "\n",
    "print( output );"
   ]
  },
  {
   "cell_type": "code",
   "execution_count": null,
   "id": "34268b07",
   "metadata": {},
   "outputs": [],
   "source": [
    "\n",
    "\n",
    "\n",
    "\n",
    "\n",
    "\n",
    "\n",
    "\n",
    "\n",
    "\n",
    "\n",
    "\n",
    "\n",
    "\n",
    "\n",
    "\n"
   ]
  }
 ],
 "metadata": {
  "kernelspec": {
   "display_name": "Python 3 (ipykernel)",
   "language": "python",
   "name": "python3"
  },
  "language_info": {
   "codemirror_mode": {
    "name": "ipython",
    "version": 3
   },
   "file_extension": ".py",
   "mimetype": "text/x-python",
   "name": "python",
   "nbconvert_exporter": "python",
   "pygments_lexer": "ipython3",
   "version": "3.9.7"
  }
 },
 "nbformat": 4,
 "nbformat_minor": 5
}
