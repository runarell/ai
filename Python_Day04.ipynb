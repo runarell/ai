{
 "cells": [
  {
   "cell_type": "code",
   "execution_count": 1,
   "id": "049f269b",
   "metadata": {},
   "outputs": [
    {
     "name": "stdout",
     "output_type": "stream",
     "text": [
      "5\n"
     ]
    }
   ],
   "source": [
    "# 문자열의 길이를 구하기\n",
    "print( len(\"안녕하세요\"));"
   ]
  },
  {
   "cell_type": "code",
   "execution_count": 2,
   "id": "25cc5e90",
   "metadata": {},
   "outputs": [
    {
     "name": "stdout",
     "output_type": "stream",
     "text": [
      "True\n"
     ]
    }
   ],
   "source": [
    "# 조건문\n",
    "# blool & if\n",
    "print(True);\n",
    "# print(true) # 소문자는 문자로인식"
   ]
  },
  {
   "cell_type": "code",
   "execution_count": 4,
   "id": "a6505b90",
   "metadata": {},
   "outputs": [
    {
     "name": "stdout",
     "output_type": "stream",
     "text": [
      "False\n",
      "True\n",
      "True\n",
      "False\n",
      "True\n",
      "False\n"
     ]
    }
   ],
   "source": [
    "print (10 == 100);\n",
    "print(10 != 100);\n",
    "print(10 < 100);\n",
    "print(10 > 100);\n",
    "print(10 <= 100);\n",
    "print(10 >= 100);"
   ]
  },
  {
   "cell_type": "code",
   "execution_count": 6,
   "id": "d486f848",
   "metadata": {},
   "outputs": [
    {
     "name": "stdout",
     "output_type": "stream",
     "text": [
      "True\n",
      "True\n",
      "True\n",
      "False\n"
     ]
    }
   ],
   "source": [
    "print (\"가방\" == \"가방\");\n",
    "print(\"가방\" != \"백\");\n",
    "print(\"가방\" < \"백\");\n",
    "print(\"가방\" > \"백\");"
   ]
  }
 ],
 "metadata": {
  "kernelspec": {
   "display_name": "Python 3 (ipykernel)",
   "language": "python",
   "name": "python3"
  },
  "language_info": {
   "codemirror_mode": {
    "name": "ipython",
    "version": 3
   },
   "file_extension": ".py",
   "mimetype": "text/x-python",
   "name": "python",
   "nbconvert_exporter": "python",
   "pygments_lexer": "ipython3",
   "version": "3.9.7"
  }
 },
 "nbformat": 4,
 "nbformat_minor": 5
}
