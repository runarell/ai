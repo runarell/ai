{
 "cells": [
  {
   "cell_type": "code",
   "execution_count": null,
   "id": "2acd4e24",
   "metadata": {},
   "outputs": [],
   "source": [
    "# Funtion\n",
    "\n",
    "# 함수\n",
    "\n",
    "#수학에서 유사\n",
    "\n",
    "# 기본형\n",
    "# def 함수명(매개변수):\n",
    "#     수행문;\n",
    "# 호출\n",
    "# 함수명()\n"
   ]
  },
  {
   "cell_type": "code",
   "execution_count": null,
   "id": "b7e5be27",
   "metadata": {},
   "outputs": [],
   "source": [
    "def print_3():\n",
    "    print(\"hi\");\n",
    "    print(\"hi\");\n",
    "    print(\"hi\");\n",
    "    \n",
    "print_3();"
   ]
  },
  {
   "cell_type": "code",
   "execution_count": null,
   "id": "af2900cc",
   "metadata": {},
   "outputs": [],
   "source": [
    "def print_3(val):\n",
    "    print(val);\n",
    "    print(val);\n",
    "    print(val);\n",
    "    \n",
    "print_3(\"hell\");"
   ]
  },
  {
   "cell_type": "code",
   "execution_count": null,
   "id": "d1effda1",
   "metadata": {},
   "outputs": [],
   "source": [
    "def print_3(val, n):\n",
    "    for i in range(n):\n",
    "        print(val);\n",
    "print_3(\"a\", 2);"
   ]
  },
  {
   "cell_type": "code",
   "execution_count": null,
   "id": "317b5d41",
   "metadata": {},
   "outputs": [],
   "source": [
    "# 매개변수 지정 \n",
    "def print_3(val, n):\n",
    "    for i in range(n):\n",
    "        print(val);\n",
    "    \n",
    "print_3(\"hell\", 3);\n",
    "# TypeError: print_3() missing 1 required positional argument: 'n'"
   ]
  },
  {
   "cell_type": "code",
   "execution_count": null,
   "id": "eddf6770",
   "metadata": {},
   "outputs": [],
   "source": [
    "# 가변 매개변수 \n",
    "# 한수 선언 할때 매개변수와 함수를 호출할때 매개변수가 같아야만 했다. 적어도 않되고 많아도 안된다.\n",
    "\n",
    "def print_n_times(n, *sum_all):\n",
    "    for i in range(n):\n",
    "        for j in val:\n",
    "            print(j);\n",
    "        print();\n",
    "\n",
    "print_n_times(3, \"dd\", \"ff\");\n",
    "print_n_times(3, \"dd\", \"ff\", \"gg\");"
   ]
  },
  {
   "cell_type": "code",
   "execution_count": null,
   "id": "5984538a",
   "metadata": {},
   "outputs": [],
   "source": [
    "def sum_all(*args):\n",
    "    print(sum(args))\n",
    "\n",
    "sum_all(1, 2)"
   ]
  },
  {
   "cell_type": "code",
   "execution_count": null,
   "id": "18d4c84a",
   "metadata": {},
   "outputs": [],
   "source": [
    "# 기본매개변수\n",
    "def print_3(val, n=3):\n",
    "    for i in range(n):\n",
    "        print(val);\n",
    "print_3(\"ni\", 2);\n",
    "print_3(\"hi\");"
   ]
  },
  {
   "cell_type": "code",
   "execution_count": null,
   "id": "c3acef18",
   "metadata": {},
   "outputs": [],
   "source": [
    "# 기본매개변수는 뒤에!\n",
    "# def print_3(n=3, val):\n",
    "#     for i in range(n):\n",
    "#         print(val);\n",
    "# print_3(2, \"ni\");"
   ]
  },
  {
   "cell_type": "code",
   "execution_count": null,
   "id": "3ea29315",
   "metadata": {},
   "outputs": [],
   "source": [
    "# 가변변수는 args\n",
    "def print_n_times(n, *args):\n",
    "    for i in range(n):\n",
    "        for j in args:\n",
    "            print(args);\n",
    "print_n_times(2, \"aa\", \"bb\");"
   ]
  },
  {
   "cell_type": "code",
   "execution_count": null,
   "id": "35c022cd",
   "metadata": {},
   "outputs": [],
   "source": [
    "def test(a, b=10, c=100):\n",
    "    print(a+b+c);\n",
    "# 1.기본형태\n",
    "test(10,20,30);\n",
    "\n",
    "# 2. 매개변수 지정\n",
    "test(a=10,b=20,c=30);\n",
    "\n",
    "# 3. 순서를 바꾸\n",
    "test(c=10,a=20,b=30);\n",
    "\n",
    "# 4. 일부만 지정\n",
    "test(10, c=30)"
   ]
  },
  {
   "cell_type": "code",
   "execution_count": null,
   "id": "e2f2794b",
   "metadata": {},
   "outputs": [],
   "source": [
    "def return_test():\n",
    "    print(\"a위치입니다.\");\n",
    "    return;  # return을 만나면 끝\n",
    "    print(\"b위치입니다.\");\n",
    "\n",
    "return_test();\n",
    "    "
   ]
  },
  {
   "cell_type": "code",
   "execution_count": null,
   "id": "bded23ff",
   "metadata": {},
   "outputs": [],
   "source": [
    "def return_test():\n",
    "    return 100\n",
    "\n",
    "a= return_test();\n",
    "print(a);"
   ]
  },
  {
   "cell_type": "code",
   "execution_count": null,
   "id": "8f2354ee",
   "metadata": {},
   "outputs": [],
   "source": [
    "def sum_all(start, end):\n",
    "    sums = 0;\n",
    "    for i in range(start, end+1):\n",
    "        sums += i;\n",
    "    return sums;\n",
    "print(sum_all(0, 100));"
   ]
  },
  {
   "cell_type": "code",
   "execution_count": null,
   "id": "2dea2cf1",
   "metadata": {},
   "outputs": [],
   "source": [
    "# 재귀 함수\n",
    "\n",
    "def hello():\n",
    "    print(\"hi\");\n",
    "    return hello();\n",
    "\n",
    "hello();"
   ]
  },
  {
   "cell_type": "code",
   "execution_count": null,
   "id": "6297f0ec",
   "metadata": {},
   "outputs": [],
   "source": [
    "def factio(n):\n",
    "    output = 1;\n",
    "    for i in range(1, n+1):\n",
    "        output *= i; \n",
    "    return output;\n",
    "print(\"3! : \", factio(3));"
   ]
  },
  {
   "cell_type": "code",
   "execution_count": null,
   "id": "0b5d5daf",
   "metadata": {},
   "outputs": [],
   "source": [
    "def factio(n):\n",
    "    if n == 0:\n",
    "        return 1;\n",
    "    else:\n",
    "        return n*factio(n-1);\n",
    "\n",
    "print(\"3! : \", factio(3));\n",
    "print(\"5! : \", factio(5));\n",
    "\n",
    "# 개발자들 사이에서는 재귀함수를 절대 사용하지 말자 라는 의견도 있다.\n",
    "# 하지만 가독성이 좋고 코드가 간결하고 멋스러워 보이는 장점이 있다. (이쁜 쓰래기)\n"
   ]
  },
  {
   "cell_type": "code",
   "execution_count": null,
   "id": "1fe39431",
   "metadata": {},
   "outputs": [],
   "source": [
    "# 피보나치 수열( 토끼의 번식, 바이러스 감염)\n",
    "\n",
    "def fibo(n):\n",
    "    if n == 0:\n",
    "        return 0;\n",
    "    elif n == 1:\n",
    "        return 1;\n",
    "    else:\n",
    "        return fibo(n-1) + fibo(n-2);\n",
    "\n",
    "print(\"fibonacci(1) : \", fibo(1));\n",
    "print(\"fibonacci(2) : \", fibo(2));\n",
    "print(\"fibonacci(3) : \", fibo(3));\n",
    "print(\"fibonacci(4) : \", fibo(4));\n",
    "print(\"fibonacci(5) : \", fibo(5));"
   ]
  },
  {
   "cell_type": "code",
   "execution_count": null,
   "id": "b19bedba",
   "metadata": {},
   "outputs": [],
   "source": [
    "# 튜플과 함수\n",
    "# 튜플과 함수의 리턴에 많이 사용. 리턴에 튜플 사용시 여러값을 리턴가능\n",
    "\n",
    "def test():\n",
    "#     return (10, 20);\n",
    "    return 10, 20;  # 튜플의 소괄호 생략가능\n",
    "a,b = test();\n",
    "\n",
    "print(a);\n",
    "print(b);"
   ]
  },
  {
   "cell_type": "code",
   "execution_count": null,
   "id": "c6deefd8",
   "metadata": {},
   "outputs": [],
   "source": [
    "def add(a, b):  # 인수르 담아서 함수에서 사용되는 매개변수(raramete)\n",
    "    return a+b;\n",
    "a = 10;\n",
    "b = 20;\n",
    "c = add(a, b); # 함수에 들어가는 인수(arguments)\n",
    "print(c);\n",
    "\n",
    "# 인수와 매개변수\n",
    "# 함수 매서드(클라스 안에 함수)\n",
    "# 객체 인스턴스"
   ]
  },
  {
   "cell_type": "code",
   "execution_count": null,
   "id": "e265e0d8",
   "metadata": {},
   "outputs": [],
   "source": [
    "# 함수의 종류 4가지\n",
    "\n",
    "# input 도 있고 output도 있는 함수 (*****) 가장 많이 사용\n",
    "# input 은 없고 output은 있는 함수\n",
    "# input 은 있고 output은 없는 함수\n",
    "# input 도 없고 output도 없는 함수"
   ]
  },
  {
   "cell_type": "code",
   "execution_count": null,
   "id": "9ac27423",
   "metadata": {},
   "outputs": [],
   "source": [
    "# input 도 있고 output도 있는 함수 (*****) 가장 많이 사용"
   ]
  },
  {
   "cell_type": "code",
   "execution_count": null,
   "id": "1d2a32d4",
   "metadata": {},
   "outputs": [],
   "source": [
    "# input 은 없고 output은 있는 함수"
   ]
  },
  {
   "cell_type": "code",
   "execution_count": null,
   "id": "947c6438",
   "metadata": {},
   "outputs": [],
   "source": [
    "# input 은 있고 output은 없는 함수\n",
    "def add(a,b):\n",
    "    print(f\"{a}, {b}의 합은 {a+b}\");\n",
    "add(3,5);"
   ]
  },
  {
   "cell_type": "code",
   "execution_count": null,
   "id": "43c5a8b4",
   "metadata": {},
   "outputs": [],
   "source": [
    "# input 도 없고 output도 없는 함수\n",
    "def say():\n",
    "    print(\"hi\");\n",
    "say();"
   ]
  },
  {
   "cell_type": "code",
   "execution_count": null,
   "id": "056efdc6",
   "metadata": {},
   "outputs": [],
   "source": [
    "def add(a,b):\n",
    "    return a+b;\n",
    "print( add(a=3, b=7) );\n",
    "print( add(b=3, a=7) );"
   ]
  },
  {
   "cell_type": "code",
   "execution_count": null,
   "id": "922a0847",
   "metadata": {},
   "outputs": [],
   "source": [
    "def add_many(*args):\n",
    "    result = 0;\n",
    "    \n",
    "    for i in args:\n",
    "        result += i;\n",
    "    return result;\n",
    "\n",
    "pr = add_many(1,2,5);\n",
    "print(pr);"
   ]
  },
  {
   "cell_type": "code",
   "execution_count": null,
   "id": "042fd8c3",
   "metadata": {},
   "outputs": [],
   "source": [
    "def add_mul(choice, *args):\n",
    "    if choice == \"add\":\n",
    "        result = 0\n",
    "        for i in args:\n",
    "            result += i;\n",
    "\n",
    "    elif choice == \"mul\":\n",
    "        result = 1\n",
    "        for i in args:\n",
    "            result *= i;\n",
    "            \n",
    "    return result;\n",
    "\n",
    "pr = add_mul('add',1,2,3,4,5);\n",
    "print(pr);\n",
    "pr2 = add_mul('mul',2,4,5);\n",
    "print(pr2);"
   ]
  },
  {
   "cell_type": "code",
   "execution_count": null,
   "id": "b3655004",
   "metadata": {},
   "outputs": [],
   "source": [
    "def say_myself(name, old, man=True):\n",
    "    print(f\"나의 이름은 {name}입니다.\");\n",
    "    print(f\"나의 이름은 {old}입니다.\");\n",
    "    if man:\n",
    "        print(\"남자 입니다.\")\n",
    "    else:\n",
    "        print(\"여자입니다.\")\n",
    "say_myself(\"재원\", 30, False)"
   ]
  },
  {
   "cell_type": "code",
   "execution_count": 3,
   "id": "8cddc7b5",
   "metadata": {},
   "outputs": [
    {
     "name": "stdout",
     "output_type": "stream",
     "text": [
      "1\n"
     ]
    }
   ],
   "source": [
    "a = 1\n",
    "def vartest():\n",
    "    global a\n",
    "    a = a + 1;\n",
    "\n",
    "print(a);"
   ]
  },
  {
   "cell_type": "code",
   "execution_count": 5,
   "id": "c2f031c9",
   "metadata": {},
   "outputs": [
    {
     "name": "stdout",
     "output_type": "stream",
     "text": [
      "7\n"
     ]
    }
   ],
   "source": [
    "add = lambda a, b:a+b;\n",
    "result = add(3,4);\n",
    "print(result);"
   ]
  },
  {
   "cell_type": "code",
   "execution_count": null,
   "id": "4018f812",
   "metadata": {},
   "outputs": [],
   "source": [
    "\n",
    "\n",
    "\n",
    "\n",
    "\n",
    "\n",
    "\n",
    "\n",
    "\n",
    "\n",
    "\n",
    "\n",
    "\n",
    "\n",
    "\n",
    "\n",
    "\n",
    "\n",
    "\n",
    "\n"
   ]
  }
 ],
 "metadata": {
  "kernelspec": {
   "display_name": "Python 3 (ipykernel)",
   "language": "python",
   "name": "python3"
  },
  "language_info": {
   "codemirror_mode": {
    "name": "ipython",
    "version": 3
   },
   "file_extension": ".py",
   "mimetype": "text/x-python",
   "name": "python",
   "nbconvert_exporter": "python",
   "pygments_lexer": "ipython3",
   "version": "3.9.7"
  }
 },
 "nbformat": 4,
 "nbformat_minor": 5
}
