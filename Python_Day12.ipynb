{
 "cells": [
  {
   "cell_type": "code",
   "execution_count": null,
   "id": "161ace73",
   "metadata": {},
   "outputs": [],
   "source": [
    "# Maths\n",
    "\n",
    "num = 3.141592\n",
    "print(round(num,2)) # Display a number rounded to two decimal places."
   ]
  },
  {
   "cell_type": "code",
   "execution_count": 2,
   "id": "f161d8c1",
   "metadata": {},
   "outputs": [
    {
     "name": "stdout",
     "output_type": "stream",
     "text": [
      "10.0\n"
     ]
    }
   ],
   "source": [
    "# Maths\n",
    "\n",
    "import math\n",
    "pr = math.sqrt(100);\n",
    "print( pr )\n",
    "\n",
    "# the square root of a number but you must have the line \"import math\"\n",
    "# at the to[ of your program for this to work"
   ]
  },
  {
   "cell_type": "code",
   "execution_count": 3,
   "id": "4937e6c0",
   "metadata": {},
   "outputs": [],
   "source": [
    "math.pi\n",
    "\n",
    "# Gives you pi to decimal places, but you must have the line 'import math'\n",
    "# at the top of your program for this to work."
   ]
  },
  {
   "cell_type": "code",
   "execution_count": 4,
   "id": "e5a909d6",
   "metadata": {},
   "outputs": [
    {
     "data": {
      "text/plain": [
       "7"
      ]
     },
     "execution_count": 4,
     "metadata": {},
     "output_type": "execute_result"
    }
   ],
   "source": [
    "15 // 2\n",
    "# whole number division. 15//2 gives the answer 7,"
   ]
  },
  {
   "cell_type": "code",
   "execution_count": 6,
   "id": "bfdd2f79",
   "metadata": {},
   "outputs": [
    {
     "data": {
      "text/plain": [
       "1"
      ]
     },
     "execution_count": 6,
     "metadata": {},
     "output_type": "execute_result"
    }
   ],
   "source": [
    "15%2\n",
    "# Finds the remainder . 15%2 gives the anwer 1"
   ]
  },
  {
   "cell_type": "code",
   "execution_count": 15,
   "id": "96c9f17f",
   "metadata": {},
   "outputs": [
    {
     "name": "stdout",
     "output_type": "stream",
     "text": [
      "500이상 큰정수 입력4354\n",
      "65.98\n"
     ]
    }
   ],
   "source": [
    "# ask the user to enter an integer that is over 500. Work out the square root of\n",
    "# that number and display it to two decimal places\n",
    "\n",
    "a = int( input(\"500이상 큰정수 입력\") )\n",
    "ans = math.sqrt(a)\n",
    "print( round(ans,2) );"
   ]
  },
  {
   "cell_type": "code",
   "execution_count": 16,
   "id": "6824e3bd",
   "metadata": {},
   "outputs": [
    {
     "name": "stdout",
     "output_type": "stream",
     "text": [
      "원의 반지름 입력3\n",
      "28.274333882308138\n"
     ]
    }
   ],
   "source": [
    "# ask the user to enter the radius of a circle.\n",
    "# Work out the area of the circle. (pi * radius**2 )\n",
    "\n",
    "# (input) Enter the radius of the circle : \n",
    "\n",
    "r = int( input(\"원의 반지름 입력\"))\n",
    "print(f\"{math.pi*(r**2)}\");"
   ]
  },
  {
   "cell_type": "code",
   "execution_count": 17,
   "id": "4339ecd1",
   "metadata": {},
   "outputs": [
    {
     "name": "stdout",
     "output_type": "stream",
     "text": [
      "Enter a first number :432\n",
      "Enter a second number :433\n",
      "432divided by 433 is 0 with 432 remaining\n"
     ]
    }
   ],
   "source": [
    "# adk the user to enter teo numbers. Use whole number division to divide \n",
    "# the first number by the second and also work out the remainder and\n",
    "# display the answer in a user-friendly way\n",
    "# if they enter 7 and 2 display 7 divided by 2 is 3 with 1 remaining\n",
    "\n",
    "n1 = int(input(\"Enter a first number :\")); \n",
    "n2 = int( input(\"Enter a second number :\"));\n",
    "\n",
    "a = n1//n2;\n",
    "b = n1%n2; \n",
    "\n",
    "print(f\"{n1}divided by {n2} is {a} with {b} remaining\");\n"
   ]
  },
  {
   "cell_type": "code",
   "execution_count": null,
   "id": "abbcabe2",
   "metadata": {},
   "outputs": [],
   "source": [
    "# Display the following message:\n",
    "# 1> Squaer\n",
    "# 2> Triangle\n",
    "# Enter a number : \n",
    "\n",
    "# if the user enters 1, then it should ask them fo the length of one of its\n",
    "# sides and display the area. If they select 2, it should ask for the base and \n",
    "# height of the triangle and display the area. if they type in antthing else\n",
    "# it should give them a suitable error message.\n",
    "\n",
    "print('1) Square')\n",
    "print('2) Triangle')\n",
    "print()      \n",
    "no = int(input('Enter a number :'))\n",
    "\n",
    "if no == 1:\n",
    "  side = int(input('Enter the length of one side : '))\n",
    "  area = side * side\n",
    "  print('The area of your chosen shape is', area)\n",
    "elif no == 2:\n",
    "  base = int(input('Enter the length of the base : '))\n",
    "  height = int(input('Enter the height of the triangle : '))\n",
    "  area = (base * height) / 2\n",
    "  print('The area of your chosen shape is', area)\n",
    "else:\n",
    "  print('Incorrent option selected')"
   ]
  },
  {
   "cell_type": "code",
   "execution_count": null,
   "id": "fc08e9c6",
   "metadata": {},
   "outputs": [],
   "source": [
    "# Ask the user to enter their name and then display their name three times.\n",
    "\n",
    "# Alter program, so that it will ask the user to enter their name and a number\n",
    "# and then display their name that number of times.\n",
    "\n",
    "name = input('your name??? >>')\n",
    "no = int(input('how many??? >>'))\n",
    "for i in range(no):\n",
    "  print(name)\n"
   ]
  },
  {
   "cell_type": "code",
   "execution_count": null,
   "id": "0c1de7d1",
   "metadata": {},
   "outputs": [],
   "source": [
    "# Ask the user to enter their name and then display their name three times.\n",
    "\n",
    "# Alter program, so that it will ask the user to enter their name and a number\n",
    "# and then display their name that number of times.\n",
    "\n",
    "name = input('your name??? >>')\n",
    "no = int(input('how many??? >>'))\n",
    "for i in range(no):\n",
    "  print(name)"
   ]
  },
  {
   "cell_type": "code",
   "execution_count": null,
   "id": "cb8cd636",
   "metadata": {},
   "outputs": [],
   "source": [
    "# Ask the user to enter their name and \n",
    "# display each letter in their name on a separate line.\n",
    "\n",
    "name = input('Your name??? >>>')\n",
    "\n",
    "for i in name:\n",
    "  print(i)"
   ]
  },
  {
   "cell_type": "code",
   "execution_count": null,
   "id": "2acb74f6",
   "metadata": {},
   "outputs": [],
   "source": [
    "# ask the user to enter their name and \n",
    "# display each letter in their name on a separate line.\n",
    "\n",
    "no = int( input(\"Enter the number : \") )\n",
    "for i in range(50, no-1 , -1)\n",
    "  print(i)\n",
    "print(\"you enter\")"
   ]
  },
  {
   "cell_type": "code",
   "execution_count": null,
   "id": "f0c9d46e",
   "metadata": {},
   "outputs": [],
   "source": [
    "# Set a variable called total to 0. Ask the user to enter five numbers and after each \n",
    "# input ask them if they want that number included. \n",
    "# If they do, then add the number to the total.\n",
    "# After they have entered all five number, display the total.\n",
    "\n",
    "total = 0;\n",
    "for i in range(5):\n",
    "    n = int( input(\"숫자 입력 > \"));\n",
    "    answer = input(\"추가합니까? \").lower;\n",
    "    if answer in \"y\":\n",
    "        total += n;\n",
    "        print( total )\n",
    "print( total );"
   ]
  },
  {
   "cell_type": "code",
   "execution_count": null,
   "id": "5c73702c",
   "metadata": {},
   "outputs": [],
   "source": [
    "# Ask which direction the user wants to count (up or down).\n",
    "# If they select up, then ask them for the top number and then count from 1 to that number.  \n",
    "# If they select down, ask them to enter a number below 20 and then count down from 20\n",
    "# to that number. If they entered something other than up or down,\n",
    "# display the message 'i dont understand'.\n",
    "\n",
    "# 사용자가 원하는 카운트 방향(위로 또는 아래로)을 묻고\n",
    "# 만약 up을 선택하면,큰 수를 묻고 1부터 그 수까지 출력한다.\n",
    "# 만약 down을 선택하면 20미만의 수를 묻고 20부터 그 수까지를 출력한다. \n",
    "# 업 또는 다운이 아닌 것을 선택하면 "
   ]
  }
 ],
 "metadata": {
  "kernelspec": {
   "display_name": "Python 3 (ipykernel)",
   "language": "python",
   "name": "python3"
  },
  "language_info": {
   "codemirror_mode": {
    "name": "ipython",
    "version": 3
   },
   "file_extension": ".py",
   "mimetype": "text/x-python",
   "name": "python",
   "nbconvert_exporter": "python",
   "pygments_lexer": "ipython3",
   "version": "3.9.7"
  }
 },
 "nbformat": 4,
 "nbformat_minor": 5
}
