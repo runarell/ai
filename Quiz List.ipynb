{
 "cells": [
  {
   "cell_type": "code",
   "execution_count": 1,
   "id": "3fd4687a",
   "metadata": {},
   "outputs": [
    {
     "name": "stdout",
     "output_type": "stream",
     "text": [
      "3에서 탐색됨\n",
      "1\n"
     ]
    }
   ],
   "source": [
    "# Binary Search 이진 탐색법 코드로 변경\n",
    "\n",
    "arr = [11, 13, 15, 17, 29, 31];  # 검색할 list\n",
    "n = 17;  # 찾는 값 17\n",
    "\n",
    "def bs(n, arr):\n",
    "    head = 0; # 리스트 처음 index 0 ~\n",
    "    end = len(arr)-1;    # 마지막 인덱스(양수) 리스트의 수량-1 \n",
    "    while(True):\n",
    "        cen = int( head+end/2 );           # index 중간값을 찾음\n",
    "        if head == end:                    # head > end 라면 배열을 모두 살폈다\n",
    "            print(\"값이 없습니다.\");\n",
    "            return 0;\n",
    "        elif arr[cen] == n:                # 선택된 index에 값이 있을때\n",
    "            print(f\"{cen}에서 탐색됨\");\n",
    "            return 1;\n",
    "        elif arr[cen] < n:                 # 선택된 값이 찾을 값보다 작을때 선택index 값 보다 뒤에 있다. \n",
    "            head = cen-1;                  # 배열 [ ... 선택... 찾는값,...]\n",
    "        elif arr[cen] > n:                 # 선택된 값이 찾을 값보다 작을때 선택index 값 보다 뒤에 있다.\n",
    "            end = cen+1;                   # 배열 [ ... 선택... 찾는값,...]\n",
    "            \n",
    "pr = bs(n, arr);  # 인자로 찾을값, 찾을 List 보냄\n",
    "print( pr ); \n"
   ]
  },
  {
   "cell_type": "code",
   "execution_count": 2,
   "id": "ab14129c",
   "metadata": {},
   "outputs": [
    {
     "name": "stdout",
     "output_type": "stream",
     "text": [
      "[30, 4, 22, 24, 20, 13]\n",
      "[46, 28, 12, 16, 8, 20]\n",
      "[43, 39, 33, 27, 3, 32]\n",
      "[39, 37, 16, 26, 24, 2]\n",
      "[45, 22, 30, 17, 19, 15]\n"
     ]
    }
   ],
   "source": [
    "# quiz 랜덤 로또번호\n",
    "# 매주 5개씩 6번호 뽑기\n",
    "\n",
    "import random\n",
    "list =[i for i in range(1, 47)];\n",
    "for i in range(5):\n",
    "    arr =  random.sample(list, k=6);\n",
    "    print(arr);\n"
   ]
  },
  {
   "cell_type": "code",
   "execution_count": null,
   "id": "5eb3eb58",
   "metadata": {},
   "outputs": [],
   "source": []
  },
  {
   "cell_type": "code",
   "execution_count": null,
   "id": "04757a32",
   "metadata": {},
   "outputs": [],
   "source": []
  },
  {
   "cell_type": "code",
   "execution_count": null,
   "id": "0cb1824b",
   "metadata": {},
   "outputs": [],
   "source": []
  },
  {
   "cell_type": "code",
   "execution_count": null,
   "id": "4e49a552",
   "metadata": {},
   "outputs": [],
   "source": []
  },
  {
   "cell_type": "code",
   "execution_count": null,
   "id": "9fa1ce5e",
   "metadata": {},
   "outputs": [],
   "source": []
  },
  {
   "cell_type": "code",
   "execution_count": null,
   "id": "6e814e99",
   "metadata": {},
   "outputs": [],
   "source": []
  }
 ],
 "metadata": {
  "kernelspec": {
   "display_name": "Python 3 (ipykernel)",
   "language": "python",
   "name": "python3"
  },
  "language_info": {
   "codemirror_mode": {
    "name": "ipython",
    "version": 3
   },
   "file_extension": ".py",
   "mimetype": "text/x-python",
   "name": "python",
   "nbconvert_exporter": "python",
   "pygments_lexer": "ipython3",
   "version": "3.9.7"
  }
 },
 "nbformat": 4,
 "nbformat_minor": 5
}
