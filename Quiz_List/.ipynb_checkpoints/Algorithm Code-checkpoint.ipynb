{
 "cells": [
  {
   "cell_type": "code",
   "execution_count": null,
   "id": "2f9e157e",
   "metadata": {},
   "outputs": [],
   "source": [
    "# 탐색법"
   ]
  },
  {
   "cell_type": "code",
   "execution_count": null,
   "id": "c6fe540d",
   "metadata": {},
   "outputs": [],
   "source": [
    "# Binary Search 이진 탐색법 코드로 변경\n",
    "\n",
    "arr = [11, 13, 15, 17, 29, 31];  # 검색할 list\n",
    "n = 17;  # 찾는 값 17\n",
    "\n",
    "def bs(n, arr):\n",
    "    head = 0;                             # 리스트 처음 index 0 ~\n",
    "    end = len(arr)-1;                     # 마지막 인덱스(양수) 리스트의 수량-1 \n",
    "    while(True):\n",
    "        cen = int( head+end/2 );           # index 중간값을 찾음\n",
    "        if head > end:                    # head > end 라면 배열을 모두 살폈다\n",
    "            print(\"값이 없습니다.\");\n",
    "            return 0;\n",
    "        elif arr[cen] == n:                # 선택된 index에 값이 있을때\n",
    "            print(f\"{n}이 인덱스 {cen}에서 탐색\");\n",
    "            return 1;\n",
    "        elif arr[cen] < n:                 # 선택된 값이 찾을 값보다 작을때 선택index 값 보다 뒤에 있다. \n",
    "            head = cen-1;                  # 배열 [ ... 선택... 찾는값,...]\n",
    "        elif arr[cen] > n:                 # 선택된 값이 찾을 값보다 작을때 선택index 값 보다 뒤에 있다.\n",
    "            end = cen+1;                   # 배열 [ ... 찾는값... 선택,...]\n",
    "            \n",
    "pr = bs(n, arr);  # 인자로 찾을값, 찾을 List 보냄\n",
    "print( pr );"
   ]
  },
  {
   "cell_type": "code",
   "execution_count": null,
   "id": "480c5f02",
   "metadata": {
    "scrolled": true
   },
   "outputs": [],
   "source": [
    "# hash 검색\n",
    "\n",
    "# hash 보관 함수\n",
    "def heshListIn( arr ):\n",
    "    rang = int( len(arr)*1.5 ) +1           # 데이다를 넣을 배열의 길이는 1.5~2배 (1.5곱한후 올림 +1)\n",
    "    arrD = [0 for i in range( rang )];      # 데이타를 넣을 배열 \n",
    "    \n",
    "    for i in arr:                           #  임시보관 데이터를 하나씩 반복\n",
    "        k = i%len(arrD);                    # 데이터값 / 보관리스트 길이의 나머지\n",
    "\n",
    "        for j in range(len(arrD)):          # 보관배열의 길이만큼 반복하면 모든 칸을 확인한 것\n",
    "\n",
    "            if arrD[k] != 0:                # 데이터 자리가 0이 아님 확인\n",
    "                k = (k+1)%len(arrD);        # n%len(arrD)이면 나머지 0~(n-1)반복 0,1,..n-1,0,1,,,\n",
    "            else:\n",
    "                arrD[k] = i;                # 데이타 보관\n",
    "                break;                      # 보관완료후 반복 중단\n",
    "                \n",
    "    return arrD;\n",
    "#========================================================\n",
    "# hash 검색\n",
    "def hs_find(no, arr):\n",
    "    ch = no%len(arr);                          # 찾는 값의 index주소 \n",
    "    \n",
    "    for i in range( len(arr) ):                # list에 인덱스로 값을 배열만크 반복 \n",
    "        if arr[ch] == no:                      # 인덱스에 값이 닜는지 확인\n",
    "            print(f\"{no}는 인덱스{ch}에 있다\");\n",
    "            break;\n",
    "        elif i == len(arr)-1:                  # 마지막 반복인데 if 조건을 지나가면\n",
    "            print(f\"{no}값은 없습니다.\");\n",
    "            break;\n",
    "        else:                                   # 마지막이 아니고, 찾는값도 없으면 인덱스값 +1\n",
    "            ch = (ch+1)%len(arr);\n",
    " #=========================================================                    \n",
    "arrH = [12, 25, 36, 20, 30, 8, 42 ]; # 임시 보관 배열\n",
    "arrD = heshListIn( arrH )            # 데이타 보관 함수\n",
    "print(arrD);                         # 데이타가 잘 들어갔는지 확인\n",
    "\n",
    "num = 42;                           # 찾을 데이터\n",
    "hs_find(num, arrD)                   # 검색 함수"
   ]
  },
  {
   "cell_type": "code",
   "execution_count": null,
   "id": "8d356b83",
   "metadata": {},
   "outputs": [],
   "source": [
    "# 정렬"
   ]
  },
  {
   "cell_type": "code",
   "execution_count": 27,
   "id": "2bac2712",
   "metadata": {},
   "outputs": [
    {
     "name": "stdout",
     "output_type": "stream",
     "text": [
      "[6, 11, 13, 15, 17]\n"
     ]
    }
   ],
   "source": [
    "# normal sort\n",
    "\n",
    "def normal_sort(arr):\n",
    "#     0 1 2 3 4 \n",
    "    for i in range( len(arr) ):                   # 값을 넣을 배열 index 반복문;    \n",
    "        min = arr[i];                                      # 반복중 최소값을 넣을 변수\n",
    "        \n",
    "        # 최소값 찾기 반복문 \n",
    "        for j in range(i+1, len(arr) ):                 # 두 요소씩 비교 반복문                  \n",
    "            if arr[j] < min:                            # 두 요소 비교 작은값 찾기\n",
    "                min, arr[j]= arr[j], min;               # 두 값을 교체 \n",
    "                \n",
    "        arr[i] = min;                                   # 최소값을 선택한 저장공간에 넣는다.  \n",
    "    return arr;                                         # 모든 반복이 끝나면 리턴\n",
    "\n",
    "arrH = [11, 17, 13, 15, 6];                             # 임시 저장\n",
    "arrD = normal_sort(arrH);                               # 함수 실행\n",
    "print(arrD)                                             # 함수 리턴값 출력"
   ]
  },
  {
   "cell_type": "code",
   "execution_count": 28,
   "id": "fd54c7b8",
   "metadata": {},
   "outputs": [
    {
     "name": "stdout",
     "output_type": "stream",
     "text": [
      "[6, 11, 13, 15, 17]\n"
     ]
    }
   ],
   "source": [
    "# Bubble Sort\n",
    "\n",
    "def Bubble_Sort(arr):\n",
    "    \n",
    "    # -5 -4 -3 -2 -1 순서로 값을 넣는다.\n",
    "    for i in range(-len(arr), 0, 1):                   # 값을 넣을 배열 index 반복문;    \n",
    "        bool = True;                                  # 변화(두 요소 교체)가 있으면  False\n",
    "        \n",
    "        # -1~-4(-4비교-5) -2~-4... 반복\n",
    "        for j in range(-1, i, -1):                     # 두 요소씩 비교 반복문                  \n",
    "            \n",
    "            if arr[j] < arr[j-1]:                       # 두 요소 비교 \n",
    "                arr[j], arr[j-1] = arr[j-1], arr[j];    # 두 요소 교체\n",
    "                bool = False;                           # 이번 반복에 1번이라도 비교하면 False\n",
    "                \n",
    "        if bool:                                        # 두 요소의 교환이 없다 = 정렬 완료\n",
    "            return arr;                                 # 함수 리턴\n",
    "        \n",
    "    return arr;                                         # 모든 반복이 끝나면 리턴\n",
    "\n",
    "arrH = [11, 17, 13, 15, 6];                             # 임시 저장\n",
    "arrD = Bubble_Sort(arrH);                               # 함수 실행\n",
    "print(arrD)                                             # 함수 리턴값 출력"
   ]
  }
 ],
 "metadata": {
  "kernelspec": {
   "display_name": "Python 3 (ipykernel)",
   "language": "python",
   "name": "python3"
  },
  "language_info": {
   "codemirror_mode": {
    "name": "ipython",
    "version": 3
   },
   "file_extension": ".py",
   "mimetype": "text/x-python",
   "name": "python",
   "nbconvert_exporter": "python",
   "pygments_lexer": "ipython3",
   "version": "3.9.7"
  }
 },
 "nbformat": 4,
 "nbformat_minor": 5
}
