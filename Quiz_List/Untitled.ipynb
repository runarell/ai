{
 "cells": [
  {
   "cell_type": "code",
   "execution_count": 15,
   "id": "6b5b6e2b",
   "metadata": {},
   "outputs": [
    {
     "name": "stdout",
     "output_type": "stream",
     "text": [
      "1\n"
     ]
    }
   ],
   "source": [
    "import math;\n",
    "\n",
    "# 소수판별\n",
    "def isPrime (num):\n",
    "    # 제곱근의 값으로 범위 설정, 확인은 인수의 절반만!\n",
    "    # ex> 6 = 2*3.. / .. 3*2) 즉 절반은 중복 확인 \n",
    "    no = math.sqrt(num)       \n",
    "    for i in range(2, no+1): # 2부터 제곱근값 까지 \n",
    "        if num%i == 0 :      # 정수로 나누어 떨어지면 인수, 즉 자신과 1 이외 값으로 나누어 떨어지면 소수X\n",
    "            return False    # 발견 즉시 소수가 아님므로 함수 탈출(반환값 거짓) \n",
    "    return True             # 확인이 모두 끝나면 소수 (반환값 참)\n",
    "\n",
    "n = 3//2;\n",
    "print( n )\n",
    "primes = []   # 소수를 담아줄 List 2, 3을 제외(자신의 절반값을 확인해야함) \n",
    "for i in range(2, n):   # 정수 범위 설정\n",
    "#     if isPrime(i):    # \n",
    "#     primes.append(i)\n",
    "# return primes\n",
    "\n",
    "# 소수 찾기\n",
    "# def findPrime(n):\n",
    "#     primes = []\n",
    "#     for i in range(2, n+1):  # for i in range(2, (n//2)+1) 로 개선 가능\n",
    "#         if isPrime(i):\n",
    "#         primes.append(i)\n",
    "#     return primes\n",
    "\n",
    "# print('소수 리스트', findPrimes(30))\n",
    "\n",
    "# # 소인수 분해 1\n",
    "# def factorize(n):\n",
    "#   factors = []\n",
    "#   primes = findPrimes(n)  # n의 소수 리스트를 추출\n",
    "#   for i in primes:\n",
    "#       while (n % i == 0):  # 소수 중 나누어 떨어지는(약수) 수를 찾는다\n",
    "#           factors.append(i)\n",
    "#           n = n // i\n",
    "#   return factors"
   ]
  },
  {
   "cell_type": "code",
   "execution_count": null,
   "id": "a66cbf3b",
   "metadata": {},
   "outputs": [],
   "source": []
  },
  {
   "cell_type": "code",
   "execution_count": null,
   "id": "3d57f97c",
   "metadata": {},
   "outputs": [],
   "source": []
  },
  {
   "cell_type": "code",
   "execution_count": null,
   "id": "2bac2712",
   "metadata": {},
   "outputs": [],
   "source": [
    "# normal sort\n",
    "def normal_sort(arr):\n",
    "    result = [];\n",
    "      \n",
    "    # arr 0부터 교환 시작 끝방 -1 까지 (마지막 비교가 인덱스 -1, -2)\n",
    "    for i in range( len(arr)-1 ):\n",
    "\n",
    "        # 작은값 찾기\n",
    "        for k in renge(i, len(arr)):\n",
    "            \n",
    "            if arr[i] < arr[k];\n",
    "                arr[min], arr[k] = arr[i], arr[min];\n",
    "    \n",
    "    return result;\n",
    "    \n",
    "\n",
    "arrH = [11, 17, 13, 15, 6] # 임시 저장\n",
    "arrD = normal_sort(arrH); # 함수 실행"
   ]
  },
  {
   "cell_type": "code",
   "execution_count": 49,
   "id": "fd54c7b8",
   "metadata": {},
   "outputs": [
    {
     "name": "stdout",
     "output_type": "stream",
     "text": [
      "[5, 4, 2, 1, 3]\n"
     ]
    }
   ],
   "source": [
    "# Bubble Sort\n",
    "\n",
    "arr = [2,4,5,1,3];\n",
    "for i in range( -len(arr), -1 ):  # 시작값을 계속 올려주는 반복\n",
    "# -5 -4 -3 -2\n",
    "    # 배열 값 2개씩 확인\n",
    "    for j in range(end, -len(arr)+1, -1):         # 마지막은 비교 X\n",
    "\n",
    "        if arr[j] < arr[j-1]:\n",
    "            arr[j], arr[j-1] = arr[j-1], arr[j];       # 교환\n",
    "\n",
    "print(arr)"
   ]
  },
  {
   "cell_type": "code",
   "execution_count": 51,
   "id": "e974a607",
   "metadata": {},
   "outputs": [],
   "source": []
  },
  {
   "cell_type": "code",
   "execution_count": null,
   "id": "6dc1e62f",
   "metadata": {},
   "outputs": [],
   "source": [
    " \n",
    "    \n",
    "    \n",
    "    \n",
    "    \n",
    "    \n",
    "    \n",
    "    \n",
    "    \n",
    "    \n",
    "    \n",
    "    \n",
    "    \n",
    "    \n",
    "    \n",
    "    "
   ]
  }
 ],
 "metadata": {
  "kernelspec": {
   "display_name": "Python 3 (ipykernel)",
   "language": "python",
   "name": "python3"
  },
  "language_info": {
   "codemirror_mode": {
    "name": "ipython",
    "version": 3
   },
   "file_extension": ".py",
   "mimetype": "text/x-python",
   "name": "python",
   "nbconvert_exporter": "python",
   "pygments_lexer": "ipython3",
   "version": "3.9.7"
  }
 },
 "nbformat": 4,
 "nbformat_minor": 5
}
