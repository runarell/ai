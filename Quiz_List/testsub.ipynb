{
 "cells": [
  {
   "cell_type": "code",
   "execution_count": 17,
   "id": "b34469a4",
   "metadata": {},
   "outputs": [
    {
     "name": "stdout",
     "output_type": "stream",
     "text": [
      "소수이다.\n",
      "[1, 43]\n"
     ]
    }
   ],
   "source": [
    "import math;\n",
    "\n",
    "# 소수판별기\n",
    "def isPrime (num):\n",
    "    # 제곱근의 값으로 범위 설정, 확인은 인수의 절반만!\n",
    "    # ex> 6 = 2*3.. / .. 3*2) 즉 절반은 중복 확인 \n",
    "    no = int( math.sqrt(num) );\n",
    "    for i in range(2, no+1): # 2부터 제곱근(루투num) 까지  # 2는 작아서 반복문 통과\n",
    "        if num%i == 0 :      # 정수로 나누어 떨어지면 인수, 즉 자신과 1 이외 값으로 나누어 떨어지면 소수X\n",
    "            return False    # 발견 즉시 소수가 아님므로 함수 탈출(반환값 거짓) \n",
    "    return True             # 확인이 모두 끝나면 소수 (반환값 참)\n",
    "\n",
    "# 소수 찾기\n",
    "def findPrime(n):\n",
    "    result = []               # 범위의 소수를 담을 배열\n",
    "    for i in range(2, n+1):  # 확인할 정수 반복 (확인할 숫자까지니까 n+1)\n",
    "        if isPrime(i):        # 소수 판별 함수 사용\n",
    "            result.append(i)  # 판별된 소수를 배열에 추가\n",
    "    return result            # 계산된 값을 반환\n",
    "\n",
    "# 소인수 분해 1\n",
    "def factoriza(n):\n",
    "    result = []                 # 분해한 인수를 담을 리스트;\n",
    "    pr_arr = findPrime( n//2 )  # n의 소수 리스트는 2로 나눈 값보다 작다. ..3*4 // 4*3...반은 중복\n",
    "    \n",
    "    if isPrime(n):              # 만약 들어온 수가 소수이면... 1과 자기자신이 인수...\n",
    "        print(\"소수이다.\")\n",
    "        result = [1, n];\n",
    "        return result;\n",
    "    \n",
    "    for i in pr_arr:            # 소수 리스트 반복 소수 하나씩 반복 해줌\n",
    "        \n",
    "        while (n % i == 0):    # n을 소수i로 나누어 떨어지면 약수                                                                                                                                                                                                                                                                                                                                                                                                                                                                                                                                                                                                                                                                                                                                                                                                                                                                                                                                                                                                                                                                                                                                                                                                                                                                                                                                                                                                                                                                                                                                                                                                                                                                                                                                                                                                                                                                                                                                                                                                                                                                                                                                                                                                                                                                                                                                                                                                                                                                                                                                                                                                                                                                                                                                                                                                                                                                                                                                                                                                                                                                                                                                                                                                                                                                                                                                                                                                                                                                                                                                                                                                                                                                                                                                                                                                                                                                                                                                                                                                                                                                                                                                                                                                                                                                                                                                      \n",
    "            result.append(i);   # 배열에 값을 추가 \n",
    "            n = n / i;         # n에서 빠진 i\n",
    "    \n",
    "    return result;\n",
    "\n",
    "a = factoriza(43);\n",
    "print(a)"
   ]
  },
  {
   "cell_type": "code",
   "execution_count": 13,
   "id": "f40d608b",
   "metadata": {},
   "outputs": [
    {
     "name": "stdout",
     "output_type": "stream",
     "text": [
      "3\n"
     ]
    }
   ],
   "source": [
    "# 소수 반별시 소수리스트로 나누면 더빨라짐\n",
    "# 2 3 5 7 9... 소수의 배수들은 소수가 아님! \n",
    "import math;\n",
    "\n",
    "# 소수판별기\n",
    "def isPrime (num, arr):      # \n",
    "    # 제곱근의 값으로 범위 설정, 확인은 인수의 절반만!\n",
    "    # ex> 6 = 2*3.. / .. 3*2) 즉 절반은 중복 확인 \n",
    "    no = int( math.sqrt(num) );\n",
    "    for i in arr:            # 이하 소수 리스트로 확인  # 2는 \n",
    "        if num%i == 0 :      # 정수로 나누어 떨어지면 인수, 즉 자신과 1 이외 값으로 나누어 떨어지면 소수X\n",
    "            return False    # 발견 즉시 소수가 아님므로 함수 탈출(반환값 거짓) \n",
    "    return True             # 확인이 모두 끝나면 소수 (반환값 참)\n",
    "\n",
    "# 소수 찾기\n",
    "def findPrime(n):\n",
    "    result = [2];               # 범위의 소수를 담을 배열\n",
    "    for i in range(3, n+1):  # 확인할 정수 반복 (확인할 숫자까지니까 n+1)\n",
    "    #============================================\n",
    "        no = int( math.sqrt(i) );    # 숫자 i의 인수는 i제곱근 보다 작다\n",
    "        ans = True;\n",
    "        \n",
    "        for j in result:            # 숫자(i) 이하의 소수로 반복   \n",
    "            if i%j == 0 :           # 소수로 나누어 떨어지면 인수, 즉 자신과 1 이외 값으로 나누어 떨어지면 소수X\n",
    "                ans = False;        # 소수 판별값을 실패로 넣음\n",
    "                break;              # 발견 즉시 소수가 아님므로 함수 탈출      \n",
    "        if ans :              \n",
    "            result.append(i);            # 반복문이 끝나도 \n",
    "                \n",
    "        if isPrime(i, result):        # 소수 판별 함수 사용\n",
    "            result.append(i)  # 판별된 소수를 배열에 추가\n",
    "    # ===========================================\n",
    "    return result            # 계산된 값을 반환\n",
    "\n",
    "\n",
    "a = findPrime(1);\n",
    "print(a);\n",
    "\n",
    "# 소인수 분해 1\n",
    "# def factoriza(n):\n",
    "#     result = []                 # 분해한 인수를 담을 리스트;\n",
    "#     pr_arr = findPrime( n//2 )  # n의 소수 리스트는 2로 나눈 값보다 작다. ..3*4 // 4*3...반은 중복\n",
    "    \n",
    "#     if isPrime(n):              # 만약 들어온 수가 소수이면... 1과 자기자신이 인수...\n",
    "#         print(\"소수이다.\")\n",
    "#         result = [1, n];\n",
    "#         return result;\n",
    "    \n",
    "#     for i in pr_arr:            # 소수 리스트 반복 소수 하나씩 반복 해줌\n",
    "        \n",
    "#         while (n % i == 0):    # n을 소수i로 나누어 떨어지면 약수                                                                                                                                                                                                                                                                                                                                                                                                                                                                                                                                                                                                                                                                                                                                                                                                                                                                                                                                                                                                                                                                                                                                                                                                                                                                                                                                                                                                                                                                                                                                                                                                                                                                                                                                                                                                                                                                                                                                                                                                                                                                                                                                                                                                                                                                                                                                                                                                                                                                                                                                                                                                                                                                                                                                                                                                                                                                                                                                                                                                                                                                                                                                                                                                                                                                                                                                                                                                                                                                                                                                                                                                                                                                                                                                                                                                                                                                                                                                                                                                                                                                                                                                                                                                                                                                                                                                      \n",
    "#             result.append(i);   # 배열에 값을 추가 \n",
    "#             n = n / i;         # n에서 빠진 i\n",
    "    \n",
    "#     return result;\n",
    "\n",
    "# a = factoriza(43);\n",
    "# print(a)"
   ]
  },
  {
   "cell_type": "code",
   "execution_count": null,
   "id": "2a1efcee",
   "metadata": {},
   "outputs": [],
   "source": []
  }
 ],
 "metadata": {
  "kernelspec": {
   "display_name": "Python 3 (ipykernel)",
   "language": "python",
   "name": "python3"
  },
  "language_info": {
   "codemirror_mode": {
    "name": "ipython",
    "version": 3
   },
   "file_extension": ".py",
   "mimetype": "text/x-python",
   "name": "python",
   "nbconvert_exporter": "python",
   "pygments_lexer": "ipython3",
   "version": "3.9.7"
  }
 },
 "nbformat": 4,
 "nbformat_minor": 5
}
