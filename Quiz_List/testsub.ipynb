{
 "cells": [
  {
   "cell_type": "code",
   "execution_count": null,
   "id": "b34469a4",
   "metadata": {},
   "outputs": [],
   "source": [
    "import math;\n",
    "\n",
    "# 소수판별\n",
    "def isPrime (num):\n",
    "    # 제곱근의 값으로 범위 설정, 확인은 인수의 절반만!\n",
    "    # ex> 6 = 2*3.. / .. 3*2) 즉 절반은 중복 확인 \n",
    "    no = math.sqrt(num)       \n",
    "    for i in range(2, no+1): # 2부터 제곱근값 까지 \n",
    "        if num%i == 0 :      # 정수로 나누어 떨어지면 인수, 즉 자신과 1 이외 값으로 나누어 떨어지면 소수X\n",
    "            return False    # 발견 즉시 소수가 아님므로 함수 탈출(반환값 거짓) \n",
    "    return True             # 확인이 모두 끝나면 소수 (반환값 참)\n",
    "\n",
    "n = 3//2;\n",
    "print( n )\n",
    "primes = []   # 소수를 담아줄 List 2, 3을 제외(자신의 절반값을 확인해야함) \n",
    "for i in range(2, n):   # 정수 범위 설정\n",
    "#     if isPrime(i):    # \n",
    "#     primes.append(i)\n",
    "# return primes\n",
    "\n",
    "# 소수 찾기\n",
    "# def findPrime(n):\n",
    "#     primes = []\n",
    "#     for i in range(2, n+1):  # for i in range(2, (n//2)+1) 로 개선 가능\n",
    "#         if isPrime(i):\n",
    "#         primes.append(i)\n",
    "#     return primes\n",
    "\n",
    "# print('소수 리스트', findPrimes(30))\n",
    "\n",
    "# # 소인수 분해 1\n",
    "# def factorize(n):\n",
    "#   factors = []\n",
    "#   primes = findPrimes(n)  # n의 소수 리스트를 추출\n",
    "#   for i in primes:\n",
    "#       while (n % i == 0):  # 소수 중 나누어 떨어지는(약수) 수를 찾는다\n",
    "#           factors.append(i)\n",
    "#           n = n // i\n",
    "#   return factors"
   ]
  },
  {
   "cell_type": "code",
   "execution_count": null,
   "id": "2a1efcee",
   "metadata": {},
   "outputs": [],
   "source": [
    "# Bubble Sort\n",
    "\n",
    "def Bubble_Sort(arr):\n",
    "    \n",
    "    # -5 -4 -3 -2 -1 순서로 값을 넣는다.\n",
    "    for i in range(-len(arr), 0, 1):                   # 값을 넣을 배열 index 반복문;    \n",
    "        bool = True;                                  # 변화(두 요소 교체)가 있으면  False\n",
    "        \n",
    "        # -1~-4(-4비교-5) -2~-4... 반복\n",
    "        for j in range(-1, i, -1):                     # 두 요소씩 비교 반복문                  \n",
    "            \n",
    "            if arr[j] < arr[j-1]:                       # 두 요소 비교 \n",
    "                arr[j], arr[j-1] = arr[j-1], arr[j];    # 두 요소 교체\n",
    "                bool = False;                           # 이번 반복에 1번이라도 비교하면 False\n",
    "                \n",
    "        if bool:                                        # 두 요소의 교환이 없다 = 정렬 완료\n",
    "            return arr;                                 # 함수 리턴\n",
    "        \n",
    "    return arr;                                         # 모든 반복이 끝나면 리턴\n",
    "\n",
    "arrH = [11, 17, 13, 15, 6];                             # 임시 저장\n",
    "arrD = Bubble_Sort(arrH);                               # 함수 실행\n",
    "print(arrD)                                             # 함수 리턴값 출력"
   ]
  }
 ],
 "metadata": {
  "kernelspec": {
   "display_name": "Python 3 (ipykernel)",
   "language": "python",
   "name": "python3"
  },
  "language_info": {
   "codemirror_mode": {
    "name": "ipython",
    "version": 3
   },
   "file_extension": ".py",
   "mimetype": "text/x-python",
   "name": "python",
   "nbconvert_exporter": "python",
   "pygments_lexer": "ipython3",
   "version": "3.9.7"
  }
 },
 "nbformat": 4,
 "nbformat_minor": 5
}
