{
  "nbformat": 4,
  "nbformat_minor": 0,
  "metadata": {
    "colab": {
      "name": "python02.ipynb",
      "provenance": [],
      "collapsed_sections": [],
      "authorship_tag": "ABX9TyNLyzXxv5EmrjBZNByXTipd",
      "include_colab_link": true
    },
    "kernelspec": {
      "name": "python3",
      "display_name": "Python 3"
    },
    "language_info": {
      "name": "python"
    }
  },
  "cells": [
    {
      "cell_type": "markdown",
      "metadata": {
        "id": "view-in-github",
        "colab_type": "text"
      },
      "source": [
        "<a href=\"https://colab.research.google.com/github/runarell/ai/blob/main/day2.ipynb\" target=\"_parent\"><img src=\"https://colab.research.google.com/assets/colab-badge.svg\" alt=\"Open In Colab\"/></a>"
      ]
    },
    {
      "cell_type": "code",
      "execution_count": 1,
      "metadata": {
        "id": "OMEY2hjDp1Xd"
      },
      "outputs": [],
      "source": [
        "# Review\n",
        "\n",
        "# Comment 주석 : 컴퓨터거 읽지 않고 사람만 읽는 내용\n",
        "# - 코드에 대한 설명, 코드를 가리는 역활\n",
        "# - 다른 팀원을 위해 내용파악을 용의하게 만듬\n",
        "\n",
        "\n"
      ]
    },
    {
      "cell_type": "code",
      "source": [
        "#인덱싱 (슬라이싱)\n",
        "\n",
        "s = 'world'\n",
        "print(s[2]); # python은 인덱스 시작이 0 이다.\n",
        "print(s[-1]); # 음수는 -1 부터 맨 마지박에서 처음으로\n",
        "\n"
      ],
      "metadata": {
        "colab": {
          "base_uri": "https://localhost:8080/"
        },
        "id": "5XhFHjJGzrHi",
        "outputId": "eddf25ca-87f0-4b18-e186-0db645713ac3"
      },
      "execution_count": 2,
      "outputs": [
        {
          "output_type": "stream",
          "name": "stdout",
          "text": [
            "r\n",
            "d\n"
          ]
        }
      ]
    },
    {
      "cell_type": "code",
      "source": [
        "# print()\n",
        "print('좋은 아침입니다.'); \n",
        "#여기서 아침/점심/저녁 을 변화하고 싶으면...\n",
        "when = '아침'; # '점심' '저녁'\n",
        "print('좋은',when,'입니다.'); \n",
        "print('좋은 %s입니다.' % when); \n",
        "print('좋은 {}입니다.' .format(when) ); \n",
        "print(f'좋은 {when}입니다.'); \n"
      ],
      "metadata": {
        "colab": {
          "base_uri": "https://localhost:8080/"
        },
        "id": "1wIwbiaM1W3a",
        "outputId": "7f0143ed-db2f-44b8-e70e-fc9f5f700698"
      },
      "execution_count": 3,
      "outputs": [
        {
          "output_type": "stream",
          "name": "stdout",
          "text": [
            "좋은 아침입니다.\n",
            "좋은 아침 입니다.\n",
            "좋은 아침입니다.\n",
            "좋은 아침입니다.\n",
            "좋은 아침입니다.\n"
          ]
        }
      ]
    },
    {
      "cell_type": "code",
      "source": [
        "# 2강 시작!!!!\n",
        "\n",
        "# list(리스트) Tuple(튜플) Dict(딕셔너리) Set(셋)\n",
        "# 자료형 / 여러개의 값을 한번에 저장한다.\n",
        "\n",
        "# list ( 리스트 )\n",
        "# 숫자1 문자1 등의 개별적, 독립적 자료가 아닌\n",
        "# 여러개의 자료를 모아서 사용할 수 있게 해준다.\n",
        "# 리스트에 넣는 자료를 Element(요소) 라고 한다.\n",
        "\n",
        "# 특징\n",
        "# []로 구성한다.\n",
        "list1 = [1, 2, 3, 4, 5];\n",
        "print(list1);\n",
        "# 리스트는 다양한 자료형을 한번에 담을 수 있다. \n",
        "# 사용이 가능 하지만 ... 같은 자료형을 저장하는 것이 바람직!!!\n",
        "list2 = [1, 2, 3, '대한', '민국'];\n",
        "print(list2);\n",
        "\n",
        "score = [80, 90 ,70, 60];\n",
        "print(score);\n",
        "# 리스트는 indexing(인덱싱)과 slicing(슬라이싱)이 가능하다.\n",
        "print(score[0]);\n",
        "print(score[0:2]);\n",
        "\n",
        "# list는 수정/삭제 가능 (mutable)\n",
        "# Tuple(듀플)은 immitable !!\n",
        "score[0] = 100;\n",
        "print(score);\n",
        "\n",
        "score[-1] = 100;\n",
        "print(score);\n",
        "# score[4];\n",
        "# IndexError (예외) 자주접하는 예외!! \n",
        "\n",
        "# 리스트는 연산이 가능\n",
        "list_a = [ 1, 2, 3];\n",
        "list_b = [4, 5, 6];\n",
        "print( 'list_a : ', list_a );\n",
        "print( 'list_b : ', list_b );\n",
        "print( list_a + list_b );\n",
        "print( list_a *3 );\n",
        "\n",
        "# date flem (데이타 플레임 :  엑셀같은... )\n"
      ],
      "metadata": {
        "colab": {
          "base_uri": "https://localhost:8080/"
        },
        "id": "fH6sjnro2fE2",
        "outputId": "fc02d058-b277-4c86-b058-5b80c43ca6aa"
      },
      "execution_count": 4,
      "outputs": [
        {
          "output_type": "stream",
          "name": "stdout",
          "text": [
            "[1, 2, 3, 4, 5]\n",
            "[1, 2, 3, '대한', '민국']\n",
            "[80, 90, 70, 60]\n",
            "80\n",
            "[80, 90]\n",
            "[100, 90, 70, 60]\n",
            "[100, 90, 70, 100]\n",
            "list_a :  [1, 2, 3]\n",
            "list_b :  [4, 5, 6]\n",
            "[1, 2, 3, 4, 5, 6]\n",
            "[1, 2, 3, 1, 2, 3, 1, 2, 3]\n"
          ]
        }
      ]
    },
    {
      "cell_type": "code",
      "source": [
        "# 리스트에 많이 사용되는 함수\n",
        "# append(*****) 리스트에 요소를 추가할 때 사용 ( 끝에만 사용 )\n",
        "\n",
        "print(score);\n",
        "score.append(60);\n",
        "print(score);\n",
        "score.append(70);\n",
        "print(score);"
      ],
      "metadata": {
        "colab": {
          "base_uri": "https://localhost:8080/"
        },
        "id": "K2sNo4DhFeP9",
        "outputId": "d8d64e11-008a-444c-aab5-e140ec5c6b75"
      },
      "execution_count": 5,
      "outputs": [
        {
          "output_type": "stream",
          "name": "stdout",
          "text": [
            "[100, 90, 70, 100]\n",
            "[100, 90, 70, 100, 60]\n",
            "[100, 90, 70, 100, 60, 70]\n"
          ]
        }
      ]
    },
    {
      "cell_type": "code",
      "source": [
        "# insert() 리스트에 요소를 추가할 때 사용 (특정위치 지정해서 추가)\n",
        "list = [];\n",
        "\n",
        "list.insert(0,10);\n",
        "print(list);\n",
        "\n",
        "list.insert(1,50);\n",
        "print(list)"
      ],
      "metadata": {
        "colab": {
          "base_uri": "https://localhost:8080/"
        },
        "id": "oLhdvLdYJIHP",
        "outputId": "3626c63a-1e8e-41f3-a5c1-69c1c6d44b7a"
      },
      "execution_count": 12,
      "outputs": [
        {
          "output_type": "stream",
          "name": "stdout",
          "text": [
            "[10]\n",
            "[10, 50]\n"
          ]
        }
      ]
    },
    {
      "cell_type": "code",
      "source": [
        "list_a = [1,2,3];\n",
        "list_a.extend([4,5,6]);\n",
        "print(list_a); # 파괴적 처리"
      ],
      "metadata": {
        "colab": {
          "base_uri": "https://localhost:8080/"
        },
        "id": "fohZVxkgKXeB",
        "outputId": "f2a0b798-fb56-45a2-dc27-fa1d639036cf"
      },
      "execution_count": 14,
      "outputs": [
        {
          "output_type": "stream",
          "name": "stdout",
          "text": [
            "[1, 2, 3, 4, 5, 6]\n"
          ]
        }
      ]
    },
    {
      "cell_type": "code",
      "source": [
        "list_a = [1,2,3];\n",
        "list_b = [4,5,6];\n",
        "print( list_a + list_b );\n",
        "print( list_a ); #비파괴적 처리\n",
        "\n",
        "# 리스트 연결만으로 list_a에 영양을 안줌! ( 비파괴적 처리 )\n",
        "# extend()는 list_a에 직접적으로 영양을줌! ( 파괴적 처리 )\n",
        "\n",
        "# 기본적으로 자료를 사용할 때는 비 파괴적으로 사용하는 것이 바람직하다.\n",
        "# 가능하면 원본 데이터는 그대로 유지하고 사용하는 것이 선택지가 넓음"
      ],
      "metadata": {
        "colab": {
          "base_uri": "https://localhost:8080/"
        },
        "id": "09m7YK-WKqjO",
        "outputId": "4827414f-af22-4e47-a181-29651d91222b"
      },
      "execution_count": 17,
      "outputs": [
        {
          "output_type": "stream",
          "name": "stdout",
          "text": [
            "[1, 2, 3, 4, 5, 6]\n"
          ]
        }
      ]
    },
    {
      "cell_type": "code",
      "source": [
        "# del() 리스트 데이터 삭제\n",
        "# 슬라이싱 가능\n",
        "list_a = [0, 1, 2, 3, 4, 5];\n",
        "del list_a[1]; # index 값으로 위치값을 삭제\n",
        "print( list_a );\n",
        "\n",
        "del list_a[1:3];\n",
        "print( list_a );\n",
        "\n",
        "del list_a[:];    # 생략시 처음~끝 모두 날림\n",
        "print( list_a );\n",
        "\n",
        "# list_a.clear() 리스트 요소 한번에 삭제!"
      ],
      "metadata": {
        "colab": {
          "base_uri": "https://localhost:8080/"
        },
        "id": "QEkY1fsKMZ6W",
        "outputId": "b9047573-535b-4418-8387-e9cab0b4bbd2"
      },
      "execution_count": 22,
      "outputs": [
        {
          "output_type": "stream",
          "name": "stdout",
          "text": [
            "[0, 2, 3, 4, 5]\n",
            "[0, 4, 5]\n"
          ]
        }
      ]
    },
    {
      "cell_type": "code",
      "source": [
        "# pop() list의 마지막 위치 값 삭제\n",
        "list_a.pop()\n",
        "list_a"
      ],
      "metadata": {
        "colab": {
          "base_uri": "https://localhost:8080/"
        },
        "id": "tZjNnke7NBlI",
        "outputId": "e7167519-ee8c-4d4f-db1a-fe7ddf7dbfba"
      },
      "execution_count": 21,
      "outputs": [
        {
          "output_type": "execute_result",
          "data": {
            "text/plain": [
              "[0, 2, 3, 4]"
            ]
          },
          "metadata": {},
          "execution_count": 21
        }
      ]
    },
    {
      "cell_type": "code",
      "source": [
        "# remove 값으로 삭제\n",
        "\n",
        "list_c = [ 1,2,1,2 ];\n",
        "list_c.remove(2);   # remove는 요소의 값을 찾아서 삭제\n",
        "                    # 동일한 값이 여러개 있을땐느 하나씩 순차적으로 삭제.\n",
        "                    # list에 중복되는 값을 모두 제거하려면 반복문을 사용!\n",
        "print(list_c);"
      ],
      "metadata": {
        "colab": {
          "base_uri": "https://localhost:8080/"
        },
        "id": "57VejWNsOac1",
        "outputId": "27c4e08c-d9ce-4617-e3b5-98612dcfcfc5"
      },
      "execution_count": 23,
      "outputs": [
        {
          "output_type": "stream",
          "name": "stdout",
          "text": [
            "[1, 1, 2]\n"
          ]
        }
      ]
    },
    {
      "cell_type": "code",
      "source": [
        "list = [1,2,3,4,5];\n",
        "print(list[0]);    # indexing 비파괴적으로 동작한다.\n",
        "print(list);\n",
        "\n",
        "print(list.pop());\n",
        "print(list);"
      ],
      "metadata": {
        "colab": {
          "base_uri": "https://localhost:8080/"
        },
        "id": "u-3Qjj4aPrcu",
        "outputId": "a65cf502-1c0a-4af2-e015-99d763d45f22"
      },
      "execution_count": 24,
      "outputs": [
        {
          "output_type": "stream",
          "name": "stdout",
          "text": [
            "1\n",
            "[1, 2, 3, 4, 5]\n",
            "5\n",
            "[1, 2, 3, 4]\n"
          ]
        }
      ]
    },
    {
      "cell_type": "code",
      "source": [
        "# in / not in 리스트에 존재하는 요소인지를 확인\n",
        "\n",
        "list = [222,434,65,123,546,876];\n",
        "print( 222 in list);\n",
        "print( 221 in list);\n",
        "\n",
        "print( 221 not in list);"
      ],
      "metadata": {
        "colab": {
          "base_uri": "https://localhost:8080/"
        },
        "id": "djGk3bOXQVdB",
        "outputId": "11cb0d64-03c4-4f52-ef8a-37453b4b51d7"
      },
      "execution_count": 26,
      "outputs": [
        {
          "output_type": "stream",
          "name": "stdout",
          "text": [
            "True\n",
            "False\n",
            "True\n"
          ]
        }
      ]
    },
    {
      "cell_type": "code",
      "source": [
        "# Dict(딕셔너리)"
      ],
      "metadata": {
        "id": "pd4KQ5byRjUY"
      },
      "execution_count": null,
      "outputs": []
    }
  ]
}