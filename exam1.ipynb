{
 "cells": [
  {
   "cell_type": "code",
   "execution_count": null,
   "id": "587dfe98",
   "metadata": {},
   "outputs": [],
   "source": [
    "# 문제\n",
    "#  + 조건 isplpha() isdigit 등으로 시작하는 함수\n",
    "# import re;\n",
    "# n = re.compile(\"[0-9]\");\n",
    "# s = re.compile(\"[a-zA-Z]\");\n",
    "# 아스키 코드 번호로 인식도 가능\n",
    "# \"A\" < i and \"Z\" > i; \"a\" < i and \"z\" > i; \"0\" < i and \"9\" > i; \n",
    "\n",
    "import re;                             # 정규 표현식을 쓰기위한 모듈 improt\n",
    "def str_slide( pr ):                   # 요소를 1개 가져오는 함수 \n",
    "    n = re.compile(\"[0-9]\");           # [0-9] : 0~9의 문자인 숫자를 표현\n",
    "    au = re.compile(\"[A-Z]\");          # [A-Z] : 영어 대문자 표현\n",
    "    ad = re.compile(\"[a-z]\");          # [a-z] : 영러 소문자 표현\n",
    "    str = \"\";                          # 문자를 모와서 담을 변수\n",
    "    int = \"\";                          # 숫자를 모와서 담을 변수\n",
    "    count_str = 0;                     # 문자가 몇개인지 담을 변수\n",
    "    count_int = 0;                     # 숫자가 몇개인지 담을 변수\n",
    "    \n",
    "    for i in pr:                      # 문자열을 문자마다 반복하는 반복문\n",
    "        if a.search(i):               \n",
    "            int += f\"{i} \";\n",
    "            count_int +=1 ;\n",
    "        elif au.search(i):\n",
    "            \n",
    "        elif n.search(i):\n",
    "            str += f\"{i} \";\n",
    "            count_str += 1;            \n",
    "            \n",
    "    print(f\"입력 숫자 : {int} {count_int}개\");\n",
    "    print(f\"입력 문자 : {str} {count_str}개\");\n",
    "            \n",
    "pr = input(\"입력 > \");\n",
    "str_slide(pr);"
   ]
  },
  {
   "cell_type": "code",
   "execution_count": null,
   "id": "fa98d874",
   "metadata": {},
   "outputs": [],
   "source": [
    "1. 문자열 대문자로 변경하는 함수 (string.upper)\n",
    "\n",
    "2. 문자열 소문자로 변경하는 함수 (string.lower)\n",
    "\n",
    "3. 문자가 대문자인지 확인하는 함수 (string.isupper)\n",
    "\n",
    "4. 문자가 소문자인지 확인하는 함수 (string.islower)\n",
    "\n",
    "\n",
    "\n",
    "출처: https://blockdmask.tistory.com/416 [개발자 지망생]"
   ]
  }
 ],
 "metadata": {
  "kernelspec": {
   "display_name": "Python 3 (ipykernel)",
   "language": "python",
   "name": "python3"
  },
  "language_info": {
   "codemirror_mode": {
    "name": "ipython",
    "version": 3
   },
   "file_extension": ".py",
   "mimetype": "text/x-python",
   "name": "python",
   "nbconvert_exporter": "python",
   "pygments_lexer": "ipython3",
   "version": "3.9.7"
  }
 },
 "nbformat": 4,
 "nbformat_minor": 5
}
